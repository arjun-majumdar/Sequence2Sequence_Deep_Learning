{
 "cells": [
  {
   "cell_type": "markdown",
   "id": "6d07d0bb-0cb6-47b7-ba85-62daff87b9e0",
   "metadata": {},
   "source": [
    "# Using _Word Embedding_ Layer in TensorFlow-2.8\n",
    "\n",
    "- A word embedding is a class of approaches for representing words and documents using a dense vector representation.\n",
    "\n",
    "- It is an improvement over the more traditional bag-of-word model encoding schemes where large sparse vectors were used to represent each word or to score each word within a vector to represent an entire vocabulary. These representations were sparse because the vocabularies were vast and a given word or document would be represented by a large vector comprised mostly of zero values.\n",
    "\n",
    "- Instead, __in an embedding, words are represented by dense vectors where a vector represents the projection of the word into a continuous vector space__.\n",
    "\n",
    "- __The position of a word within the vector space is learned from text and is based on the words that surround the word when it is used__.\n",
    "\n",
    "- __The position of a word in the learned vector space is referred to as its embedding__.\n",
    "\n",
    "- Two popular examples of methods of learning word embeddings from text include:\n",
    "    - Word2Vec\n",
    "    - GloVe\n",
    "\n",
    "- In addition to these carefully designed _word representation_ methods, a word embedding can be learned as part of a deep learning model. This can be a slower approach, but tailors the model to a specific training dataset.\n",
    "\n",
    "\n",
    "[Reference](https://machinelearningmastery.com/use-word-embedding-layers-deep-learning-keras/)"
   ]
  },
  {
   "cell_type": "markdown",
   "id": "0535c12d-e177-47bc-b347-31b6334369e0",
   "metadata": {},
   "source": [
    "### Keras Embedding Layer\n",
    "\n",
    "- Keras offers an [Embedding](https://keras.io/api/layers/core_layers/embedding/#embedding) layer that can be used for neural networks on text data.\n",
    "\n",
    "- It requires that the input data be integer encoded, so that each word is represented by a unique integer. This data preparation step can also be performed using the [Tokenizer API](https://keras.io/api/preprocessing/text/#tokenizer) provided with Keras.\n",
    "\n",
    "- _The Embedding layer is initialized with random weights and will learn an embedding for all of the words in the training dataset_.\n",
    "\n",
    "- It is a flexible layer that can be used in a variety of ways, such as:\n",
    "\n",
    "    - It can be used stand-alone to learn a word embedding that can be saved and used in another model later.\n",
    "    - It can be used as part of a deep learning model where the embedding is learned along with the model itself.\n",
    "    - It can be used to load a pre-trained word embedding model, a type of transfer learning.\n",
    "\n",
    "- __The Embedding layer is defined as the first hidden layer of a network__. It must specify 3 arguments:\n",
    "    - __input_dim__: This is the _vocabulary size_ in the text data. For example, if your data is integer encoded to values between 0-10, then the size of the vocabulary would be 11 words.\n",
    "    - __output_dim__: This is the embedded vector size of the vector space in which words will be embedded. __It defines the size of the output vectors from this layer for each word__. For example, it could be 32 or 100 or even larger. _Test different values for your problem_.\n",
    "    - __input_length__: This is the length of input sequences, as you would define for any input layer of a Keras model. For example, if all of your input documents are comprised of 1000 words, this would be 1000.\n",
    "\n",
    "As an example, we define the following ```Embedding``` layer with a vocabulary of 200 (e.g. integer encoded words from 0 to 199, inclusive), a vector space of 32 dimensions in which words will be embedded, and input documents that have 50 words each-\n",
    "\n",
    "```e = Embedding(input_dim = 200, output_dim = 32, input_length = 50)```\n",
    "\n",
    "- The Embedding layer has weights that are learned. If you save your model to file, this will include weights for the Embedding layer.\n",
    "\n",
    "- __The output of the ```Embedding``` layer is a 2D vector with one embedding for each word in the input sequence of words (input document)__.\n",
    "\n",
    "- __If you wish to connect a Dense layer directly to an Embedding layer, you must first flatten the 2D output matrix to a 1D vector using the ```Flatten``` layer__.\n"
   ]
  },
  {
   "cell_type": "code",
   "execution_count": 1,
   "id": "beee1a2a-1f91-4cd7-82fb-99d741a4f854",
   "metadata": {},
   "outputs": [
    {
     "name": "stdout",
     "output_type": "stream",
     "text": [
      "env: CUDA_DEVICE_ORDER=PCI_BUS_ID\n",
      "env: CUDA_VISIBLE_DEVICES=0\n"
     ]
    }
   ],
   "source": [
    "# Specify GPU to be used-\n",
    "%env CUDA_DEVICE_ORDER=PCI_BUS_ID\n",
    "%env CUDA_VISIBLE_DEVICES = 0"
   ]
  },
  {
   "cell_type": "code",
   "execution_count": null,
   "id": "25df444a-9ad9-4719-89e4-71c3a99317e0",
   "metadata": {},
   "outputs": [],
   "source": []
  },
  {
   "cell_type": "code",
   "execution_count": 22,
   "id": "090a95ab-e825-4730-8677-adce3d0ecd13",
   "metadata": {},
   "outputs": [],
   "source": [
    "import tensorflow\n",
    "from tensorflow import keras\n",
    "from tensorflow.keras.layers import Embedding, Flatten, Dense\n",
    "from tensorflow.keras.preprocessing.sequence import pad_sequences\n",
    "from tensorflow.keras.models import Sequential\n",
    "from tensorflow.keras.preprocessing.text import one_hot\n",
    "import tensorflow as tf\n",
    "\n",
    "import numpy as np\n",
    "import matplotlib.pyplot as plt\n",
    "import seaborn as sns"
   ]
  },
  {
   "cell_type": "code",
   "execution_count": null,
   "id": "1732197c-7de7-4304-943a-dba5d9fe7e63",
   "metadata": {},
   "outputs": [],
   "source": []
  },
  {
   "cell_type": "code",
   "execution_count": null,
   "id": "895a3418-1253-4359-92bf-c06a6cea3152",
   "metadata": {},
   "outputs": [],
   "source": []
  },
  {
   "cell_type": "code",
   "execution_count": 3,
   "id": "e4032d5b-68ba-48d2-9cbb-87e7842ed29f",
   "metadata": {},
   "outputs": [
    {
     "name": "stdout",
     "output_type": "stream",
     "text": [
      "TensorFlow version: 2.8.0\n"
     ]
    }
   ],
   "source": [
    "print(f\"TensorFlow version: {tf.__version__}\")"
   ]
  },
  {
   "cell_type": "code",
   "execution_count": 4,
   "id": "641c45db-2324-4073-8393-8e2fa7ba4a6b",
   "metadata": {},
   "outputs": [
    {
     "name": "stdout",
     "output_type": "stream",
     "text": [
      "GPU: [PhysicalDevice(name='/physical_device:GPU:0', device_type='GPU')]\n",
      "GPU details: NVIDIA GeForce RTX 3080 Laptop GPU\n"
     ]
    }
   ],
   "source": [
    "# Check GPU availibility-\n",
    "gpu_devices = tf.config.list_physical_devices('GPU')\n",
    "# print(f\"GPU: {gpu_devices}\")\n",
    "\n",
    "if gpu_devices:\n",
    "    print(f\"GPU: {gpu_devices}\")\n",
    "    details = tf.config.experimental.get_device_details(gpu_devices[0])\n",
    "    print(f\"GPU details: {details.get('device_name', 'Unknown GPU')}\")\n",
    "else:\n",
    "    print(\"No GPU found\")"
   ]
  },
  {
   "cell_type": "code",
   "execution_count": null,
   "id": "38cce91b-f2af-4036-870a-df7fc0a96160",
   "metadata": {},
   "outputs": [],
   "source": []
  },
  {
   "cell_type": "code",
   "execution_count": null,
   "id": "db57c00e-c5d3-465e-b5ab-4534b2f7bfe6",
   "metadata": {},
   "outputs": [],
   "source": []
  },
  {
   "cell_type": "markdown",
   "id": "bbeabe1b-460d-43b3-b65b-f93e60060eae",
   "metadata": {},
   "source": [
    "#### Example of Learning an Embedding\n",
    "\n",
    "- We look at a tpy example of how we can learn a word embedding while training a neural network on a text classification problem.\n",
    "\n",
    "- We define a toy problem having 10 text documents, each with a comment about a piece of work a student submitted. Each text document is classified as positive _1_ or negative _0_. This is a simple sentiment analysis problem."
   ]
  },
  {
   "cell_type": "code",
   "execution_count": 5,
   "id": "163de1ca-acbb-46bf-a2b3-dd104640d7a9",
   "metadata": {},
   "outputs": [],
   "source": [
    "# Example documents-\n",
    "docs = [\n",
    "    'Well done!',\n",
    "    'Good work',\n",
    "    'Great effort',\n",
    "    'nice work',\n",
    "    'Excellent!',\n",
    "    'Weak',\n",
    "    'Poor effort!',\n",
    "    'not good',\n",
    "    'poor work',\n",
    "    'Could have done better.'\n",
    "]\n",
    "\n",
    "# Define class labels-\n",
    "labels = np.array([1,1,1,1,1,0,0,0,0,0])"
   ]
  },
  {
   "cell_type": "code",
   "execution_count": 6,
   "id": "39cfd720-f68d-4a16-844a-fdb4e0383688",
   "metadata": {},
   "outputs": [],
   "source": [
    "# Vocabulary size-\n",
    "voc_size = 50"
   ]
  },
  {
   "cell_type": "code",
   "execution_count": null,
   "id": "c66b393c-106f-4969-954b-70263e59aaed",
   "metadata": {},
   "outputs": [],
   "source": []
  },
  {
   "cell_type": "code",
   "execution_count": null,
   "id": "3344702d-7db2-48e0-bde2-62cefc3b83e3",
   "metadata": {},
   "outputs": [],
   "source": []
  },
  {
   "cell_type": "code",
   "execution_count": 75,
   "id": "8d66f462-7da7-4c94-a5a0-e3c1256aefac",
   "metadata": {},
   "outputs": [
    {
     "name": "stdout",
     "output_type": "stream",
     "text": [
      "Well done!\n",
      "Good work\n",
      "Great effort\n",
      "nice work\n",
      "Excellent!\n",
      "Weak\n",
      "Poor effort!\n",
      "not good\n",
      "poor work\n",
      "Could have done better.\n"
     ]
    }
   ],
   "source": [
    "# Example-\n",
    "for words in docs:\n",
    "    print(words)"
   ]
  },
  {
   "cell_type": "code",
   "execution_count": 76,
   "id": "72ed4156-14ce-4156-b50d-1f24bb6b0c68",
   "metadata": {},
   "outputs": [
    {
     "data": {
      "text/plain": [
       "'Could have done better.'"
      ]
     },
     "execution_count": 76,
     "metadata": {},
     "output_type": "execute_result"
    }
   ],
   "source": [
    "words"
   ]
  },
  {
   "cell_type": "code",
   "execution_count": 77,
   "id": "c9080b7a-004f-4e33-ab0b-eec12de13821",
   "metadata": {},
   "outputs": [
    {
     "data": {
      "text/plain": [
       "[13, 1, 7, 22]"
      ]
     },
     "execution_count": 77,
     "metadata": {},
     "output_type": "execute_result"
    }
   ],
   "source": [
    "one_hot(input_text = words, n = voc_size)"
   ]
  },
  {
   "cell_type": "code",
   "execution_count": null,
   "id": "d0f3e653-1a02-45c6-973c-28136b0b122f",
   "metadata": {},
   "outputs": [],
   "source": []
  },
  {
   "cell_type": "code",
   "execution_count": 9,
   "id": "e971e5b0-df5c-49c0-8f34-1cc77545fbf7",
   "metadata": {},
   "outputs": [],
   "source": [
    "# Get one-hot vectors-\n",
    "onehot_vec = [one_hot(input_text = words, n = voc_size) for words in docs]"
   ]
  },
  {
   "cell_type": "code",
   "execution_count": 10,
   "id": "a5654a61-863f-44de-abd5-b4ed52203c59",
   "metadata": {},
   "outputs": [
    {
     "data": {
      "text/plain": [
       "10"
      ]
     },
     "execution_count": 10,
     "metadata": {},
     "output_type": "execute_result"
    }
   ],
   "source": [
    "len(onehot_vec)"
   ]
  },
  {
   "cell_type": "code",
   "execution_count": 12,
   "id": "8c207484-a853-446d-a861-b0e8dcbd9fe3",
   "metadata": {},
   "outputs": [
    {
     "data": {
      "text/plain": [
       "('Well done!', [40, 7])"
      ]
     },
     "execution_count": 12,
     "metadata": {},
     "output_type": "execute_result"
    }
   ],
   "source": [
    "# Print an example sentence and it's one-hot vector-\n",
    "docs[0], onehot_vec[0]"
   ]
  },
  {
   "cell_type": "code",
   "execution_count": null,
   "id": "171a7912-ff81-402e-b386-f230ab64e525",
   "metadata": {},
   "outputs": [],
   "source": []
  },
  {
   "cell_type": "code",
   "execution_count": null,
   "id": "48e929be-1535-46ed-b20e-a057894687b1",
   "metadata": {},
   "outputs": [],
   "source": []
  },
  {
   "cell_type": "markdown",
   "id": "0f557e35-0355-41ed-b1b7-6e6811d3c221",
   "metadata": {},
   "source": [
    "#### Pad documents/sequences\n",
    "\n",
    "The neural network expects all sentences to have the same size. To achieve this, _pad the input sentences_. For all of the given sentences, make it 4-word sentence."
   ]
  },
  {
   "cell_type": "code",
   "execution_count": 15,
   "id": "b6ecb538-49e2-4e4d-8a3a-1bc03e01e7b0",
   "metadata": {},
   "outputs": [],
   "source": [
    "# Pad documents to a max length of 4 words\n",
    "max_length = 4\n",
    "padded_docs = pad_sequences(onehot_vec, maxlen = max_length, padding = 'pre')"
   ]
  },
  {
   "cell_type": "code",
   "execution_count": 16,
   "id": "41f8d8a0-e27b-4ce3-a9da-a40d32041489",
   "metadata": {},
   "outputs": [
    {
     "name": "stdout",
     "output_type": "stream",
     "text": [
      "[[ 0  0 40  7]\n",
      " [ 0  0 33 45]\n",
      " [ 0  0 37 35]\n",
      " [ 0  0 47 45]\n",
      " [ 0  0  0 15]\n",
      " [ 0  0  0 17]\n",
      " [ 0  0 43 35]\n",
      " [ 0  0 37 33]\n",
      " [ 0  0 43 45]\n",
      " [13  1  7 22]]\n"
     ]
    }
   ],
   "source": [
    "print(padded_docs)"
   ]
  },
  {
   "cell_type": "code",
   "execution_count": 18,
   "id": "d5b5382a-b903-4257-a4bc-a9c6c5813290",
   "metadata": {},
   "outputs": [
    {
     "data": {
      "text/plain": [
       "((10, 4), 10)"
      ]
     },
     "execution_count": 18,
     "metadata": {},
     "output_type": "execute_result"
    }
   ],
   "source": [
    "padded_docs.shape, len(docs)"
   ]
  },
  {
   "cell_type": "code",
   "execution_count": 19,
   "id": "498472b0-e2df-4bf1-9dee-0b6eb0fad33d",
   "metadata": {},
   "outputs": [
    {
     "data": {
      "text/plain": [
       "('Well done!', [40, 7])"
      ]
     },
     "execution_count": 19,
     "metadata": {},
     "output_type": "execute_result"
    }
   ],
   "source": [
    "docs[0], onehot_vec[0]"
   ]
  },
  {
   "cell_type": "code",
   "execution_count": 20,
   "id": "588d5c53-fa5d-402b-904c-674958c7ca1e",
   "metadata": {},
   "outputs": [
    {
     "data": {
      "text/plain": [
       "array([ 0,  0, 40,  7])"
      ]
     },
     "execution_count": 20,
     "metadata": {},
     "output_type": "execute_result"
    }
   ],
   "source": [
    "padded_docs[0]"
   ]
  },
  {
   "cell_type": "code",
   "execution_count": null,
   "id": "e8a03934-fdf7-4250-8ec9-995180361908",
   "metadata": {},
   "outputs": [],
   "source": []
  },
  {
   "cell_type": "code",
   "execution_count": null,
   "id": "22b4004e-3c30-4c0f-b681-d6a96d7ee136",
   "metadata": {},
   "outputs": [],
   "source": []
  },
  {
   "cell_type": "markdown",
   "id": "bbfb575a-1fb1-46f1-8308-88f97ec68525",
   "metadata": {},
   "source": [
    "### Embedding Layer\n",
    "\n",
    "creates the _feature representation_ for any word."
   ]
  },
  {
   "cell_type": "code",
   "execution_count": 21,
   "id": "bf087224-5a98-498a-8223-6cc79a198a63",
   "metadata": {},
   "outputs": [],
   "source": [
    "# Specify feature-vector length-\n",
    "embedding_dim = 10"
   ]
  },
  {
   "cell_type": "code",
   "execution_count": 55,
   "id": "742a37a2-77f7-44a5-8398-b5d02a711dec",
   "metadata": {},
   "outputs": [
    {
     "name": "stdout",
     "output_type": "stream",
     "text": [
      "Vocabulary size = 50, embedding dimensionality = 10 & padded sentence input length = 4\n"
     ]
    }
   ],
   "source": [
    "# Sanity check-\n",
    "print(f\"Vocabulary size = {voc_size}, embedding dimensionality = \"\n",
    "      f\"{embedding_dim} & padded sentence input length = {max_length}\"\n",
    "     )"
   ]
  },
  {
   "cell_type": "code",
   "execution_count": null,
   "id": "b0232f6c-fd2e-42a3-8a83-513c2a3bfdb1",
   "metadata": {},
   "outputs": [],
   "source": []
  },
  {
   "cell_type": "code",
   "execution_count": 60,
   "id": "de2dc3c5-4c35-4969-a88d-308a296cd8c2",
   "metadata": {},
   "outputs": [],
   "source": [
    "# Define Embedding layer-\n",
    "model = Sequential()\n",
    "\n",
    "model.add(\n",
    "    Embedding(\n",
    "        input_dim = voc_size, output_dim = embedding_dim,\n",
    "        embeddings_initializer = 'uniform',\n",
    "        embeddings_regularizer = None,\n",
    "        input_length = max_length\n",
    "    )\n",
    ")\n",
    "\n",
    "model.add(Flatten())\n",
    "\n",
    "model.add(\n",
    "    Dense(\n",
    "        units = 1, activation = tf.keras.activations.sigmoid\n",
    "    )\n",
    ")"
   ]
  },
  {
   "cell_type": "code",
   "execution_count": 61,
   "id": "7aeb700d-c13d-4d94-8517-5c9b43e25366",
   "metadata": {},
   "outputs": [],
   "source": [
    "# Compile defined model-\n",
    "model.compile(\n",
    "    # loss = tf.keras.losses.MeanSquaredError(),\n",
    "    loss = tf.keras.losses.BinaryCrossentropy(),\n",
    "    optimizer = tf.keras.optimizers.Adam(learning_rate = 0.01),\n",
    "    metrics = ['accuracy']\n",
    ")"
   ]
  },
  {
   "cell_type": "code",
   "execution_count": null,
   "id": "137430b7-9432-41d6-8d90-684b2975304f",
   "metadata": {},
   "outputs": [],
   "source": []
  },
  {
   "cell_type": "code",
   "execution_count": 62,
   "id": "1739d0a6-6755-4a42-9a6d-fb71dfeb9d93",
   "metadata": {},
   "outputs": [
    {
     "name": "stdout",
     "output_type": "stream",
     "text": [
      "Model: \"sequential_2\"\n",
      "_________________________________________________________________\n",
      " Layer (type)                Output Shape              Param #   \n",
      "=================================================================\n",
      " embedding_1 (Embedding)     (None, 4, 10)             500       \n",
      "                                                                 \n",
      " flatten_1 (Flatten)         (None, 40)                0         \n",
      "                                                                 \n",
      " dense_1 (Dense)             (None, 1)                 41        \n",
      "                                                                 \n",
      "=================================================================\n",
      "Total params: 541\n",
      "Trainable params: 541\n",
      "Non-trainable params: 0\n",
      "_________________________________________________________________\n"
     ]
    }
   ],
   "source": [
    "# Get model summary-\n",
    "model.summary()"
   ]
  },
  {
   "cell_type": "code",
   "execution_count": null,
   "id": "b91d7d9e-60d2-429e-b3d0-9b0fbb1aecd9",
   "metadata": {},
   "outputs": [],
   "source": []
  },
  {
   "cell_type": "code",
   "execution_count": null,
   "id": "d3a44925-e156-45c8-8370-21d6ae3f0241",
   "metadata": {},
   "outputs": [],
   "source": []
  },
  {
   "cell_type": "code",
   "execution_count": 28,
   "id": "45e6469e-d34d-4f51-9a8e-cf362589cc11",
   "metadata": {},
   "outputs": [
    {
     "name": "stdout",
     "output_type": "stream",
     "text": [
      "Predicted embedding shape: (10, 1)\n"
     ]
    }
   ],
   "source": [
    "print(f\"Predicted embedding shape: {model.predict(padded_docs).shape}\")\n",
    "# number of sentences, maximum sentence length, embedding feature size"
   ]
  },
  {
   "cell_type": "code",
   "execution_count": null,
   "id": "6f49308f-4af7-4d4b-8a13-fc3bacc5f490",
   "metadata": {},
   "outputs": [],
   "source": [
    "# Sanity check - Get random predictions-\n",
    "# print(model.predict(embedded_docs))"
   ]
  },
  {
   "cell_type": "code",
   "execution_count": null,
   "id": "5ba44d95-8e8c-4c03-a3ea-1b45608a45e1",
   "metadata": {},
   "outputs": [],
   "source": []
  },
  {
   "cell_type": "code",
   "execution_count": 32,
   "id": "959c89d1-e162-458d-87ad-b60836b40a1c",
   "metadata": {},
   "outputs": [
    {
     "data": {
      "text/plain": [
       "('Well done!', array([ 0,  0, 40,  7]))"
      ]
     },
     "execution_count": 32,
     "metadata": {},
     "output_type": "execute_result"
    }
   ],
   "source": [
    "docs[0], padded_docs[0]"
   ]
  },
  {
   "cell_type": "code",
   "execution_count": 33,
   "id": "a66a70e4-81d2-4738-9846-d867137ab979",
   "metadata": {},
   "outputs": [
    {
     "data": {
      "text/plain": [
       "(1,)"
      ]
     },
     "execution_count": 33,
     "metadata": {},
     "output_type": "execute_result"
    }
   ],
   "source": [
    "model.predict(padded_docs)[0].shape"
   ]
  },
  {
   "cell_type": "markdown",
   "id": "7237ac64-c3c2-404b-9d97-0d5b1141f019",
   "metadata": {},
   "source": [
    "#### Remember\n",
    "\n",
    "- The 3-D array has: _number of sentences, maximum sentence length, embedding feature size_. So, each sentence is represented with a 2-D array/matrix: _maximum sentence length, embedding vector size_. In this example, its (8, 20).\n",
    "\n",
    "- Each of the 4 words in ```embedded_docs[0]``` is represented with a 10-dimensional embedding vector. Therefore, ```model.predict(embedded_docs)[0]``` has the shape (4, 10).\n",
    "\n",
    "- For given ```padded_docs[0]``` example and its corresponding embedding ```model.predict(padded_docs)[0]```, the first 2 embedding vectors should be the same due to _pre-padding_ where the first 2 vectors are all 0s.\n",
    "\n",
    "- __Each word is represented using a 10-dimensional embedding vector__."
   ]
  },
  {
   "cell_type": "code",
   "execution_count": null,
   "id": "1f0327ec-928b-475d-afb2-0290308127da",
   "metadata": {},
   "outputs": [],
   "source": [
    "# np.all(model.predict(embedded_docs)[0][0] == model.predict(embedded_docs)[0][1])"
   ]
  },
  {
   "cell_type": "code",
   "execution_count": null,
   "id": "98cb41d9-d689-40ef-b3b6-074ee9e94945",
   "metadata": {},
   "outputs": [],
   "source": [
    "# np.all(model.predict(embedded_docs)[0][0] == model.predict(embedded_docs)[0][2])"
   ]
  },
  {
   "cell_type": "code",
   "execution_count": null,
   "id": "67d2836d-f358-4e33-a743-79c0573150a8",
   "metadata": {},
   "outputs": [],
   "source": [
    "# np.all(model.predict(embedded_docs)[0][0] == model.predict(embedded_docs)[0][3])"
   ]
  },
  {
   "cell_type": "code",
   "execution_count": 63,
   "id": "2589910b-81c6-4a61-b72d-73dcbcc88711",
   "metadata": {},
   "outputs": [
    {
     "data": {
      "text/plain": [
       "array([[0.5030433 ],\n",
       "       [0.509564  ],\n",
       "       [0.50693744],\n",
       "       [0.511469  ],\n",
       "       [0.5002052 ],\n",
       "       [0.5054037 ],\n",
       "       [0.5070193 ],\n",
       "       [0.50297856],\n",
       "       [0.50877327],\n",
       "       [0.51221883]], dtype=float32)"
      ]
     },
     "execution_count": 63,
     "metadata": {},
     "output_type": "execute_result"
    }
   ],
   "source": [
    "model.predict(padded_docs)"
   ]
  },
  {
   "cell_type": "code",
   "execution_count": null,
   "id": "db4a2bd1-c26e-4128-af22-64af4473f936",
   "metadata": {},
   "outputs": [],
   "source": []
  },
  {
   "cell_type": "code",
   "execution_count": null,
   "id": "c8cf0543-ed56-4434-a4b2-7a54033e8c1d",
   "metadata": {},
   "outputs": [],
   "source": []
  },
  {
   "cell_type": "code",
   "execution_count": 64,
   "id": "3ea48dc5-6c31-4a4e-bd86-9295670840a1",
   "metadata": {},
   "outputs": [
    {
     "name": "stdout",
     "output_type": "stream",
     "text": [
      "Epoch 1/50\n",
      "2/2 [==============================] - 0s 6ms/step - loss: 0.6990 - accuracy: 0.3000\n",
      "Epoch 2/50\n",
      "2/2 [==============================] - 0s 7ms/step - loss: 0.6807 - accuracy: 0.9000\n",
      "Epoch 3/50\n",
      "2/2 [==============================] - 0s 6ms/step - loss: 0.6676 - accuracy: 0.8000\n",
      "Epoch 4/50\n",
      "2/2 [==============================] - 0s 7ms/step - loss: 0.6530 - accuracy: 0.7000\n",
      "Epoch 5/50\n",
      "2/2 [==============================] - 0s 7ms/step - loss: 0.6394 - accuracy: 0.7000\n",
      "Epoch 6/50\n",
      "2/2 [==============================] - 0s 6ms/step - loss: 0.6241 - accuracy: 0.9000\n",
      "Epoch 7/50\n",
      "2/2 [==============================] - 0s 6ms/step - loss: 0.6076 - accuracy: 0.9000\n",
      "Epoch 8/50\n",
      "2/2 [==============================] - 0s 6ms/step - loss: 0.5894 - accuracy: 0.9000\n",
      "Epoch 9/50\n",
      "2/2 [==============================] - 0s 6ms/step - loss: 0.5695 - accuracy: 0.9000\n",
      "Epoch 10/50\n",
      "2/2 [==============================] - 0s 8ms/step - loss: 0.5491 - accuracy: 0.9000\n",
      "Epoch 11/50\n",
      "2/2 [==============================] - 0s 6ms/step - loss: 0.5321 - accuracy: 0.9000\n",
      "Epoch 12/50\n",
      "2/2 [==============================] - 0s 6ms/step - loss: 0.5076 - accuracy: 0.9000\n",
      "Epoch 13/50\n",
      "2/2 [==============================] - 0s 6ms/step - loss: 0.4836 - accuracy: 1.0000\n",
      "Epoch 14/50\n",
      "2/2 [==============================] - 0s 6ms/step - loss: 0.4588 - accuracy: 1.0000\n",
      "Epoch 15/50\n",
      "2/2 [==============================] - 0s 6ms/step - loss: 0.4344 - accuracy: 1.0000\n",
      "Epoch 16/50\n",
      "2/2 [==============================] - 0s 7ms/step - loss: 0.4128 - accuracy: 1.0000\n",
      "Epoch 17/50\n",
      "2/2 [==============================] - 0s 6ms/step - loss: 0.3941 - accuracy: 0.9000\n",
      "Epoch 18/50\n",
      "2/2 [==============================] - 0s 7ms/step - loss: 0.3683 - accuracy: 0.9000\n",
      "Epoch 19/50\n",
      "2/2 [==============================] - 0s 6ms/step - loss: 0.3488 - accuracy: 0.9000\n",
      "Epoch 20/50\n",
      "2/2 [==============================] - 0s 6ms/step - loss: 0.3265 - accuracy: 0.9000\n",
      "Epoch 21/50\n",
      "2/2 [==============================] - 0s 7ms/step - loss: 0.3055 - accuracy: 1.0000\n",
      "Epoch 22/50\n",
      "2/2 [==============================] - 0s 6ms/step - loss: 0.2854 - accuracy: 1.0000\n",
      "Epoch 23/50\n",
      "2/2 [==============================] - 0s 5ms/step - loss: 0.2655 - accuracy: 1.0000\n",
      "Epoch 24/50\n",
      "2/2 [==============================] - 0s 7ms/step - loss: 0.2483 - accuracy: 1.0000\n",
      "Epoch 25/50\n",
      "2/2 [==============================] - 0s 6ms/step - loss: 0.2290 - accuracy: 1.0000\n",
      "Epoch 26/50\n",
      "2/2 [==============================] - 0s 7ms/step - loss: 0.2118 - accuracy: 1.0000\n",
      "Epoch 27/50\n",
      "2/2 [==============================] - 0s 6ms/step - loss: 0.1983 - accuracy: 1.0000\n",
      "Epoch 28/50\n",
      "2/2 [==============================] - 0s 7ms/step - loss: 0.1831 - accuracy: 1.0000\n",
      "Epoch 29/50\n",
      "2/2 [==============================] - 0s 6ms/step - loss: 0.1700 - accuracy: 1.0000\n",
      "Epoch 30/50\n",
      "2/2 [==============================] - 0s 7ms/step - loss: 0.1561 - accuracy: 1.0000\n",
      "Epoch 31/50\n",
      "2/2 [==============================] - 0s 6ms/step - loss: 0.1455 - accuracy: 1.0000\n",
      "Epoch 32/50\n",
      "2/2 [==============================] - 0s 6ms/step - loss: 0.1343 - accuracy: 1.0000\n",
      "Epoch 33/50\n",
      "2/2 [==============================] - 0s 6ms/step - loss: 0.1228 - accuracy: 1.0000\n",
      "Epoch 34/50\n",
      "2/2 [==============================] - 0s 5ms/step - loss: 0.1134 - accuracy: 1.0000\n",
      "Epoch 35/50\n",
      "2/2 [==============================] - 0s 6ms/step - loss: 0.1036 - accuracy: 1.0000\n",
      "Epoch 36/50\n",
      "2/2 [==============================] - 0s 6ms/step - loss: 0.0948 - accuracy: 1.0000\n",
      "Epoch 37/50\n",
      "2/2 [==============================] - 0s 6ms/step - loss: 0.0870 - accuracy: 1.0000\n",
      "Epoch 38/50\n",
      "2/2 [==============================] - 0s 5ms/step - loss: 0.0800 - accuracy: 1.0000\n",
      "Epoch 39/50\n",
      "2/2 [==============================] - 0s 6ms/step - loss: 0.0739 - accuracy: 1.0000\n",
      "Epoch 40/50\n",
      "2/2 [==============================] - 0s 5ms/step - loss: 0.0703 - accuracy: 1.0000\n",
      "Epoch 41/50\n",
      "2/2 [==============================] - 0s 6ms/step - loss: 0.0650 - accuracy: 1.0000\n",
      "Epoch 42/50\n",
      "2/2 [==============================] - 0s 6ms/step - loss: 0.0607 - accuracy: 1.0000\n",
      "Epoch 43/50\n",
      "2/2 [==============================] - 0s 6ms/step - loss: 0.0566 - accuracy: 1.0000\n",
      "Epoch 44/50\n",
      "2/2 [==============================] - 0s 5ms/step - loss: 0.0528 - accuracy: 1.0000\n",
      "Epoch 45/50\n",
      "2/2 [==============================] - 0s 6ms/step - loss: 0.0495 - accuracy: 1.0000\n",
      "Epoch 46/50\n",
      "2/2 [==============================] - 0s 5ms/step - loss: 0.0455 - accuracy: 1.0000\n",
      "Epoch 47/50\n",
      "2/2 [==============================] - 0s 5ms/step - loss: 0.0429 - accuracy: 1.0000\n",
      "Epoch 48/50\n",
      "2/2 [==============================] - 0s 6ms/step - loss: 0.0399 - accuracy: 1.0000\n",
      "Epoch 49/50\n",
      "2/2 [==============================] - 0s 5ms/step - loss: 0.0369 - accuracy: 1.0000\n",
      "Epoch 50/50\n",
      "2/2 [==============================] - 0s 6ms/step - loss: 0.0344 - accuracy: 1.0000\n"
     ]
    }
   ],
   "source": [
    "# Train model-\n",
    "train_history = model.fit(\n",
    "    x = padded_docs, y = labels,\n",
    "    epochs = 50, batch_size = 8,\n",
    "    verbose = 1\n",
    ")"
   ]
  },
  {
   "cell_type": "code",
   "execution_count": 65,
   "id": "cdc41efb-cca3-4d5b-973c-18da55a6b99a",
   "metadata": {},
   "outputs": [
    {
     "name": "stdout",
     "output_type": "stream",
     "text": [
      "Trained accuracy = 100.00%\n"
     ]
    }
   ],
   "source": [
    "# Evaluate trained model-\n",
    "loss, accuracy = model.evaluate(padded_docs, labels, verbose = 0)\n",
    "print(f\"Trained accuracy = {accuracy * 100:.2f}%\")"
   ]
  },
  {
   "cell_type": "code",
   "execution_count": null,
   "id": "37a83ce5-7119-4fa6-aba6-0521987f3ecd",
   "metadata": {},
   "outputs": [],
   "source": []
  },
  {
   "cell_type": "code",
   "execution_count": null,
   "id": "709051a7-eebe-4d0f-8609-9628c78fcdfa",
   "metadata": {},
   "outputs": [],
   "source": []
  },
  {
   "cell_type": "code",
   "execution_count": 71,
   "id": "1c19f4fe-18ee-414a-bf5d-ca3b77b76907",
   "metadata": {},
   "outputs": [
    {
     "data": {
      "image/png": "[encoded data removed]",
      "text/plain": [
       "<Figure size 648x504 with 1 Axes>"
      ]
     },
     "metadata": {
      "needs_background": "light"
     },
     "output_type": "display_data"
    }
   ],
   "source": [
    "plt.figure(figsize = (9, 7))\n",
    "plt.plot(train_history.history['accuracy'])\n",
    "plt.xlabel(\"epochs\")\n",
    "plt.ylabel(\"%\")\n",
    "plt.title(\"Binary classifier training\")\n",
    "plt.show()"
   ]
  },
  {
   "cell_type": "code",
   "execution_count": null,
   "id": "03ab122b-23ea-4b4d-8454-4673d72c3573",
   "metadata": {},
   "outputs": [],
   "source": []
  },
  {
   "cell_type": "code",
   "execution_count": null,
   "id": "03c12145-e1b8-4a1c-b16e-4355cd960cc0",
   "metadata": {},
   "outputs": [],
   "source": []
  },
  {
   "cell_type": "code",
   "execution_count": 72,
   "id": "a4c16c1f-e9e0-4c7a-86f6-60bb44e962bf",
   "metadata": {},
   "outputs": [
    {
     "name": "stdout",
     "output_type": "stream",
     "text": [
      "Vocabulary size = 50, embedding dimensionality = 10 & padded sentence input length = 4\n"
     ]
    }
   ],
   "source": [
    "# Remember from above-\n",
    "print(f\"Vocabulary size = {voc_size}, embedding dimensionality = \"\n",
    "      f\"{embedding_dim} & padded sentence input length = {max_length}\"\n",
    "     )"
   ]
  },
  {
   "cell_type": "markdown",
   "id": "fe9f03bf-5425-4c1a-a026-cb694342b87c",
   "metadata": {},
   "source": [
    "#### NOTE: For each of the words in the vocabulary, you have a vector of embedding dimensionality size.\n",
    "\n",
    "For the 50 words in the vocabulary, each of them are represented using a (dense) embedding vector of 10-dimensions."
   ]
  },
  {
   "cell_type": "code",
   "execution_count": null,
   "id": "73d50a00-b1da-48db-b167-cfa08fad8ff4",
   "metadata": {},
   "outputs": [],
   "source": []
  },
  {
   "cell_type": "code",
   "execution_count": 73,
   "id": "59ddc6cd-d12a-458f-80fa-075a7e701b6e",
   "metadata": {},
   "outputs": [
    {
     "data": {
      "text/plain": [
       "(50, 10)"
      ]
     },
     "execution_count": 73,
     "metadata": {},
     "output_type": "execute_result"
    }
   ],
   "source": [
    "# Extract trained embedding layer weights-\n",
    "model.get_weights()[0].shape\n",
    "# Or-\n",
    "# model.layers[0].embeddings.numpy().shape"
   ]
  },
  {
   "cell_type": "code",
   "execution_count": 74,
   "id": "f68551c8-b14c-412d-82d6-973c08f84735",
   "metadata": {},
   "outputs": [
    {
     "data": {
      "text/plain": [
       "array([[-0.0865592 ,  0.01758295, -0.1318761 , -0.06335241, -0.07219101,\n",
       "         0.0177235 , -0.03264572,  0.06333083,  0.03082072,  0.06642012],\n",
       "       [-0.3113638 ,  0.3509334 ,  0.20027603,  0.3017286 , -0.32910112,\n",
       "         0.29107732, -0.22193152, -0.2630986 ,  0.34740108, -0.21362609],\n",
       "       [ 0.03834507,  0.01518479,  0.02535285,  0.02351787,  0.02916468,\n",
       "         0.009999  ,  0.04440549, -0.02499225, -0.01021707,  0.04965314],\n",
       "       [ 0.02070804, -0.02125915,  0.02746493,  0.02757292,  0.03757313,\n",
       "        -0.03164186, -0.0162307 ,  0.00324904,  0.02471043, -0.01834757],\n",
       "       [ 0.0195758 , -0.00929439,  0.03243304, -0.04528047,  0.00744834,\n",
       "         0.03022804, -0.01853026, -0.01680719,  0.04527246,  0.01152835]],\n",
       "      dtype=float32)"
      ]
     },
     "execution_count": 74,
     "metadata": {},
     "output_type": "execute_result"
    }
   ],
   "source": [
    "# Get trained embedding weights for first 5 words in the vocabulary-\n",
    "model.layers[0].embeddings.numpy()[:5]"
   ]
  },
  {
   "cell_type": "code",
   "execution_count": null,
   "id": "f6af8618-29f4-4dff-a001-8fee61c11ea7",
   "metadata": {},
   "outputs": [],
   "source": []
  },
  {
   "cell_type": "code",
   "execution_count": null,
   "id": "2a9ce7dc-e2ee-4168-8fd6-649865bcb25c",
   "metadata": {},
   "outputs": [],
   "source": []
  },
  {
   "cell_type": "code",
   "execution_count": null,
   "id": "88e53fef-fbf6-40c1-a231-795039480c42",
   "metadata": {},
   "outputs": [],
   "source": []
  },
  {
   "cell_type": "code",
   "execution_count": null,
   "id": "8517af09-26dd-4a96-a998-33d88051bdce",
   "metadata": {},
   "outputs": [],
   "source": []
  }
 ],
 "metadata": {
  "kernelspec": {
   "display_name": "Python 3 (ipykernel)",
   "language": "python",
   "name": "python3"
  },
  "language_info": {
   "codemirror_mode": {
    "name": "ipython",
    "version": 3
   },
   "file_extension": ".py",
   "mimetype": "text/x-python",
   "name": "python",
   "nbconvert_exporter": "python",
   "pygments_lexer": "ipython3",
   "version": "3.9.12"
  }
 },
 "nbformat": 4,
 "nbformat_minor": 5
}
