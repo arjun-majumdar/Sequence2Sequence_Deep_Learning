{
 "cells": [
  {
   "cell_type": "markdown",
   "id": "a4e76192-35ed-4aab-b8bd-0fd33e84fc7f",
   "metadata": {},
   "source": [
    "# Learning _Word Embeddings_ for _Supervised classification_ task - TensorFlow 2.8\n",
    "\n",
    "In this example, we train/learn a custom word embeddings using a _simple_ TF2 Keras architecture for a _sentiment classification task_.\n",
    "\n",
    "[Reference](https://www.tensorflow.org/text/guide/word_embeddings)"
   ]
  },
  {
   "cell_type": "markdown",
   "id": "e49ba8fb-76ef-48b4-a705-403582405177",
   "metadata": {},
   "source": [
    "### Representing text as numbers\n",
    "\n",
    "ML models take vectors (arrays of numbers) as input. When working with text, the first thing you must do is come up with a strategy to convert strings to numbers (or to _vectorize_ the text) before feeding it to the model. Here, we will look at three strategies for doing so:\n",
    "\n",
    "1. One-hot encodings: As a first idea, you might _one-hot_ encode each word in your vocabulary. Consider the sentence \"The cat sat on the mat\". The vocabulary (or unique words) in this sentence is (cat, mat, on, sat, the). To represent each word, you will create a zero vector with length equal to the vocabulary, then place a one in the index that corresponds to the word. To create a vector that contains the encoding of the sentence, you could then concatenate the one-hot vectors for each word.\n",
    "    - Key Point: __This approach is inefficient__. A one-hot encoded vector is sparse (meaning, most indices are zero). Say for a vocabulary having 10K words, to one-hot encode each word, you would create a vector where 99.99% of the elements are zero.\n",
    "    \n",
    "1. Encode each word with a unique number: A second approach you might try is to encode each word using a unique number. Continuing the example above, you could assign 1 to \"cat\", 2 to \"mat\", and so on. You could then encode the sentence \"The cat sat on the mat\" as a dense vector like [5, 1, 4, 3, 5, 2]. This approach is efficient. Instead of a sparse vector, you now have a dense one (where all elements are full). There are two downsides to this approach, however:\n",
    "    - The integer-encoding is arbitrary (it does not capture any relationship between words).\n",
    "    - An integer-encoding can be challenging for a model to interpret. A linear classifier, for example, learns a single weight for each feature. Because there is no relationship between the similarity of any two words and the similarity of their encodings, this feature-weight combination is not meaningful.\n",
    "\n",
    "1. Word embeddings: __give us a way to use an efficient, dense representation in which similar words have a similar encoding__. Importantly, you do not have to specify this encoding by hand. __An embedding is a dense vector of floating point values__ (the length of the vector is a parameter you specify). Instead of specifying the values for the embedding manually, they are trainable parameters (weights learned by the model during training, in the same way a model learns weights for a dense layer). It is common to see word embeddings that are 8-dimensional (for small datasets), up to 1024-dimensions when working with large datasets. _A higher dimensional embedding can capture fine-grained relationships between words, but takes more data to learn_.\n",
    "    - Say that we use a 4-d word embedding, then each word is represented as a 4-dimensional vector of floating point values. Another way to think of an embedding is as _lookup table_. After these weights have been learned, you can encode each word by looking up the dense vector it corresponds to in the table."
   ]
  },
  {
   "cell_type": "code",
   "execution_count": 1,
   "id": "58f4e499-5535-4f89-8d2b-00f0e6b5afe1",
   "metadata": {},
   "outputs": [
    {
     "name": "stdout",
     "output_type": "stream",
     "text": [
      "env: CUDA_DEVICE_ORDER=PCI_BUS_ID\n",
      "env: CUDA_VISIBLE_DEVICES=0\n"
     ]
    }
   ],
   "source": [
    "# Specify GPU to be used-\n",
    "%env CUDA_DEVICE_ORDER=PCI_BUS_ID\n",
    "%env CUDA_VISIBLE_DEVICES = 0"
   ]
  },
  {
   "cell_type": "code",
   "execution_count": 2,
   "id": "9c95e590-21c2-421a-baa4-c78987f015ea",
   "metadata": {},
   "outputs": [],
   "source": [
    "import tensorflow\n",
    "from tensorflow import keras\n",
    "from tensorflow.keras.layers import Embedding, Flatten, Dense, GlobalAveragePooling1D, TextVectorization\n",
    "from tensorflow.keras.preprocessing.sequence import pad_sequences\n",
    "from tensorflow.keras.models import Sequential\n",
    "from tensorflow.keras.preprocessing.text import one_hot\n",
    "import tensorflow as tf\n",
    "\n",
    "import numpy as np\n",
    "import matplotlib.pyplot as plt\n",
    "import seaborn as sns\n",
    "import os, pickle, time, shutil, re, string, io\n",
    "\n",
    "import plotly\n",
    "import plotly.express as px"
   ]
  },
  {
   "cell_type": "code",
   "execution_count": null,
   "id": "9945c879-88c1-4544-9072-6cc9207a4cd7",
   "metadata": {},
   "outputs": [],
   "source": []
  },
  {
   "cell_type": "code",
   "execution_count": null,
   "id": "aeb12b0d-7b1d-4edd-8bde-509a40dc11d7",
   "metadata": {},
   "outputs": [],
   "source": []
  },
  {
   "cell_type": "code",
   "execution_count": 3,
   "id": "69a844eb-a48f-44c6-bf37-9f58500b6bab",
   "metadata": {},
   "outputs": [
    {
     "name": "stdout",
     "output_type": "stream",
     "text": [
      "TensorFlow version: 2.8.0\n"
     ]
    }
   ],
   "source": [
    "print(f\"TensorFlow version: {tf.__version__}\")"
   ]
  },
  {
   "cell_type": "code",
   "execution_count": 4,
   "id": "746c3c93-ad79-4d90-b44b-9cd05662fe65",
   "metadata": {},
   "outputs": [
    {
     "name": "stdout",
     "output_type": "stream",
     "text": [
      "GPU: [PhysicalDevice(name='/physical_device:GPU:0', device_type='GPU')]\n",
      "GPU details: NVIDIA GeForce RTX 3080 Laptop GPU\n"
     ]
    }
   ],
   "source": [
    "# Check GPU availibility-\n",
    "gpu_devices = tf.config.list_physical_devices('GPU')\n",
    "# print(f\"GPU: {gpu_devices}\")\n",
    "\n",
    "if gpu_devices:\n",
    "    print(f\"GPU: {gpu_devices}\")\n",
    "    details = tf.config.experimental.get_device_details(gpu_devices[0])\n",
    "    print(f\"GPU details: {details.get('device_name', 'Unknown GPU')}\")\n",
    "else:\n",
    "    print(\"No GPU found\")"
   ]
  },
  {
   "cell_type": "code",
   "execution_count": null,
   "id": "208716b0-7852-42d7-89e8-d2885d7b9a7b",
   "metadata": {},
   "outputs": [],
   "source": []
  },
  {
   "cell_type": "code",
   "execution_count": null,
   "id": "5cc103bb-bdc7-4178-a4b1-68135dbbc126",
   "metadata": {},
   "outputs": [],
   "source": []
  },
  {
   "cell_type": "markdown",
   "id": "c5ba574a-8012-475f-b53f-bdf99128aba9",
   "metadata": {},
   "source": [
    "### Dataset to be used - _IMDb_\n",
    "\n",
    "We use the [Large Movie Review Dataset](http://ai.stanford.edu/%7Eamaas/data/sentiment/) for this tutorial. We _train a sentiment classifier model on this dataset and in the process learn embeddings from scratch_. Download the dataset using Keras file utility and take a look at the directories."
   ]
  },
  {
   "cell_type": "code",
   "execution_count": 6,
   "id": "d7fb90ab-006f-4ddc-a295-31d160415e94",
   "metadata": {},
   "outputs": [],
   "source": [
    "# Specify data downloading URL-\n",
    "url = \"https://ai.stanford.edu/~amaas/data/sentiment/aclImdb_v1.tar.gz\"\n",
    "\n",
    "# Donwload dataset with TF Keras-\n",
    "dataset = tf.keras.utils.get_file(\n",
    "    \"aclImdb_v1.tar.gz\", url,\n",
    "    untar = True, cache_dir = '.',\n",
    "    cache_subdir = ''\n",
    ")"
   ]
  },
  {
   "cell_type": "code",
   "execution_count": 7,
   "id": "1b2925fd-e446-4385-9d08-02b872ef49f5",
   "metadata": {},
   "outputs": [
    {
     "name": "stdout",
     "output_type": "stream",
     "text": [
      "dataset directory: ['imdb.vocab', 'imdbEr.txt', 'README', 'test', 'train']\n"
     ]
    }
   ],
   "source": [
    "# Define data directory-\n",
    "dataset_dir = os.path.join(os.path.dirname(dataset), 'aclImdb')\n",
    "print(f\"dataset directory: {os.listdir(dataset_dir)}\")"
   ]
  },
  {
   "cell_type": "markdown",
   "id": "51a93683-3829-4ac2-884a-d2733a2edfbd",
   "metadata": {},
   "source": [
    "Take a look at the ```train/``` sub-directory. It has ```pos``` and ```neg``` folders with movie reviews labelled as positive and negative respectively. We will use reviews from ```pos``` and ```neg``` folders to train a binary classification model."
   ]
  },
  {
   "cell_type": "code",
   "execution_count": 8,
   "id": "90984130-7f49-4867-b6ca-e186753ea9c8",
   "metadata": {},
   "outputs": [
    {
     "name": "stdout",
     "output_type": "stream",
     "text": [
      "train directory: ['labeledBow.feat', 'neg', 'pos', 'unsup', 'unsupBow.feat', 'urls_neg.txt', 'urls_pos.txt', 'urls_unsup.txt']\n"
     ]
    }
   ],
   "source": [
    "# Define training directory-\n",
    "train_dir = os.path.join(dataset_dir, 'train')\n",
    "print(f\"train directory: {os.listdir(train_dir)}\")"
   ]
  },
  {
   "cell_type": "code",
   "execution_count": 9,
   "id": "4de59e70-ce2d-409f-9a72-175987abc34c",
   "metadata": {},
   "outputs": [],
   "source": [
    "# The train directory also has additional folders which should be removed before creating training dataset-\n",
    "remove_dir = os.path.join(train_dir, 'unsup')\n",
    "shutil.rmtree(remove_dir)"
   ]
  },
  {
   "cell_type": "markdown",
   "id": "fd8ad43f-1ecd-4ee1-a519-892805230bc8",
   "metadata": {},
   "source": [
    "- We now create a ```tf.data.Dataset``` using ```tf.keras.utils.text_dataset_from_directory```. You can read more about using this utility in this [text classification tutorial](https://www.tensorflow.org/tutorials/keras/text_classification).\n",
    "\n",
    "- Use the ```train``` directory to create both train and validation datasets with a split of 20% for validation."
   ]
  },
  {
   "cell_type": "code",
   "execution_count": 10,
   "id": "a45bfd14-174e-42d7-b360-259feeb884c0",
   "metadata": {},
   "outputs": [],
   "source": [
    "# Define batch-size-\n",
    "batch_size = 1024\n",
    "seed = 7651"
   ]
  },
  {
   "cell_type": "code",
   "execution_count": 11,
   "id": "537e3298-7a6c-46f5-8807-0989d7580d0a",
   "metadata": {},
   "outputs": [
    {
     "name": "stdout",
     "output_type": "stream",
     "text": [
      "Found 25000 files belonging to 2 classes.\n",
      "Using 20000 files for training.\n",
      "Found 25000 files belonging to 2 classes.\n",
      "Using 5000 files for validation.\n"
     ]
    }
   ],
   "source": [
    "# Create train and validation datasets-\n",
    "train_ds = tf.keras.utils.text_dataset_from_directory(\n",
    "    'aclImdb/train', batch_size = batch_size,\n",
    "    validation_split = 0.2, subset = 'training',\n",
    "    seed = seed\n",
    ")\n",
    "val_ds = tf.keras.utils.text_dataset_from_directory(\n",
    "    'aclImdb/train', batch_size = batch_size,\n",
    "    validation_split = 0.2, subset = 'validation',\n",
    "    seed = seed\n",
    ")"
   ]
  },
  {
   "cell_type": "code",
   "execution_count": 12,
   "id": "4788ba51-fd7d-4051-9290-b33085fb39a5",
   "metadata": {},
   "outputs": [
    {
     "name": "stdout",
     "output_type": "stream",
     "text": [
      "label: 1, text: b\"There is great detail in A Bug's Life. Everything is covered. The film looks great and the animation is sometimes jaw-dropping. The film isn't too terribly orignal, it's basically a modern take on Kurosawa's Seven Samurai, only with bugs. I enjoyed the character interaction however and the bad guys in this film actually seemed bad. It seems that Disney usually makes their bad guys carbon copy cut-outs. The grasshoppers are menacing and Hopper, the lead bad guy, was a brillant creation. Check this one out.\"\n",
      "\n",
      "label: 0, text: b\"I'm trying to decide if jumping into a wood chopper would be more enjoyable than this dreck. It finishes the destruction of what was once a classic couple of films. With Jedi, Menace, Clowns and Sith we have the death of Lucas' career. He wants us to swallow the Annakin is Vader nonsense? I never believed it was true. This film vindicates those feelings. The story hasn't worked since Phantom Moron, and each new film just piled the crap on until all that was left was a toy parade. I have to go. I know where some new rocks to throw are. You want spoilers? Here they come. Luke and Leia are NOT related. Vader is NOT their Father. Duke Countoo should have switched sides while he still could. Yoda has less verbal skills than Yogi Berra. His advice has never been any good to anybody. Obi Wan lied to Luke for the first two films. Annakin didn't build C3P0. He found him in the desert and lied to his Mom about putting him together from scratch. Chewbacca has fleas. This whole mess with Vader and the fall of the Republic can be blamed on that stupid b***h Amma-Lamma-Ding-Dong. If she had any brains she wouldn't have come within a light year of Annie, but she had told do what George Lucas wrote for her. What a dope!\"\n",
      "\n"
     ]
    }
   ],
   "source": [
    "# Sanity check: Take a look at 2 movie reviews and their labels (1: positive, 0: negative) from the train dataset-\n",
    "for text_batch, label_batch in train_ds.take(1):\n",
    "    for i in range(2):\n",
    "        print(f\"label: {label_batch[i].numpy()}, text: {text_batch.numpy()[i]}\\n\")"
   ]
  },
  {
   "cell_type": "code",
   "execution_count": null,
   "id": "2514d0f6-c3b6-4bd0-839c-2a8bb81e9c6d",
   "metadata": {},
   "outputs": [],
   "source": []
  },
  {
   "cell_type": "markdown",
   "id": "aa9457bd-015b-4e8d-a1cc-1ebd38b1b4e4",
   "metadata": {},
   "source": [
    "### Configure the dataset for performance\n",
    "\n",
    "These are two important methods you should use when loading data to make sure that I/O does not become blocking:\n",
    "\n",
    "- ```.cache()``` keeps data in memory after it's loaded off disk. This will ensure the dataset does not become a bottleneck while training your model. If your dataset is too large to fit into memory, you can also use this method to create a performant on-disk cache, which is more efficient to read than many small files.\n",
    "\n",
    "- ```.prefetch()``` overlaps data preprocessing and model execution while training.\n",
    "\n",
    "You can learn more about both methods, as well as how to cache data to disk in the [data performance guide](https://www.tensorflow.org/guide/data_performance)."
   ]
  },
  {
   "cell_type": "code",
   "execution_count": 13,
   "id": "a3a8db64-5c46-46af-9548-ab9125bcf6f6",
   "metadata": {},
   "outputs": [],
   "source": [
    "AUTOTUNE = tf.data.AUTOTUNE\n",
    "\n",
    "train_ds = train_ds.cache().prefetch(buffer_size = AUTOTUNE)\n",
    "val_ds = val_ds.cache().prefetch(buffer_size = AUTOTUNE)"
   ]
  },
  {
   "cell_type": "code",
   "execution_count": null,
   "id": "bd5b35f4-8438-4869-ba40-eec3081beac7",
   "metadata": {},
   "outputs": [],
   "source": []
  },
  {
   "cell_type": "markdown",
   "id": "65baef6d-91b6-4475-bc78-c26e55316034",
   "metadata": {},
   "source": [
    "### Using the ```Embedding``` layer\n",
    "\n",
    "- TF2 Keras makes it easy to use word embeddings. Refer to the [Embedding](https://www.tensorflow.org/api_docs/python/tf/keras/layers/Embedding) layer.\n",
    "\n",
    "- __The ```Embedding``` layer can be understood as a lookup table that maps from integer indices (which stand for specific words) to dense vectors (their embeddings)__.\n",
    "    - The dimensionality (or width) of the embedding is a parameter you can experiment with to see what works well for your problem, much in the same way you would experiment with the number of neurons in a Dense layer.\n",
    "    \n",
    "- When you create an Embedding layer, the weights for the embedding are randomly initialized (just like any other layer). During training, they are gradually adjusted via backpropagation. _Once trained, the learned word embeddings will roughly encode similarities between words_ (as they were learned for the specific problem your model is trained on).\n",
    "\n",
    "- If you pass an integer to an embedding layer, the result replaces each integer with the vector from the embedding table."
   ]
  },
  {
   "cell_type": "code",
   "execution_count": 15,
   "id": "a3e3e0f6-29f4-4f93-89ff-772999d008e9",
   "metadata": {},
   "outputs": [],
   "source": [
    "# Embed a 1,000 word vocabulary into 5 dimensions.\n",
    "embedding_layer = tf.keras.layers.Embedding(\n",
    "    input_dim = 1000, output_dim = 8,\n",
    "    embeddings_initializer = 'normal', embeddings_regularizer = None,\n",
    ")"
   ]
  },
  {
   "cell_type": "code",
   "execution_count": 16,
   "id": "844bcc4b-a700-4918-a808-e780c6a75176",
   "metadata": {},
   "outputs": [
    {
     "data": {
      "text/plain": [
       "array([[ 0.00915452, -0.00964542, -0.09666924,  0.07799357, -0.12571494,\n",
       "        -0.01310947,  0.03346598,  0.00948994],\n",
       "       [ 0.04450005, -0.00958178, -0.01010153, -0.05446462,  0.013847  ,\n",
       "         0.00966423, -0.08868754, -0.04734137],\n",
       "       [-0.11052388,  0.03564549, -0.08044853, -0.0228547 ,  0.05538147,\n",
       "         0.01834012, -0.03648141, -0.11231496]], dtype=float32)"
      ]
     },
     "execution_count": 16,
     "metadata": {},
     "output_type": "execute_result"
    }
   ],
   "source": [
    "result = embedding_layer(tf.constant([1, 2, 3]))\n",
    "result.numpy()"
   ]
  },
  {
   "cell_type": "markdown",
   "id": "5bd40936-9c6a-4129-bf12-06763dfb723c",
   "metadata": {},
   "source": [
    "- __For text or sequence problems, the Embedding layer takes a 2D tensor of integers, of shape ```(samples, sequence_length)```, where each entry is a sequence of integers. It can embed sequences of variable lengths. You could feed into the embedding layer above batches with shapes (32, 10) (batch of 32 sequences of length 10) or (64, 15) (batch of 64 sequences of length 15)__.\n",
    "\n",
    "- __The returned tensor has one more axis than the input, the embedding vectors are aligned along the new last axis__. Pass it a (2, 3) input batch and the output is (2, 3, N)"
   ]
  },
  {
   "cell_type": "code",
   "execution_count": 17,
   "id": "56ba58ca-da15-41a2-801a-bd1ae6c1b384",
   "metadata": {},
   "outputs": [
    {
     "data": {
      "text/plain": [
       "TensorShape([2, 3, 8])"
      ]
     },
     "execution_count": 17,
     "metadata": {},
     "output_type": "execute_result"
    }
   ],
   "source": [
    "result = embedding_layer(\n",
    "    tf.constant(\n",
    "        [\n",
    "            [0, 1, 2], [3, 4, 5]\n",
    "        ]\n",
    "    )\n",
    ")\n",
    "result.shape"
   ]
  },
  {
   "cell_type": "markdown",
   "id": "7fada578-1a62-4a55-aa3f-36205e1d3537",
   "metadata": {},
   "source": [
    "- __When given a batch of sequences as input, an embedding layer returns a 3D floating point tensor, of shape ```(samples, sequence_length, embedding_dimensionality)```__.\n",
    "\n",
    "- To convert from this sequence of variable length to a fixed representation, there are a variety of standard approaches. You could use an RNN, Attention, or pooling layer before passing it to a Dense layer. This tutorial uses pooling because it's the simplest. The [Text Classification with an RNN](https://www.tensorflow.org/text/tutorials/text_classification_rnn) tutorial is a good next step."
   ]
  },
  {
   "cell_type": "code",
   "execution_count": null,
   "id": "e17b1bda-3c0c-463c-8863-26e6827fc5d5",
   "metadata": {},
   "outputs": [],
   "source": []
  },
  {
   "cell_type": "markdown",
   "id": "f21d14fb-d8a0-4cf1-9586-aedac1a4cb1b",
   "metadata": {},
   "source": [
    "### Text preprocessing\n",
    "\n",
    "Next, define the dataset preprocessing steps required for the (binary) sentiment classification model. Initialize a ```TextVectorization``` layer with the desired parameters to vectorize movie reviews. You can learn more about using this layer in the [Text Classification](https://www.tensorflow.org/tutorials/keras/text_classification) tutorial."
   ]
  },
  {
   "cell_type": "code",
   "execution_count": 18,
   "id": "e5eaa21f-5d59-4863-b6a7-76a1a2f6bbed",
   "metadata": {},
   "outputs": [],
   "source": [
    "def custom_standardization(input_data):\n",
    "    '''\n",
    "    Create a custom standardization function to strip HTML break tags '<br />'.\n",
    "    '''\n",
    "    lowercase = tf.strings.lower(input_data)\n",
    "    stripped_html = tf.strings.regex_replace(lowercase, '<br />', ' ')\n",
    "\n",
    "    return tf.strings.regex_replace(\n",
    "        stripped_html, '[%s]' % re.escape(string.punctuation),\n",
    "        ''\n",
    "    )\n"
   ]
  },
  {
   "cell_type": "code",
   "execution_count": 19,
   "id": "297c1edb-d161-4294-b954-9af364518fca",
   "metadata": {},
   "outputs": [],
   "source": [
    "# Define vocabulary size and number of words in a sequence-\n",
    "vocab_size = 10000\n",
    "sequence_length = 100"
   ]
  },
  {
   "cell_type": "code",
   "execution_count": null,
   "id": "2f3e1a82-28c0-4355-9dff-2b1c2a9108ff",
   "metadata": {},
   "outputs": [],
   "source": []
  },
  {
   "cell_type": "code",
   "execution_count": 20,
   "id": "54a099fe-2e3b-4e19-8c65-5a452aac09e5",
   "metadata": {},
   "outputs": [],
   "source": [
    "# Use the text vectorization layer to normalize, split, and map strings to integers.\n",
    "# Note that the layer uses the custom standardization defined above.\n",
    "# Set maximum_sequence length as all samples are not of the same length.\n",
    "vectorize_layer = TextVectorization(\n",
    "    standardize = custom_standardization, max_tokens = vocab_size,\n",
    "    output_mode = 'int', output_sequence_length = sequence_length\n",
    ")"
   ]
  },
  {
   "cell_type": "code",
   "execution_count": 21,
   "id": "e52e6e3d-bdd8-4331-9663-c96fae71ecd6",
   "metadata": {},
   "outputs": [],
   "source": [
    "# Make a text-only dataset (no labels) and call adapt to build the vocabulary.\n",
    "text_ds = train_ds.map(lambda x, y: x)\n",
    "vectorize_layer.adapt(text_ds)"
   ]
  },
  {
   "cell_type": "code",
   "execution_count": null,
   "id": "3bf735d0-87bb-449c-be5a-4cb3d1ddfab3",
   "metadata": {},
   "outputs": [],
   "source": []
  },
  {
   "cell_type": "code",
   "execution_count": null,
   "id": "d91c770c-adb8-451e-9d89-4c1800fbcb0e",
   "metadata": {},
   "outputs": [],
   "source": []
  },
  {
   "cell_type": "markdown",
   "id": "d426c5e7-7d3b-42ce-8a60-d7cd96162c99",
   "metadata": {},
   "source": [
    "### Create a classification model\n",
    "\n",
    "Use the TF2 Keras Sequential API to define the sentiment classification model. In this case it is a _Continuous bag of words_ style model.\n",
    "\n",
    "- The [TextVectorization](https://www.tensorflow.org/api_docs/python/tf/keras/layers/experimental/preprocessing/TextVectorization) layer transforms strings into vocabulary indices. You have already initialized ```vectorize_layer``` as a TextVectorization layer and built its vocabulary by calling ```adapt``` on ```text_ds```. Now ```vectorize_layer``` can be used as the first layer of your end-to-end classification model, feeding transformed strings into the Embedding layer.\n",
    "\n",
    "- The [Embedding](https://www.tensorflow.org/api_docs/python/tf/keras/layers/Embedding) layer takes the integer-encoded vocabulary and looks up the embedding vector for each word-index. These vectors are learned as the model trains. The vectors add a dimension to the output array. The resulting dimensions are: (batch, sequence, embedding).\n",
    "\n",
    "- The [GlobalAveragePooling1D](https://www.tensorflow.org/api_docs/python/tf/keras/layers/GlobalAveragePooling1D) layer returns a fixed-length output vector for each example by averaging over the sequence dimension. This allows the model to handle input of variable length, in the simplest way possible.\n",
    "\n",
    "- The fixed-length output vector is piped through a fully-connected ([Dense](https://www.tensorflow.org/api_docs/python/tf/keras/layers/Dense)) layer with 16 hidden units.\n",
    "\n",
    "- The last layer is densely connected with a single output node.\n"
   ]
  },
  {
   "cell_type": "markdown",
   "id": "6a765540-0ebb-41fe-a6ba-a3c2ac2cf465",
   "metadata": {},
   "source": [
    "__Caution:__ This model doesn't use masking, so the zero-padding is used as part of the input and hence the padding length may affect the output. To fix this, see the [masking and padding guide](https://www.tensorflow.org/guide/keras/masking_and_padding)."
   ]
  },
  {
   "cell_type": "code",
   "execution_count": 22,
   "id": "66dfb509-72a7-431a-bf21-336a6c03a114",
   "metadata": {},
   "outputs": [],
   "source": [
    "# Define word embedding dimensionality-\n",
    "embedding_dim = 20\n",
    "\n",
    "# Define architecture-\n",
    "model = Sequential(\n",
    "    [\n",
    "        vectorize_layer,\n",
    "        Embedding(\n",
    "            vocab_size, embedding_dim,\n",
    "            name = \"embedding\"\n",
    "        ),\n",
    "        GlobalAveragePooling1D(),\n",
    "        Dense(units = 16, activation = tf.nn.relu),\n",
    "        Dense(units = 1, activation = None)\n",
    "    ]\n",
    ")"
   ]
  },
  {
   "cell_type": "code",
   "execution_count": 23,
   "id": "66311416-9eee-4485-b817-9fa164fe9f2c",
   "metadata": {},
   "outputs": [],
   "source": [
    "# Compile and train the model using the Adam optimizer and BinaryCrossentropy loss-\n",
    "model.compile(\n",
    "    optimizer = tf.keras.optimizers.Adam(),\n",
    "    loss = tf.keras.losses.BinaryCrossentropy(from_logits = True),\n",
    "    metrics = ['accuracy']\n",
    ")"
   ]
  },
  {
   "cell_type": "code",
   "execution_count": 24,
   "id": "5eb16fd5-11fa-49af-9809-4a00b3073c71",
   "metadata": {},
   "outputs": [
    {
     "name": "stdout",
     "output_type": "stream",
     "text": [
      "Model: \"sequential\"\n",
      "_________________________________________________________________\n",
      " Layer (type)                Output Shape              Param #   \n",
      "=================================================================\n",
      " text_vectorization (TextVec  (None, 100)              0         \n",
      " torization)                                                     \n",
      "                                                                 \n",
      " embedding (Embedding)       (None, 100, 20)           200000    \n",
      "                                                                 \n",
      " global_average_pooling1d (G  (None, 20)               0         \n",
      " lobalAveragePooling1D)                                          \n",
      "                                                                 \n",
      " dense (Dense)               (None, 16)                336       \n",
      "                                                                 \n",
      " dense_1 (Dense)             (None, 1)                 17        \n",
      "                                                                 \n",
      "=================================================================\n",
      "Total params: 200,353\n",
      "Trainable params: 200,353\n",
      "Non-trainable params: 0\n",
      "_________________________________________________________________\n"
     ]
    }
   ],
   "source": [
    "# Get model summary-\n",
    "model.summary()"
   ]
  },
  {
   "cell_type": "code",
   "execution_count": null,
   "id": "0444acdd-8793-47c8-8466-80b39c8fbdd6",
   "metadata": {},
   "outputs": [],
   "source": []
  },
  {
   "cell_type": "code",
   "execution_count": 25,
   "id": "5b844988-bdba-4677-bdf2-5edbe7ac32e6",
   "metadata": {},
   "outputs": [
    {
     "name": "stdout",
     "output_type": "stream",
     "text": [
      "Epoch 1/50\n",
      "20/20 [==============================] - 3s 114ms/step - loss: 0.6923 - accuracy: 0.5013 - val_loss: 0.6904 - val_accuracy: 0.4948\n",
      "Epoch 2/50\n",
      "20/20 [==============================] - 2s 85ms/step - loss: 0.6875 - accuracy: 0.5013 - val_loss: 0.6839 - val_accuracy: 0.4948\n",
      "Epoch 3/50\n",
      "20/20 [==============================] - 2s 85ms/step - loss: 0.6780 - accuracy: 0.5013 - val_loss: 0.6719 - val_accuracy: 0.4948\n",
      "Epoch 4/50\n",
      "20/20 [==============================] - 2s 85ms/step - loss: 0.6614 - accuracy: 0.5013 - val_loss: 0.6532 - val_accuracy: 0.4948\n",
      "Epoch 5/50\n",
      "20/20 [==============================] - 2s 85ms/step - loss: 0.6376 - accuracy: 0.5059 - val_loss: 0.6284 - val_accuracy: 0.5192\n",
      "Epoch 6/50\n",
      "20/20 [==============================] - 2s 85ms/step - loss: 0.6071 - accuracy: 0.5694 - val_loss: 0.5985 - val_accuracy: 0.6090\n",
      "Epoch 7/50\n",
      "20/20 [==============================] - 2s 84ms/step - loss: 0.5716 - accuracy: 0.6532 - val_loss: 0.5658 - val_accuracy: 0.6702\n",
      "Epoch 8/50\n",
      "20/20 [==============================] - 2s 85ms/step - loss: 0.5337 - accuracy: 0.7156 - val_loss: 0.5329 - val_accuracy: 0.7184\n",
      "Epoch 9/50\n",
      "20/20 [==============================] - 2s 85ms/step - loss: 0.4963 - accuracy: 0.7551 - val_loss: 0.5026 - val_accuracy: 0.7504\n",
      "Epoch 10/50\n",
      "20/20 [==============================] - 2s 85ms/step - loss: 0.4619 - accuracy: 0.7839 - val_loss: 0.4762 - val_accuracy: 0.7666\n",
      "Epoch 11/50\n",
      "20/20 [==============================] - 2s 84ms/step - loss: 0.4313 - accuracy: 0.8041 - val_loss: 0.4543 - val_accuracy: 0.7838\n",
      "Epoch 12/50\n",
      "20/20 [==============================] - 2s 85ms/step - loss: 0.4048 - accuracy: 0.8192 - val_loss: 0.4365 - val_accuracy: 0.7936\n",
      "Epoch 13/50\n",
      "20/20 [==============================] - 2s 84ms/step - loss: 0.3817 - accuracy: 0.8326 - val_loss: 0.4221 - val_accuracy: 0.8024\n",
      "Epoch 14/50\n",
      "20/20 [==============================] - 2s 85ms/step - loss: 0.3616 - accuracy: 0.8430 - val_loss: 0.4105 - val_accuracy: 0.8086\n",
      "Epoch 15/50\n",
      "20/20 [==============================] - 2s 85ms/step - loss: 0.3439 - accuracy: 0.8511 - val_loss: 0.4011 - val_accuracy: 0.8148\n",
      "Epoch 16/50\n",
      "20/20 [==============================] - 2s 85ms/step - loss: 0.3281 - accuracy: 0.8581 - val_loss: 0.3936 - val_accuracy: 0.8202\n",
      "Epoch 17/50\n",
      "20/20 [==============================] - 2s 85ms/step - loss: 0.3139 - accuracy: 0.8656 - val_loss: 0.3875 - val_accuracy: 0.8210\n",
      "Epoch 18/50\n",
      "20/20 [==============================] - 2s 86ms/step - loss: 0.3010 - accuracy: 0.8721 - val_loss: 0.3828 - val_accuracy: 0.8236\n",
      "Epoch 19/50\n",
      "20/20 [==============================] - 2s 85ms/step - loss: 0.2892 - accuracy: 0.8774 - val_loss: 0.3791 - val_accuracy: 0.8238\n",
      "Epoch 20/50\n",
      "20/20 [==============================] - 2s 86ms/step - loss: 0.2783 - accuracy: 0.8830 - val_loss: 0.3763 - val_accuracy: 0.8260\n",
      "Epoch 21/50\n",
      "20/20 [==============================] - 2s 85ms/step - loss: 0.2683 - accuracy: 0.8881 - val_loss: 0.3744 - val_accuracy: 0.8260\n",
      "Epoch 22/50\n",
      "20/20 [==============================] - 2s 85ms/step - loss: 0.2590 - accuracy: 0.8926 - val_loss: 0.3731 - val_accuracy: 0.8276\n",
      "Epoch 23/50\n",
      "20/20 [==============================] - 2s 86ms/step - loss: 0.2503 - accuracy: 0.8972 - val_loss: 0.3725 - val_accuracy: 0.8270\n",
      "Epoch 24/50\n",
      "20/20 [==============================] - 2s 85ms/step - loss: 0.2421 - accuracy: 0.9012 - val_loss: 0.3725 - val_accuracy: 0.8254\n",
      "Epoch 25/50\n",
      "20/20 [==============================] - 2s 85ms/step - loss: 0.2344 - accuracy: 0.9051 - val_loss: 0.3730 - val_accuracy: 0.8268\n",
      "Epoch 26/50\n",
      "20/20 [==============================] - 2s 85ms/step - loss: 0.2272 - accuracy: 0.9083 - val_loss: 0.3740 - val_accuracy: 0.8270\n",
      "Epoch 27/50\n",
      "20/20 [==============================] - 2s 85ms/step - loss: 0.2203 - accuracy: 0.9121 - val_loss: 0.3754 - val_accuracy: 0.8278\n",
      "Epoch 28/50\n",
      "20/20 [==============================] - 2s 85ms/step - loss: 0.2138 - accuracy: 0.9151 - val_loss: 0.3772 - val_accuracy: 0.8292\n",
      "Epoch 29/50\n",
      "20/20 [==============================] - 2s 85ms/step - loss: 0.2075 - accuracy: 0.9178 - val_loss: 0.3794 - val_accuracy: 0.8286\n",
      "Epoch 30/50\n",
      "20/20 [==============================] - 2s 85ms/step - loss: 0.2016 - accuracy: 0.9208 - val_loss: 0.3819 - val_accuracy: 0.8288\n",
      "Epoch 31/50\n",
      "20/20 [==============================] - 2s 86ms/step - loss: 0.1959 - accuracy: 0.9234 - val_loss: 0.3848 - val_accuracy: 0.8282\n",
      "Epoch 32/50\n",
      "20/20 [==============================] - 2s 86ms/step - loss: 0.1905 - accuracy: 0.9256 - val_loss: 0.3880 - val_accuracy: 0.8280\n",
      "Epoch 33/50\n",
      "20/20 [==============================] - 2s 85ms/step - loss: 0.1852 - accuracy: 0.9280 - val_loss: 0.3914 - val_accuracy: 0.8262\n",
      "Epoch 34/50\n",
      "20/20 [==============================] - 2s 84ms/step - loss: 0.1802 - accuracy: 0.9298 - val_loss: 0.3952 - val_accuracy: 0.8260\n",
      "Epoch 35/50\n",
      "20/20 [==============================] - 2s 85ms/step - loss: 0.1753 - accuracy: 0.9323 - val_loss: 0.3992 - val_accuracy: 0.8262\n",
      "Epoch 36/50\n",
      "20/20 [==============================] - 2s 85ms/step - loss: 0.1706 - accuracy: 0.9341 - val_loss: 0.4034 - val_accuracy: 0.8258\n",
      "Epoch 37/50\n",
      "20/20 [==============================] - 2s 85ms/step - loss: 0.1661 - accuracy: 0.9365 - val_loss: 0.4079 - val_accuracy: 0.8262\n",
      "Epoch 38/50\n",
      "20/20 [==============================] - 2s 86ms/step - loss: 0.1617 - accuracy: 0.9380 - val_loss: 0.4127 - val_accuracy: 0.8256\n",
      "Epoch 39/50\n",
      "20/20 [==============================] - 2s 85ms/step - loss: 0.1573 - accuracy: 0.9399 - val_loss: 0.4182 - val_accuracy: 0.8252\n",
      "Epoch 40/50\n",
      "20/20 [==============================] - 2s 85ms/step - loss: 0.1529 - accuracy: 0.9420 - val_loss: 0.4240 - val_accuracy: 0.8242\n",
      "Epoch 41/50\n",
      "20/20 [==============================] - 2s 85ms/step - loss: 0.1486 - accuracy: 0.9441 - val_loss: 0.4301 - val_accuracy: 0.8250\n",
      "Epoch 42/50\n",
      "20/20 [==============================] - 2s 85ms/step - loss: 0.1444 - accuracy: 0.9463 - val_loss: 0.4364 - val_accuracy: 0.8244\n",
      "Epoch 43/50\n",
      "20/20 [==============================] - 2s 85ms/step - loss: 0.1404 - accuracy: 0.9487 - val_loss: 0.4429 - val_accuracy: 0.8250\n",
      "Epoch 44/50\n",
      "20/20 [==============================] - 2s 85ms/step - loss: 0.1365 - accuracy: 0.9506 - val_loss: 0.4496 - val_accuracy: 0.8248\n",
      "Epoch 45/50\n",
      "20/20 [==============================] - 2s 85ms/step - loss: 0.1326 - accuracy: 0.9528 - val_loss: 0.4565 - val_accuracy: 0.8248\n",
      "Epoch 46/50\n",
      "20/20 [==============================] - 2s 85ms/step - loss: 0.1289 - accuracy: 0.9548 - val_loss: 0.4636 - val_accuracy: 0.8242\n",
      "Epoch 47/50\n",
      "20/20 [==============================] - 2s 85ms/step - loss: 0.1253 - accuracy: 0.9563 - val_loss: 0.4709 - val_accuracy: 0.8240\n",
      "Epoch 48/50\n",
      "20/20 [==============================] - 2s 85ms/step - loss: 0.1218 - accuracy: 0.9582 - val_loss: 0.4784 - val_accuracy: 0.8226\n",
      "Epoch 49/50\n",
      "20/20 [==============================] - 2s 85ms/step - loss: 0.1184 - accuracy: 0.9599 - val_loss: 0.4860 - val_accuracy: 0.8216\n",
      "Epoch 50/50\n",
      "20/20 [==============================] - 2s 85ms/step - loss: 0.1151 - accuracy: 0.9617 - val_loss: 0.4937 - val_accuracy: 0.8224\n"
     ]
    }
   ],
   "source": [
    "# Train word embeddings-\n",
    "history = model.fit(\n",
    "    train_ds, validation_data=val_ds,\n",
    "    epochs = 50,\n",
    "    # callbacks = [tensorboard_callback]\n",
    ")"
   ]
  },
  {
   "cell_type": "code",
   "execution_count": null,
   "id": "f2e27296-62d8-4cc9-901c-1d7497afe90f",
   "metadata": {},
   "outputs": [],
   "source": []
  },
  {
   "cell_type": "code",
   "execution_count": 26,
   "id": "3f7b3c80-4db1-470b-b67f-b229c31b97f8",
   "metadata": {},
   "outputs": [
    {
     "data": {
      "image/png": "[encoded data removed]",
      "text/plain": [
       "<Figure size 700x600 with 1 Axes>"
      ]
     },
     "metadata": {},
     "output_type": "display_data"
    }
   ],
   "source": [
    "plt.figure(figsize = (7, 6))\n",
    "plt.plot(history.history['loss'], label = 'loss')\n",
    "plt.plot(history.history['val_loss'], label = 'val loss')\n",
    "plt.xlabel(\"epochs\")\n",
    "plt.ylabel(\"loss\")\n",
    "plt.title(\"Training Visualization - loss\")\n",
    "plt.legend(loc = 'best')\n",
    "plt.show()"
   ]
  },
  {
   "cell_type": "code",
   "execution_count": 27,
   "id": "f9c4a378-1287-4fbf-831f-1d7517dcb516",
   "metadata": {},
   "outputs": [
    {
     "data": {
      "image/png": "[encoded data removed]",
      "text/plain": [
       "<Figure size 700x600 with 1 Axes>"
      ]
     },
     "metadata": {},
     "output_type": "display_data"
    }
   ],
   "source": [
    "plt.figure(figsize = (7, 6))\n",
    "plt.plot(history.history['accuracy'], label = 'acc')\n",
    "plt.plot(history.history['val_accuracy'], label = 'val acc')\n",
    "plt.xlabel(\"epochs\")\n",
    "plt.ylabel(\"acc %\")\n",
    "plt.title(\"Training Visualization - accuracy\")\n",
    "plt.legend(loc = 'best')\n",
    "plt.show()"
   ]
  },
  {
   "cell_type": "code",
   "execution_count": null,
   "id": "f88c471d-a459-4474-8c95-fb39962c22f5",
   "metadata": {},
   "outputs": [],
   "source": []
  },
  {
   "cell_type": "code",
   "execution_count": null,
   "id": "020e2de2-913d-4714-93c6-8b1b27d3e794",
   "metadata": {},
   "outputs": [],
   "source": []
  },
  {
   "cell_type": "markdown",
   "id": "712e3ac0-0255-49d7-b8f3-074260905c66",
   "metadata": {},
   "source": [
    "### Retrieve the trained word embeddings and save them to disk\n",
    "\n",
    "- Now, retrieve the word embeddings learned during training. The embeddings are weights of the Embedding layer in the model. The weights matrix is of shape ```(vocab_size, embedding_dimension)```.\n",
    "\n",
    "- Obtain the (trained) weights from the model using ```get_layer()``` and ```get_weights()```. The ```get_vocabulary()``` function provides the vocabulary to build a metadata file with one token per line."
   ]
  },
  {
   "cell_type": "code",
   "execution_count": 29,
   "id": "d6afbde5-2da7-4e13-a4cc-f67a0dfd793c",
   "metadata": {},
   "outputs": [],
   "source": [
    "# Get trained embedding parameters-\n",
    "embedding_weights = model.get_layer('embedding').get_weights()[0]\n",
    "vocab = vectorize_layer.get_vocabulary()"
   ]
  },
  {
   "cell_type": "code",
   "execution_count": 30,
   "id": "b7303c6b-9c25-4e80-8227-7b306d16b877",
   "metadata": {},
   "outputs": [
    {
     "data": {
      "text/plain": [
       "((10000, 20), 10000)"
      ]
     },
     "execution_count": 30,
     "metadata": {},
     "output_type": "execute_result"
    }
   ],
   "source": [
    "embedding_weights.shape, len(vocab)"
   ]
  },
  {
   "cell_type": "code",
   "execution_count": 31,
   "id": "48b463c7-2dbf-4f33-8c8c-c3212372910f",
   "metadata": {},
   "outputs": [
    {
     "data": {
      "text/plain": [
       "('[UNK]', 'i', 'further')"
      ]
     },
     "execution_count": 31,
     "metadata": {},
     "output_type": "execute_result"
    }
   ],
   "source": [
    "vocab[1], vocab[10], vocab[1000]"
   ]
  },
  {
   "cell_type": "code",
   "execution_count": null,
   "id": "c4c65e86-8e0e-4bda-9b53-704e0fe37589",
   "metadata": {},
   "outputs": [],
   "source": []
  },
  {
   "cell_type": "code",
   "execution_count": 32,
   "id": "b98c8164-40a4-4393-bd81-f736d1a917ea",
   "metadata": {},
   "outputs": [],
   "source": [
    "# Save the trained weights to disk. To use the Embedding Projector, you will upload two files in\n",
    "# tab separated format: a file of vectors (containing the embedding), and a file of meta data (containing the words)-\n",
    "\n",
    "out_v = io.open('vectors.tsv', 'w', encoding = 'utf-8')\n",
    "out_m = io.open('metadata.tsv', 'w', encoding = 'utf-8')\n",
    "\n",
    "for index, word in enumerate(vocab):\n",
    "    if index == 0:\n",
    "        # skip 0, it's padding-\n",
    "        continue\n",
    "    vec = embedding_weights[index]\n",
    "    out_v.write('\\t'.join([str(x) for x in vec]) + \"\\n\")\n",
    "    out_m.write(word + \"\\n\")\n",
    "\n",
    "out_v.close()\n",
    "out_m.close()"
   ]
  },
  {
   "cell_type": "code",
   "execution_count": null,
   "id": "2655008b-baab-420c-8491-d450a1f1db34",
   "metadata": {},
   "outputs": [],
   "source": []
  },
  {
   "cell_type": "code",
   "execution_count": null,
   "id": "eb56df62-5291-44b0-8c71-86cf838795e7",
   "metadata": {},
   "outputs": [],
   "source": []
  },
  {
   "cell_type": "markdown",
   "id": "3dec5831-b5c4-4a84-b6bb-b2b73bdb58c6",
   "metadata": {},
   "source": [
    "### Employ dimensionality reduction to visualize trained embeddings for given vocabulary"
   ]
  },
  {
   "cell_type": "code",
   "execution_count": 33,
   "id": "f618ebb3-57cf-46c3-97e1-ca554a2bb7a5",
   "metadata": {},
   "outputs": [],
   "source": [
    "from sklearn.discriminant_analysis import LinearDiscriminantAnalysis as LDA\n",
    "from sklearn.decomposition import PCA\n",
    "from sklearn.manifold import Isomap, SpectralEmbedding, TSNE"
   ]
  },
  {
   "cell_type": "code",
   "execution_count": null,
   "id": "8122f370-762d-4148-a412-18035268f9c8",
   "metadata": {},
   "outputs": [],
   "source": []
  },
  {
   "cell_type": "code",
   "execution_count": 34,
   "id": "ef2a30d1-3592-46b1-a983-50453dc32fe9",
   "metadata": {},
   "outputs": [
    {
     "data": {
      "text/plain": [
       "array([[-3.29560414e-03,  1.82281628e-01,  2.73801219e-02,\n",
       "        -3.54530588e-02,  2.18862575e-02],\n",
       "       [ 5.72926328e-02,  3.51927310e-01,  1.18203156e-01,\n",
       "        -6.09469675e-02, -1.17633808e-02],\n",
       "       [-5.97197488e-02,  4.80466604e-01,  1.64874300e-01,\n",
       "        -7.44425505e-02,  6.25384599e-03],\n",
       "       ...,\n",
       "       [-4.97933090e-01, -1.03422329e-01, -1.24024209e-02,\n",
       "        -1.03295390e-02, -2.82712672e-02],\n",
       "       [-7.34530747e-01, -9.28856200e-04, -2.80500837e-02,\n",
       "         5.35070673e-02, -1.68302413e-02],\n",
       "       [-1.68403506e+00, -3.60864103e-02,  1.71185862e-02,\n",
       "         8.86139867e-04,  5.89587539e-03]], dtype=float32)"
      ]
     },
     "execution_count": 34,
     "metadata": {},
     "output_type": "execute_result"
    }
   ],
   "source": [
    "# Use PCA for dimensionality reduction algo-\n",
    "pca = PCA(n_components = 5)\n",
    "pca.fit_transform(embedding_weights)"
   ]
  },
  {
   "cell_type": "code",
   "execution_count": 35,
   "id": "4441624f-1162-4942-b6b2-f527d8c1f9c3",
   "metadata": {},
   "outputs": [],
   "source": [
    "pca_variance = pca.explained_variance_"
   ]
  },
  {
   "cell_type": "code",
   "execution_count": 36,
   "id": "c84da9e9-e71d-4293-ba6f-e8a0fdd71368",
   "metadata": {},
   "outputs": [
    {
     "data": {
      "text/plain": [
       "array([1.0803710e+00, 3.4943498e-03, 1.0808447e-03, 8.8703778e-04,\n",
       "       8.7364973e-04], dtype=float32)"
      ]
     },
     "execution_count": 36,
     "metadata": {},
     "output_type": "execute_result"
    }
   ],
   "source": [
    "pca_variance"
   ]
  },
  {
   "cell_type": "code",
   "execution_count": 37,
   "id": "b6098db6-924a-48f3-8198-5b9424445c51",
   "metadata": {},
   "outputs": [
    {
     "data": {
      "image/png": "[encoded data removed]",
      "text/plain": [
       "<Figure size 700x600 with 1 Axes>"
      ]
     },
     "metadata": {},
     "output_type": "display_data"
    }
   ],
   "source": [
    "# Explained variance as visualization-\n",
    "plt.figure(figsize = (7, 6))\n",
    "plt.bar(\n",
    "    range(5), pca_variance,\n",
    "    alpha = 0.5, align = 'center',\n",
    "    label = 'individual variance'\n",
    ")\n",
    "plt.legend()\n",
    "plt.ylabel('Variance ratio')\n",
    "plt.xlabel('Principal components')\n",
    "plt.title(\"PCA explained variance\")\n",
    "plt.show()"
   ]
  },
  {
   "cell_type": "code",
   "execution_count": 38,
   "id": "32adaa36-6976-4633-b8fb-0c7dde868b7b",
   "metadata": {},
   "outputs": [
    {
     "data": {
      "image/png": "[encoded data removed]",
      "text/plain": [
       "<Figure size 700x600 with 1 Axes>"
      ]
     },
     "metadata": {},
     "output_type": "display_data"
    }
   ],
   "source": [
    "embeddings_pca = pca.transform(embedding_weights)\n",
    "\n",
    "plt.figure(figsize = (7, 6))\n",
    "plt.scatter(\n",
    "    embeddings_pca[:, 0], embeddings_pca[:, 1],\n",
    "    # c = m_data['class']\n",
    ")\n",
    "plt.title(\"Learned Embedding: PCA Dimensionality Reduction Visualization\")\n",
    "plt.show()"
   ]
  },
  {
   "cell_type": "markdown",
   "id": "d114ebf7-ec6d-454c-9621-075ba164936a",
   "metadata": {},
   "source": [
    "##### Note: PCA cannot capture the dimensionality reduction. Maybe the underlying data has no linear relationship?"
   ]
  },
  {
   "cell_type": "code",
   "execution_count": null,
   "id": "40b299e0-638f-435d-87bc-0d3d2dc6b351",
   "metadata": {},
   "outputs": [],
   "source": []
  },
  {
   "cell_type": "code",
   "execution_count": null,
   "id": "1368fe98-ad92-4c56-bdf8-ae6c19e32396",
   "metadata": {},
   "outputs": [],
   "source": []
  },
  {
   "cell_type": "code",
   "execution_count": 39,
   "id": "a3234c00-35a0-4544-8dca-dfb0b434c758",
   "metadata": {},
   "outputs": [],
   "source": [
    "# Use Isomap for dimensionality reduction-\n",
    "isomap_model = Isomap(n_components = 3)\n",
    "embeddings_isomap = isomap_model.fit_transform(embedding_weights)"
   ]
  },
  {
   "cell_type": "code",
   "execution_count": 40,
   "id": "a6be5a0a-ff3b-4284-9703-6224228d703b",
   "metadata": {},
   "outputs": [
    {
     "data": {
      "text/plain": [
       "(10000, 3)"
      ]
     },
     "execution_count": 40,
     "metadata": {},
     "output_type": "execute_result"
    }
   ],
   "source": [
    "embeddings_isomap.shape"
   ]
  },
  {
   "cell_type": "code",
   "execution_count": null,
   "id": "200b5ce9-ec29-4fca-b40b-56fe59840a9c",
   "metadata": {},
   "outputs": [],
   "source": [
    "# Visualize latent space for latent vector-\n",
    "fig = px.scatter_3d(\n",
    "    x = embeddings_isomap[:, 0], y = embeddings_isomap[:, 1],\n",
    "    z = embeddings_isomap[:, 2],\n",
    "    # color = y\n",
    "    )\n",
    "fig.show()"
   ]
  },
  {
   "cell_type": "code",
   "execution_count": null,
   "id": "939a4bc0-09a1-4e00-9a2f-cf9880d25715",
   "metadata": {},
   "outputs": [],
   "source": []
  },
  {
   "cell_type": "code",
   "execution_count": null,
   "id": "e17c05a8-1cb7-4bfa-b49e-cb7fd64b8e04",
   "metadata": {},
   "outputs": [],
   "source": []
  },
  {
   "cell_type": "code",
   "execution_count": 42,
   "id": "44d8c98f-3ce4-4272-8e74-babcfc613359",
   "metadata": {},
   "outputs": [],
   "source": [
    "# Use Spectral Embedding algo-\n",
    "spectral_model = SpectralEmbedding(n_components = 3, affinity = 'nearest_neighbors')\n",
    "embeddings_spectral = spectral_model.fit_transform(embedding_weights)"
   ]
  },
  {
   "cell_type": "code",
   "execution_count": null,
   "id": "7497770c-41c9-4b6f-878d-e974d7a503bd",
   "metadata": {},
   "outputs": [],
   "source": [
    "# Visualize latent space for latent vector-\n",
    "fig = px.scatter_3d(\n",
    "    x = embeddings_spectral[:, 0], y = embeddings_spectral[:, 1],\n",
    "    z = embeddings_spectral[:, 2],\n",
    "    # color = y\n",
    "    )\n",
    "fig.show()"
   ]
  },
  {
   "cell_type": "code",
   "execution_count": null,
   "id": "28b1286f-9577-4ecd-8a79-84b88c7801a2",
   "metadata": {},
   "outputs": [],
   "source": []
  },
  {
   "cell_type": "code",
   "execution_count": null,
   "id": "e262476a-271b-4f4a-b06b-76b49bccca6e",
   "metadata": {},
   "outputs": [],
   "source": []
  },
  {
   "cell_type": "code",
   "execution_count": 44,
   "id": "aa89fd1c-aff0-49e9-983a-c60e10b69a7d",
   "metadata": {},
   "outputs": [],
   "source": [
    "# Use t-SNE algo-\n",
    "embeddings_tsne = TSNE(\n",
    "    n_components = 3, learning_rate = 'auto',\n",
    "    init = 'random', perplexity = 10\n",
    ").fit_transform(embedding_weights)"
   ]
  },
  {
   "cell_type": "code",
   "execution_count": null,
   "id": "c9448829-a6df-4003-870b-ea011c8f762b",
   "metadata": {},
   "outputs": [],
   "source": [
    "# Visualize latent space for latent vector-\n",
    "fig = px.scatter_3d(\n",
    "    x = embeddings_tsne[:, 0], y = embeddings_tsne[:, 1],\n",
    "    z = embeddings_tsne[:, 2],\n",
    "    # color = y\n",
    "    )\n",
    "fig.show()"
   ]
  },
  {
   "cell_type": "code",
   "execution_count": null,
   "id": "688c03d2-838f-40f4-96fc-af210b2d846f",
   "metadata": {},
   "outputs": [],
   "source": []
  },
  {
   "cell_type": "code",
   "execution_count": null,
   "id": "6ead6b8f-17f1-4f24-b908-064a3fcd070b",
   "metadata": {},
   "outputs": [],
   "source": []
  },
  {
   "cell_type": "markdown",
   "id": "6a5d8311-fe67-48cf-b8e3-a17ee04e7b1e",
   "metadata": {},
   "source": [
    "### Next Steps\n",
    "\n",
    "This tutorial has shown you how to train and visualize word embeddings from scratch on a small dataset.\n",
    "\n",
    "- To train word embeddings using Word2Vec algorithm, try the [Word2Vec](https://www.tensorflow.org/tutorials/text/word2vec) tutorial.\n",
    "\n",
    "- To learn more about advanced text processing, read the [Transformer model for language understanding](https://www.tensorflow.org/text/tutorials/transformer)."
   ]
  },
  {
   "cell_type": "code",
   "execution_count": null,
   "id": "a0e024ce-2b7f-4168-a10a-fb448be3d0e3",
   "metadata": {},
   "outputs": [],
   "source": []
  },
  {
   "cell_type": "code",
   "execution_count": null,
   "id": "645315d2-84d8-4459-b45c-c11db1670e58",
   "metadata": {},
   "outputs": [],
   "source": []
  }
 ],
 "metadata": {
  "kernelspec": {
   "display_name": "Python 3 (ipykernel)",
   "language": "python",
   "name": "python3"
  },
  "language_info": {
   "codemirror_mode": {
    "name": "ipython",
    "version": 3
   },
   "file_extension": ".py",
   "mimetype": "text/x-python",
   "name": "python",
   "nbconvert_exporter": "python",
   "pygments_lexer": "ipython3",
   "version": "3.9.13"
  }
 },
 "nbformat": 4,
 "nbformat_minor": 5
}
