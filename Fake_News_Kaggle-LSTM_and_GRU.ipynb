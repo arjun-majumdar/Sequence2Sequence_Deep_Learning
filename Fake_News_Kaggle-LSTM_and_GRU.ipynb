{
 "cells": [
  {
   "cell_type": "markdown",
   "metadata": {},
   "source": [
    "# Kaggle Fake News classification - _LSTMs_ & _GRUs_ Seq2Seq Deep Learning architectures\n",
    "\n",
    "Data description-\n",
    "\n",
    "- _id_: unique id for a news article\n",
    "- _title_: the title of a news article\n",
    "- _author_: author of the news article\n",
    "- _text_: the text of the article; could be incomplete\n",
    "- label: __a label that marks the article as potentially unreliable__\n",
    "     - unreliable\n",
    "     - 0: reliable\n",
    "\n",
    "\n",
    "For this example, only ```title``` attribute is used. If ```text``` feature is to be taken, it will take longer to train and might result in an increased performance."
   ]
  },
  {
   "cell_type": "code",
   "execution_count": 1,
   "metadata": {},
   "outputs": [
    {
     "name": "stdout",
     "output_type": "stream",
     "text": [
      "env: CUDA_DEVICE_ORDER=PCI_BUS_ID\n",
      "env: CUDA_VISIBLE_DEVICES=0\n"
     ]
    }
   ],
   "source": [
    "# Specify GPU to be used-\n",
    "%env CUDA_DEVICE_ORDER=PCI_BUS_ID\n",
    "%env CUDA_VISIBLE_DEVICES = 0"
   ]
  },
  {
   "cell_type": "code",
   "execution_count": 142,
   "metadata": {},
   "outputs": [],
   "source": [
    "import pandas as pd\n",
    "import numpy as np\n",
    "import re\n",
    "import nltk\n",
    "from nltk import sent_tokenize, word_tokenize\n",
    "from nltk.probability import FreqDist\n",
    "from nltk.corpus import stopwords\n",
    "from nltk.stem import PorterStemmer, SnowballStemmer, WordNetLemmatizer\n",
    "from nltk.tokenize import RegexpTokenizer\n",
    "\n",
    "import matplotlib.pyplot as plt\n",
    "import seaborn as sns\n",
    "\n",
    "from sklearn.model_selection import train_test_split\n",
    "from sklearn.metrics import accuracy_score, precision_score, recall_score, confusion_matrix\n",
    "\n",
    "import tensorflow\n",
    "from tensorflow.keras.layers import Embedding, LSTM, Dense, Dropout, Bidirectional, GRU\n",
    "from tensorflow.keras.preprocessing.sequence import pad_sequences\n",
    "from tensorflow.keras.preprocessing.text import one_hot\n",
    "from tensorflow.keras.models import Sequential\n",
    "from tensorflow import keras\n",
    "import tensorflow as tf"
   ]
  },
  {
   "cell_type": "code",
   "execution_count": null,
   "metadata": {},
   "outputs": [],
   "source": []
  },
  {
   "cell_type": "code",
   "execution_count": null,
   "metadata": {},
   "outputs": [],
   "source": []
  },
  {
   "cell_type": "code",
   "execution_count": 3,
   "metadata": {},
   "outputs": [
    {
     "name": "stdout",
     "output_type": "stream",
     "text": [
      "TensorFlow version: 2.8.0\n"
     ]
    }
   ],
   "source": [
    "print(f\"TensorFlow version: {tf.__version__}\")"
   ]
  },
  {
   "cell_type": "code",
   "execution_count": 4,
   "metadata": {},
   "outputs": [
    {
     "name": "stdout",
     "output_type": "stream",
     "text": [
      "GPU: [PhysicalDevice(name='/physical_device:GPU:0', device_type='GPU')]\n",
      "GPU details: NVIDIA GeForce RTX 3080\n"
     ]
    },
    {
     "name": "stderr",
     "output_type": "stream",
     "text": [
      "2022-05-15 11:35:45.300079: I tensorflow/stream_executor/cuda/cuda_gpu_executor.cc:936] successful NUMA node read from SysFS had negative value (-1), but there must be at least one NUMA node, so returning NUMA node zero\n",
      "2022-05-15 11:35:45.336157: I tensorflow/stream_executor/cuda/cuda_gpu_executor.cc:936] successful NUMA node read from SysFS had negative value (-1), but there must be at least one NUMA node, so returning NUMA node zero\n",
      "2022-05-15 11:35:45.336399: I tensorflow/stream_executor/cuda/cuda_gpu_executor.cc:936] successful NUMA node read from SysFS had negative value (-1), but there must be at least one NUMA node, so returning NUMA node zero\n",
      "2022-05-15 11:35:45.337443: I tensorflow/stream_executor/cuda/cuda_gpu_executor.cc:936] successful NUMA node read from SysFS had negative value (-1), but there must be at least one NUMA node, so returning NUMA node zero\n"
     ]
    }
   ],
   "source": [
    "# Check GPU availibility-\n",
    "gpu_devices = tf.config.list_physical_devices('GPU')\n",
    "# print(f\"GPU: {gpu_devices}\")\n",
    "\n",
    "if gpu_devices:\n",
    "    print(f\"GPU: {gpu_devices}\")\n",
    "    details = tf.config.experimental.get_device_details(gpu_devices[0])\n",
    "    print(f\"GPU details: {details.get('device_name', 'Unknown GPU')}\")\n",
    "else:\n",
    "    print(\"No GPU found\")"
   ]
  },
  {
   "cell_type": "code",
   "execution_count": null,
   "metadata": {},
   "outputs": [],
   "source": []
  },
  {
   "cell_type": "code",
   "execution_count": null,
   "metadata": {},
   "outputs": [],
   "source": []
  },
  {
   "cell_type": "code",
   "execution_count": 5,
   "metadata": {},
   "outputs": [],
   "source": [
    "# Read in CSV file as pd DataFrame-\n",
    "data = pd.read_csv(\"train.csv\")"
   ]
  },
  {
   "cell_type": "code",
   "execution_count": 6,
   "metadata": {},
   "outputs": [
    {
     "data": {
      "text/plain": [
       "(20800, 5)"
      ]
     },
     "execution_count": 6,
     "metadata": {},
     "output_type": "execute_result"
    }
   ],
   "source": [
    "# Get shape/dimension-\n",
    "data.shape"
   ]
  },
  {
   "cell_type": "code",
   "execution_count": 7,
   "metadata": {},
   "outputs": [
    {
     "data": {
      "text/plain": [
       "['id', 'title', 'author', 'text', 'label']"
      ]
     },
     "execution_count": 7,
     "metadata": {},
     "output_type": "execute_result"
    }
   ],
   "source": [
    "# Get columns/attribute names-\n",
    "data.columns.tolist()"
   ]
  },
  {
   "cell_type": "code",
   "execution_count": 8,
   "metadata": {},
   "outputs": [
    {
     "data": {
      "text/plain": [
       "id         int64\n",
       "title     object\n",
       "author    object\n",
       "text      object\n",
       "label      int64\n",
       "dtype: object"
      ]
     },
     "execution_count": 8,
     "metadata": {},
     "output_type": "execute_result"
    }
   ],
   "source": [
    "# Check data types for all attributes-\n",
    "data.dtypes"
   ]
  },
  {
   "cell_type": "code",
   "execution_count": 9,
   "metadata": {},
   "outputs": [
    {
     "data": {
      "text/plain": [
       "1    10413\n",
       "0    10387\n",
       "Name: label, dtype: int64"
      ]
     },
     "execution_count": 9,
     "metadata": {},
     "output_type": "execute_result"
    }
   ],
   "source": [
    "# Get target attribute distribution-\n",
    "data['label'].value_counts()\n",
    "\n",
    "# Remeber that-\n",
    "# 1: unreliable\n",
    "# 0: reliable"
   ]
  },
  {
   "cell_type": "code",
   "execution_count": 10,
   "metadata": {},
   "outputs": [
    {
     "data": {
      "image/png": "[encoded data removed]",
      "text/plain": [
       "<Figure size 504x360 with 1 Axes>"
      ]
     },
     "metadata": {
      "needs_background": "light"
     },
     "output_type": "display_data"
    }
   ],
   "source": [
    "# Visualize data distribution-\n",
    "plt.figure(figsize = (7, 5))\n",
    "data['label'].value_counts().plot(kind = 'bar')\n",
    "plt.xlabel(\"classes\")\n",
    "plt.ylabel(\"count\")\n",
    "plt.xticks(rotation = 0)\n",
    "plt.title(\"Target Distribution Visualization\")\n",
    "plt.show()"
   ]
  },
  {
   "cell_type": "code",
   "execution_count": null,
   "metadata": {},
   "outputs": [],
   "source": []
  },
  {
   "cell_type": "code",
   "execution_count": 11,
   "metadata": {},
   "outputs": [
    {
     "name": "stdout",
     "output_type": "stream",
     "text": [
      "Total number of missing values = 2554\n"
     ]
    }
   ],
   "source": [
    "# Check for total number of missing values-\n",
    "if data.isna().values.any():\n",
    "    print(f\"Total number of missing values = {data.isnull().sum().sum()}\")"
   ]
  },
  {
   "cell_type": "code",
   "execution_count": 12,
   "metadata": {},
   "outputs": [
    {
     "name": "stdout",
     "output_type": "stream",
     "text": [
      "title has 558 NAs\n",
      "author has 1957 NAs\n",
      "text has 39 NAs\n"
     ]
    }
   ],
   "source": [
    "# Check for missing values in all of the attributes-\n",
    "for attr in data.columns.tolist():\n",
    "    if data[attr].isna().values.any():\n",
    "        print(f\"{attr} has {data[attr].isna().sum()} NAs\")"
   ]
  },
  {
   "cell_type": "code",
   "execution_count": 13,
   "metadata": {},
   "outputs": [
    {
     "data": {
      "text/plain": [
       "(20800, 5)"
      ]
     },
     "execution_count": 13,
     "metadata": {},
     "output_type": "execute_result"
    }
   ],
   "source": [
    "# Dataset shape before deleting NAs-\n",
    "data.shape"
   ]
  },
  {
   "cell_type": "code",
   "execution_count": 14,
   "metadata": {},
   "outputs": [],
   "source": [
    "# Delete all rows having any missing value in them-\n",
    "data = data.dropna(axis = 0, how = 'any')"
   ]
  },
  {
   "cell_type": "code",
   "execution_count": 15,
   "metadata": {},
   "outputs": [
    {
     "data": {
      "text/plain": [
       "(18285, 5)"
      ]
     },
     "execution_count": 15,
     "metadata": {},
     "output_type": "execute_result"
    }
   ],
   "source": [
    "# Check dimension of data after dropping missing values-\n",
    "data.shape"
   ]
  },
  {
   "cell_type": "code",
   "execution_count": 16,
   "metadata": {},
   "outputs": [
    {
     "data": {
      "text/plain": [
       "False"
      ]
     },
     "execution_count": 16,
     "metadata": {},
     "output_type": "execute_result"
    }
   ],
   "source": [
    "# Sanity check-\n",
    "data.isna().values.any()"
   ]
  },
  {
   "cell_type": "code",
   "execution_count": null,
   "metadata": {},
   "outputs": [],
   "source": []
  },
  {
   "cell_type": "code",
   "execution_count": 17,
   "metadata": {},
   "outputs": [],
   "source": [
    "# Extract features (X) and label (y)-\n",
    "X = data.drop(['id', 'label'], axis = 1)\n",
    "y = data['label']"
   ]
  },
  {
   "cell_type": "code",
   "execution_count": 18,
   "metadata": {},
   "outputs": [
    {
     "data": {
      "text/plain": [
       "((18285, 3), (18285,))"
      ]
     },
     "execution_count": 18,
     "metadata": {},
     "output_type": "execute_result"
    }
   ],
   "source": [
    "X.shape, y.shape"
   ]
  },
  {
   "cell_type": "code",
   "execution_count": 19,
   "metadata": {},
   "outputs": [
    {
     "data": {
      "text/html": [
       "<div>\n",
       "<style scoped>\n",
       "    .dataframe tbody tr th:only-of-type {\n",
       "        vertical-align: middle;\n",
       "    }\n",
       "\n",
       "    .dataframe tbody tr th {\n",
       "        vertical-align: top;\n",
       "    }\n",
       "\n",
       "    .dataframe thead th {\n",
       "        text-align: right;\n",
       "    }\n",
       "</style>\n",
       "<table border=\"1\" class=\"dataframe\">\n",
       "  <thead>\n",
       "    <tr style=\"text-align: right;\">\n",
       "      <th></th>\n",
       "      <th>title</th>\n",
       "      <th>author</th>\n",
       "      <th>text</th>\n",
       "    </tr>\n",
       "  </thead>\n",
       "  <tbody>\n",
       "    <tr>\n",
       "      <th>0</th>\n",
       "      <td>House Dem Aide: We Didn’t Even See Comey’s Let...</td>\n",
       "      <td>Darrell Lucus</td>\n",
       "      <td>House Dem Aide: We Didn’t Even See Comey’s Let...</td>\n",
       "    </tr>\n",
       "    <tr>\n",
       "      <th>1</th>\n",
       "      <td>FLYNN: Hillary Clinton, Big Woman on Campus - ...</td>\n",
       "      <td>Daniel J. Flynn</td>\n",
       "      <td>Ever get the feeling your life circles the rou...</td>\n",
       "    </tr>\n",
       "    <tr>\n",
       "      <th>2</th>\n",
       "      <td>Why the Truth Might Get You Fired</td>\n",
       "      <td>Consortiumnews.com</td>\n",
       "      <td>Why the Truth Might Get You Fired October 29, ...</td>\n",
       "    </tr>\n",
       "    <tr>\n",
       "      <th>3</th>\n",
       "      <td>15 Civilians Killed In Single US Airstrike Hav...</td>\n",
       "      <td>Jessica Purkiss</td>\n",
       "      <td>Videos 15 Civilians Killed In Single US Airstr...</td>\n",
       "    </tr>\n",
       "    <tr>\n",
       "      <th>4</th>\n",
       "      <td>Iranian woman jailed for fictional unpublished...</td>\n",
       "      <td>Howard Portnoy</td>\n",
       "      <td>Print \\nAn Iranian woman has been sentenced to...</td>\n",
       "    </tr>\n",
       "  </tbody>\n",
       "</table>\n",
       "</div>"
      ],
      "text/plain": [
       "                                               title              author  \\\n",
       "0  House Dem Aide: We Didn’t Even See Comey’s Let...       Darrell Lucus   \n",
       "1  FLYNN: Hillary Clinton, Big Woman on Campus - ...     Daniel J. Flynn   \n",
       "2                  Why the Truth Might Get You Fired  Consortiumnews.com   \n",
       "3  15 Civilians Killed In Single US Airstrike Hav...     Jessica Purkiss   \n",
       "4  Iranian woman jailed for fictional unpublished...      Howard Portnoy   \n",
       "\n",
       "                                                text  \n",
       "0  House Dem Aide: We Didn’t Even See Comey’s Let...  \n",
       "1  Ever get the feeling your life circles the rou...  \n",
       "2  Why the Truth Might Get You Fired October 29, ...  \n",
       "3  Videos 15 Civilians Killed In Single US Airstr...  \n",
       "4  Print \\nAn Iranian woman has been sentenced to...  "
      ]
     },
     "execution_count": 19,
     "metadata": {},
     "output_type": "execute_result"
    }
   ],
   "source": [
    "# Sanity check-\n",
    "X.head()"
   ]
  },
  {
   "cell_type": "code",
   "execution_count": 20,
   "metadata": {},
   "outputs": [
    {
     "data": {
      "text/plain": [
       "0    1\n",
       "1    0\n",
       "2    1\n",
       "3    1\n",
       "4    1\n",
       "Name: label, dtype: int64"
      ]
     },
     "execution_count": 20,
     "metadata": {},
     "output_type": "execute_result"
    }
   ],
   "source": [
    "y[:5]"
   ]
  },
  {
   "cell_type": "code",
   "execution_count": null,
   "metadata": {},
   "outputs": [],
   "source": []
  },
  {
   "cell_type": "code",
   "execution_count": null,
   "metadata": {},
   "outputs": [],
   "source": []
  },
  {
   "cell_type": "code",
   "execution_count": 22,
   "metadata": {},
   "outputs": [
    {
     "name": "stderr",
     "output_type": "stream",
     "text": [
      "[nltk_data] Downloading package punkt to /home/arjun/nltk_data...\n",
      "[nltk_data]   Unzipping tokenizers/punkt.zip.\n",
      "[nltk_data] Downloading package stopwords to /home/arjun/nltk_data...\n",
      "[nltk_data]   Unzipping corpora/stopwords.zip.\n"
     ]
    },
    {
     "data": {
      "text/plain": [
       "True"
      ]
     },
     "execution_count": 22,
     "metadata": {},
     "output_type": "execute_result"
    }
   ],
   "source": [
    "# nltk.download('punkt')\n",
    "# nltk.download('stopwords')\n",
    "# nltk.download('wordnet')"
   ]
  },
  {
   "cell_type": "code",
   "execution_count": null,
   "metadata": {},
   "outputs": [],
   "source": []
  },
  {
   "cell_type": "code",
   "execution_count": null,
   "metadata": {},
   "outputs": [],
   "source": []
  },
  {
   "cell_type": "markdown",
   "metadata": {},
   "source": [
    "Whenever we are providing input to 'Embedding' layer, we have to make sure that we keep our input size/length fixed. And for that, we need to pad either in front or back and we need 'pad_sequence' for that, so that the sentences become equal in length.\n",
    "\n",
    "'one_hot' is used to convert the sentences into one-hot representation, given a vocabulary size.\n",
    "\n",
    "Since this is a classification problem, the final layer should have one output layer which can output the probability needed for binary classification."
   ]
  },
  {
   "cell_type": "code",
   "execution_count": 21,
   "metadata": {},
   "outputs": [],
   "source": [
    "# Define the vocabulary/dictionary size.\n",
    "# Our sentences comprises of all these words and nothing else.\n",
    "vocab_size = 10000\n",
    "# NOTE: changing this to 5000 may lead to a slight difference in the accuracy"
   ]
  },
  {
   "cell_type": "code",
   "execution_count": 22,
   "metadata": {},
   "outputs": [],
   "source": [
    "messages = X.copy()"
   ]
  },
  {
   "cell_type": "code",
   "execution_count": 23,
   "metadata": {},
   "outputs": [
    {
     "data": {
      "text/plain": [
       "(18285, 3)"
      ]
     },
     "execution_count": 23,
     "metadata": {},
     "output_type": "execute_result"
    }
   ],
   "source": [
    "messages.shape"
   ]
  },
  {
   "cell_type": "code",
   "execution_count": 24,
   "metadata": {},
   "outputs": [],
   "source": [
    "# Reset indices since we dropped the missing values-\n",
    "messages.reset_index(inplace = True)"
   ]
  },
  {
   "cell_type": "code",
   "execution_count": null,
   "metadata": {},
   "outputs": [],
   "source": []
  },
  {
   "cell_type": "code",
   "execution_count": null,
   "metadata": {},
   "outputs": [],
   "source": []
  },
  {
   "cell_type": "markdown",
   "metadata": {},
   "source": [
    "## Use ```title``` attribute to perform _sentiment classification_."
   ]
  },
  {
   "cell_type": "markdown",
   "metadata": {},
   "source": [
    "### Text Pre-processing:\n",
    "\n",
    "1. Remove non-alpha numeric characters from raw text.\n",
    "1. Convert all text to lower-case.\n",
    "1. Tokenize words using ```split()``` (other tokenizers can also be experimented with).\n",
    "1. Use stemmer/lemmatizer\n",
    "1. Join _cleaned_ corpus back as a string."
   ]
  },
  {
   "cell_type": "code",
   "execution_count": 26,
   "metadata": {},
   "outputs": [],
   "source": [
    "# Create an instance of RegexpTokenizer for alphanumeric tokens\n",
    "tokeniser = RegexpTokenizer(r'\\w+')"
   ]
  },
  {
   "cell_type": "code",
   "execution_count": 27,
   "metadata": {},
   "outputs": [],
   "source": [
    "title_str = messages['title'].astype(str)"
   ]
  },
  {
   "cell_type": "code",
   "execution_count": 28,
   "metadata": {},
   "outputs": [],
   "source": [
    "# Tokenize 'title' attribute-\n",
    "title_tokens = messages['title'].astype(str).apply(tokeniser.tokenize)"
   ]
  },
  {
   "cell_type": "code",
   "execution_count": null,
   "metadata": {},
   "outputs": [],
   "source": []
  },
  {
   "cell_type": "code",
   "execution_count": 29,
   "metadata": {},
   "outputs": [],
   "source": [
    "def remove_stopwords(text):\n",
    "    '''\n",
    "    Remove stop-words from input: pd.Series 'text'\n",
    "    as input.\n",
    "    '''\n",
    "    return [word for word in text if not word in stopwords.words('english')]\n"
   ]
  },
  {
   "cell_type": "code",
   "execution_count": 30,
   "metadata": {},
   "outputs": [],
   "source": [
    "# Remove stop-words-\n",
    "title_cleaned = title_tokens.apply(remove_stopwords)"
   ]
  },
  {
   "cell_type": "code",
   "execution_count": 31,
   "metadata": {},
   "outputs": [
    {
     "data": {
      "text/plain": [
       "0    [House, Dem, Aide, We, Didn, Even, See, Comey,...\n",
       "1    [FLYNN, Hillary, Clinton, Big, Woman, Campus, ...\n",
       "2                 [Why, Truth, Might, Get, You, Fired]\n",
       "3    [15, Civilians, Killed, In, Single, US, Airstr...\n",
       "4    [Iranian, woman, jailed, fictional, unpublishe...\n",
       "Name: title, dtype: object"
      ]
     },
     "execution_count": 31,
     "metadata": {},
     "output_type": "execute_result"
    }
   ],
   "source": [
    "# Sanity check-\n",
    "title_cleaned.head()"
   ]
  },
  {
   "cell_type": "code",
   "execution_count": null,
   "metadata": {},
   "outputs": [],
   "source": []
  },
  {
   "cell_type": "code",
   "execution_count": 32,
   "metadata": {},
   "outputs": [],
   "source": [
    "# Initialize a WordNetLemmatizer-\n",
    "lemmatiser = WordNetLemmatizer()"
   ]
  },
  {
   "cell_type": "code",
   "execution_count": null,
   "metadata": {},
   "outputs": [],
   "source": []
  },
  {
   "cell_type": "code",
   "execution_count": 33,
   "metadata": {},
   "outputs": [],
   "source": [
    "def lemmatize_text(text):\n",
    "    '''\n",
    "    Lemmatize input: pd.Series 'text' as\n",
    "    input.\n",
    "    '''\n",
    "    # return [lemmatizer.lemmatize(w) for w in w_tokenizer.tokenize(text)]\n",
    "    return [lemmatiser.lemmatize(w.lower(), pos = 'v') for w in text]\n"
   ]
  },
  {
   "cell_type": "code",
   "execution_count": null,
   "metadata": {},
   "outputs": [],
   "source": []
  },
  {
   "cell_type": "code",
   "execution_count": 39,
   "metadata": {},
   "outputs": [
    {
     "name": "stderr",
     "output_type": "stream",
     "text": [
      "[nltk_data] Downloading package omw-1.4 to /home/arjun/nltk_data...\n",
      "[nltk_data]   Unzipping corpora/omw-1.4.zip.\n"
     ]
    },
    {
     "data": {
      "text/plain": [
       "True"
      ]
     },
     "execution_count": 39,
     "metadata": {},
     "output_type": "execute_result"
    }
   ],
   "source": [
    "# nltk.download('omw-1.4')"
   ]
  },
  {
   "cell_type": "code",
   "execution_count": 34,
   "metadata": {},
   "outputs": [],
   "source": [
    "# Lemmatize tokenised 'title'-\n",
    "title_lemmatized = title_cleaned.apply(lemmatize_text)"
   ]
  },
  {
   "cell_type": "code",
   "execution_count": 35,
   "metadata": {},
   "outputs": [
    {
     "data": {
      "text/plain": [
       "0    [house, dem, aide, we, didn, even, see, comey,...\n",
       "1    [flynn, hillary, clinton, big, woman, campus, ...\n",
       "2                  [why, truth, might, get, you, fire]\n",
       "3    [15, civilians, kill, in, single, us, airstrik...\n",
       "4    [iranian, woman, jail, fictional, unpublished,...\n",
       "Name: title, dtype: object"
      ]
     },
     "execution_count": 35,
     "metadata": {},
     "output_type": "execute_result"
    }
   ],
   "source": [
    "# Sanity check-\n",
    "title_lemmatized.head()"
   ]
  },
  {
   "cell_type": "code",
   "execution_count": 36,
   "metadata": {},
   "outputs": [],
   "source": [
    "del title_cleaned, title_tokens"
   ]
  },
  {
   "cell_type": "code",
   "execution_count": null,
   "metadata": {},
   "outputs": [],
   "source": []
  },
  {
   "cell_type": "code",
   "execution_count": 37,
   "metadata": {},
   "outputs": [],
   "source": [
    "# Convert to list-\n",
    "title_lemmatized_l = title_lemmatized.to_list()"
   ]
  },
  {
   "cell_type": "code",
   "execution_count": 38,
   "metadata": {},
   "outputs": [
    {
     "data": {
      "text/plain": [
       "18285"
      ]
     },
     "execution_count": 38,
     "metadata": {},
     "output_type": "execute_result"
    }
   ],
   "source": [
    "len(title_lemmatized_l)"
   ]
  },
  {
   "cell_type": "code",
   "execution_count": 39,
   "metadata": {},
   "outputs": [
    {
     "data": {
      "text/plain": [
       "['jackie',\n",
       " 'mason',\n",
       " 'hollywood',\n",
       " 'would',\n",
       " 'love',\n",
       " 'trump',\n",
       " 'he',\n",
       " 'bomb',\n",
       " 'north',\n",
       " 'korea',\n",
       " 'lack',\n",
       " 'trans',\n",
       " 'bathrooms',\n",
       " 'exclusive',\n",
       " 'video',\n",
       " 'breitbart']"
      ]
     },
     "execution_count": 39,
     "metadata": {},
     "output_type": "execute_result"
    }
   ],
   "source": [
    "# Sanity check-\n",
    "title_lemmatized_l[5]"
   ]
  },
  {
   "cell_type": "code",
   "execution_count": null,
   "metadata": {},
   "outputs": [],
   "source": []
  },
  {
   "cell_type": "code",
   "execution_count": 40,
   "metadata": {},
   "outputs": [],
   "source": [
    "# Python3 list to contain pre-processed &\n",
    "# cleaned text for 'title' attribute-\n",
    "title_final = []"
   ]
  },
  {
   "cell_type": "code",
   "execution_count": 41,
   "metadata": {},
   "outputs": [],
   "source": [
    "for t in title_lemmatized_l:\n",
    "    title_final.append(' '.join(t))"
   ]
  },
  {
   "cell_type": "code",
   "execution_count": 42,
   "metadata": {},
   "outputs": [
    {
     "data": {
      "text/plain": [
       "18285"
      ]
     },
     "execution_count": 42,
     "metadata": {},
     "output_type": "execute_result"
    }
   ],
   "source": [
    "# Sanity check-\n",
    "len(title_final)"
   ]
  },
  {
   "cell_type": "code",
   "execution_count": 43,
   "metadata": {},
   "outputs": [
    {
     "data": {
      "text/plain": [
       "['house dem aide we didn even see comey letter until jason chaffetz tweet it',\n",
       " 'flynn hillary clinton big woman campus breitbart']"
      ]
     },
     "execution_count": 43,
     "metadata": {},
     "output_type": "execute_result"
    }
   ],
   "source": [
    "# Sanity check-\n",
    "title_final[:2]"
   ]
  },
  {
   "cell_type": "code",
   "execution_count": 44,
   "metadata": {},
   "outputs": [
    {
     "name": "stdout",
     "output_type": "stream",
     "text": [
      "Length of cleaned corpus = 18285\n"
     ]
    }
   ],
   "source": [
    "print(f\"Length of cleaned corpus = {len(title_final)}\")"
   ]
  },
  {
   "cell_type": "code",
   "execution_count": 45,
   "metadata": {},
   "outputs": [],
   "source": [
    "del title_lemmatized, title_lemmatized_l"
   ]
  },
  {
   "cell_type": "code",
   "execution_count": null,
   "metadata": {},
   "outputs": [],
   "source": []
  },
  {
   "cell_type": "code",
   "execution_count": 43,
   "metadata": {},
   "outputs": [],
   "source": [
    "\"\"\"\n",
    "# Initialize a Porter Stemmer object-\n",
    "ps = PorterStemmer()\n",
    "\n",
    "# Python3 list to contain processed text-\n",
    "corpus = []\n",
    "\n",
    "for i in range(len(messages)):\n",
    "    # print(i)\n",
    "\n",
    "    # regular expression substitution for anything which is not alphabetical\n",
    "    # with a blank space-\n",
    "    review = re.sub('[^a-zA-Z]', ' ', messages['title'][i])\n",
    "\n",
    "    # convert the remaining text to lower case-\n",
    "    review = review.lower()\n",
    "\n",
    "    # Split the remaining text according to blank space into a list-\n",
    "    review = review.split()\n",
    "\n",
    "    # If a word is not a stop word, do the stemming and store the list of\n",
    "    # words in 'review'-\n",
    "    review = [ps.stem(word) for word in review if not word in stopwords.words('english')]\n",
    "    review = ' '.join(review)\n",
    "\n",
    "    corpus.append(review)\n",
    "\n",
    "\n",
    "print(f\"Length of cleaned corpus = {len(corpus)}\")\n",
    "# Length of cleaned corpus = 18285\n",
    "\n",
    "\"\"\""
   ]
  },
  {
   "cell_type": "code",
   "execution_count": null,
   "metadata": {},
   "outputs": [],
   "source": []
  },
  {
   "cell_type": "code",
   "execution_count": null,
   "metadata": {},
   "outputs": [],
   "source": []
  },
  {
   "cell_type": "markdown",
   "metadata": {},
   "source": [
    "### One-hot representation for 'title' attribute-\n",
    "\n",
    "We need to convert the processed text or 'corpus' into a one-hot representation. In one-hot representation, I require the index of the word based on the vocabulary size."
   ]
  },
  {
   "cell_type": "code",
   "execution_count": 46,
   "metadata": {},
   "outputs": [],
   "source": [
    "# Get one-hot vectors-\n",
    "onehot_messages_representation = [one_hot(words, vocab_size) for words in title_final]"
   ]
  },
  {
   "cell_type": "code",
   "execution_count": 47,
   "metadata": {},
   "outputs": [
    {
     "data": {
      "text/plain": [
       "(list, 18285)"
      ]
     },
     "execution_count": 47,
     "metadata": {},
     "output_type": "execute_result"
    }
   ],
   "source": [
    "type(onehot_messages_representation), len(onehot_messages_representation)"
   ]
  },
  {
   "cell_type": "code",
   "execution_count": 48,
   "metadata": {},
   "outputs": [
    {
     "data": {
      "text/plain": [
       "[[2483,\n",
       "  8170,\n",
       "  4010,\n",
       "  754,\n",
       "  9948,\n",
       "  9787,\n",
       "  2130,\n",
       "  8819,\n",
       "  7858,\n",
       "  1950,\n",
       "  1981,\n",
       "  3173,\n",
       "  3333,\n",
       "  6693],\n",
       " [7164, 3001, 3533, 3114, 6655, 8339, 1113],\n",
       " [3185, 2313, 4220, 8012, 9956, 5023]]"
      ]
     },
     "execution_count": 48,
     "metadata": {},
     "output_type": "execute_result"
    }
   ],
   "source": [
    "# Sanity check-\n",
    "onehot_messages_representation[0:3]\n",
    "\n",
    "# NOTE: all of the one hot representation sentence lengths are different.\n",
    "# Before passing them to the 'Embedding' layer, I have to make them to be of\n",
    "# fixed lenght/size."
   ]
  },
  {
   "cell_type": "code",
   "execution_count": 49,
   "metadata": {},
   "outputs": [
    {
     "data": {
      "text/plain": [
       "'house dem aide we didn even see comey letter until jason chaffetz tweet it'"
      ]
     },
     "execution_count": 49,
     "metadata": {},
     "output_type": "execute_result"
    }
   ],
   "source": [
    "# Further sanity check-\n",
    "title_final[0]"
   ]
  },
  {
   "cell_type": "code",
   "execution_count": 50,
   "metadata": {},
   "outputs": [
    {
     "data": {
      "text/plain": [
       "[2483,\n",
       " 8170,\n",
       " 4010,\n",
       " 754,\n",
       " 9948,\n",
       " 9787,\n",
       " 2130,\n",
       " 8819,\n",
       " 7858,\n",
       " 1950,\n",
       " 1981,\n",
       " 3173,\n",
       " 3333,\n",
       " 6693]"
      ]
     },
     "execution_count": 50,
     "metadata": {},
     "output_type": "execute_result"
    }
   ],
   "source": [
    "# Corresponding one-hot vector-\n",
    "onehot_messages_representation[0]"
   ]
  },
  {
   "cell_type": "code",
   "execution_count": null,
   "metadata": {},
   "outputs": [],
   "source": []
  },
  {
   "cell_type": "code",
   "execution_count": 51,
   "metadata": {},
   "outputs": [],
   "source": [
    "# Find maximum sentence length using train data-\n",
    "max_sent_len = 0\n",
    "pos = 0\n",
    "i = 0\n",
    "\n",
    "for s in title_final:\n",
    "    if len(s) > max_sent_len:\n",
    "        max_sent_len = len(s)\n",
    "        pos = i\n",
    "    i += 1"
   ]
  },
  {
   "cell_type": "code",
   "execution_count": 52,
   "metadata": {},
   "outputs": [
    {
     "name": "stdout",
     "output_type": "stream",
     "text": [
      "Maximum sentence length = 350 which occurs in 14259 index\n"
     ]
    }
   ],
   "source": [
    "print(f\"Maximum sentence length = {max_sent_len} which occurs in {pos} index\")"
   ]
  },
  {
   "cell_type": "code",
   "execution_count": 53,
   "metadata": {},
   "outputs": [
    {
     "data": {
      "text/plain": [
       "'scott bennett whistleblower u s army terrorist threat finance analyst under dov zakheim a gross perversion justice ubs whistleblower brad birkenfeld work with cia edward snowden terrorist finance bank ubs hsbc be represent covington burl employer eric holder lanny breuer michael chertoff roger zakheim demand accountability from your representatives'"
      ]
     },
     "execution_count": 53,
     "metadata": {},
     "output_type": "execute_result"
    }
   ],
   "source": [
    "# Sanity check-\n",
    "title_final[pos]"
   ]
  },
  {
   "cell_type": "code",
   "execution_count": 59,
   "metadata": {},
   "outputs": [
    {
     "data": {
      "text/plain": [
       "350"
      ]
     },
     "execution_count": 59,
     "metadata": {},
     "output_type": "execute_result"
    }
   ],
   "source": [
    "len(title_final[pos])"
   ]
  },
  {
   "cell_type": "code",
   "execution_count": null,
   "metadata": {},
   "outputs": [],
   "source": []
  },
  {
   "cell_type": "code",
   "execution_count": null,
   "metadata": {},
   "outputs": [],
   "source": []
  },
  {
   "cell_type": "markdown",
   "metadata": {},
   "source": [
    "#### Pad documents/sequences\n",
    "\n",
    "The neural network expects all sentences to have the same size. To achieve this, pad the input sentences. For all of the given sentences, make it a 20-word sentence using ```pad_senquences()```."
   ]
  },
  {
   "cell_type": "code",
   "execution_count": 54,
   "metadata": {},
   "outputs": [],
   "source": [
    "# Use 'pad_sequences()' to make the text to be of same size-\n",
    "\n",
    "# Maximum sentence length AFTER padding-\n",
    "sentence_len = max_sent_len"
   ]
  },
  {
   "cell_type": "code",
   "execution_count": 55,
   "metadata": {},
   "outputs": [],
   "source": [
    "# Add zeroes before due to 'pre' padding-\n",
    "embedded_sent = pad_sequences(\n",
    "        onehot_messages_representation, padding = 'pre',\n",
    "        maxlen = sentence_len\n",
    "        )"
   ]
  },
  {
   "cell_type": "code",
   "execution_count": 56,
   "metadata": {},
   "outputs": [
    {
     "data": {
      "text/plain": [
       "(numpy.ndarray, (18285, 350))"
      ]
     },
     "execution_count": 56,
     "metadata": {},
     "output_type": "execute_result"
    }
   ],
   "source": [
    "type(embedded_sent), embedded_sent.shape"
   ]
  },
  {
   "cell_type": "code",
   "execution_count": 57,
   "metadata": {},
   "outputs": [
    {
     "data": {
      "text/plain": [
       "array([   0,    0,    0,    0,    0,    0,    0,    0,    0,    0,    0,\n",
       "          0,    0,    0,    0,    0,    0,    0,    0,    0,    0,    0,\n",
       "          0,    0,    0,    0,    0,    0,    0,    0,    0,    0,    0,\n",
       "          0,    0,    0,    0,    0,    0,    0,    0,    0,    0,    0,\n",
       "          0,    0,    0,    0,    0,    0,    0,    0,    0,    0,    0,\n",
       "          0,    0,    0,    0,    0,    0,    0,    0,    0,    0,    0,\n",
       "          0,    0,    0,    0,    0,    0,    0,    0,    0,    0,    0,\n",
       "          0,    0,    0,    0,    0,    0,    0,    0,    0,    0,    0,\n",
       "          0,    0,    0,    0,    0,    0,    0,    0,    0,    0,    0,\n",
       "          0,    0,    0,    0,    0,    0,    0,    0,    0,    0,    0,\n",
       "          0,    0,    0,    0,    0,    0,    0,    0,    0,    0,    0,\n",
       "          0,    0,    0,    0,    0,    0,    0,    0,    0,    0,    0,\n",
       "          0,    0,    0,    0,    0,    0,    0,    0,    0,    0,    0,\n",
       "          0,    0,    0,    0,    0,    0,    0,    0,    0,    0,    0,\n",
       "          0,    0,    0,    0,    0,    0,    0,    0,    0,    0,    0,\n",
       "          0,    0,    0,    0,    0,    0,    0,    0,    0,    0,    0,\n",
       "          0,    0,    0,    0,    0,    0,    0,    0,    0,    0,    0,\n",
       "          0,    0,    0,    0,    0,    0,    0,    0,    0,    0,    0,\n",
       "          0,    0,    0,    0,    0,    0,    0,    0,    0,    0,    0,\n",
       "          0,    0,    0,    0,    0,    0,    0,    0,    0,    0,    0,\n",
       "          0,    0,    0,    0,    0,    0,    0,    0,    0,    0,    0,\n",
       "          0,    0,    0,    0,    0,    0,    0,    0,    0,    0,    0,\n",
       "          0,    0,    0,    0,    0,    0,    0,    0,    0,    0,    0,\n",
       "          0,    0,    0,    0,    0,    0,    0,    0,    0,    0,    0,\n",
       "          0,    0,    0,    0,    0,    0,    0,    0,    0,    0,    0,\n",
       "          0,    0,    0,    0,    0,    0,    0,    0,    0,    0,    0,\n",
       "          0,    0,    0,    0,    0,    0,    0,    0,    0,    0,    0,\n",
       "          0,    0,    0,    0,    0,    0,    0,    0,    0,    0,    0,\n",
       "          0,    0,    0,    0,    0,    0,    0,    0,    0,    0,    0,\n",
       "          0,    0,    0,    0,    0,    0,    0,    0,    0,    0,    0,\n",
       "          0,    0,    0,    0,    0,    0, 2483, 8170, 4010,  754, 9948,\n",
       "       9787, 2130, 8819, 7858, 1950, 1981, 3173, 3333, 6693], dtype=int32)"
      ]
     },
     "execution_count": 57,
     "metadata": {},
     "output_type": "execute_result"
    }
   ],
   "source": [
    "# Sanity check-\n",
    "embedded_sent[0]"
   ]
  },
  {
   "cell_type": "code",
   "execution_count": 58,
   "metadata": {},
   "outputs": [
    {
     "data": {
      "text/plain": [
       "array([   0,    0,    0,    0,    0,    0,    0,    0,    0,    0,    0,\n",
       "          0,    0,    0,    0,    0,    0,    0,    0,    0,    0,    0,\n",
       "          0,    0,    0,    0,    0,    0,    0,    0,    0,    0,    0,\n",
       "          0,    0,    0,    0,    0,    0,    0,    0,    0,    0,    0,\n",
       "          0,    0,    0,    0,    0,    0,    0,    0,    0,    0,    0,\n",
       "          0,    0,    0,    0,    0,    0,    0,    0,    0,    0,    0,\n",
       "          0,    0,    0,    0,    0,    0,    0,    0,    0,    0,    0,\n",
       "          0,    0,    0,    0,    0,    0,    0,    0,    0,    0,    0,\n",
       "          0,    0,    0,    0,    0,    0,    0,    0,    0,    0,    0,\n",
       "          0,    0,    0,    0,    0,    0,    0,    0,    0,    0,    0,\n",
       "          0,    0,    0,    0,    0,    0,    0,    0,    0,    0,    0,\n",
       "          0,    0,    0,    0,    0,    0,    0,    0,    0,    0,    0,\n",
       "          0,    0,    0,    0,    0,    0,    0,    0,    0,    0,    0,\n",
       "          0,    0,    0,    0,    0,    0,    0,    0,    0,    0,    0,\n",
       "          0,    0,    0,    0,    0,    0,    0,    0,    0,    0,    0,\n",
       "          0,    0,    0,    0,    0,    0,    0,    0,    0,    0,    0,\n",
       "          0,    0,    0,    0,    0,    0,    0,    0,    0,    0,    0,\n",
       "          0,    0,    0,    0,    0,    0,    0,    0,    0,    0,    0,\n",
       "          0,    0,    0,    0,    0,    0,    0,    0,    0,    0,    0,\n",
       "          0,    0,    0,    0,    0,    0,    0,    0,    0,    0,    0,\n",
       "          0,    0,    0,    0,    0,    0,    0,    0,    0,    0,    0,\n",
       "          0,    0,    0,    0,    0,    0,    0,    0,    0,    0,    0,\n",
       "          0,    0,    0,    0,    0,    0,    0,    0,    0,    0,    0,\n",
       "          0,    0,    0,    0,    0,    0,    0,    0,    0,    0,    0,\n",
       "          0,    0,    0,    0,    0,    0,    0,    0,    0,    0,    0,\n",
       "          0,    0,    0,    0,    0,    0,    0,    0,    0,    0,    0,\n",
       "          0,    0,    0,    0,    0,    0,    0,    0,    0,    0,    0,\n",
       "          0,    0,    0,    0, 5162, 2892, 2399, 1473, 5672, 3487,  728,\n",
       "       1445, 6745, 3036, 8502, 8367, 8365, 7391, 9528,  372, 5889, 9682,\n",
       "       2399, 8980, 4848, 7676, 5958, 2937, 6868, 8667,  728, 6745, 7676,\n",
       "       9682, 5860, 8007, 8073,  875, 7394, 5353, 5142,  422, 4070, 1288,\n",
       "       5945, 3885,  134, 8365, 7301, 2078,  269, 6391, 9406], dtype=int32)"
      ]
     },
     "execution_count": 58,
     "metadata": {},
     "output_type": "execute_result"
    }
   ],
   "source": [
    "embedded_sent[pos]"
   ]
  },
  {
   "cell_type": "code",
   "execution_count": 60,
   "metadata": {},
   "outputs": [
    {
     "data": {
      "text/plain": [
       "(350,)"
      ]
     },
     "execution_count": 60,
     "metadata": {},
     "output_type": "execute_result"
    }
   ],
   "source": [
    "embedded_sent[0].shape"
   ]
  },
  {
   "cell_type": "code",
   "execution_count": null,
   "metadata": {},
   "outputs": [],
   "source": []
  },
  {
   "cell_type": "code",
   "execution_count": 61,
   "metadata": {},
   "outputs": [],
   "source": [
    "'''\n",
    "The 'Embedding' layer takes a fixed-size input and converts it into some specified\n",
    "number of (dense) embedding features/vectors.\n",
    "'''\n",
    "# Embedding vector dimensions-\n",
    "embedding_feature = 100"
   ]
  },
  {
   "cell_type": "code",
   "execution_count": null,
   "metadata": {},
   "outputs": [],
   "source": []
  },
  {
   "cell_type": "code",
   "execution_count": 62,
   "metadata": {},
   "outputs": [
    {
     "name": "stdout",
     "output_type": "stream",
     "text": [
      "Vocabulary size = 10000, embedding dimensionality = 100 & padded sentence input length = 350\n"
     ]
    }
   ],
   "source": [
    "# Sanity check-\n",
    "print(f\"Vocabulary size = {vocab_size}, embedding dimensionality = \"\n",
    "      f\"{embedding_feature} & padded sentence input length = {sentence_len}\"\n",
    "     )"
   ]
  },
  {
   "cell_type": "code",
   "execution_count": null,
   "metadata": {},
   "outputs": [],
   "source": []
  },
  {
   "cell_type": "code",
   "execution_count": null,
   "metadata": {},
   "outputs": [],
   "source": []
  },
  {
   "cell_type": "markdown",
   "metadata": {},
   "source": [
    "### Create different _Seq2Seq_ models-"
   ]
  },
  {
   "cell_type": "code",
   "execution_count": 63,
   "metadata": {},
   "outputs": [],
   "source": [
    "def lstm_model():\n",
    "    # Function to define LSTM model\n",
    "    model = Sequential()\n",
    "\n",
    "    # Add an 'Embedding' layer-\n",
    "    model.add(\n",
    "        Embedding(\n",
    "        input_dim = vocab_size, output_dim = embedding_feature,\n",
    "        embeddings_initializer = 'uniform',\n",
    "        embeddings_regularizer = None,\n",
    "        input_length = sentence_len\n",
    "        )\n",
    "    )\n",
    "\n",
    "    # Add drop out layer-\n",
    "    model.add(Dropout(0.3))\n",
    "\n",
    "    # One LSTM layer having 100 neurons-\n",
    "    model.add(\n",
    "        LSTM(\n",
    "            units = 100, activation = tf.keras.activations.tanh,\n",
    "            return_sequences = False\n",
    "        )\n",
    "    )\n",
    "\n",
    "    # Add drop out layer-\n",
    "    model.add(Dropout(rate = 0.3))\n",
    "\n",
    "    # Add a dense layer due to classification (binary classification)-\n",
    "    model.add(Dense(units = 1, activation = tf.keras.activations.sigmoid))\n",
    "    \n",
    "    # Compile defined LSTM model-\n",
    "    model.compile(\n",
    "        loss = tf.keras.losses.BinaryCrossentropy(),\n",
    "        optimizer = tf.keras.optimizers.Adam(learning_rate = 0.01),\n",
    "        metrics = ['accuracy']\n",
    "    )\n",
    "\n",
    "    return model\n"
   ]
  },
  {
   "cell_type": "code",
   "execution_count": 64,
   "metadata": {},
   "outputs": [],
   "source": [
    "def stacked_lstm_model():\n",
    "    # Function to define stacked LSTM model\n",
    "    model = Sequential()\n",
    "\n",
    "    # Add an 'Embedding' layer-\n",
    "    model.add(\n",
    "        Embedding(\n",
    "        input_dim = vocab_size, output_dim = embedding_feature,\n",
    "        embeddings_initializer = 'uniform',\n",
    "        embeddings_regularizer = None,\n",
    "        input_length = sentence_len\n",
    "        )\n",
    "    )\n",
    "\n",
    "    # Add drop out layer-\n",
    "    model.add(Dropout(0.3))\n",
    "\n",
    "    # One LSTM layer having 100 neurons-\n",
    "    model.add(\n",
    "        LSTM(\n",
    "            units = 100, activation = tf.keras.activations.tanh,\n",
    "            return_sequences = True\n",
    "        )\n",
    "    )\n",
    "\n",
    "    # Add drop out layer-\n",
    "    model.add(Dropout(rate = 0.3))\n",
    "    \n",
    "    model.add(\n",
    "        LSTM(\n",
    "            units = 64, activation = tf.keras.activations.tanh,\n",
    "            return_sequences = False\n",
    "        )\n",
    "    )\n",
    "    \n",
    "    model.add(Dropout(rate = 0.3))\n",
    "\n",
    "    # Add a dense layer due to classification (binary classification)-\n",
    "    model.add(Dense(units = 1, activation = tf.keras.activations.sigmoid))\n",
    "    \n",
    "    # Compile defined LSTM model-\n",
    "    model.compile(\n",
    "        loss = tf.keras.losses.BinaryCrossentropy(),\n",
    "        optimizer = tf.keras.optimizers.Adam(learning_rate = 0.01),\n",
    "        metrics = ['accuracy']\n",
    "    )\n",
    "\n",
    "    return model\n"
   ]
  },
  {
   "cell_type": "code",
   "execution_count": 65,
   "metadata": {},
   "outputs": [],
   "source": [
    "def bidirectional_lstm_model():\n",
    "    # Function to define Bi-directional LSTM model\n",
    "    model = Sequential()\n",
    "\n",
    "    # Add an 'Embedding' layer-\n",
    "    model.add(\n",
    "        Embedding(\n",
    "        input_dim = vocab_size, output_dim = embedding_feature,\n",
    "        embeddings_initializer = 'uniform',\n",
    "        embeddings_regularizer = None,\n",
    "        input_length = sentence_len\n",
    "        )\n",
    "    )\n",
    "\n",
    "    # Add drop out layer-\n",
    "    model.add(Dropout(0.3))\n",
    "\n",
    "    # One Bi-directional LSTM layer having 100 neurons-\n",
    "    model.add(\n",
    "        Bidirectional(\n",
    "            LSTM(\n",
    "                units = 100, activation = tf.keras.activations.tanh,\n",
    "                return_sequences = False\n",
    "            )\n",
    "        )\n",
    "    )\n",
    "\n",
    "    # Add drop out layer-\n",
    "    model.add(Dropout(rate = 0.3))\n",
    "\n",
    "    # Add a dense layer due to classification (binary classification)-\n",
    "    model.add(Dense(units = 1, activation = tf.keras.activations.sigmoid))\n",
    "    \n",
    "    # Compile defined LSTM model-\n",
    "    model.compile(\n",
    "        loss = tf.keras.losses.BinaryCrossentropy(),\n",
    "        optimizer = tf.keras.optimizers.Adam(learning_rate = 0.01),\n",
    "        metrics = ['accuracy']\n",
    "    )\n",
    "\n",
    "    return model\n"
   ]
  },
  {
   "cell_type": "code",
   "execution_count": 66,
   "metadata": {},
   "outputs": [],
   "source": [
    "def bidirectional_stacked_lstm_model():\n",
    "    # Function to define Bi-directional stacked LSTM model\n",
    "    model = Sequential()\n",
    "\n",
    "    # Add an 'Embedding' layer-\n",
    "    model.add(\n",
    "        Embedding(\n",
    "        input_dim = vocab_size, output_dim = embedding_feature,\n",
    "        embeddings_initializer = 'uniform',\n",
    "        embeddings_regularizer = None,\n",
    "        input_length = sentence_len\n",
    "        )\n",
    "    )\n",
    "\n",
    "    # Add drop out layer-\n",
    "    model.add(Dropout(0.3))\n",
    "\n",
    "    # One Bi-directional LSTM layer having 100 neurons-\n",
    "    model.add(\n",
    "        Bidirectional(\n",
    "            LSTM(\n",
    "                units = 100, activation = tf.keras.activations.tanh,\n",
    "                return_sequences = True\n",
    "            )\n",
    "        )\n",
    "    )\n",
    "\n",
    "    # Add drop out layer-\n",
    "    model.add(Dropout(rate = 0.3))\n",
    "    \n",
    "    # One Bi-directional LSTM layer having 100 neurons-\n",
    "    model.add(\n",
    "        Bidirectional(\n",
    "            LSTM(\n",
    "                units = 64, activation = tf.keras.activations.tanh,\n",
    "                return_sequences = False\n",
    "            )\n",
    "        )\n",
    "    )\n",
    "\n",
    "    # Add drop out layer-\n",
    "    model.add(Dropout(rate = 0.3))\n",
    "\n",
    "    # Add a dense layer due to classification (binary classification)-\n",
    "    model.add(Dense(units = 1, activation = tf.keras.activations.sigmoid))\n",
    "    \n",
    "    # Compile defined LSTM model-\n",
    "    model.compile(\n",
    "        loss = tf.keras.losses.BinaryCrossentropy(),\n",
    "        optimizer = tf.keras.optimizers.Adam(learning_rate = 0.01),\n",
    "        metrics = ['accuracy']\n",
    "    )\n",
    "\n",
    "    return model\n"
   ]
  },
  {
   "cell_type": "code",
   "execution_count": null,
   "metadata": {},
   "outputs": [],
   "source": []
  },
  {
   "cell_type": "code",
   "execution_count": 68,
   "metadata": {},
   "outputs": [],
   "source": [
    "def gru_model():\n",
    "    # Define a single GRU layer model.\n",
    "    \n",
    "    model = Sequential()\n",
    "    \n",
    "    # Add an 'Embedding' layer-\n",
    "    model.add(\n",
    "        Embedding(\n",
    "        input_dim = vocab_size, output_dim = embedding_feature,\n",
    "        embeddings_initializer = 'uniform',\n",
    "        embeddings_regularizer = None,\n",
    "        input_length = sentence_len\n",
    "        )\n",
    "    )\n",
    "\n",
    "    # Add drop out layer-\n",
    "    model.add(Dropout(0.3))\n",
    "\n",
    "    model.add(\n",
    "        GRU(\n",
    "            units = 100, activation = tf.keras.activations.tanh,\n",
    "            return_sequences = False, return_state = False\n",
    "        )\n",
    "    )\n",
    "    \n",
    "    # Add drop out layer-\n",
    "    model.add(Dropout(rate = 0.3))\n",
    "\n",
    "    # Add a dense layer due to classification (binary classification)-\n",
    "    model.add(Dense(units = 1, activation = tf.keras.activations.sigmoid))\n",
    "    \n",
    "    # Compile defined LSTM model-\n",
    "    model.compile(\n",
    "        loss = tf.keras.losses.BinaryCrossentropy(),\n",
    "        optimizer = tf.keras.optimizers.Adam(learning_rate = 0.01),\n",
    "        metrics = ['accuracy']\n",
    "    )\n",
    "\n",
    "    return model\n",
    "    "
   ]
  },
  {
   "cell_type": "code",
   "execution_count": 121,
   "metadata": {},
   "outputs": [],
   "source": [
    "def stacked_gru_model():\n",
    "    # Define a stacked GRU model.\n",
    "    \n",
    "    model = Sequential()\n",
    "    \n",
    "    # Add an 'Embedding' layer-\n",
    "    model.add(\n",
    "        Embedding(\n",
    "        input_dim = vocab_size, output_dim = embedding_feature,\n",
    "        embeddings_initializer = 'uniform',\n",
    "        embeddings_regularizer = None,\n",
    "        input_length = sentence_len\n",
    "        )\n",
    "    )\n",
    "\n",
    "    # Add drop out layer-\n",
    "    model.add(Dropout(0.3))\n",
    "\n",
    "    model.add(\n",
    "        GRU(\n",
    "            units = 100, activation = tf.keras.activations.tanh,\n",
    "            return_sequences = True, return_state = False\n",
    "        )\n",
    "    )\n",
    "    \n",
    "    # Add drop out layer-\n",
    "    model.add(Dropout(rate = 0.3))\n",
    "    \n",
    "    model.add(\n",
    "        GRU(\n",
    "            units = 64, activation = tf.keras.activations.tanh,\n",
    "            return_sequences = False, return_state = False\n",
    "        )\n",
    "    )\n",
    "    \n",
    "    # Add drop out layer-\n",
    "    model.add(Dropout(rate = 0.3))\n",
    "\n",
    "    # Add a dense layer due to classification (binary classification)-\n",
    "    model.add(Dense(units = 1, activation = tf.keras.activations.sigmoid))\n",
    "    \n",
    "    # Compile defined LSTM model-\n",
    "    model.compile(\n",
    "        loss = tf.keras.losses.BinaryCrossentropy(),\n",
    "        optimizer = tf.keras.optimizers.Adam(learning_rate = 0.01),\n",
    "        metrics = ['accuracy']\n",
    "    )\n",
    "\n",
    "    return model\n",
    "    "
   ]
  },
  {
   "cell_type": "code",
   "execution_count": 72,
   "metadata": {},
   "outputs": [],
   "source": [
    "def bi_directional_gru_model():\n",
    "    # Define a single Bi-directional GRU layer model.\n",
    "    \n",
    "    model = Sequential()\n",
    "    \n",
    "    # Add an 'Embedding' layer-\n",
    "    model.add(\n",
    "        Embedding(\n",
    "        input_dim = vocab_size, output_dim = embedding_feature,\n",
    "        embeddings_initializer = 'uniform',\n",
    "        embeddings_regularizer = None,\n",
    "        input_length = sentence_len\n",
    "        )\n",
    "    )\n",
    "\n",
    "    # Add drop out layer-\n",
    "    model.add(Dropout(0.3))\n",
    "\n",
    "    model.add(\n",
    "        Bidirectional(\n",
    "            GRU(\n",
    "                units = 100, activation = tf.keras.activations.tanh,\n",
    "                return_sequences = False, return_state = False\n",
    "            )\n",
    "        )\n",
    "    )\n",
    "    \n",
    "    # Add drop out layer-\n",
    "    model.add(Dropout(rate = 0.3))\n",
    "\n",
    "    # Add a dense layer due to classification (binary classification)-\n",
    "    model.add(Dense(units = 1, activation = tf.keras.activations.sigmoid))\n",
    "    \n",
    "    # Compile defined LSTM model-\n",
    "    model.compile(\n",
    "        loss = tf.keras.losses.BinaryCrossentropy(),\n",
    "        optimizer = tf.keras.optimizers.Adam(learning_rate = 0.01),\n",
    "        metrics = ['accuracy']\n",
    "    )\n",
    "\n",
    "    return model\n",
    "    "
   ]
  },
  {
   "cell_type": "code",
   "execution_count": 73,
   "metadata": {},
   "outputs": [],
   "source": [
    "def bi_stacked_directional_gru_model():\n",
    "    # Define a stacked Bi-directional GRU model.\n",
    "    \n",
    "    model = Sequential()\n",
    "    \n",
    "    # Add an 'Embedding' layer-\n",
    "    model.add(\n",
    "        Embedding(\n",
    "        input_dim = vocab_size, output_dim = embedding_feature,\n",
    "        embeddings_initializer = 'uniform',\n",
    "        embeddings_regularizer = None,\n",
    "        input_length = sentence_len\n",
    "        )\n",
    "    )\n",
    "\n",
    "    # Add drop out layer-\n",
    "    model.add(Dropout(0.3))\n",
    "\n",
    "    model.add(\n",
    "        Bidirectional(\n",
    "            GRU(\n",
    "                units = 100, activation = tf.keras.activations.tanh,\n",
    "                return_sequences = True, return_state = False\n",
    "            )\n",
    "        )\n",
    "    )\n",
    "    \n",
    "    # Add drop out layer-\n",
    "    model.add(Dropout(rate = 0.3))\n",
    "    \n",
    "    model.add(\n",
    "        Bidirectional(\n",
    "            GRU(\n",
    "                units = 64, activation = tf.keras.activations.tanh,\n",
    "                return_sequences = False, return_state = False\n",
    "            )\n",
    "        )\n",
    "    )\n",
    "    \n",
    "    # Add drop out layer-\n",
    "    model.add(Dropout(rate = 0.3))\n",
    "\n",
    "\n",
    "    # Add a dense layer due to classification (binary classification)-\n",
    "    model.add(Dense(units = 1, activation = tf.keras.activations.sigmoid))\n",
    "    \n",
    "    # Compile defined LSTM model-\n",
    "    model.compile(\n",
    "        loss = tf.keras.losses.BinaryCrossentropy(),\n",
    "        optimizer = tf.keras.optimizers.Adam(learning_rate = 0.01),\n",
    "        metrics = ['accuracy']\n",
    "    )\n",
    "\n",
    "    return model\n",
    "    "
   ]
  },
  {
   "cell_type": "code",
   "execution_count": null,
   "metadata": {},
   "outputs": [],
   "source": []
  },
  {
   "cell_type": "code",
   "execution_count": 105,
   "metadata": {},
   "outputs": [],
   "source": [
    "# Initialize single LSTM model-\n",
    "model_lstm = lstm_model()"
   ]
  },
  {
   "cell_type": "code",
   "execution_count": 78,
   "metadata": {},
   "outputs": [],
   "source": [
    "# Initialize stacked LSTM model-\n",
    "model_stacked_lstm = stacked_lstm_model()"
   ]
  },
  {
   "cell_type": "code",
   "execution_count": 111,
   "metadata": {},
   "outputs": [],
   "source": [
    "# Initialize Bi-directional LSTM model-\n",
    "model_bi_lstm = bidirectional_lstm_model()"
   ]
  },
  {
   "cell_type": "code",
   "execution_count": 80,
   "metadata": {},
   "outputs": [],
   "source": [
    "# Initialize Bi-directional stacked LSTM model-\n",
    "model_bi_stacked_lstm = bidirectional_stacked_lstm_model()"
   ]
  },
  {
   "cell_type": "code",
   "execution_count": null,
   "metadata": {},
   "outputs": [],
   "source": []
  },
  {
   "cell_type": "code",
   "execution_count": 81,
   "metadata": {},
   "outputs": [],
   "source": [
    "# Initialize a single GRU model-\n",
    "model_gru = gru_model()"
   ]
  },
  {
   "cell_type": "code",
   "execution_count": 122,
   "metadata": {},
   "outputs": [],
   "source": [
    "# Initialize stacked GRU model-\n",
    "model_stacked_gru = stacked_gru_model()"
   ]
  },
  {
   "cell_type": "code",
   "execution_count": 85,
   "metadata": {},
   "outputs": [],
   "source": [
    "# Initialize bi-directional GRU model-\n",
    "model_bi_gru = bi_directional_gru_model()"
   ]
  },
  {
   "cell_type": "code",
   "execution_count": 86,
   "metadata": {},
   "outputs": [],
   "source": [
    "# Initialize bi-directional GRU stacked model-\n",
    "model_bi_stacked_gru = bi_stacked_directional_gru_model()"
   ]
  },
  {
   "cell_type": "code",
   "execution_count": null,
   "metadata": {},
   "outputs": [],
   "source": []
  },
  {
   "cell_type": "code",
   "execution_count": null,
   "metadata": {},
   "outputs": [],
   "source": []
  },
  {
   "cell_type": "code",
   "execution_count": 87,
   "metadata": {},
   "outputs": [
    {
     "name": "stdout",
     "output_type": "stream",
     "text": [
      "Model: \"sequential_2\"\n",
      "_________________________________________________________________\n",
      " Layer (type)                Output Shape              Param #   \n",
      "=================================================================\n",
      " embedding_2 (Embedding)     (None, 350, 100)          1000000   \n",
      "                                                                 \n",
      " dropout_5 (Dropout)         (None, 350, 100)          0         \n",
      "                                                                 \n",
      " lstm_3 (LSTM)               (None, 100)               80400     \n",
      "                                                                 \n",
      " dropout_6 (Dropout)         (None, 100)               0         \n",
      "                                                                 \n",
      " dense_2 (Dense)             (None, 1)                 101       \n",
      "                                                                 \n",
      "=================================================================\n",
      "Total params: 1,080,501\n",
      "Trainable params: 1,080,501\n",
      "Non-trainable params: 0\n",
      "_________________________________________________________________\n"
     ]
    }
   ],
   "source": [
    "# Get model's summary-\n",
    "model_lstm.summary()"
   ]
  },
  {
   "cell_type": "code",
   "execution_count": 88,
   "metadata": {},
   "outputs": [
    {
     "name": "stdout",
     "output_type": "stream",
     "text": [
      "Model: \"sequential_3\"\n",
      "_________________________________________________________________\n",
      " Layer (type)                Output Shape              Param #   \n",
      "=================================================================\n",
      " embedding_3 (Embedding)     (None, 350, 100)          1000000   \n",
      "                                                                 \n",
      " dropout_7 (Dropout)         (None, 350, 100)          0         \n",
      "                                                                 \n",
      " lstm_4 (LSTM)               (None, 350, 100)          80400     \n",
      "                                                                 \n",
      " dropout_8 (Dropout)         (None, 350, 100)          0         \n",
      "                                                                 \n",
      " lstm_5 (LSTM)               (None, 64)                42240     \n",
      "                                                                 \n",
      " dropout_9 (Dropout)         (None, 64)                0         \n",
      "                                                                 \n",
      " dense_3 (Dense)             (None, 1)                 65        \n",
      "                                                                 \n",
      "=================================================================\n",
      "Total params: 1,122,705\n",
      "Trainable params: 1,122,705\n",
      "Non-trainable params: 0\n",
      "_________________________________________________________________\n"
     ]
    }
   ],
   "source": [
    "# Get summary for stacked LSTM model-\n",
    "model_stacked_lstm.summary()"
   ]
  },
  {
   "cell_type": "code",
   "execution_count": 89,
   "metadata": {},
   "outputs": [
    {
     "name": "stdout",
     "output_type": "stream",
     "text": [
      "Model: \"sequential_4\"\n",
      "_________________________________________________________________\n",
      " Layer (type)                Output Shape              Param #   \n",
      "=================================================================\n",
      " embedding_4 (Embedding)     (None, 350, 100)          1000000   \n",
      "                                                                 \n",
      " dropout_10 (Dropout)        (None, 350, 100)          0         \n",
      "                                                                 \n",
      " bidirectional (Bidirectiona  (None, 200)              160800    \n",
      " l)                                                              \n",
      "                                                                 \n",
      " dropout_11 (Dropout)        (None, 200)               0         \n",
      "                                                                 \n",
      " dense_4 (Dense)             (None, 1)                 201       \n",
      "                                                                 \n",
      "=================================================================\n",
      "Total params: 1,161,001\n",
      "Trainable params: 1,161,001\n",
      "Non-trainable params: 0\n",
      "_________________________________________________________________\n"
     ]
    }
   ],
   "source": [
    "# Get summary for bi-directional LSTM model-\n",
    "model_bi_lstm.summary()"
   ]
  },
  {
   "cell_type": "code",
   "execution_count": 90,
   "metadata": {},
   "outputs": [
    {
     "name": "stdout",
     "output_type": "stream",
     "text": [
      "Model: \"sequential_5\"\n",
      "_________________________________________________________________\n",
      " Layer (type)                Output Shape              Param #   \n",
      "=================================================================\n",
      " embedding_5 (Embedding)     (None, 350, 100)          1000000   \n",
      "                                                                 \n",
      " dropout_12 (Dropout)        (None, 350, 100)          0         \n",
      "                                                                 \n",
      " bidirectional_1 (Bidirectio  (None, 350, 200)         160800    \n",
      " nal)                                                            \n",
      "                                                                 \n",
      " dropout_13 (Dropout)        (None, 350, 200)          0         \n",
      "                                                                 \n",
      " bidirectional_2 (Bidirectio  (None, 128)              135680    \n",
      " nal)                                                            \n",
      "                                                                 \n",
      " dropout_14 (Dropout)        (None, 128)               0         \n",
      "                                                                 \n",
      " dense_5 (Dense)             (None, 1)                 129       \n",
      "                                                                 \n",
      "=================================================================\n",
      "Total params: 1,296,609\n",
      "Trainable params: 1,296,609\n",
      "Non-trainable params: 0\n",
      "_________________________________________________________________\n"
     ]
    }
   ],
   "source": [
    "# Get summary for bi-directional stacked LSTM model-\n",
    "model_bi_stacked_lstm.summary()"
   ]
  },
  {
   "cell_type": "code",
   "execution_count": null,
   "metadata": {},
   "outputs": [],
   "source": []
  },
  {
   "cell_type": "code",
   "execution_count": 91,
   "metadata": {},
   "outputs": [
    {
     "name": "stdout",
     "output_type": "stream",
     "text": [
      "Model: \"sequential_6\"\n",
      "_________________________________________________________________\n",
      " Layer (type)                Output Shape              Param #   \n",
      "=================================================================\n",
      " embedding_6 (Embedding)     (None, 350, 100)          1000000   \n",
      "                                                                 \n",
      " dropout_15 (Dropout)        (None, 350, 100)          0         \n",
      "                                                                 \n",
      " gru (GRU)                   (None, 100)               60600     \n",
      "                                                                 \n",
      " dropout_16 (Dropout)        (None, 100)               0         \n",
      "                                                                 \n",
      " dense_6 (Dense)             (None, 1)                 101       \n",
      "                                                                 \n",
      "=================================================================\n",
      "Total params: 1,060,701\n",
      "Trainable params: 1,060,701\n",
      "Non-trainable params: 0\n",
      "_________________________________________________________________\n"
     ]
    }
   ],
   "source": [
    "model_gru.summary()"
   ]
  },
  {
   "cell_type": "code",
   "execution_count": 123,
   "metadata": {},
   "outputs": [
    {
     "name": "stdout",
     "output_type": "stream",
     "text": [
      "Model: \"sequential_14\"\n",
      "_________________________________________________________________\n",
      " Layer (type)                Output Shape              Param #   \n",
      "=================================================================\n",
      " embedding_14 (Embedding)    (None, 350, 100)          1000000   \n",
      "                                                                 \n",
      " dropout_34 (Dropout)        (None, 350, 100)          0         \n",
      "                                                                 \n",
      " gru_8 (GRU)                 (None, 350, 100)          60600     \n",
      "                                                                 \n",
      " dropout_35 (Dropout)        (None, 350, 100)          0         \n",
      "                                                                 \n",
      " gru_9 (GRU)                 (None, 64)                31872     \n",
      "                                                                 \n",
      " dropout_36 (Dropout)        (None, 64)                0         \n",
      "                                                                 \n",
      " dense_14 (Dense)            (None, 1)                 65        \n",
      "                                                                 \n",
      "=================================================================\n",
      "Total params: 1,092,537\n",
      "Trainable params: 1,092,537\n",
      "Non-trainable params: 0\n",
      "_________________________________________________________________\n"
     ]
    }
   ],
   "source": [
    "model_stacked_gru.summary()"
   ]
  },
  {
   "cell_type": "code",
   "execution_count": 94,
   "metadata": {},
   "outputs": [
    {
     "name": "stdout",
     "output_type": "stream",
     "text": [
      "Model: \"sequential_9\"\n",
      "_________________________________________________________________\n",
      " Layer (type)                Output Shape              Param #   \n",
      "=================================================================\n",
      " embedding_9 (Embedding)     (None, 350, 100)          1000000   \n",
      "                                                                 \n",
      " dropout_23 (Dropout)        (None, 350, 100)          0         \n",
      "                                                                 \n",
      " bidirectional_3 (Bidirectio  (None, 200)              121200    \n",
      " nal)                                                            \n",
      "                                                                 \n",
      " dropout_24 (Dropout)        (None, 200)               0         \n",
      "                                                                 \n",
      " dense_9 (Dense)             (None, 1)                 201       \n",
      "                                                                 \n",
      "=================================================================\n",
      "Total params: 1,121,401\n",
      "Trainable params: 1,121,401\n",
      "Non-trainable params: 0\n",
      "_________________________________________________________________\n"
     ]
    }
   ],
   "source": [
    "model_bi_gru.summary()"
   ]
  },
  {
   "cell_type": "code",
   "execution_count": 96,
   "metadata": {},
   "outputs": [
    {
     "name": "stdout",
     "output_type": "stream",
     "text": [
      "Model: \"sequential_10\"\n",
      "_________________________________________________________________\n",
      " Layer (type)                Output Shape              Param #   \n",
      "=================================================================\n",
      " embedding_10 (Embedding)    (None, 350, 100)          1000000   \n",
      "                                                                 \n",
      " dropout_25 (Dropout)        (None, 350, 100)          0         \n",
      "                                                                 \n",
      " bidirectional_4 (Bidirectio  (None, 350, 200)         121200    \n",
      " nal)                                                            \n",
      "                                                                 \n",
      " dropout_26 (Dropout)        (None, 350, 200)          0         \n",
      "                                                                 \n",
      " bidirectional_5 (Bidirectio  (None, 128)              102144    \n",
      " nal)                                                            \n",
      "                                                                 \n",
      " dropout_27 (Dropout)        (None, 128)               0         \n",
      "                                                                 \n",
      " dense_10 (Dense)            (None, 1)                 129       \n",
      "                                                                 \n",
      "=================================================================\n",
      "Total params: 1,223,473\n",
      "Trainable params: 1,223,473\n",
      "Non-trainable params: 0\n",
      "_________________________________________________________________\n"
     ]
    }
   ],
   "source": [
    "model_bi_stacked_gru.summary()"
   ]
  },
  {
   "cell_type": "code",
   "execution_count": null,
   "metadata": {},
   "outputs": [],
   "source": []
  },
  {
   "cell_type": "code",
   "execution_count": null,
   "metadata": {},
   "outputs": [],
   "source": []
  },
  {
   "cell_type": "code",
   "execution_count": 97,
   "metadata": {},
   "outputs": [
    {
     "name": "stdout",
     "output_type": "stream",
     "text": [
      "(10000, 100)\n",
      "(100, 400)\n",
      "(100, 400)\n",
      "(400,)\n",
      "(100, 1)\n",
      "(1,)\n"
     ]
    }
   ],
   "source": [
    "# Get layer-wise shape/dimensions-\n",
    "for layer in model_lstm.weights:\n",
    "    print(layer.shape)"
   ]
  },
  {
   "cell_type": "code",
   "execution_count": null,
   "metadata": {},
   "outputs": [],
   "source": []
  },
  {
   "cell_type": "code",
   "execution_count": 98,
   "metadata": {},
   "outputs": [
    {
     "data": {
      "text/plain": [
       "(18285, (18285,))"
      ]
     },
     "execution_count": 98,
     "metadata": {},
     "output_type": "execute_result"
    }
   ],
   "source": [
    "len(embedded_sent), y.shape"
   ]
  },
  {
   "cell_type": "code",
   "execution_count": 99,
   "metadata": {},
   "outputs": [],
   "source": [
    "# Convert to np arrays-\n",
    "X_final = np.array(embedded_sent).astype('float')\n",
    "y_final = np.array(y)"
   ]
  },
  {
   "cell_type": "code",
   "execution_count": 100,
   "metadata": {},
   "outputs": [
    {
     "data": {
      "text/plain": [
       "((18285, 350), (18285,))"
      ]
     },
     "execution_count": 100,
     "metadata": {},
     "output_type": "execute_result"
    }
   ],
   "source": [
    "# Sanity check-\n",
    "X_final.shape, y_final.shape"
   ]
  },
  {
   "cell_type": "code",
   "execution_count": 101,
   "metadata": {},
   "outputs": [],
   "source": [
    "# Split into training and testing sets-\n",
    "X_train, X_test, y_train, y_test = train_test_split(\n",
    "    X_final, y_final,\n",
    "    test_size = 0.3, stratify = y_final\n",
    ")"
   ]
  },
  {
   "cell_type": "code",
   "execution_count": 102,
   "metadata": {},
   "outputs": [
    {
     "name": "stdout",
     "output_type": "stream",
     "text": [
      "X_train.shape: (12799, 350), y_train.shape: (12799,)\n",
      "X_test.shape: (5486, 350), y_test.shape: (5486,)\n"
     ]
    }
   ],
   "source": [
    "# Sanity check-\n",
    "print(f\"X_train.shape: {X_train.shape}, y_train.shape: {y_train.shape}\")\n",
    "print(f\"X_test.shape: {X_test.shape}, y_test.shape: {y_test.shape}\")"
   ]
  },
  {
   "cell_type": "code",
   "execution_count": null,
   "metadata": {},
   "outputs": [],
   "source": []
  },
  {
   "cell_type": "code",
   "execution_count": null,
   "metadata": {},
   "outputs": [],
   "source": []
  },
  {
   "cell_type": "code",
   "execution_count": 106,
   "metadata": {},
   "outputs": [],
   "source": [
    "# Define early-stopping criterion-\n",
    "early_stopping_criterion = tf.keras.callbacks.EarlyStopping(\n",
    "    monitor = 'val_loss', min_delta = 0.001,\n",
    "    patience = 3, verbose = 1,\n",
    "    mode = 'auto', baseline = None,\n",
    "    restore_best_weights = True\n",
    ")\n"
   ]
  },
  {
   "cell_type": "code",
   "execution_count": 107,
   "metadata": {},
   "outputs": [
    {
     "name": "stdout",
     "output_type": "stream",
     "text": [
      "Epoch 1/10\n",
      "200/200 [==============================] - 4s 18ms/step - loss: 0.2277 - accuracy: 0.8973 - val_loss: 0.1656 - val_accuracy: 0.9307\n",
      "Epoch 2/10\n",
      "200/200 [==============================] - 3s 17ms/step - loss: 0.0912 - accuracy: 0.9644 - val_loss: 0.1972 - val_accuracy: 0.9267\n",
      "Epoch 3/10\n",
      "200/200 [==============================] - 3s 17ms/step - loss: 0.0319 - accuracy: 0.9890 - val_loss: 0.2983 - val_accuracy: 0.9229\n",
      "Epoch 4/10\n",
      "197/200 [============================>.] - ETA: 0s - loss: 0.0161 - accuracy: 0.9948Restoring model weights from the end of the best epoch: 1.\n",
      "200/200 [==============================] - 3s 17ms/step - loss: 0.0161 - accuracy: 0.9948 - val_loss: 0.3608 - val_accuracy: 0.9182\n",
      "Epoch 4: early stopping\n"
     ]
    }
   ],
   "source": [
    "# Train single layer LSTM model-\n",
    "train_history = model_lstm.fit(\n",
    "    x = X_train, y = y_train,\n",
    "    epochs = 10, batch_size = 64,\n",
    "    validation_data = (X_test, y_test),\n",
    "    callbacks = [early_stopping_criterion]\n",
    ")"
   ]
  },
  {
   "cell_type": "code",
   "execution_count": null,
   "metadata": {},
   "outputs": [],
   "source": []
  },
  {
   "cell_type": "code",
   "execution_count": null,
   "metadata": {},
   "outputs": [],
   "source": []
  },
  {
   "cell_type": "code",
   "execution_count": 108,
   "metadata": {},
   "outputs": [
    {
     "name": "stdout",
     "output_type": "stream",
     "text": [
      "Epoch 1/10\n",
      "200/200 [==============================] - 7s 27ms/step - loss: 0.2671 - accuracy: 0.8888 - val_loss: 0.1960 - val_accuracy: 0.9273\n",
      "Epoch 2/10\n",
      "200/200 [==============================] - 5s 26ms/step - loss: 0.1396 - accuracy: 0.9459 - val_loss: 0.1708 - val_accuracy: 0.9327\n",
      "Epoch 3/10\n",
      "200/200 [==============================] - 5s 25ms/step - loss: 0.0810 - accuracy: 0.9698 - val_loss: 0.2062 - val_accuracy: 0.9249\n",
      "Epoch 4/10\n",
      "200/200 [==============================] - 5s 25ms/step - loss: 0.0489 - accuracy: 0.9848 - val_loss: 0.2472 - val_accuracy: 0.9222\n",
      "Epoch 5/10\n",
      "199/200 [============================>.] - ETA: 0s - loss: 0.0330 - accuracy: 0.9905Restoring model weights from the end of the best epoch: 2.\n",
      "200/200 [==============================] - 5s 25ms/step - loss: 0.0336 - accuracy: 0.9903 - val_loss: 0.2784 - val_accuracy: 0.9200\n",
      "Epoch 5: early stopping\n"
     ]
    }
   ],
   "source": [
    "# Train stacked LSTM model-\n",
    "train_history_stacked_lstm = model_stacked_lstm.fit(\n",
    "    x = X_train, y = y_train,\n",
    "    epochs = 10, batch_size = 64,\n",
    "    validation_data = (X_test, y_test),\n",
    "    callbacks = [early_stopping_criterion]\n",
    ")"
   ]
  },
  {
   "cell_type": "code",
   "execution_count": null,
   "metadata": {},
   "outputs": [],
   "source": []
  },
  {
   "cell_type": "code",
   "execution_count": 114,
   "metadata": {},
   "outputs": [
    {
     "name": "stdout",
     "output_type": "stream",
     "text": [
      "Epoch 1/10\n",
      "200/200 [==============================] - 8s 32ms/step - loss: 0.2225 - accuracy: 0.9011 - val_loss: 0.1557 - val_accuracy: 0.9364\n",
      "Epoch 2/10\n",
      "200/200 [==============================] - 6s 30ms/step - loss: 0.0869 - accuracy: 0.9655 - val_loss: 0.1959 - val_accuracy: 0.9311\n",
      "Epoch 3/10\n",
      "200/200 [==============================] - 6s 31ms/step - loss: 0.0317 - accuracy: 0.9877 - val_loss: 0.3027 - val_accuracy: 0.9289\n",
      "Epoch 4/10\n",
      "200/200 [==============================] - ETA: 0s - loss: 0.0176 - accuracy: 0.9941Restoring model weights from the end of the best epoch: 1.\n",
      "200/200 [==============================] - 6s 31ms/step - loss: 0.0176 - accuracy: 0.9941 - val_loss: 0.3221 - val_accuracy: 0.9311\n",
      "Epoch 4: early stopping\n"
     ]
    }
   ],
   "source": [
    "# Train bi-directional LSTM model-\n",
    "train_history_bi_lstm = model_bi_lstm.fit(\n",
    "    x = X_train, y = y_train,\n",
    "    epochs = 10, batch_size = 64,\n",
    "    validation_data = (X_test, y_test),\n",
    "    callbacks = [early_stopping_criterion]\n",
    ")"
   ]
  },
  {
   "cell_type": "code",
   "execution_count": null,
   "metadata": {},
   "outputs": [],
   "source": []
  },
  {
   "cell_type": "code",
   "execution_count": 116,
   "metadata": {},
   "outputs": [
    {
     "name": "stdout",
     "output_type": "stream",
     "text": [
      "Epoch 1/10\n",
      "200/200 [==============================] - 12s 51ms/step - loss: 0.2482 - accuracy: 0.8930 - val_loss: 0.1705 - val_accuracy: 0.9282\n",
      "Epoch 2/10\n",
      "200/200 [==============================] - 9s 47ms/step - loss: 0.1105 - accuracy: 0.9583 - val_loss: 0.2074 - val_accuracy: 0.9172\n",
      "Epoch 3/10\n",
      "200/200 [==============================] - 9s 47ms/step - loss: 0.0565 - accuracy: 0.9798 - val_loss: 0.2014 - val_accuracy: 0.9320\n",
      "Epoch 4/10\n",
      "199/200 [============================>.] - ETA: 0s - loss: 0.0320 - accuracy: 0.9904Restoring model weights from the end of the best epoch: 1.\n",
      "200/200 [==============================] - 9s 47ms/step - loss: 0.0319 - accuracy: 0.9905 - val_loss: 0.2763 - val_accuracy: 0.9245\n",
      "Epoch 4: early stopping\n"
     ]
    }
   ],
   "source": [
    "# Train bi-directional stacked LSTM model-\n",
    "train_history_bi_stacked_lstm = model_bi_stacked_lstm.fit(\n",
    "    x = X_train, y = y_train,\n",
    "    epochs = 10, batch_size = 64,\n",
    "    validation_data = (X_test, y_test),\n",
    "    callbacks = [early_stopping_criterion]\n",
    ")"
   ]
  },
  {
   "cell_type": "code",
   "execution_count": null,
   "metadata": {},
   "outputs": [],
   "source": []
  },
  {
   "cell_type": "code",
   "execution_count": 117,
   "metadata": {},
   "outputs": [
    {
     "name": "stdout",
     "output_type": "stream",
     "text": [
      "Epoch 1/10\n",
      "200/200 [==============================] - 4s 16ms/step - loss: 0.2249 - accuracy: 0.9004 - val_loss: 0.1578 - val_accuracy: 0.9362\n",
      "Epoch 2/10\n",
      "200/200 [==============================] - 3s 13ms/step - loss: 0.0926 - accuracy: 0.9645 - val_loss: 0.2067 - val_accuracy: 0.9282\n",
      "Epoch 3/10\n",
      "200/200 [==============================] - 3s 13ms/step - loss: 0.0428 - accuracy: 0.9850 - val_loss: 0.2497 - val_accuracy: 0.9231\n",
      "Epoch 4/10\n",
      "196/200 [============================>.] - ETA: 0s - loss: 0.0263 - accuracy: 0.9908Restoring model weights from the end of the best epoch: 1.\n",
      "200/200 [==============================] - 3s 13ms/step - loss: 0.0270 - accuracy: 0.9905 - val_loss: 0.3145 - val_accuracy: 0.9233\n",
      "Epoch 4: early stopping\n"
     ]
    }
   ],
   "source": [
    "# Train single-layer GRU model-\n",
    "train_history_gru = model_gru.fit(\n",
    "    x = X_train, y = y_train,\n",
    "    epochs = 10, batch_size = 64,\n",
    "    validation_data = (X_test, y_test),\n",
    "    callbacks = [early_stopping_criterion]\n",
    ")"
   ]
  },
  {
   "cell_type": "code",
   "execution_count": 124,
   "metadata": {},
   "outputs": [
    {
     "name": "stdout",
     "output_type": "stream",
     "text": [
      "Epoch 1/10\n",
      "200/200 [==============================] - 6s 23ms/step - loss: 0.2220 - accuracy: 0.9029 - val_loss: 0.1557 - val_accuracy: 0.9353\n",
      "Epoch 2/10\n",
      "200/200 [==============================] - 4s 22ms/step - loss: 0.1094 - accuracy: 0.9574 - val_loss: 0.1790 - val_accuracy: 0.9262\n",
      "Epoch 3/10\n",
      "200/200 [==============================] - 4s 22ms/step - loss: 0.0656 - accuracy: 0.9777 - val_loss: 0.2415 - val_accuracy: 0.9285\n",
      "Epoch 4/10\n",
      "199/200 [============================>.] - ETA: 0s - loss: 0.0451 - accuracy: 0.9845Restoring model weights from the end of the best epoch: 1.\n",
      "200/200 [==============================] - 4s 22ms/step - loss: 0.0450 - accuracy: 0.9845 - val_loss: 0.2956 - val_accuracy: 0.9143\n",
      "Epoch 4: early stopping\n"
     ]
    }
   ],
   "source": [
    "# Train stacked GRU model-\n",
    "train_history_stacked_gru = model_stacked_gru.fit(\n",
    "    x = X_train, y = y_train,\n",
    "    epochs = 10, batch_size = 64,\n",
    "    validation_data = (X_test, y_test),\n",
    "    callbacks = [early_stopping_criterion]\n",
    ")"
   ]
  },
  {
   "cell_type": "code",
   "execution_count": null,
   "metadata": {},
   "outputs": [],
   "source": []
  },
  {
   "cell_type": "code",
   "execution_count": 119,
   "metadata": {},
   "outputs": [
    {
     "name": "stdout",
     "output_type": "stream",
     "text": [
      "Epoch 1/10\n",
      "200/200 [==============================] - 6s 25ms/step - loss: 0.2314 - accuracy: 0.8999 - val_loss: 0.1798 - val_accuracy: 0.9267\n",
      "Epoch 2/10\n",
      "200/200 [==============================] - 5s 23ms/step - loss: 0.1020 - accuracy: 0.9594 - val_loss: 0.1864 - val_accuracy: 0.9287\n",
      "Epoch 3/10\n",
      "200/200 [==============================] - 5s 23ms/step - loss: 0.0480 - accuracy: 0.9832 - val_loss: 0.2240 - val_accuracy: 0.9223\n",
      "Epoch 4/10\n",
      "199/200 [============================>.] - ETA: 0s - loss: 0.0262 - accuracy: 0.9916Restoring model weights from the end of the best epoch: 1.\n",
      "200/200 [==============================] - 5s 23ms/step - loss: 0.0265 - accuracy: 0.9916 - val_loss: 0.3454 - val_accuracy: 0.9222\n",
      "Epoch 4: early stopping\n"
     ]
    }
   ],
   "source": [
    "# Train bi-directional GRU model-\n",
    "train_history_bi_gru = model_bi_gru.fit(\n",
    "    x = X_train, y = y_train,\n",
    "    epochs = 10, batch_size = 64,\n",
    "    validation_data = (X_test, y_test),\n",
    "    callbacks = [early_stopping_criterion]\n",
    ")"
   ]
  },
  {
   "cell_type": "code",
   "execution_count": null,
   "metadata": {},
   "outputs": [],
   "source": []
  },
  {
   "cell_type": "code",
   "execution_count": 120,
   "metadata": {},
   "outputs": [
    {
     "name": "stdout",
     "output_type": "stream",
     "text": [
      "Epoch 1/10\n",
      "200/200 [==============================] - 12s 46ms/step - loss: 0.2253 - accuracy: 0.9028 - val_loss: 0.1818 - val_accuracy: 0.9293\n",
      "Epoch 2/10\n",
      "200/200 [==============================] - 9s 43ms/step - loss: 0.1143 - accuracy: 0.9578 - val_loss: 0.1941 - val_accuracy: 0.9315\n",
      "Epoch 3/10\n",
      "200/200 [==============================] - 9s 43ms/step - loss: 0.0679 - accuracy: 0.9770 - val_loss: 0.2360 - val_accuracy: 0.9275\n",
      "Epoch 4/10\n",
      "199/200 [============================>.] - ETA: 0s - loss: 0.0366 - accuracy: 0.9874Restoring model weights from the end of the best epoch: 1.\n",
      "200/200 [==============================] - 9s 43ms/step - loss: 0.0365 - accuracy: 0.9874 - val_loss: 0.2833 - val_accuracy: 0.9296\n",
      "Epoch 4: early stopping\n"
     ]
    }
   ],
   "source": [
    "# Train bi-directional stacked GRU model-\n",
    "train_history_bi_stacked_gru = model_bi_stacked_gru.fit(\n",
    "    x = X_train, y = y_train,\n",
    "    epochs = 10, batch_size = 64,\n",
    "    validation_data = (X_test, y_test),\n",
    "    callbacks = [early_stopping_criterion]\n",
    ")"
   ]
  },
  {
   "cell_type": "code",
   "execution_count": null,
   "metadata": {},
   "outputs": [],
   "source": []
  },
  {
   "cell_type": "code",
   "execution_count": null,
   "metadata": {},
   "outputs": [],
   "source": []
  },
  {
   "cell_type": "code",
   "execution_count": 125,
   "metadata": {},
   "outputs": [
    {
     "data": {
      "image/png": "[encoded data removed]",
      "text/plain": [
       "<Figure size 720x560 with 1 Axes>"
      ]
     },
     "metadata": {},
     "output_type": "display_data"
    }
   ],
   "source": [
    "# Visualize accuracy for LSTMs-\n",
    "plt.figure(figsize = (9, 7), dpi = 80, facecolor = 'w', edgecolor = 'k')\n",
    "\n",
    "plt.plot(train_history.history['accuracy'], label = 'LSTM acc')\n",
    "plt.plot(train_history_stacked_lstm.history['accuracy'], label = 'Stacked LSTM acc')\n",
    "plt.plot(train_history_bi_lstm.history['accuracy'], label = 'Bi-LSTM acc')\n",
    "plt.plot(train_history_bi_lstm.history['val_accuracy'], label = 'Bi-LSTM val acc')\n",
    "plt.plot(train_history_bi_stacked_lstm.history['accuracy'], label = 'Bi-Stacked LSTM acc')\n",
    "plt.plot(train_history_bi_stacked_lstm.history['val_accuracy'], label = 'Bi-Stacked LSTM val acc')\n",
    "plt.plot(train_history.history['val_accuracy'], label = 'LSTM val acc')\n",
    "plt.plot(train_history_stacked_lstm.history['val_accuracy'], label = 'Stacked LSTM val acc')\n",
    "\n",
    "plt.title(\"LSTMs - Accuracy Visualization\")\n",
    "plt.xlabel(\"number of epochs\")\n",
    "plt.ylabel(\"accuracy\")\n",
    "plt.legend(loc = \"best\")\n",
    "\n",
    "plt.show()"
   ]
  },
  {
   "cell_type": "code",
   "execution_count": 126,
   "metadata": {},
   "outputs": [
    {
     "data": {
      "image/png": "[encoded data removed]",
      "text/plain": [
       "<Figure size 720x560 with 1 Axes>"
      ]
     },
     "metadata": {},
     "output_type": "display_data"
    }
   ],
   "source": [
    "# Visualize accuracy for GRUs-\n",
    "plt.figure(figsize = (9, 7), dpi = 80, facecolor = 'w', edgecolor = 'k')\n",
    "\n",
    "plt.plot(train_history_gru.history['accuracy'], label = 'GRU acc')\n",
    "plt.plot(train_history_stacked_gru.history['accuracy'], label = 'Stacked GRU acc')\n",
    "plt.plot(train_history_bi_gru.history['accuracy'], label = 'Bi-GRU acc')\n",
    "plt.plot(train_history_bi_gru.history['val_accuracy'], label = 'Bi-GRU val acc')\n",
    "plt.plot(train_history_bi_stacked_gru.history['accuracy'], label = 'Bi-Stacked GRU GRU acc')\n",
    "plt.plot(train_history_bi_stacked_gru.history['val_accuracy'], label = 'Bi-Stacked GRU val acc')\n",
    "plt.plot(train_history_gru.history['val_accuracy'], label = 'GRU val acc')\n",
    "plt.plot(train_history_stacked_gru.history['val_accuracy'], label = 'Stacked GRU val acc')\n",
    "\n",
    "plt.title(\"GRUs - Accuracy Visualization\")\n",
    "plt.xlabel(\"number of epochs\")\n",
    "plt.ylabel(\"accuracy\")\n",
    "plt.legend(loc = \"best\")\n",
    "\n",
    "plt.show()"
   ]
  },
  {
   "cell_type": "code",
   "execution_count": null,
   "metadata": {},
   "outputs": [],
   "source": []
  },
  {
   "cell_type": "code",
   "execution_count": 127,
   "metadata": {},
   "outputs": [
    {
     "data": {
      "image/png": "[encoded data removed]",
      "text/plain": [
       "<Figure size 720x560 with 1 Axes>"
      ]
     },
     "metadata": {},
     "output_type": "display_data"
    }
   ],
   "source": [
    "# Visualize loss-\n",
    "plt.figure(figsize = (9, 7), dpi = 80, facecolor = 'w', edgecolor = 'k')\n",
    "\n",
    "plt.plot(train_history.history['loss'], label = 'LSTM loss')\n",
    "plt.plot(train_history.history['val_loss'], label = 'LSTM val loss')\n",
    "plt.plot(train_history_bi_lstm.history['loss'], label = 'Bi-LSTM loss')\n",
    "plt.plot(train_history_bi_lstm.history['val_loss'], label = 'Bi-LSTM val loss')\n",
    "plt.plot(train_history_bi_stacked_lstm.history['loss'], label = 'Bi-Stacked LSTM loss')\n",
    "plt.plot(train_history_bi_stacked_lstm.history['val_loss'], label = 'Bi-Stacked LSTM val loss')\n",
    "plt.plot(train_history_stacked_lstm.history['loss'], label = 'Stacked LSTM loss')\n",
    "plt.plot(train_history_stacked_lstm.history['val_loss'], label = 'Stacked LSTM val loss')\n",
    "\n",
    "plt.title(\"LSTMs - Loss Visualization\")\n",
    "plt.xlabel(\"number of epochs\")\n",
    "plt.ylabel(\"loss\")\n",
    "plt.legend(loc = \"best\")\n",
    "\n",
    "plt.show()"
   ]
  },
  {
   "cell_type": "code",
   "execution_count": 128,
   "metadata": {},
   "outputs": [
    {
     "data": {
      "image/png": "[encoded data removed]",
      "text/plain": [
       "<Figure size 720x560 with 1 Axes>"
      ]
     },
     "metadata": {},
     "output_type": "display_data"
    }
   ],
   "source": [
    "# Visualize loss-\n",
    "plt.figure(figsize = (9, 7), dpi = 80, facecolor = 'w', edgecolor = 'k')\n",
    "\n",
    "plt.plot(train_history_gru.history['loss'], label = 'GRU loss')\n",
    "plt.plot(train_history_gru.history['val_loss'], label = 'GRU val loss')\n",
    "plt.plot(train_history_bi_gru.history['loss'], label = 'Bi-GRU loss')\n",
    "plt.plot(train_history_bi_gru.history['val_loss'], label = 'Bi-GRU val loss')\n",
    "plt.plot(train_history_bi_stacked_gru.history['loss'], label = 'Bi-Stacked GRU loss')\n",
    "plt.plot(train_history_bi_stacked_gru.history['val_loss'], label = 'Bi-Stacked GRU val loss')\n",
    "plt.plot(train_history_stacked_gru.history['loss'], label = 'Stacked GRU loss')\n",
    "plt.plot(train_history_stacked_gru.history['val_loss'], label = 'Stacked GRU val loss')\n",
    "\n",
    "plt.title(\"GRUs - Loss Visualization\")\n",
    "plt.xlabel(\"number of epochs\")\n",
    "plt.ylabel(\"loss\")\n",
    "plt.legend(loc = \"best\")\n",
    "\n",
    "plt.show()"
   ]
  },
  {
   "cell_type": "code",
   "execution_count": null,
   "metadata": {},
   "outputs": [],
   "source": []
  },
  {
   "cell_type": "code",
   "execution_count": null,
   "metadata": {},
   "outputs": [],
   "source": []
  },
  {
   "cell_type": "code",
   "execution_count": 157,
   "metadata": {},
   "outputs": [],
   "source": [
    "# Get predictions using LSTMs on validation data-\n",
    "y_pred = model_lstm.predict(X_test)\n",
    "y_pred_stacked = model_stacked_lstm.predict(X_test)\n",
    "y_pred_bi = model_bi_lstm.predict(X_test)\n",
    "y_pred_bi_stacked = model_bi_stacked_lstm.predict(X_test)"
   ]
  },
  {
   "cell_type": "code",
   "execution_count": 158,
   "metadata": {},
   "outputs": [
    {
     "data": {
      "text/plain": [
       "((5486, 1), (5486, 1), (5486, 1), (5486, 1), (5486,))"
      ]
     },
     "execution_count": 158,
     "metadata": {},
     "output_type": "execute_result"
    }
   ],
   "source": [
    "# Sanity check-\n",
    "y_pred.shape, y_pred_stacked.shape, y_pred_bi.shape, y_pred_bi_stacked.shape, y_test.shape"
   ]
  },
  {
   "cell_type": "code",
   "execution_count": 159,
   "metadata": {},
   "outputs": [],
   "source": [
    "# Get 1-D vectors-\n",
    "y_pred = y_pred.flatten()\n",
    "y_pred_stacked = y_pred_stacked.flatten()\n",
    "y_pred_bi = y_pred_bi.flatten()\n",
    "y_pred_bi_stacked = y_pred_bi_stacked.flatten()"
   ]
  },
  {
   "cell_type": "code",
   "execution_count": 160,
   "metadata": {},
   "outputs": [
    {
     "data": {
      "text/plain": [
       "((5486,), (5486,), (5486,), (5486,), (5486,))"
      ]
     },
     "execution_count": 160,
     "metadata": {},
     "output_type": "execute_result"
    }
   ],
   "source": [
    "# Sanity check-\n",
    "y_pred.shape, y_pred_stacked.shape, y_pred_bi.shape, y_pred_bi_stacked.shape, y_test.shape"
   ]
  },
  {
   "cell_type": "code",
   "execution_count": null,
   "metadata": {},
   "outputs": [],
   "source": []
  },
  {
   "cell_type": "code",
   "execution_count": 161,
   "metadata": {},
   "outputs": [
    {
     "data": {
      "image/png": "[encoded data removed]",
      "text/plain": [
       "<Figure size 648x504 with 1 Axes>"
      ]
     },
     "metadata": {
      "needs_background": "light"
     },
     "output_type": "display_data"
    }
   ],
   "source": [
    "plt.figure(figsize = (9, 7))\n",
    "plt.hist(y_pred, bins = int(np.ceil(np.sqrt(y_pred.size))))\n",
    "plt.xlabel(\"binary probability distributions\")\n",
    "plt.ylabel(\"count\")\n",
    "plt.title(\"Single LSTM predicted probability distributions\")\n",
    "plt.show()"
   ]
  },
  {
   "cell_type": "code",
   "execution_count": 162,
   "metadata": {},
   "outputs": [
    {
     "data": {
      "image/png": "[encoded data removed]",
      "text/plain": [
       "<Figure size 648x504 with 1 Axes>"
      ]
     },
     "metadata": {
      "needs_background": "light"
     },
     "output_type": "display_data"
    }
   ],
   "source": [
    "plt.figure(figsize = (9, 7))\n",
    "plt.hist(y_pred, bins = int(np.ceil(np.sqrt(y_pred_stacked.size))))\n",
    "plt.xlabel(\"binary probability distributions\")\n",
    "plt.ylabel(\"count\")\n",
    "plt.title(\"Stacked LSTM predicted probability distributions\")\n",
    "plt.show()"
   ]
  },
  {
   "cell_type": "code",
   "execution_count": null,
   "metadata": {},
   "outputs": [],
   "source": []
  },
  {
   "cell_type": "code",
   "execution_count": 165,
   "metadata": {},
   "outputs": [],
   "source": [
    "# Convert from probabilities to binary labels-\n",
    "y_pred = np.where(y_pred < 0.5, 0, 1)\n",
    "y_pred_stacked = np.where(y_pred_stacked < 0.5, 0, 1)\n",
    "y_pred_bi = np.where(y_pred_bi < 0.5, 0, 1)\n",
    "y_pred_bi_stacked = np.where(y_pred_bi_stacked < 0.5, 0, 1)"
   ]
  },
  {
   "cell_type": "code",
   "execution_count": null,
   "metadata": {},
   "outputs": [],
   "source": []
  },
  {
   "cell_type": "code",
   "execution_count": 166,
   "metadata": {},
   "outputs": [
    {
     "name": "stdout",
     "output_type": "stream",
     "text": [
      "Single-LSTM consufion matrix:\n",
      "[[2817  292]\n",
      " [  88 2289]]\n"
     ]
    }
   ],
   "source": [
    "# Confusion matrix for single LSTM-\n",
    "print(f\"Single-LSTM consufion matrix:\\n{confusion_matrix(y_true = y_test, y_pred = y_pred)}\")"
   ]
  },
  {
   "cell_type": "code",
   "execution_count": 167,
   "metadata": {},
   "outputs": [
    {
     "name": "stdout",
     "output_type": "stream",
     "text": [
      "Stacked-LSTM consufion matrix:\n",
      "[[2888  221]\n",
      " [ 148 2229]]\n"
     ]
    }
   ],
   "source": [
    "# Confusion matrix for stacked LSTM-\n",
    "print(f\"Stacked-LSTM consufion matrix:\\n{confusion_matrix(y_true = y_test, y_pred = y_pred_stacked)}\")"
   ]
  },
  {
   "cell_type": "code",
   "execution_count": 168,
   "metadata": {},
   "outputs": [
    {
     "name": "stdout",
     "output_type": "stream",
     "text": [
      "Bi-directional LSTM consufion matrix:\n",
      "[[2850  259]\n",
      " [  90 2287]]\n"
     ]
    }
   ],
   "source": [
    "# Confusion matrix for bi-directional LSTM-\n",
    "print(f\"Bi-directional LSTM consufion matrix:\\n{confusion_matrix(y_true = y_test, y_pred = y_pred_bi)}\")"
   ]
  },
  {
   "cell_type": "code",
   "execution_count": 169,
   "metadata": {},
   "outputs": [
    {
     "name": "stdout",
     "output_type": "stream",
     "text": [
      "Bi-directional Stacked-LSTM consufion matrix:\n",
      "[[2852  257]\n",
      " [ 137 2240]]\n"
     ]
    }
   ],
   "source": [
    "# Confusion matrix for bi-directional stacked LSTM-\n",
    "print(f\"Bi-directional Stacked-LSTM consufion matrix:\\n{confusion_matrix(y_true = y_test, y_pred = y_pred_bi_stacked)}\")"
   ]
  },
  {
   "cell_type": "code",
   "execution_count": null,
   "metadata": {},
   "outputs": [],
   "source": []
  },
  {
   "cell_type": "code",
   "execution_count": 147,
   "metadata": {},
   "outputs": [],
   "source": [
    "# Get predictions using GRUs on validation data-\n",
    "y_pred_gru = model_gru.predict(X_test)\n",
    "y_pred_stacked_gru = model_stacked_gru.predict(X_test)\n",
    "y_pred_bi_gru = model_bi_gru.predict(X_test)\n",
    "y_pred_bi_stacked_gru = model_bi_stacked_gru.predict(X_test)"
   ]
  },
  {
   "cell_type": "code",
   "execution_count": 148,
   "metadata": {},
   "outputs": [
    {
     "data": {
      "text/plain": [
       "((5486, 1), (5486, 1), (5486, 1), (5486, 1), (5486,))"
      ]
     },
     "execution_count": 148,
     "metadata": {},
     "output_type": "execute_result"
    }
   ],
   "source": [
    "# Sanity check-\n",
    "y_pred_gru.shape, y_pred_stacked_gru.shape, y_pred_bi_gru.shape, y_pred_bi_stacked_gru.shape, y_test.shape"
   ]
  },
  {
   "cell_type": "code",
   "execution_count": 149,
   "metadata": {},
   "outputs": [],
   "source": [
    "# Get 1-D vectors-\n",
    "y_pred_gru = y_pred_gru.flatten()\n",
    "y_pred_stacked_gru = y_pred_stacked_gru.flatten()\n",
    "y_pred_bi_gru = y_pred_bi_gru.flatten()\n",
    "y_pred_bi_stacked_gru = y_pred_bi_stacked_gru.flatten()"
   ]
  },
  {
   "cell_type": "code",
   "execution_count": 150,
   "metadata": {},
   "outputs": [
    {
     "data": {
      "text/plain": [
       "((5486,), (5486,), (5486,), (5486,), (5486,))"
      ]
     },
     "execution_count": 150,
     "metadata": {},
     "output_type": "execute_result"
    }
   ],
   "source": [
    "# Sanity check-\n",
    "y_pred_gru.shape, y_pred_stacked_gru.shape, y_pred_bi_gru.shape, y_pred_bi_stacked_gru.shape, y_test.shape"
   ]
  },
  {
   "cell_type": "code",
   "execution_count": null,
   "metadata": {},
   "outputs": [],
   "source": []
  },
  {
   "cell_type": "code",
   "execution_count": 163,
   "metadata": {},
   "outputs": [
    {
     "data": {
      "image/png": "[encoded data removed]",
      "text/plain": [
       "<Figure size 648x504 with 1 Axes>"
      ]
     },
     "metadata": {
      "needs_background": "light"
     },
     "output_type": "display_data"
    }
   ],
   "source": [
    "plt.figure(figsize = (9, 7))\n",
    "plt.hist(y_pred, bins = int(np.ceil(np.sqrt(y_pred_stacked_gru.size))))\n",
    "plt.xlabel(\"binary probability distributions\")\n",
    "plt.ylabel(\"count\")\n",
    "plt.title(\"Stacked GRU predicted probability distributions\")\n",
    "plt.show()"
   ]
  },
  {
   "cell_type": "code",
   "execution_count": null,
   "metadata": {},
   "outputs": [],
   "source": []
  },
  {
   "cell_type": "code",
   "execution_count": 151,
   "metadata": {},
   "outputs": [],
   "source": [
    "# Convert from probabilities to binary labels-\n",
    "y_pred_gru = np.where(y_pred_gru < 0.5, 0, 1)\n",
    "y_pred_stacked_gru = np.where(y_pred_stacked_gru < 0.5, 0, 1)\n",
    "y_pred_bi_gru = np.where(y_pred_bi_gru < 0.5, 0, 1)\n",
    "y_pred_bi_stacked_gru = np.where(y_pred_bi_stacked_gru < 0.5, 0, 1)"
   ]
  },
  {
   "cell_type": "code",
   "execution_count": null,
   "metadata": {},
   "outputs": [],
   "source": []
  },
  {
   "cell_type": "code",
   "execution_count": 152,
   "metadata": {},
   "outputs": [
    {
     "name": "stdout",
     "output_type": "stream",
     "text": [
      "Single-GRU consufion matrix:\n",
      "[[2905  204]\n",
      " [ 146 2231]]\n"
     ]
    }
   ],
   "source": [
    "# Confusion matrix for single GRU-\n",
    "print(f\"Single-GRU consufion matrix:\\n{confusion_matrix(y_true = y_test, y_pred = y_pred_gru)}\")"
   ]
  },
  {
   "cell_type": "code",
   "execution_count": 153,
   "metadata": {},
   "outputs": [
    {
     "name": "stdout",
     "output_type": "stream",
     "text": [
      "Stacked-GRU consufion matrix:\n",
      "[[2884  225]\n",
      " [ 130 2247]]\n"
     ]
    }
   ],
   "source": [
    "# Confusion matrix for stacked GRUs-\n",
    "print(f\"Stacked-GRU consufion matrix:\\n{confusion_matrix(y_true = y_test, y_pred = y_pred_stacked_gru)}\")"
   ]
  },
  {
   "cell_type": "code",
   "execution_count": 154,
   "metadata": {},
   "outputs": [
    {
     "name": "stdout",
     "output_type": "stream",
     "text": [
      "Bi-directional GRU consufion matrix:\n",
      "[[2812  297]\n",
      " [ 105 2272]]\n"
     ]
    }
   ],
   "source": [
    "# Confusion matrix for bi-directional GRU-\n",
    "print(f\"Bi-directional GRU consufion matrix:\\n{confusion_matrix(y_true = y_test, y_pred = y_pred_bi_gru)}\")"
   ]
  },
  {
   "cell_type": "code",
   "execution_count": 155,
   "metadata": {},
   "outputs": [
    {
     "name": "stdout",
     "output_type": "stream",
     "text": [
      "Bi-directional Stacked-GRU consufion matrix:\n",
      "[[2810  299]\n",
      " [  89 2288]]\n"
     ]
    }
   ],
   "source": [
    "# Confusion matrix for bi-directional stacked GRU-\n",
    "print(f\"Bi-directional Stacked-GRU consufion matrix:\\n{confusion_matrix(y_true = y_test, y_pred = y_pred_bi_stacked_gru)}\")"
   ]
  },
  {
   "cell_type": "code",
   "execution_count": null,
   "metadata": {},
   "outputs": [],
   "source": []
  },
  {
   "cell_type": "code",
   "execution_count": null,
   "metadata": {},
   "outputs": [],
   "source": []
  },
  {
   "cell_type": "code",
   "execution_count": 170,
   "metadata": {},
   "outputs": [],
   "source": [
    "# Get validation accuracy for different LSTM models-\n",
    "val_acc_lstm = accuracy_score(y_true = y_test, y_pred = y_pred)\n",
    "val_acc_stacked_lstm = accuracy_score(y_true = y_test, y_pred = y_pred_stacked)\n",
    "val_acc_bi_lstm = accuracy_score(y_true = y_test, y_pred = y_pred_bi)\n",
    "val_acc_bi_stacked = accuracy_score(y_true = y_test, y_pred = y_pred_bi_stacked)"
   ]
  },
  {
   "cell_type": "code",
   "execution_count": 171,
   "metadata": {},
   "outputs": [
    {
     "name": "stdout",
     "output_type": "stream",
     "text": [
      "Validation accuracy for different LSTM models:\n",
      "Single = 93.07%, Stacked = 93.27%, Bi-directional = 93.64% & Bi-direcational stacked = 92.82%\n"
     ]
    }
   ],
   "source": [
    "print(\"Validation accuracy for different LSTM models:\")\n",
    "print(f\"Single = {val_acc_lstm * 100:.2f}%, Stacked = {val_acc_stacked_lstm * 100:.2f}%,\"\n",
    "      f\" Bi-directional = {val_acc_bi_lstm * 100:.2f}% & Bi-direcational stacked = \"\n",
    "      f\"{val_acc_bi_stacked * 100:.2f}%\")"
   ]
  },
  {
   "cell_type": "code",
   "execution_count": null,
   "metadata": {},
   "outputs": [],
   "source": []
  },
  {
   "cell_type": "code",
   "execution_count": 172,
   "metadata": {},
   "outputs": [],
   "source": [
    "# Get validationa accuracy for different GRU models-\n",
    "val_acc_gru = accuracy_score(y_true = y_test, y_pred = y_pred_gru)\n",
    "val_acc_stacked_gru = accuracy_score(y_true = y_test, y_pred = y_pred_bi_stacked)\n",
    "val_acc_bi_gru = accuracy_score(y_true = y_test, y_pred = y_pred_bi_gru)\n",
    "val_acc_bi_stacked_gru = accuracy_score(y_true = y_test, y_pred = y_pred_bi_stacked_gru)"
   ]
  },
  {
   "cell_type": "code",
   "execution_count": 173,
   "metadata": {},
   "outputs": [
    {
     "name": "stdout",
     "output_type": "stream",
     "text": [
      "Validation accuracy for different GRU models:\n",
      "Single = 93.62%, Stacked = 92.82%, Bi-directional = 92.67% & Bi-directional stacked = 92.93%\n"
     ]
    }
   ],
   "source": [
    "print(f\"Validation accuracy for different GRU models:\")\n",
    "print(f\"Single = {val_acc_gru * 100:.2f}%, Stacked = {val_acc_stacked_gru * 100:.2f}%,\"\n",
    "      f\" Bi-directional = {val_acc_bi_gru * 100:.2f}% & Bi-directional stacked = \"\n",
    "      f\"{val_acc_bi_stacked_gru * 100:.2f}%\")"
   ]
  },
  {
   "cell_type": "markdown",
   "metadata": {},
   "source": [
    "#### Observation:\n",
    "\n",
    "For this code example, it seems that _Bi-directional LSTM_ architecture has the highest validation accuracy = 93.64%. "
   ]
  },
  {
   "cell_type": "code",
   "execution_count": null,
   "metadata": {},
   "outputs": [],
   "source": []
  },
  {
   "cell_type": "code",
   "execution_count": null,
   "metadata": {},
   "outputs": [],
   "source": []
  },
  {
   "cell_type": "code",
   "execution_count": 174,
   "metadata": {},
   "outputs": [
    {
     "name": "stdout",
     "output_type": "stream",
     "text": [
      "172/172 [==============================] - 1s 5ms/step - loss: 0.1656 - accuracy: 0.9307\n"
     ]
    }
   ],
   "source": [
    "# Compute trained model's validation accuracy and loss-\n",
    "val_loss, val_acc = model_lstm.evaluate(X_test, y_test, verbose = 1)"
   ]
  },
  {
   "cell_type": "code",
   "execution_count": 175,
   "metadata": {},
   "outputs": [
    {
     "name": "stdout",
     "output_type": "stream",
     "text": [
      "172/172 [==============================] - 1s 8ms/step - loss: 0.1708 - accuracy: 0.9327\n"
     ]
    }
   ],
   "source": [
    "val_loss_stacked, val_acc_stacked = model_stacked_lstm.evaluate(X_test, y_test, verbose = 1)"
   ]
  },
  {
   "cell_type": "code",
   "execution_count": 176,
   "metadata": {},
   "outputs": [
    {
     "name": "stdout",
     "output_type": "stream",
     "text": [
      "172/172 [==============================] - 1s 8ms/step - loss: 0.1557 - accuracy: 0.9364\n"
     ]
    }
   ],
   "source": [
    "val_loss_bi, val_acc_bi = model_bi_lstm.evaluate(X_test, y_test, verbose = 1)"
   ]
  },
  {
   "cell_type": "code",
   "execution_count": 177,
   "metadata": {},
   "outputs": [
    {
     "name": "stdout",
     "output_type": "stream",
     "text": [
      "172/172 [==============================] - 2s 14ms/step - loss: 0.1705 - accuracy: 0.9282\n"
     ]
    }
   ],
   "source": [
    "val_loss_bi_stacked, val_acc_bi_stacked = model_bi_stacked_lstm.evaluate(X_test, y_test, verbose = 1)"
   ]
  },
  {
   "cell_type": "code",
   "execution_count": null,
   "metadata": {},
   "outputs": [],
   "source": []
  },
  {
   "cell_type": "code",
   "execution_count": 178,
   "metadata": {},
   "outputs": [
    {
     "name": "stdout",
     "output_type": "stream",
     "text": [
      "LSTM trained model's validation loss = 0.1656 & validation accuracy = 93.07%\n",
      "Stacked LSTM trained model's validation loss = 0.1708 & validation accuracy = 93.27%\n",
      "Bi-directional LSTM trained model's validation loss = 0.1557 & validation accuracy = 93.64%\n",
      "Bi-directional Stacked LSTM trained model's validation loss = 0.1705 & validation accuracy = 92.82%\n"
     ]
    }
   ],
   "source": [
    "print(f\"LSTM trained model's validation loss = {val_loss:.4f} & validation accuracy = {val_acc * 100:.2f}%\")\n",
    "print(f\"Stacked LSTM trained model's validation loss = {val_loss_stacked:.4f} & validation accuracy = {val_acc_stacked * 100:.2f}%\")\n",
    "print(f\"Bi-directional LSTM trained model's validation loss = {val_loss_bi:.4f} & validation accuracy = {val_acc_bi * 100:.2f}%\")\n",
    "print(f\"Bi-directional Stacked LSTM trained model's validation loss = {val_loss_bi_stacked:.4f} & validation accuracy = {val_acc_bi_stacked * 100:.2f}%\")"
   ]
  },
  {
   "cell_type": "code",
   "execution_count": null,
   "metadata": {},
   "outputs": [],
   "source": []
  },
  {
   "cell_type": "code",
   "execution_count": null,
   "metadata": {},
   "outputs": [],
   "source": []
  },
  {
   "cell_type": "code",
   "execution_count": 182,
   "metadata": {},
   "outputs": [],
   "source": [
    "# Save Bi-directional LSTM model to HDD-\n",
    "model_bi_lstm.save_weights(\"Kaggle_Fake_News_Bi-directional_LSTM_model.h5\", overwrite = True)"
   ]
  },
  {
   "cell_type": "code",
   "execution_count": 181,
   "metadata": {},
   "outputs": [],
   "source": [
    "# Save single layer GRU model to HDD-\n",
    "model_gru.save_weights(\"Kaggle_Fake_News_GRU_model.h5\", overwrite = True)"
   ]
  },
  {
   "cell_type": "code",
   "execution_count": null,
   "metadata": {},
   "outputs": [],
   "source": []
  },
  {
   "cell_type": "code",
   "execution_count": null,
   "metadata": {},
   "outputs": [],
   "source": []
  }
 ],
 "metadata": {
  "kernelspec": {
   "display_name": "Python 3 (ipykernel)",
   "language": "python",
   "name": "python3"
  },
  "language_info": {
   "codemirror_mode": {
    "name": "ipython",
    "version": 3
   },
   "file_extension": ".py",
   "mimetype": "text/x-python",
   "name": "python",
   "nbconvert_exporter": "python",
   "pygments_lexer": "ipython3",
   "version": "3.9.12"
  }
 },
 "nbformat": 4,
 "nbformat_minor": 4
}
