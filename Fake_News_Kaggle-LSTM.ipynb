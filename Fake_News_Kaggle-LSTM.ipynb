{
 "cells": [
  {
   "cell_type": "markdown",
   "metadata": {},
   "source": [
    "# Kaggle Fake News classification - LSTMs\n",
    "\n",
    "Data description-\n",
    "\n",
    "- id: unique id for a news article\n",
    "- title: the title of a news article\n",
    "- author: author of the news article\n",
    "- text: the text of the article; could be incomplete\n",
    "- label: a label that marks the article as potentially unreliable\n",
    "     - unreliable\n",
    "     - 0: reliable\n",
    "\n",
    "\n",
    "For this code example, __only 'title' attribute is used__. Training on 'text' may take\n",
    "longer to train."
   ]
  },
  {
   "cell_type": "code",
   "execution_count": 1,
   "metadata": {},
   "outputs": [
    {
     "name": "stdout",
     "output_type": "stream",
     "text": [
      "env: CUDA_DEVICE_ORDER=PCI_BUS_ID\n",
      "env: CUDA_VISIBLE_DEVICES=0\n"
     ]
    }
   ],
   "source": [
    "# Specify GPU to be used-\n",
    "%env CUDA_DEVICE_ORDER=PCI_BUS_ID\n",
    "%env CUDA_VISIBLE_DEVICES = 0"
   ]
  },
  {
   "cell_type": "code",
   "execution_count": 83,
   "metadata": {},
   "outputs": [],
   "source": [
    "import pandas as pd\n",
    "import numpy as np\n",
    "import re\n",
    "import nltk\n",
    "from nltk import sent_tokenize, word_tokenize\n",
    "from nltk.probability import FreqDist\n",
    "from nltk.corpus import stopwords\n",
    "from nltk.stem import PorterStemmer, SnowballStemmer, WordNetLemmatizer\n",
    "\n",
    "import matplotlib.pyplot as plt\n",
    "import seaborn as sns\n",
    "\n",
    "from sklearn.model_selection import train_test_split\n",
    "from sklearn.metrics import accuracy_score, precision_score, recall_score\n",
    "\n",
    "import tensorflow\n",
    "from tensorflow.keras.layers import Embedding, LSTM, Dense, Dropout, Bidirectional, GRU\n",
    "from tensorflow.keras.preprocessing.sequence import pad_sequences\n",
    "from tensorflow.keras.preprocessing.text import one_hot\n",
    "from tensorflow.keras.models import Sequential\n",
    "from tensorflow import keras\n",
    "import tensorflow as tf"
   ]
  },
  {
   "cell_type": "code",
   "execution_count": null,
   "metadata": {},
   "outputs": [],
   "source": []
  },
  {
   "cell_type": "code",
   "execution_count": null,
   "metadata": {},
   "outputs": [],
   "source": []
  },
  {
   "cell_type": "code",
   "execution_count": 4,
   "metadata": {},
   "outputs": [
    {
     "name": "stdout",
     "output_type": "stream",
     "text": [
      "TensorFlow version: 2.8.0\n"
     ]
    }
   ],
   "source": [
    "print(f\"TensorFlow version: {tf.__version__}\")"
   ]
  },
  {
   "cell_type": "code",
   "execution_count": 5,
   "metadata": {},
   "outputs": [
    {
     "name": "stdout",
     "output_type": "stream",
     "text": [
      "GPU: [PhysicalDevice(name='/physical_device:GPU:0', device_type='GPU')]\n",
      "GPU details: NVIDIA GeForce RTX 3080\n"
     ]
    },
    {
     "name": "stderr",
     "output_type": "stream",
     "text": [
      "2022-05-13 19:32:05.914335: I tensorflow/stream_executor/cuda/cuda_gpu_executor.cc:936] successful NUMA node read from SysFS had negative value (-1), but there must be at least one NUMA node, so returning NUMA node zero\n",
      "2022-05-13 19:32:05.946223: I tensorflow/stream_executor/cuda/cuda_gpu_executor.cc:936] successful NUMA node read from SysFS had negative value (-1), but there must be at least one NUMA node, so returning NUMA node zero\n",
      "2022-05-13 19:32:05.946380: I tensorflow/stream_executor/cuda/cuda_gpu_executor.cc:936] successful NUMA node read from SysFS had negative value (-1), but there must be at least one NUMA node, so returning NUMA node zero\n",
      "2022-05-13 19:32:05.947108: I tensorflow/stream_executor/cuda/cuda_gpu_executor.cc:936] successful NUMA node read from SysFS had negative value (-1), but there must be at least one NUMA node, so returning NUMA node zero\n"
     ]
    }
   ],
   "source": [
    "# Check GPU availibility-\n",
    "gpu_devices = tf.config.list_physical_devices('GPU')\n",
    "# print(f\"GPU: {gpu_devices}\")\n",
    "\n",
    "if gpu_devices:\n",
    "    print(f\"GPU: {gpu_devices}\")\n",
    "    details = tf.config.experimental.get_device_details(gpu_devices[0])\n",
    "    print(f\"GPU details: {details.get('device_name', 'Unknown GPU')}\")\n",
    "else:\n",
    "    print(\"No GPU found\")"
   ]
  },
  {
   "cell_type": "code",
   "execution_count": null,
   "metadata": {},
   "outputs": [],
   "source": []
  },
  {
   "cell_type": "code",
   "execution_count": null,
   "metadata": {},
   "outputs": [],
   "source": []
  },
  {
   "cell_type": "code",
   "execution_count": 6,
   "metadata": {},
   "outputs": [],
   "source": [
    "# Read in CSV file as pd DataFrame-\n",
    "data = pd.read_csv(\"train.csv\")"
   ]
  },
  {
   "cell_type": "code",
   "execution_count": 7,
   "metadata": {},
   "outputs": [
    {
     "data": {
      "text/plain": [
       "(20800, 5)"
      ]
     },
     "execution_count": 7,
     "metadata": {},
     "output_type": "execute_result"
    }
   ],
   "source": [
    "# Get shape/dimension-\n",
    "data.shape"
   ]
  },
  {
   "cell_type": "code",
   "execution_count": 8,
   "metadata": {},
   "outputs": [
    {
     "data": {
      "text/plain": [
       "['id', 'title', 'author', 'text', 'label']"
      ]
     },
     "execution_count": 8,
     "metadata": {},
     "output_type": "execute_result"
    }
   ],
   "source": [
    "# Get columns/attribute names-\n",
    "data.columns.tolist()"
   ]
  },
  {
   "cell_type": "code",
   "execution_count": 9,
   "metadata": {},
   "outputs": [
    {
     "data": {
      "text/plain": [
       "id         int64\n",
       "title     object\n",
       "author    object\n",
       "text      object\n",
       "label      int64\n",
       "dtype: object"
      ]
     },
     "execution_count": 9,
     "metadata": {},
     "output_type": "execute_result"
    }
   ],
   "source": [
    "# Check data types for all attributes-\n",
    "data.dtypes"
   ]
  },
  {
   "cell_type": "code",
   "execution_count": 10,
   "metadata": {},
   "outputs": [
    {
     "data": {
      "text/plain": [
       "1    10413\n",
       "0    10387\n",
       "Name: label, dtype: int64"
      ]
     },
     "execution_count": 10,
     "metadata": {},
     "output_type": "execute_result"
    }
   ],
   "source": [
    "# Get target attribute distribution-\n",
    "data['label'].value_counts()\n",
    "\n",
    "# Remeber that-\n",
    "# 1: unreliable\n",
    "# 0: reliable"
   ]
  },
  {
   "cell_type": "code",
   "execution_count": 11,
   "metadata": {},
   "outputs": [
    {
     "data": {
      "image/png": "[encoded data removed]",
      "text/plain": [
       "<Figure size 504x360 with 1 Axes>"
      ]
     },
     "metadata": {
      "needs_background": "light"
     },
     "output_type": "display_data"
    }
   ],
   "source": [
    "# Visualize data distribution-\n",
    "plt.figure(figsize = (7, 5))\n",
    "data['label'].value_counts().plot(kind = 'bar')\n",
    "plt.xlabel(\"classes\")\n",
    "plt.ylabel(\"count\")\n",
    "plt.xticks(rotation = 0)\n",
    "plt.title(\"Target Distribution Visualization\")\n",
    "plt.show()"
   ]
  },
  {
   "cell_type": "code",
   "execution_count": null,
   "metadata": {},
   "outputs": [],
   "source": []
  },
  {
   "cell_type": "code",
   "execution_count": 12,
   "metadata": {},
   "outputs": [
    {
     "name": "stdout",
     "output_type": "stream",
     "text": [
      "Total number of missing values = 2554\n"
     ]
    }
   ],
   "source": [
    "# Check for total number of missing values-\n",
    "if data.isna().values.any():\n",
    "    print(f\"Total number of missing values = {data.isnull().sum().sum()}\")"
   ]
  },
  {
   "cell_type": "code",
   "execution_count": 13,
   "metadata": {},
   "outputs": [
    {
     "name": "stdout",
     "output_type": "stream",
     "text": [
      "title has 558 NAs\n",
      "author has 1957 NAs\n",
      "text has 39 NAs\n"
     ]
    }
   ],
   "source": [
    "# Check for missing values in all of the attributes-\n",
    "for attr in data.columns.tolist():\n",
    "    if data[attr].isna().values.any():\n",
    "        print(f\"{attr} has {data[attr].isna().sum()} NAs\")"
   ]
  },
  {
   "cell_type": "code",
   "execution_count": 14,
   "metadata": {},
   "outputs": [
    {
     "data": {
      "text/plain": [
       "(20800, 5)"
      ]
     },
     "execution_count": 14,
     "metadata": {},
     "output_type": "execute_result"
    }
   ],
   "source": [
    "# Dataset shape before deleting NAs-\n",
    "data.shape"
   ]
  },
  {
   "cell_type": "code",
   "execution_count": 15,
   "metadata": {},
   "outputs": [],
   "source": [
    "# Delete all rows having any missing value in them-\n",
    "data = data.dropna(axis = 0, how = 'any')"
   ]
  },
  {
   "cell_type": "code",
   "execution_count": 16,
   "metadata": {},
   "outputs": [
    {
     "data": {
      "text/plain": [
       "(18285, 5)"
      ]
     },
     "execution_count": 16,
     "metadata": {},
     "output_type": "execute_result"
    }
   ],
   "source": [
    "# Check dimension of data after dropping missing values-\n",
    "data.shape"
   ]
  },
  {
   "cell_type": "code",
   "execution_count": 17,
   "metadata": {},
   "outputs": [
    {
     "data": {
      "text/plain": [
       "False"
      ]
     },
     "execution_count": 17,
     "metadata": {},
     "output_type": "execute_result"
    }
   ],
   "source": [
    "# Sanity check-\n",
    "data.isna().values.any()"
   ]
  },
  {
   "cell_type": "code",
   "execution_count": null,
   "metadata": {},
   "outputs": [],
   "source": []
  },
  {
   "cell_type": "code",
   "execution_count": 18,
   "metadata": {},
   "outputs": [],
   "source": [
    "# Extract features (X) and label (y)-\n",
    "X = data.drop(['id', 'label'], axis = 1)\n",
    "y = data['label']"
   ]
  },
  {
   "cell_type": "code",
   "execution_count": 19,
   "metadata": {},
   "outputs": [
    {
     "data": {
      "text/plain": [
       "((18285, 3), (18285,))"
      ]
     },
     "execution_count": 19,
     "metadata": {},
     "output_type": "execute_result"
    }
   ],
   "source": [
    "X.shape, y.shape"
   ]
  },
  {
   "cell_type": "code",
   "execution_count": 20,
   "metadata": {},
   "outputs": [
    {
     "data": {
      "text/html": [
       "<div>\n",
       "<style scoped>\n",
       "    .dataframe tbody tr th:only-of-type {\n",
       "        vertical-align: middle;\n",
       "    }\n",
       "\n",
       "    .dataframe tbody tr th {\n",
       "        vertical-align: top;\n",
       "    }\n",
       "\n",
       "    .dataframe thead th {\n",
       "        text-align: right;\n",
       "    }\n",
       "</style>\n",
       "<table border=\"1\" class=\"dataframe\">\n",
       "  <thead>\n",
       "    <tr style=\"text-align: right;\">\n",
       "      <th></th>\n",
       "      <th>title</th>\n",
       "      <th>author</th>\n",
       "      <th>text</th>\n",
       "    </tr>\n",
       "  </thead>\n",
       "  <tbody>\n",
       "    <tr>\n",
       "      <th>0</th>\n",
       "      <td>House Dem Aide: We Didn’t Even See Comey’s Let...</td>\n",
       "      <td>Darrell Lucus</td>\n",
       "      <td>House Dem Aide: We Didn’t Even See Comey’s Let...</td>\n",
       "    </tr>\n",
       "    <tr>\n",
       "      <th>1</th>\n",
       "      <td>FLYNN: Hillary Clinton, Big Woman on Campus - ...</td>\n",
       "      <td>Daniel J. Flynn</td>\n",
       "      <td>Ever get the feeling your life circles the rou...</td>\n",
       "    </tr>\n",
       "    <tr>\n",
       "      <th>2</th>\n",
       "      <td>Why the Truth Might Get You Fired</td>\n",
       "      <td>Consortiumnews.com</td>\n",
       "      <td>Why the Truth Might Get You Fired October 29, ...</td>\n",
       "    </tr>\n",
       "    <tr>\n",
       "      <th>3</th>\n",
       "      <td>15 Civilians Killed In Single US Airstrike Hav...</td>\n",
       "      <td>Jessica Purkiss</td>\n",
       "      <td>Videos 15 Civilians Killed In Single US Airstr...</td>\n",
       "    </tr>\n",
       "    <tr>\n",
       "      <th>4</th>\n",
       "      <td>Iranian woman jailed for fictional unpublished...</td>\n",
       "      <td>Howard Portnoy</td>\n",
       "      <td>Print \\nAn Iranian woman has been sentenced to...</td>\n",
       "    </tr>\n",
       "  </tbody>\n",
       "</table>\n",
       "</div>"
      ],
      "text/plain": [
       "                                               title              author  \\\n",
       "0  House Dem Aide: We Didn’t Even See Comey’s Let...       Darrell Lucus   \n",
       "1  FLYNN: Hillary Clinton, Big Woman on Campus - ...     Daniel J. Flynn   \n",
       "2                  Why the Truth Might Get You Fired  Consortiumnews.com   \n",
       "3  15 Civilians Killed In Single US Airstrike Hav...     Jessica Purkiss   \n",
       "4  Iranian woman jailed for fictional unpublished...      Howard Portnoy   \n",
       "\n",
       "                                                text  \n",
       "0  House Dem Aide: We Didn’t Even See Comey’s Let...  \n",
       "1  Ever get the feeling your life circles the rou...  \n",
       "2  Why the Truth Might Get You Fired October 29, ...  \n",
       "3  Videos 15 Civilians Killed In Single US Airstr...  \n",
       "4  Print \\nAn Iranian woman has been sentenced to...  "
      ]
     },
     "execution_count": 20,
     "metadata": {},
     "output_type": "execute_result"
    }
   ],
   "source": [
    "# Sanity check-\n",
    "X.head()"
   ]
  },
  {
   "cell_type": "code",
   "execution_count": 21,
   "metadata": {},
   "outputs": [
    {
     "data": {
      "text/plain": [
       "0    1\n",
       "1    0\n",
       "2    1\n",
       "3    1\n",
       "4    1\n",
       "Name: label, dtype: int64"
      ]
     },
     "execution_count": 21,
     "metadata": {},
     "output_type": "execute_result"
    }
   ],
   "source": [
    "y[:5]"
   ]
  },
  {
   "cell_type": "code",
   "execution_count": null,
   "metadata": {},
   "outputs": [],
   "source": []
  },
  {
   "cell_type": "code",
   "execution_count": null,
   "metadata": {},
   "outputs": [],
   "source": []
  },
  {
   "cell_type": "code",
   "execution_count": 22,
   "metadata": {},
   "outputs": [
    {
     "name": "stderr",
     "output_type": "stream",
     "text": [
      "[nltk_data] Downloading package punkt to /home/arjun/nltk_data...\n",
      "[nltk_data]   Unzipping tokenizers/punkt.zip.\n",
      "[nltk_data] Downloading package stopwords to /home/arjun/nltk_data...\n",
      "[nltk_data]   Unzipping corpora/stopwords.zip.\n"
     ]
    },
    {
     "data": {
      "text/plain": [
       "True"
      ]
     },
     "execution_count": 22,
     "metadata": {},
     "output_type": "execute_result"
    }
   ],
   "source": [
    "# nltk.download('punkt')\n",
    "# nltk.download('stopwords')\n",
    "# nltk.download('wordnet')"
   ]
  },
  {
   "cell_type": "code",
   "execution_count": null,
   "metadata": {},
   "outputs": [],
   "source": []
  },
  {
   "cell_type": "code",
   "execution_count": null,
   "metadata": {},
   "outputs": [],
   "source": []
  },
  {
   "cell_type": "markdown",
   "metadata": {},
   "source": [
    "Whenever we are providing input to 'Embedding' layer, we have to make sure that we keep our input size/length fixed. And for that, we need to pad either in front or back and we need 'pad_sequence' for that, so that the sentences become equal in length.\n",
    "\n",
    "'one_hot' is used to convert the sentences into one-hot representation, given a vocabulary size.\n",
    "\n",
    "Since this is a classification problem, the final layer should have one output layer which can output the probability needed for binary classification."
   ]
  },
  {
   "cell_type": "code",
   "execution_count": 23,
   "metadata": {},
   "outputs": [],
   "source": [
    "# Define the vocabulary/dictionary size.\n",
    "# Our sentences comprises of all these words and nothing else.\n",
    "vocab_size = 10000\n",
    "# NOTE: changing this to 5000 may lead to a slight difference in the accuracy"
   ]
  },
  {
   "cell_type": "code",
   "execution_count": 24,
   "metadata": {},
   "outputs": [],
   "source": [
    "messages = X.copy()"
   ]
  },
  {
   "cell_type": "code",
   "execution_count": 25,
   "metadata": {},
   "outputs": [
    {
     "data": {
      "text/plain": [
       "(18285, 3)"
      ]
     },
     "execution_count": 25,
     "metadata": {},
     "output_type": "execute_result"
    }
   ],
   "source": [
    "messages.shape"
   ]
  },
  {
   "cell_type": "code",
   "execution_count": 26,
   "metadata": {},
   "outputs": [],
   "source": [
    "# Reset indices since we dropped the missing values-\n",
    "messages.reset_index(inplace = True)"
   ]
  },
  {
   "cell_type": "code",
   "execution_count": null,
   "metadata": {},
   "outputs": [],
   "source": []
  },
  {
   "cell_type": "code",
   "execution_count": null,
   "metadata": {},
   "outputs": [],
   "source": []
  },
  {
   "cell_type": "markdown",
   "metadata": {},
   "source": [
    "## Use ```title``` attribute to perform _sentiment classification_."
   ]
  },
  {
   "cell_type": "markdown",
   "metadata": {},
   "source": [
    "### Text Pre-processing:\n",
    "\n",
    "1. Remove non-alpha numeric characters from raw text.\n",
    "1. Convert all text to lower-case.\n",
    "1. Tokenize words using ```split()``` (other tokenizers can also be experimented with).\n",
    "1. Use stemmer/lemmatizer\n",
    "1. Join _cleaned_ corpus back as a string."
   ]
  },
  {
   "cell_type": "code",
   "execution_count": 27,
   "metadata": {},
   "outputs": [],
   "source": [
    "from nltk.tokenize import RegexpTokenizer"
   ]
  },
  {
   "cell_type": "code",
   "execution_count": 28,
   "metadata": {},
   "outputs": [],
   "source": [
    "# Create an instance of RegexpTokenizer for alphanumeric tokens\n",
    "tokeniser = RegexpTokenizer(r'\\w+')"
   ]
  },
  {
   "cell_type": "code",
   "execution_count": 29,
   "metadata": {},
   "outputs": [],
   "source": [
    "title_str = messages['title'].astype(str)"
   ]
  },
  {
   "cell_type": "code",
   "execution_count": 30,
   "metadata": {},
   "outputs": [],
   "source": [
    "# Tokenize 'title' attribute-\n",
    "title_tokens = messages['title'].astype(str).apply(tokeniser.tokenize)"
   ]
  },
  {
   "cell_type": "code",
   "execution_count": null,
   "metadata": {},
   "outputs": [],
   "source": []
  },
  {
   "cell_type": "code",
   "execution_count": 31,
   "metadata": {},
   "outputs": [],
   "source": [
    "def remove_stopwords(text):\n",
    "    '''\n",
    "    Remove stop-words from input: pd.Series 'text'\n",
    "    as input.\n",
    "    '''\n",
    "    return [word for word in text if not word in stopwords.words('english')]\n"
   ]
  },
  {
   "cell_type": "code",
   "execution_count": 32,
   "metadata": {},
   "outputs": [],
   "source": [
    "# Remove stop-words-\n",
    "title_cleaned = title_tokens.apply(remove_stopwords)"
   ]
  },
  {
   "cell_type": "code",
   "execution_count": 33,
   "metadata": {},
   "outputs": [
    {
     "data": {
      "text/plain": [
       "0    [House, Dem, Aide, We, Didn, Even, See, Comey,...\n",
       "1    [FLYNN, Hillary, Clinton, Big, Woman, Campus, ...\n",
       "2                 [Why, Truth, Might, Get, You, Fired]\n",
       "3    [15, Civilians, Killed, In, Single, US, Airstr...\n",
       "4    [Iranian, woman, jailed, fictional, unpublishe...\n",
       "Name: title, dtype: object"
      ]
     },
     "execution_count": 33,
     "metadata": {},
     "output_type": "execute_result"
    }
   ],
   "source": [
    "# Sanity check-\n",
    "title_cleaned.head()"
   ]
  },
  {
   "cell_type": "code",
   "execution_count": null,
   "metadata": {},
   "outputs": [],
   "source": []
  },
  {
   "cell_type": "code",
   "execution_count": 34,
   "metadata": {},
   "outputs": [],
   "source": [
    "# Initialize a WordNetLemmatizer-\n",
    "lemmatiser = WordNetLemmatizer()"
   ]
  },
  {
   "cell_type": "code",
   "execution_count": null,
   "metadata": {},
   "outputs": [],
   "source": []
  },
  {
   "cell_type": "code",
   "execution_count": 35,
   "metadata": {},
   "outputs": [],
   "source": [
    "def lemmatize_text(text):\n",
    "    '''\n",
    "    Lemmatize input: pd.Series 'text' as\n",
    "    input.\n",
    "    '''\n",
    "    # return [lemmatizer.lemmatize(w) for w in w_tokenizer.tokenize(text)]\n",
    "    return [lemmatiser.lemmatize(w.lower(), pos = 'v') for w in text]\n"
   ]
  },
  {
   "cell_type": "code",
   "execution_count": null,
   "metadata": {},
   "outputs": [],
   "source": []
  },
  {
   "cell_type": "code",
   "execution_count": 39,
   "metadata": {},
   "outputs": [
    {
     "name": "stderr",
     "output_type": "stream",
     "text": [
      "[nltk_data] Downloading package omw-1.4 to /home/arjun/nltk_data...\n",
      "[nltk_data]   Unzipping corpora/omw-1.4.zip.\n"
     ]
    },
    {
     "data": {
      "text/plain": [
       "True"
      ]
     },
     "execution_count": 39,
     "metadata": {},
     "output_type": "execute_result"
    }
   ],
   "source": [
    "# nltk.download('omw-1.4')"
   ]
  },
  {
   "cell_type": "code",
   "execution_count": 40,
   "metadata": {},
   "outputs": [],
   "source": [
    "# Lemmatize tokenised 'title'-\n",
    "title_lemmatized = title_cleaned.apply(lemmatize_text)"
   ]
  },
  {
   "cell_type": "code",
   "execution_count": 41,
   "metadata": {},
   "outputs": [
    {
     "data": {
      "text/plain": [
       "0    [house, dem, aide, we, didn, even, see, comey,...\n",
       "1    [flynn, hillary, clinton, big, woman, campus, ...\n",
       "2                  [why, truth, might, get, you, fire]\n",
       "3    [15, civilians, kill, in, single, us, airstrik...\n",
       "4    [iranian, woman, jail, fictional, unpublished,...\n",
       "Name: title, dtype: object"
      ]
     },
     "execution_count": 41,
     "metadata": {},
     "output_type": "execute_result"
    }
   ],
   "source": [
    "# Sanity check-\n",
    "title_lemmatized.head()"
   ]
  },
  {
   "cell_type": "code",
   "execution_count": 42,
   "metadata": {},
   "outputs": [],
   "source": [
    "del title_cleaned, title_tokens"
   ]
  },
  {
   "cell_type": "code",
   "execution_count": null,
   "metadata": {},
   "outputs": [],
   "source": []
  },
  {
   "cell_type": "code",
   "execution_count": 43,
   "metadata": {},
   "outputs": [],
   "source": [
    "# Convert to list-\n",
    "title_lemmatized_l = title_lemmatized.to_list()"
   ]
  },
  {
   "cell_type": "code",
   "execution_count": 44,
   "metadata": {},
   "outputs": [
    {
     "data": {
      "text/plain": [
       "18285"
      ]
     },
     "execution_count": 44,
     "metadata": {},
     "output_type": "execute_result"
    }
   ],
   "source": [
    "len(title_lemmatized_l)"
   ]
  },
  {
   "cell_type": "code",
   "execution_count": 45,
   "metadata": {},
   "outputs": [
    {
     "data": {
      "text/plain": [
       "['jackie',\n",
       " 'mason',\n",
       " 'hollywood',\n",
       " 'would',\n",
       " 'love',\n",
       " 'trump',\n",
       " 'he',\n",
       " 'bomb',\n",
       " 'north',\n",
       " 'korea',\n",
       " 'lack',\n",
       " 'trans',\n",
       " 'bathrooms',\n",
       " 'exclusive',\n",
       " 'video',\n",
       " 'breitbart']"
      ]
     },
     "execution_count": 45,
     "metadata": {},
     "output_type": "execute_result"
    }
   ],
   "source": [
    "# Sanity check-\n",
    "title_lemmatized_l[5]"
   ]
  },
  {
   "cell_type": "code",
   "execution_count": null,
   "metadata": {},
   "outputs": [],
   "source": []
  },
  {
   "cell_type": "code",
   "execution_count": 46,
   "metadata": {},
   "outputs": [],
   "source": [
    "# Python3 list to contain pre-processed &\n",
    "# cleaned text for 'title' attribute-\n",
    "title_final = []"
   ]
  },
  {
   "cell_type": "code",
   "execution_count": 47,
   "metadata": {},
   "outputs": [],
   "source": [
    "for t in title_lemmatized_l:\n",
    "    title_final.append(' '.join(t))"
   ]
  },
  {
   "cell_type": "code",
   "execution_count": 48,
   "metadata": {},
   "outputs": [
    {
     "data": {
      "text/plain": [
       "18285"
      ]
     },
     "execution_count": 48,
     "metadata": {},
     "output_type": "execute_result"
    }
   ],
   "source": [
    "# Sanity check-\n",
    "len(title_final)"
   ]
  },
  {
   "cell_type": "code",
   "execution_count": 49,
   "metadata": {},
   "outputs": [
    {
     "data": {
      "text/plain": [
       "['house dem aide we didn even see comey letter until jason chaffetz tweet it',\n",
       " 'flynn hillary clinton big woman campus breitbart']"
      ]
     },
     "execution_count": 49,
     "metadata": {},
     "output_type": "execute_result"
    }
   ],
   "source": [
    "# Sanity check-\n",
    "title_final[:2]"
   ]
  },
  {
   "cell_type": "code",
   "execution_count": 50,
   "metadata": {},
   "outputs": [
    {
     "name": "stdout",
     "output_type": "stream",
     "text": [
      "Length of cleaned corpus = 18285\n"
     ]
    }
   ],
   "source": [
    "print(f\"Length of cleaned corpus = {len(title_final)}\")"
   ]
  },
  {
   "cell_type": "code",
   "execution_count": 51,
   "metadata": {},
   "outputs": [],
   "source": [
    "del title_lemmatized, title_lemmatized_l"
   ]
  },
  {
   "cell_type": "code",
   "execution_count": null,
   "metadata": {},
   "outputs": [],
   "source": []
  },
  {
   "cell_type": "code",
   "execution_count": 43,
   "metadata": {},
   "outputs": [],
   "source": [
    "\"\"\"\n",
    "# Initialize a Porter Stemmer object-\n",
    "ps = PorterStemmer()\n",
    "\n",
    "# Python3 list to contain processed text-\n",
    "corpus = []\n",
    "\n",
    "for i in range(len(messages)):\n",
    "    # print(i)\n",
    "\n",
    "    # regular expression substitution for anything which is not alphabetical\n",
    "    # with a blank space-\n",
    "    review = re.sub('[^a-zA-Z]', ' ', messages['title'][i])\n",
    "\n",
    "    # convert the remaining text to lower case-\n",
    "    review = review.lower()\n",
    "\n",
    "    # Split the remaining text according to blank space into a list-\n",
    "    review = review.split()\n",
    "\n",
    "    # If a word is not a stop word, do the stemming and store the list of\n",
    "    # words in 'review'-\n",
    "    review = [ps.stem(word) for word in review if not word in stopwords.words('english')]\n",
    "    review = ' '.join(review)\n",
    "\n",
    "    corpus.append(review)\n",
    "\n",
    "\n",
    "print(f\"Length of cleaned corpus = {len(corpus)}\")\n",
    "# Length of cleaned corpus = 18285\n",
    "\n",
    "\"\"\""
   ]
  },
  {
   "cell_type": "code",
   "execution_count": null,
   "metadata": {},
   "outputs": [],
   "source": []
  },
  {
   "cell_type": "code",
   "execution_count": null,
   "metadata": {},
   "outputs": [],
   "source": []
  },
  {
   "cell_type": "markdown",
   "metadata": {},
   "source": [
    "### One-hot representation for 'title' attribute-\n",
    "\n",
    "We need to convert the processed text or 'corpus' into a one-hot representation. In one-hot representation, I require the index of the word based on the vocabulary size."
   ]
  },
  {
   "cell_type": "code",
   "execution_count": 52,
   "metadata": {},
   "outputs": [],
   "source": [
    "# Get one-hot vectors-\n",
    "onehot_messages_representation = [one_hot(words, vocab_size) for words in title_final]"
   ]
  },
  {
   "cell_type": "code",
   "execution_count": 53,
   "metadata": {},
   "outputs": [
    {
     "data": {
      "text/plain": [
       "(list, 18285)"
      ]
     },
     "execution_count": 53,
     "metadata": {},
     "output_type": "execute_result"
    }
   ],
   "source": [
    "type(onehot_messages_representation), len(onehot_messages_representation)"
   ]
  },
  {
   "cell_type": "code",
   "execution_count": 54,
   "metadata": {},
   "outputs": [
    {
     "data": {
      "text/plain": [
       "[[1121,\n",
       "  3197,\n",
       "  6865,\n",
       "  1474,\n",
       "  5863,\n",
       "  7371,\n",
       "  2328,\n",
       "  7920,\n",
       "  3819,\n",
       "  9257,\n",
       "  630,\n",
       "  626,\n",
       "  5484,\n",
       "  2686],\n",
       " [1549, 586, 7810, 5842, 5393, 4902, 5475],\n",
       " [9494, 339, 9891, 3234, 6102, 3037]]"
      ]
     },
     "execution_count": 54,
     "metadata": {},
     "output_type": "execute_result"
    }
   ],
   "source": [
    "# Sanity check-\n",
    "onehot_messages_representation[0:3]\n",
    "\n",
    "# NOTE: all of the one hot representation sentence lengths are different.\n",
    "# Before passing them to the 'Embedding' layer, I have to make them to be of\n",
    "# fixed lenght/size."
   ]
  },
  {
   "cell_type": "code",
   "execution_count": 55,
   "metadata": {},
   "outputs": [
    {
     "data": {
      "text/plain": [
       "'house dem aide we didn even see comey letter until jason chaffetz tweet it'"
      ]
     },
     "execution_count": 55,
     "metadata": {},
     "output_type": "execute_result"
    }
   ],
   "source": [
    "# Further sanity check-\n",
    "title_final[0]"
   ]
  },
  {
   "cell_type": "code",
   "execution_count": 56,
   "metadata": {},
   "outputs": [
    {
     "data": {
      "text/plain": [
       "[1121,\n",
       " 3197,\n",
       " 6865,\n",
       " 1474,\n",
       " 5863,\n",
       " 7371,\n",
       " 2328,\n",
       " 7920,\n",
       " 3819,\n",
       " 9257,\n",
       " 630,\n",
       " 626,\n",
       " 5484,\n",
       " 2686]"
      ]
     },
     "execution_count": 56,
     "metadata": {},
     "output_type": "execute_result"
    }
   ],
   "source": [
    "onehot_messages_representation[0]"
   ]
  },
  {
   "cell_type": "code",
   "execution_count": null,
   "metadata": {},
   "outputs": [],
   "source": []
  },
  {
   "cell_type": "code",
   "execution_count": 57,
   "metadata": {},
   "outputs": [],
   "source": [
    "# Find maximum sentence length using train data-\n",
    "max_sent_len = 0\n",
    "pos = 0\n",
    "i = 0\n",
    "\n",
    "for s in title_final:\n",
    "    if len(s) > max_sent_len:\n",
    "        max_sent_len = len(s)\n",
    "        pos = i\n",
    "    i += 1"
   ]
  },
  {
   "cell_type": "code",
   "execution_count": 58,
   "metadata": {},
   "outputs": [
    {
     "name": "stdout",
     "output_type": "stream",
     "text": [
      "Maximum sentence length = 350 which occurs in 14259 index\n"
     ]
    }
   ],
   "source": [
    "print(f\"Maximum sentence length = {max_sent_len} which occurs in {pos} index\")"
   ]
  },
  {
   "cell_type": "code",
   "execution_count": 59,
   "metadata": {},
   "outputs": [
    {
     "data": {
      "text/plain": [
       "'scott bennett whistleblower u s army terrorist threat finance analyst under dov zakheim a gross perversion justice ubs whistleblower brad birkenfeld work with cia edward snowden terrorist finance bank ubs hsbc be represent covington burl employer eric holder lanny breuer michael chertoff roger zakheim demand accountability from your representatives'"
      ]
     },
     "execution_count": 59,
     "metadata": {},
     "output_type": "execute_result"
    }
   ],
   "source": [
    "# Sanity check-\n",
    "title_final[pos]"
   ]
  },
  {
   "cell_type": "code",
   "execution_count": null,
   "metadata": {},
   "outputs": [],
   "source": []
  },
  {
   "cell_type": "code",
   "execution_count": null,
   "metadata": {},
   "outputs": [],
   "source": []
  },
  {
   "cell_type": "markdown",
   "metadata": {},
   "source": [
    "#### Pad documents/sequences\n",
    "\n",
    "The neural network expects all sentences to have the same size. To achieve this, pad the input sentences. For all of the given sentences, make it a 20-word sentence using ```pad_senquences()```."
   ]
  },
  {
   "cell_type": "code",
   "execution_count": 60,
   "metadata": {},
   "outputs": [],
   "source": [
    "# Use 'pad_sequences()' to make the text to be of same size-\n",
    "\n",
    "# Maximum sentence length AFTER padding-\n",
    "sentence_len = max_sent_len"
   ]
  },
  {
   "cell_type": "code",
   "execution_count": 61,
   "metadata": {},
   "outputs": [],
   "source": [
    "# Add zeroes before due to 'pre' padding-\n",
    "embedded_sent = pad_sequences(\n",
    "        onehot_messages_representation, padding = 'pre',\n",
    "        maxlen = sentence_len\n",
    "        )"
   ]
  },
  {
   "cell_type": "code",
   "execution_count": 62,
   "metadata": {},
   "outputs": [
    {
     "data": {
      "text/plain": [
       "(numpy.ndarray, (18285, 350))"
      ]
     },
     "execution_count": 62,
     "metadata": {},
     "output_type": "execute_result"
    }
   ],
   "source": [
    "type(embedded_sent), embedded_sent.shape"
   ]
  },
  {
   "cell_type": "code",
   "execution_count": 63,
   "metadata": {},
   "outputs": [
    {
     "data": {
      "text/plain": [
       "array([   0,    0,    0,    0,    0,    0,    0,    0,    0,    0,    0,\n",
       "          0,    0,    0,    0,    0,    0,    0,    0,    0,    0,    0,\n",
       "          0,    0,    0,    0,    0,    0,    0,    0,    0,    0,    0,\n",
       "          0,    0,    0,    0,    0,    0,    0,    0,    0,    0,    0,\n",
       "          0,    0,    0,    0,    0,    0,    0,    0,    0,    0,    0,\n",
       "          0,    0,    0,    0,    0,    0,    0,    0,    0,    0,    0,\n",
       "          0,    0,    0,    0,    0,    0,    0,    0,    0,    0,    0,\n",
       "          0,    0,    0,    0,    0,    0,    0,    0,    0,    0,    0,\n",
       "          0,    0,    0,    0,    0,    0,    0,    0,    0,    0,    0,\n",
       "          0,    0,    0,    0,    0,    0,    0,    0,    0,    0,    0,\n",
       "          0,    0,    0,    0,    0,    0,    0,    0,    0,    0,    0,\n",
       "          0,    0,    0,    0,    0,    0,    0,    0,    0,    0,    0,\n",
       "          0,    0,    0,    0,    0,    0,    0,    0,    0,    0,    0,\n",
       "          0,    0,    0,    0,    0,    0,    0,    0,    0,    0,    0,\n",
       "          0,    0,    0,    0,    0,    0,    0,    0,    0,    0,    0,\n",
       "          0,    0,    0,    0,    0,    0,    0,    0,    0,    0,    0,\n",
       "          0,    0,    0,    0,    0,    0,    0,    0,    0,    0,    0,\n",
       "          0,    0,    0,    0,    0,    0,    0,    0,    0,    0,    0,\n",
       "          0,    0,    0,    0,    0,    0,    0,    0,    0,    0,    0,\n",
       "          0,    0,    0,    0,    0,    0,    0,    0,    0,    0,    0,\n",
       "          0,    0,    0,    0,    0,    0,    0,    0,    0,    0,    0,\n",
       "          0,    0,    0,    0,    0,    0,    0,    0,    0,    0,    0,\n",
       "          0,    0,    0,    0,    0,    0,    0,    0,    0,    0,    0,\n",
       "          0,    0,    0,    0,    0,    0,    0,    0,    0,    0,    0,\n",
       "          0,    0,    0,    0,    0,    0,    0,    0,    0,    0,    0,\n",
       "          0,    0,    0,    0,    0,    0,    0,    0,    0,    0,    0,\n",
       "          0,    0,    0,    0,    0,    0,    0,    0,    0,    0,    0,\n",
       "          0,    0,    0,    0,    0,    0,    0,    0,    0,    0,    0,\n",
       "          0,    0,    0,    0,    0,    0,    0,    0,    0,    0,    0,\n",
       "          0,    0,    0,    0,    0,    0,    0,    0,    0,    0,    0,\n",
       "          0,    0,    0,    0,    0,    0, 1121, 3197, 6865, 1474, 5863,\n",
       "       7371, 2328, 7920, 3819, 9257,  630,  626, 5484, 2686], dtype=int32)"
      ]
     },
     "execution_count": 63,
     "metadata": {},
     "output_type": "execute_result"
    }
   ],
   "source": [
    "# Sanity check-\n",
    "embedded_sent[0]"
   ]
  },
  {
   "cell_type": "code",
   "execution_count": 64,
   "metadata": {},
   "outputs": [
    {
     "data": {
      "text/plain": [
       "(350,)"
      ]
     },
     "execution_count": 64,
     "metadata": {},
     "output_type": "execute_result"
    }
   ],
   "source": [
    "embedded_sent[0].shape"
   ]
  },
  {
   "cell_type": "code",
   "execution_count": null,
   "metadata": {},
   "outputs": [],
   "source": []
  },
  {
   "cell_type": "code",
   "execution_count": 65,
   "metadata": {},
   "outputs": [],
   "source": [
    "'''\n",
    "The 'Embedding' layer takes a fixed-size input and converts it into some specified\n",
    "number of (dense) embedding features/vectors.\n",
    "'''\n",
    "# Embedding vector dimensions-\n",
    "embedding_feature = 100"
   ]
  },
  {
   "cell_type": "code",
   "execution_count": null,
   "metadata": {},
   "outputs": [],
   "source": []
  },
  {
   "cell_type": "code",
   "execution_count": 66,
   "metadata": {},
   "outputs": [
    {
     "name": "stdout",
     "output_type": "stream",
     "text": [
      "Vocabulary size = 10000, embedding dimensionality = 100 & padded sentence input length = 350\n"
     ]
    }
   ],
   "source": [
    "# Sanity check-\n",
    "print(f\"Vocabulary size = {vocab_size}, embedding dimensionality = \"\n",
    "      f\"{embedding_feature} & padded sentence input length = {sentence_len}\"\n",
    "     )"
   ]
  },
  {
   "cell_type": "code",
   "execution_count": null,
   "metadata": {},
   "outputs": [],
   "source": []
  },
  {
   "cell_type": "code",
   "execution_count": null,
   "metadata": {},
   "outputs": [],
   "source": []
  },
  {
   "cell_type": "markdown",
   "metadata": {},
   "source": [
    "### Create different _Seq2Seq_ models-"
   ]
  },
  {
   "cell_type": "code",
   "execution_count": 67,
   "metadata": {},
   "outputs": [],
   "source": [
    "def lstm_model():\n",
    "    # Function to define LSTM model\n",
    "    model = Sequential()\n",
    "\n",
    "    # Add an 'Embedding' layer-\n",
    "    model.add(\n",
    "        Embedding(\n",
    "        input_dim = vocab_size, output_dim = embedding_feature,\n",
    "        embeddings_initializer = 'uniform',\n",
    "        embeddings_regularizer = None,\n",
    "        input_length = sentence_len\n",
    "        )\n",
    "    )\n",
    "\n",
    "    # Add drop out layer-\n",
    "    model.add(Dropout(0.3))\n",
    "\n",
    "    # One LSTM layer having 100 neurons-\n",
    "    model.add(\n",
    "        LSTM(\n",
    "            units = 100, activation = tf.keras.activations.tanh,\n",
    "            return_sequences = False\n",
    "        )\n",
    "    )\n",
    "\n",
    "    # Add drop out layer-\n",
    "    model.add(Dropout(rate = 0.3))\n",
    "\n",
    "    # Add a dense layer due to classification (binary classification)-\n",
    "    model.add(Dense(units = 1, activation = tf.keras.activations.sigmoid))\n",
    "    \n",
    "    # Compile defined LSTM model-\n",
    "    model.compile(\n",
    "        loss = tf.keras.losses.BinaryCrossentropy(),\n",
    "        optimizer = tf.keras.optimizers.Adam(learning_rate = 0.01),\n",
    "        metrics = ['accuracy']\n",
    "    )\n",
    "\n",
    "    return model\n"
   ]
  },
  {
   "cell_type": "code",
   "execution_count": 85,
   "metadata": {},
   "outputs": [],
   "source": [
    "def stacked_lstm_model():\n",
    "    # Function to define stacked LSTM model\n",
    "    model = Sequential()\n",
    "\n",
    "    # Add an 'Embedding' layer-\n",
    "    model.add(\n",
    "        Embedding(\n",
    "        input_dim = vocab_size, output_dim = embedding_feature,\n",
    "        embeddings_initializer = 'uniform',\n",
    "        embeddings_regularizer = None,\n",
    "        input_length = sentence_len\n",
    "        )\n",
    "    )\n",
    "\n",
    "    # Add drop out layer-\n",
    "    model.add(Dropout(0.3))\n",
    "\n",
    "    # One LSTM layer having 100 neurons-\n",
    "    model.add(\n",
    "        LSTM(\n",
    "            units = 100, activation = tf.keras.activations.tanh,\n",
    "            return_sequences = True\n",
    "        )\n",
    "    )\n",
    "\n",
    "    # Add drop out layer-\n",
    "    model.add(Dropout(rate = 0.3))\n",
    "    \n",
    "    model.add(\n",
    "        LSTM(\n",
    "            units = 64, activation = tf.keras.activations.tanh,\n",
    "            return_sequences = False\n",
    "        )\n",
    "    )\n",
    "    \n",
    "    model.add(Dropout(rate = 0.3))\n",
    "\n",
    "    # Add a dense layer due to classification (binary classification)-\n",
    "    model.add(Dense(units = 1, activation = tf.keras.activations.sigmoid))\n",
    "    \n",
    "    # Compile defined LSTM model-\n",
    "    model.compile(\n",
    "        loss = tf.keras.losses.BinaryCrossentropy(),\n",
    "        optimizer = tf.keras.optimizers.Adam(learning_rate = 0.01),\n",
    "        metrics = ['accuracy']\n",
    "    )\n",
    "\n",
    "    return model\n"
   ]
  },
  {
   "cell_type": "code",
   "execution_count": 90,
   "metadata": {},
   "outputs": [],
   "source": [
    "def bidirectional_lstm_model():\n",
    "    # Function to define Bi-directional LSTM model\n",
    "    model = Sequential()\n",
    "\n",
    "    # Add an 'Embedding' layer-\n",
    "    model.add(\n",
    "        Embedding(\n",
    "        input_dim = vocab_size, output_dim = embedding_feature,\n",
    "        embeddings_initializer = 'uniform',\n",
    "        embeddings_regularizer = None,\n",
    "        input_length = sentence_len\n",
    "        )\n",
    "    )\n",
    "\n",
    "    # Add drop out layer-\n",
    "    model.add(Dropout(0.3))\n",
    "\n",
    "    # One Bi-directional LSTM layer having 100 neurons-\n",
    "    model.add(\n",
    "        Bidirectional(\n",
    "            LSTM(\n",
    "                units = 100, activation = tf.keras.activations.tanh,\n",
    "                return_sequences = False\n",
    "            )\n",
    "        )\n",
    "    )\n",
    "\n",
    "    # Add drop out layer-\n",
    "    model.add(Dropout(rate = 0.3))\n",
    "\n",
    "    # Add a dense layer due to classification (binary classification)-\n",
    "    model.add(Dense(units = 1, activation = tf.keras.activations.sigmoid))\n",
    "    \n",
    "    # Compile defined LSTM model-\n",
    "    model.compile(\n",
    "        loss = tf.keras.losses.BinaryCrossentropy(),\n",
    "        optimizer = tf.keras.optimizers.Adam(learning_rate = 0.01),\n",
    "        metrics = ['accuracy']\n",
    "    )\n",
    "\n",
    "    return model\n"
   ]
  },
  {
   "cell_type": "code",
   "execution_count": 91,
   "metadata": {},
   "outputs": [],
   "source": [
    "def bidirectional_stacked_lstm_model():\n",
    "    # Function to define Bi-directional stacked LSTM model\n",
    "    model = Sequential()\n",
    "\n",
    "    # Add an 'Embedding' layer-\n",
    "    model.add(\n",
    "        Embedding(\n",
    "        input_dim = vocab_size, output_dim = embedding_feature,\n",
    "        embeddings_initializer = 'uniform',\n",
    "        embeddings_regularizer = None,\n",
    "        input_length = sentence_len\n",
    "        )\n",
    "    )\n",
    "\n",
    "    # Add drop out layer-\n",
    "    model.add(Dropout(0.3))\n",
    "\n",
    "    # One Bi-directional LSTM layer having 100 neurons-\n",
    "    model.add(\n",
    "        Bidirectional(\n",
    "            LSTM(\n",
    "                units = 100, activation = tf.keras.activations.tanh,\n",
    "                return_sequences = True\n",
    "            )\n",
    "        )\n",
    "    )\n",
    "\n",
    "    # Add drop out layer-\n",
    "    model.add(Dropout(rate = 0.3))\n",
    "    \n",
    "    # One Bi-directional LSTM layer having 100 neurons-\n",
    "    model.add(\n",
    "        Bidirectional(\n",
    "            LSTM(\n",
    "                units = 64, activation = tf.keras.activations.tanh,\n",
    "                return_sequences = False\n",
    "            )\n",
    "        )\n",
    "    )\n",
    "\n",
    "    # Add drop out layer-\n",
    "    model.add(Dropout(rate = 0.3))\n",
    "\n",
    "    # Add a dense layer due to classification (binary classification)-\n",
    "    model.add(Dense(units = 1, activation = tf.keras.activations.sigmoid))\n",
    "    \n",
    "    # Compile defined LSTM model-\n",
    "    model.compile(\n",
    "        loss = tf.keras.losses.BinaryCrossentropy(),\n",
    "        optimizer = tf.keras.optimizers.Adam(learning_rate = 0.01),\n",
    "        metrics = ['accuracy']\n",
    "    )\n",
    "\n",
    "    return model\n"
   ]
  },
  {
   "cell_type": "code",
   "execution_count": null,
   "metadata": {},
   "outputs": [],
   "source": []
  },
  {
   "cell_type": "code",
   "execution_count": 68,
   "metadata": {},
   "outputs": [
    {
     "name": "stderr",
     "output_type": "stream",
     "text": [
      "2022-05-13 19:35:36.638142: I tensorflow/core/platform/cpu_feature_guard.cc:151] This TensorFlow binary is optimized with oneAPI Deep Neural Network Library (oneDNN) to use the following CPU instructions in performance-critical operations:  AVX2 FMA\n",
      "To enable them in other operations, rebuild TensorFlow with the appropriate compiler flags.\n",
      "2022-05-13 19:35:36.639217: I tensorflow/stream_executor/cuda/cuda_gpu_executor.cc:936] successful NUMA node read from SysFS had negative value (-1), but there must be at least one NUMA node, so returning NUMA node zero\n",
      "2022-05-13 19:35:36.639407: I tensorflow/stream_executor/cuda/cuda_gpu_executor.cc:936] successful NUMA node read from SysFS had negative value (-1), but there must be at least one NUMA node, so returning NUMA node zero\n",
      "2022-05-13 19:35:36.639550: I tensorflow/stream_executor/cuda/cuda_gpu_executor.cc:936] successful NUMA node read from SysFS had negative value (-1), but there must be at least one NUMA node, so returning NUMA node zero\n",
      "2022-05-13 19:35:37.028939: I tensorflow/stream_executor/cuda/cuda_gpu_executor.cc:936] successful NUMA node read from SysFS had negative value (-1), but there must be at least one NUMA node, so returning NUMA node zero\n",
      "2022-05-13 19:35:37.029117: I tensorflow/stream_executor/cuda/cuda_gpu_executor.cc:936] successful NUMA node read from SysFS had negative value (-1), but there must be at least one NUMA node, so returning NUMA node zero\n",
      "2022-05-13 19:35:37.029263: I tensorflow/stream_executor/cuda/cuda_gpu_executor.cc:936] successful NUMA node read from SysFS had negative value (-1), but there must be at least one NUMA node, so returning NUMA node zero\n",
      "2022-05-13 19:35:37.029531: I tensorflow/core/common_runtime/gpu/gpu_device.cc:1525] Created device /job:localhost/replica:0/task:0/device:GPU:0 with 8096 MB memory:  -> device: 0, name: NVIDIA GeForce RTX 3080, pci bus id: 0000:04:00.0, compute capability: 8.6\n"
     ]
    }
   ],
   "source": [
    "# Initialize single LSTM model-\n",
    "model = lstm_model()"
   ]
  },
  {
   "cell_type": "code",
   "execution_count": 92,
   "metadata": {},
   "outputs": [],
   "source": [
    "# Initialize stacked LSTM model-\n",
    "model_stacked = stacked_lstm_model()"
   ]
  },
  {
   "cell_type": "code",
   "execution_count": 93,
   "metadata": {},
   "outputs": [],
   "source": [
    "# Initialize Bi-directional LSTM model-\n",
    "model_bi = bidirectional_lstm_model()"
   ]
  },
  {
   "cell_type": "code",
   "execution_count": 94,
   "metadata": {},
   "outputs": [],
   "source": [
    "# Initialize Bi-directional stacked LSTM model-\n",
    "model_bi_stacked = bidirectional_stacked_lstm_model()"
   ]
  },
  {
   "cell_type": "code",
   "execution_count": null,
   "metadata": {},
   "outputs": [],
   "source": []
  },
  {
   "cell_type": "code",
   "execution_count": 69,
   "metadata": {},
   "outputs": [
    {
     "name": "stdout",
     "output_type": "stream",
     "text": [
      "Model: \"sequential\"\n",
      "_________________________________________________________________\n",
      " Layer (type)                Output Shape              Param #   \n",
      "=================================================================\n",
      " embedding (Embedding)       (None, 350, 100)          1000000   \n",
      "                                                                 \n",
      " dropout (Dropout)           (None, 350, 100)          0         \n",
      "                                                                 \n",
      " lstm (LSTM)                 (None, 100)               80400     \n",
      "                                                                 \n",
      " dropout_1 (Dropout)         (None, 100)               0         \n",
      "                                                                 \n",
      " dense (Dense)               (None, 1)                 101       \n",
      "                                                                 \n",
      "=================================================================\n",
      "Total params: 1,080,501\n",
      "Trainable params: 1,080,501\n",
      "Non-trainable params: 0\n",
      "_________________________________________________________________\n"
     ]
    }
   ],
   "source": [
    "# Get model's summary-\n",
    "model.summary()"
   ]
  },
  {
   "cell_type": "code",
   "execution_count": 95,
   "metadata": {},
   "outputs": [
    {
     "name": "stdout",
     "output_type": "stream",
     "text": [
      "Model: \"sequential_3\"\n",
      "_________________________________________________________________\n",
      " Layer (type)                Output Shape              Param #   \n",
      "=================================================================\n",
      " embedding_3 (Embedding)     (None, 350, 100)          1000000   \n",
      "                                                                 \n",
      " dropout_8 (Dropout)         (None, 350, 100)          0         \n",
      "                                                                 \n",
      " lstm_5 (LSTM)               (None, 350, 100)          80400     \n",
      "                                                                 \n",
      " dropout_9 (Dropout)         (None, 350, 100)          0         \n",
      "                                                                 \n",
      " lstm_6 (LSTM)               (None, 64)                42240     \n",
      "                                                                 \n",
      " dropout_10 (Dropout)        (None, 64)                0         \n",
      "                                                                 \n",
      " dense_3 (Dense)             (None, 1)                 65        \n",
      "                                                                 \n",
      "=================================================================\n",
      "Total params: 1,122,705\n",
      "Trainable params: 1,122,705\n",
      "Non-trainable params: 0\n",
      "_________________________________________________________________\n"
     ]
    }
   ],
   "source": [
    "# Get summary for stacked LSTM model-\n",
    "model_stacked.summary()"
   ]
  },
  {
   "cell_type": "code",
   "execution_count": 96,
   "metadata": {},
   "outputs": [
    {
     "name": "stdout",
     "output_type": "stream",
     "text": [
      "Model: \"sequential_4\"\n",
      "_________________________________________________________________\n",
      " Layer (type)                Output Shape              Param #   \n",
      "=================================================================\n",
      " embedding_4 (Embedding)     (None, 350, 100)          1000000   \n",
      "                                                                 \n",
      " dropout_11 (Dropout)        (None, 350, 100)          0         \n",
      "                                                                 \n",
      " bidirectional_2 (Bidirectio  (None, 200)              160800    \n",
      " nal)                                                            \n",
      "                                                                 \n",
      " dropout_12 (Dropout)        (None, 200)               0         \n",
      "                                                                 \n",
      " dense_4 (Dense)             (None, 1)                 201       \n",
      "                                                                 \n",
      "=================================================================\n",
      "Total params: 1,161,001\n",
      "Trainable params: 1,161,001\n",
      "Non-trainable params: 0\n",
      "_________________________________________________________________\n"
     ]
    }
   ],
   "source": [
    "# Get summary for bi-directional LSTM model-\n",
    "model_bi.summary()"
   ]
  },
  {
   "cell_type": "code",
   "execution_count": 97,
   "metadata": {},
   "outputs": [
    {
     "name": "stdout",
     "output_type": "stream",
     "text": [
      "Model: \"sequential_5\"\n",
      "_________________________________________________________________\n",
      " Layer (type)                Output Shape              Param #   \n",
      "=================================================================\n",
      " embedding_5 (Embedding)     (None, 350, 100)          1000000   \n",
      "                                                                 \n",
      " dropout_13 (Dropout)        (None, 350, 100)          0         \n",
      "                                                                 \n",
      " bidirectional_3 (Bidirectio  (None, 350, 200)         160800    \n",
      " nal)                                                            \n",
      "                                                                 \n",
      " dropout_14 (Dropout)        (None, 350, 200)          0         \n",
      "                                                                 \n",
      " bidirectional_4 (Bidirectio  (None, 128)              135680    \n",
      " nal)                                                            \n",
      "                                                                 \n",
      " dropout_15 (Dropout)        (None, 128)               0         \n",
      "                                                                 \n",
      " dense_5 (Dense)             (None, 1)                 129       \n",
      "                                                                 \n",
      "=================================================================\n",
      "Total params: 1,296,609\n",
      "Trainable params: 1,296,609\n",
      "Non-trainable params: 0\n",
      "_________________________________________________________________\n"
     ]
    }
   ],
   "source": [
    "# Get summary for bi-directional stacked LSTM model-\n",
    "model_bi_stacked.summary()"
   ]
  },
  {
   "cell_type": "code",
   "execution_count": null,
   "metadata": {},
   "outputs": [],
   "source": []
  },
  {
   "cell_type": "code",
   "execution_count": 70,
   "metadata": {},
   "outputs": [
    {
     "name": "stdout",
     "output_type": "stream",
     "text": [
      "(10000, 100)\n",
      "(100, 400)\n",
      "(100, 400)\n",
      "(400,)\n",
      "(100, 1)\n",
      "(1,)\n"
     ]
    }
   ],
   "source": [
    "# Get layer-wise shape/dimensions-\n",
    "for layer in model.weights:\n",
    "    print(layer.shape)"
   ]
  },
  {
   "cell_type": "code",
   "execution_count": null,
   "metadata": {},
   "outputs": [],
   "source": []
  },
  {
   "cell_type": "code",
   "execution_count": 71,
   "metadata": {},
   "outputs": [
    {
     "data": {
      "text/plain": [
       "(18285, (18285,))"
      ]
     },
     "execution_count": 71,
     "metadata": {},
     "output_type": "execute_result"
    }
   ],
   "source": [
    "len(embedded_sent), y.shape"
   ]
  },
  {
   "cell_type": "code",
   "execution_count": 72,
   "metadata": {},
   "outputs": [],
   "source": [
    "X_final = np.array(embedded_sent).astype('float')\n",
    "y_final = np.array(y)"
   ]
  },
  {
   "cell_type": "code",
   "execution_count": 73,
   "metadata": {},
   "outputs": [
    {
     "data": {
      "text/plain": [
       "((18285, 350), (18285,))"
      ]
     },
     "execution_count": 73,
     "metadata": {},
     "output_type": "execute_result"
    }
   ],
   "source": [
    "X_final.shape, y_final.shape"
   ]
  },
  {
   "cell_type": "code",
   "execution_count": 74,
   "metadata": {},
   "outputs": [],
   "source": [
    "# Split into training and testing sets-\n",
    "X_train, X_test, y_train, y_test = train_test_split(\n",
    "    X_final, y_final,\n",
    "    test_size = 0.3, stratify = y_final\n",
    ")"
   ]
  },
  {
   "cell_type": "code",
   "execution_count": 75,
   "metadata": {},
   "outputs": [
    {
     "name": "stdout",
     "output_type": "stream",
     "text": [
      "X_train.shape: (12799, 350), y_train.shape: (12799,)\n",
      "X_test.shape: (5486, 350), y_test.shape: (5486,)\n"
     ]
    }
   ],
   "source": [
    "print(f\"X_train.shape: {X_train.shape}, y_train.shape: {y_train.shape}\")\n",
    "print(f\"X_test.shape: {X_test.shape}, y_test.shape: {y_test.shape}\")"
   ]
  },
  {
   "cell_type": "code",
   "execution_count": null,
   "metadata": {},
   "outputs": [],
   "source": []
  },
  {
   "cell_type": "code",
   "execution_count": null,
   "metadata": {},
   "outputs": [],
   "source": []
  },
  {
   "cell_type": "code",
   "execution_count": 76,
   "metadata": {},
   "outputs": [
    {
     "name": "stdout",
     "output_type": "stream",
     "text": [
      "Epoch 1/10\n"
     ]
    },
    {
     "name": "stderr",
     "output_type": "stream",
     "text": [
      "2022-05-13 19:36:09.729699: I tensorflow/stream_executor/cuda/cuda_dnn.cc:368] Loaded cuDNN version 8400\n"
     ]
    },
    {
     "name": "stdout",
     "output_type": "stream",
     "text": [
      "  5/200 [..............................] - ETA: 2s - loss: 0.5934 - accuracy: 0.6250  "
     ]
    },
    {
     "name": "stderr",
     "output_type": "stream",
     "text": [
      "2022-05-13 19:36:10.089239: I tensorflow/stream_executor/cuda/cuda_blas.cc:1786] TensorFloat-32 will be used for the matrix multiplication. This will only be logged once.\n"
     ]
    },
    {
     "name": "stdout",
     "output_type": "stream",
     "text": [
      "200/200 [==============================] - 6s 18ms/step - loss: 0.2122 - accuracy: 0.9090 - val_loss: 0.1641 - val_accuracy: 0.9313\n",
      "Epoch 2/10\n",
      "200/200 [==============================] - 3s 17ms/step - loss: 0.0863 - accuracy: 0.9684 - val_loss: 0.1901 - val_accuracy: 0.9300\n",
      "Epoch 3/10\n",
      "200/200 [==============================] - 3s 17ms/step - loss: 0.0365 - accuracy: 0.9866 - val_loss: 0.2916 - val_accuracy: 0.9295\n",
      "Epoch 4/10\n",
      "200/200 [==============================] - 3s 17ms/step - loss: 0.0179 - accuracy: 0.9947 - val_loss: 0.3263 - val_accuracy: 0.9273\n",
      "Epoch 5/10\n",
      "200/200 [==============================] - 3s 17ms/step - loss: 0.0084 - accuracy: 0.9974 - val_loss: 0.3800 - val_accuracy: 0.9273\n",
      "Epoch 6/10\n",
      "200/200 [==============================] - 3s 18ms/step - loss: 0.0072 - accuracy: 0.9980 - val_loss: 0.4384 - val_accuracy: 0.9291\n",
      "Epoch 7/10\n",
      "200/200 [==============================] - 3s 17ms/step - loss: 0.0056 - accuracy: 0.9982 - val_loss: 0.4571 - val_accuracy: 0.9242\n",
      "Epoch 8/10\n",
      "200/200 [==============================] - 3s 17ms/step - loss: 0.0088 - accuracy: 0.9973 - val_loss: 0.4516 - val_accuracy: 0.9289\n",
      "Epoch 9/10\n",
      "200/200 [==============================] - 3s 17ms/step - loss: 0.0082 - accuracy: 0.9973 - val_loss: 0.4406 - val_accuracy: 0.9280\n",
      "Epoch 10/10\n",
      "200/200 [==============================] - 3s 17ms/step - loss: 0.0069 - accuracy: 0.9979 - val_loss: 0.4611 - val_accuracy: 0.9260\n"
     ]
    }
   ],
   "source": [
    "# Train defined model for single LSTM-\n",
    "train_history = model.fit(\n",
    "    x = X_train, y = y_train,\n",
    "    epochs = 10, batch_size = 64,\n",
    "    validation_data = (X_test, y_test)\n",
    ")"
   ]
  },
  {
   "cell_type": "code",
   "execution_count": null,
   "metadata": {},
   "outputs": [],
   "source": []
  },
  {
   "cell_type": "code",
   "execution_count": 98,
   "metadata": {},
   "outputs": [
    {
     "name": "stdout",
     "output_type": "stream",
     "text": [
      "Epoch 1/10\n",
      "200/200 [==============================] - 7s 28ms/step - loss: 0.2346 - accuracy: 0.8996 - val_loss: 0.1652 - val_accuracy: 0.9269\n",
      "Epoch 2/10\n",
      "200/200 [==============================] - 5s 26ms/step - loss: 0.0994 - accuracy: 0.9635 - val_loss: 0.1795 - val_accuracy: 0.9349\n",
      "Epoch 3/10\n",
      "200/200 [==============================] - 5s 26ms/step - loss: 0.0487 - accuracy: 0.9848 - val_loss: 0.2385 - val_accuracy: 0.9262\n",
      "Epoch 4/10\n",
      "200/200 [==============================] - 5s 26ms/step - loss: 0.0209 - accuracy: 0.9925 - val_loss: 0.3779 - val_accuracy: 0.9289\n",
      "Epoch 5/10\n",
      "200/200 [==============================] - 5s 26ms/step - loss: 0.0149 - accuracy: 0.9957 - val_loss: 0.3475 - val_accuracy: 0.9293\n",
      "Epoch 6/10\n",
      "200/200 [==============================] - 5s 27ms/step - loss: 0.0127 - accuracy: 0.9962 - val_loss: 0.3628 - val_accuracy: 0.9231\n",
      "Epoch 7/10\n",
      "200/200 [==============================] - 5s 26ms/step - loss: 0.0066 - accuracy: 0.9984 - val_loss: 0.4301 - val_accuracy: 0.9298\n",
      "Epoch 8/10\n",
      "200/200 [==============================] - 5s 26ms/step - loss: 0.0095 - accuracy: 0.9979 - val_loss: 0.4051 - val_accuracy: 0.9265\n",
      "Epoch 9/10\n",
      "200/200 [==============================] - 5s 26ms/step - loss: 0.0108 - accuracy: 0.9970 - val_loss: 0.4296 - val_accuracy: 0.9247\n",
      "Epoch 10/10\n",
      "200/200 [==============================] - 5s 26ms/step - loss: 0.0116 - accuracy: 0.9970 - val_loss: 0.4244 - val_accuracy: 0.9214\n"
     ]
    }
   ],
   "source": [
    "# Train defined model for stacked LSTM-\n",
    "train_history_stacked_lstm = model_stacked.fit(\n",
    "    x = X_train, y = y_train,\n",
    "    epochs = 10, batch_size = 64,\n",
    "    validation_data = (X_test, y_test)\n",
    ")"
   ]
  },
  {
   "cell_type": "code",
   "execution_count": null,
   "metadata": {},
   "outputs": [],
   "source": []
  },
  {
   "cell_type": "code",
   "execution_count": 99,
   "metadata": {},
   "outputs": [
    {
     "name": "stdout",
     "output_type": "stream",
     "text": [
      "Epoch 1/10\n",
      "200/200 [==============================] - 8s 33ms/step - loss: 0.2418 - accuracy: 0.8947 - val_loss: 0.1639 - val_accuracy: 0.9329\n",
      "Epoch 2/10\n",
      "200/200 [==============================] - 6s 31ms/step - loss: 0.0888 - accuracy: 0.9681 - val_loss: 0.1784 - val_accuracy: 0.9329\n",
      "Epoch 3/10\n",
      "200/200 [==============================] - 6s 31ms/step - loss: 0.0306 - accuracy: 0.9881 - val_loss: 0.3223 - val_accuracy: 0.9271\n",
      "Epoch 4/10\n",
      "200/200 [==============================] - 6s 31ms/step - loss: 0.0177 - accuracy: 0.9936 - val_loss: 0.3120 - val_accuracy: 0.9192\n",
      "Epoch 5/10\n",
      "200/200 [==============================] - 6s 31ms/step - loss: 0.0079 - accuracy: 0.9975 - val_loss: 0.4038 - val_accuracy: 0.9267\n",
      "Epoch 6/10\n",
      "200/200 [==============================] - 6s 31ms/step - loss: 0.0089 - accuracy: 0.9966 - val_loss: 0.3726 - val_accuracy: 0.9231\n",
      "Epoch 7/10\n",
      "200/200 [==============================] - 6s 32ms/step - loss: 0.0113 - accuracy: 0.9965 - val_loss: 0.4115 - val_accuracy: 0.9220\n",
      "Epoch 8/10\n",
      "200/200 [==============================] - 6s 32ms/step - loss: 0.0065 - accuracy: 0.9979 - val_loss: 0.4485 - val_accuracy: 0.9151\n",
      "Epoch 9/10\n",
      "200/200 [==============================] - 6s 32ms/step - loss: 0.0075 - accuracy: 0.9973 - val_loss: 0.5166 - val_accuracy: 0.9203\n",
      "Epoch 10/10\n",
      "200/200 [==============================] - 6s 32ms/step - loss: 0.0074 - accuracy: 0.9982 - val_loss: 0.4535 - val_accuracy: 0.9244\n"
     ]
    }
   ],
   "source": [
    "# Train defined model for bi-directional LSTM-\n",
    "train_history_bi_lstm = model_bi.fit(\n",
    "    x = X_train, y = y_train,\n",
    "    epochs = 10, batch_size = 64,\n",
    "    validation_data = (X_test, y_test)\n",
    ")"
   ]
  },
  {
   "cell_type": "code",
   "execution_count": null,
   "metadata": {},
   "outputs": [],
   "source": []
  },
  {
   "cell_type": "code",
   "execution_count": 100,
   "metadata": {},
   "outputs": [
    {
     "name": "stdout",
     "output_type": "stream",
     "text": [
      "Epoch 1/10\n",
      "200/200 [==============================] - 13s 54ms/step - loss: 0.2322 - accuracy: 0.9016 - val_loss: 0.1679 - val_accuracy: 0.9282\n",
      "Epoch 2/10\n",
      "200/200 [==============================] - 10s 49ms/step - loss: 0.1011 - accuracy: 0.9604 - val_loss: 0.1923 - val_accuracy: 0.9293\n",
      "Epoch 3/10\n",
      "200/200 [==============================] - 10s 49ms/step - loss: 0.0462 - accuracy: 0.9837 - val_loss: 0.2666 - val_accuracy: 0.9242\n",
      "Epoch 4/10\n",
      "200/200 [==============================] - 10s 49ms/step - loss: 0.0272 - accuracy: 0.9905 - val_loss: 0.3088 - val_accuracy: 0.9182\n",
      "Epoch 5/10\n",
      "200/200 [==============================] - 10s 49ms/step - loss: 0.0202 - accuracy: 0.9926 - val_loss: 0.4061 - val_accuracy: 0.9225\n",
      "Epoch 6/10\n",
      "200/200 [==============================] - 10s 49ms/step - loss: 0.0148 - accuracy: 0.9955 - val_loss: 0.3802 - val_accuracy: 0.9203\n",
      "Epoch 7/10\n",
      "200/200 [==============================] - 10s 49ms/step - loss: 0.0101 - accuracy: 0.9969 - val_loss: 0.4167 - val_accuracy: 0.9251\n",
      "Epoch 8/10\n",
      "200/200 [==============================] - 10s 49ms/step - loss: 0.0122 - accuracy: 0.9964 - val_loss: 0.3563 - val_accuracy: 0.9218\n",
      "Epoch 9/10\n",
      "200/200 [==============================] - 10s 49ms/step - loss: 0.0102 - accuracy: 0.9973 - val_loss: 0.4333 - val_accuracy: 0.9131\n",
      "Epoch 10/10\n",
      "200/200 [==============================] - 10s 49ms/step - loss: 0.0088 - accuracy: 0.9975 - val_loss: 0.4166 - val_accuracy: 0.9227\n"
     ]
    }
   ],
   "source": [
    "# Train defined model for bi-directional stacked LSTM-\n",
    "train_history_bi_stacked_lstm = model_bi_stacked.fit(\n",
    "    x = X_train, y = y_train,\n",
    "    epochs = 10, batch_size = 64,\n",
    "    validation_data = (X_test, y_test)\n",
    ")"
   ]
  },
  {
   "cell_type": "code",
   "execution_count": null,
   "metadata": {},
   "outputs": [],
   "source": []
  },
  {
   "cell_type": "code",
   "execution_count": null,
   "metadata": {},
   "outputs": [],
   "source": []
  },
  {
   "cell_type": "code",
   "execution_count": 103,
   "metadata": {},
   "outputs": [
    {
     "data": {
      "image/png": "[encoded data removed]",
      "text/plain": [
       "<Figure size 720x560 with 1 Axes>"
      ]
     },
     "metadata": {},
     "output_type": "display_data"
    }
   ],
   "source": [
    "# Visualize accuracy-\n",
    "plt.figure(figsize = (9, 7), dpi = 80, facecolor = 'w', edgecolor = 'k')\n",
    "\n",
    "plt.plot(train_history.history['accuracy'], label = 'LSTM acc')\n",
    "plt.plot(train_history_stacked_lstm.history['accuracy'], label = 'Stacked LSTM acc')\n",
    "plt.plot(train_history_bi_lstm.history['accuracy'], label = 'Bi-LSTM acc')\n",
    "plt.plot(train_history_bi_lstm.history['val_accuracy'], label = 'Bi-LSTM val acc')\n",
    "plt.plot(train_history_bi_stacked_lstm.history['accuracy'], label = 'Bi-Stacked LSTM acc')\n",
    "plt.plot(train_history_bi_stacked_lstm.history['val_accuracy'], label = 'Bi-Stacked LSTM val acc')\n",
    "plt.plot(train_history.history['val_accuracy'], label = 'LSTM val acc')\n",
    "plt.plot(train_history_stacked_lstm.history['val_accuracy'], label = 'Stacked LSTM val acc')\n",
    "\n",
    "plt.title(\"LSTMs - Accuracy Visualization\")\n",
    "plt.xlabel(\"number of epochs\")\n",
    "plt.ylabel(\"accuracy\")\n",
    "plt.legend(loc = \"best\")\n",
    "\n",
    "plt.show()"
   ]
  },
  {
   "cell_type": "code",
   "execution_count": 104,
   "metadata": {},
   "outputs": [
    {
     "data": {
      "image/png": "[encoded data removed]",
      "text/plain": [
       "<Figure size 720x560 with 1 Axes>"
      ]
     },
     "metadata": {},
     "output_type": "display_data"
    }
   ],
   "source": [
    "# Visualize loss-\n",
    "plt.figure(figsize = (9, 7), dpi = 80, facecolor = 'w', edgecolor = 'k')\n",
    "\n",
    "plt.plot(train_history.history['loss'], label = 'LSTM loss')\n",
    "plt.plot(train_history.history['val_loss'], label = 'LSTM val loss')\n",
    "plt.plot(train_history_bi_lstm.history['loss'], label = 'Bi-LSTM loss')\n",
    "plt.plot(train_history_bi_lstm.history['val_loss'], label = 'Bi-LSTM val loss')\n",
    "plt.plot(train_history_bi_stacked_lstm.history['loss'], label = 'Bi-Stacked LSTM loss')\n",
    "plt.plot(train_history_bi_stacked_lstm.history['val_loss'], label = 'Bi-Stacked LSTM val loss')\n",
    "plt.plot(train_history_stacked_lstm.history['loss'], label = 'Stacked LSTM loss')\n",
    "plt.plot(train_history_stacked_lstm.history['val_loss'], label = 'Stacked LSTM val loss')\n",
    "\n",
    "plt.title(\"LSTMs - Loss Visualization\")\n",
    "plt.xlabel(\"number of epochs\")\n",
    "plt.ylabel(\"loss\")\n",
    "plt.legend(loc = \"best\")\n",
    "\n",
    "plt.show()"
   ]
  },
  {
   "cell_type": "code",
   "execution_count": null,
   "metadata": {},
   "outputs": [],
   "source": []
  },
  {
   "cell_type": "code",
   "execution_count": null,
   "metadata": {},
   "outputs": [],
   "source": []
  },
  {
   "cell_type": "code",
   "execution_count": 105,
   "metadata": {},
   "outputs": [],
   "source": [
    "# Get trained model metrics on validation data-\n",
    "y_pred = model.predict(X_test)\n",
    "y_pred_stacked = model_stacked.predict(X_test)\n",
    "y_pred_bi = model_bi.predict(X_test)\n",
    "y_pred_bi_stacked = model_bi_stacked.predict(X_test)"
   ]
  },
  {
   "cell_type": "code",
   "execution_count": null,
   "metadata": {},
   "outputs": [],
   "source": []
  },
  {
   "cell_type": "code",
   "execution_count": 111,
   "metadata": {},
   "outputs": [
    {
     "data": {
      "image/png": "[encoded data removed]",
      "text/plain": [
       "<Figure size 648x504 with 1 Axes>"
      ]
     },
     "metadata": {
      "needs_background": "light"
     },
     "output_type": "display_data"
    }
   ],
   "source": [
    "plt.figure(figsize = (9, 7))\n",
    "plt.hist(y_pred, bins = int(np.ceil(np.sqrt(y_pred.size))))\n",
    "plt.xlabel(\"binary probability distributions\")\n",
    "plt.ylabel(\"count\")\n",
    "plt.title(\"Single LSTM predicted probability distributions\")\n",
    "plt.show()"
   ]
  },
  {
   "cell_type": "code",
   "execution_count": null,
   "metadata": {},
   "outputs": [],
   "source": []
  },
  {
   "cell_type": "code",
   "execution_count": null,
   "metadata": {},
   "outputs": [],
   "source": []
  },
  {
   "cell_type": "code",
   "execution_count": null,
   "metadata": {},
   "outputs": [],
   "source": [
    "# Get accuracy for different models-\n",
    "acc = accuracy_score(y_true = y_test, y_pred = y_pred)\n",
    "acc_stacked = accuracy_score(y_true = y_test, y_pred = y_pred_stacked)\n",
    "acc_bi = accuracy_score(y_true = y_test, y_pred = y_pred_bi)\n",
    "acc_bi_stacked = accuracy_score(y_true = y_test, y_pred = y_pred_bi_stacked)"
   ]
  },
  {
   "cell_type": "code",
   "execution_count": null,
   "metadata": {},
   "outputs": [],
   "source": []
  },
  {
   "cell_type": "code",
   "execution_count": 112,
   "metadata": {},
   "outputs": [
    {
     "name": "stdout",
     "output_type": "stream",
     "text": [
      "172/172 [==============================] - 1s 5ms/step - loss: 0.4611 - accuracy: 0.9260\n"
     ]
    }
   ],
   "source": [
    "# Compute trained model's validation accuracy and loss-\n",
    "val_loss, val_acc = model.evaluate(X_test, y_test, verbose = 1)"
   ]
  },
  {
   "cell_type": "code",
   "execution_count": 113,
   "metadata": {},
   "outputs": [
    {
     "name": "stdout",
     "output_type": "stream",
     "text": [
      "172/172 [==============================] - 1s 8ms/step - loss: 0.4244 - accuracy: 0.9214\n"
     ]
    }
   ],
   "source": [
    "val_loss_stacked, val_acc_stacked = model_stacked.evaluate(X_test, y_test, verbose = 1)"
   ]
  },
  {
   "cell_type": "code",
   "execution_count": 114,
   "metadata": {},
   "outputs": [
    {
     "name": "stdout",
     "output_type": "stream",
     "text": [
      "172/172 [==============================] - 1s 8ms/step - loss: 0.4535 - accuracy: 0.9244\n"
     ]
    }
   ],
   "source": [
    "val_loss_bi, val_acc_bi = model_bi.evaluate(X_test, y_test, verbose = 1)"
   ]
  },
  {
   "cell_type": "code",
   "execution_count": 115,
   "metadata": {},
   "outputs": [
    {
     "name": "stdout",
     "output_type": "stream",
     "text": [
      "172/172 [==============================] - 3s 15ms/step - loss: 0.4167 - accuracy: 0.9227\n"
     ]
    }
   ],
   "source": [
    "val_loss_bi_stacked, val_acc_bi_stacked = model_bi_stacked.evaluate(X_test, y_test, verbose = 1)"
   ]
  },
  {
   "cell_type": "code",
   "execution_count": null,
   "metadata": {},
   "outputs": [],
   "source": []
  },
  {
   "cell_type": "code",
   "execution_count": 116,
   "metadata": {},
   "outputs": [
    {
     "name": "stdout",
     "output_type": "stream",
     "text": [
      "LSTM trained model's validation loss = 0.4611 & validation accuracy = 92.60%\n",
      "Stacked LSTM trained model's validation loss = 0.4244 & validation accuracy = 92.14%\n",
      "Bi-directional LSTM trained model's validation loss = 0.4535 & validation accuracy = 92.44%\n",
      "Bi-directional Stacked LSTM trained model's validation loss = 0.4167 & validation accuracy = 92.27%\n"
     ]
    }
   ],
   "source": [
    "print(f\"LSTM trained model's validation loss = {val_loss:.4f} & validation accuracy = {val_acc * 100:.2f}%\")\n",
    "print(f\"Stacked LSTM trained model's validation loss = {val_loss_stacked:.4f} & validation accuracy = {val_acc_stacked * 100:.2f}%\")\n",
    "print(f\"Bi-directional LSTM trained model's validation loss = {val_loss_bi:.4f} & validation accuracy = {val_acc_bi * 100:.2f}%\")\n",
    "print(f\"Bi-directional Stacked LSTM trained model's validation loss = {val_loss_bi_stacked:.4f} & validation accuracy = {val_acc_bi_stacked * 100:.2f}%\")"
   ]
  },
  {
   "cell_type": "code",
   "execution_count": null,
   "metadata": {},
   "outputs": [],
   "source": []
  },
  {
   "cell_type": "code",
   "execution_count": null,
   "metadata": {},
   "outputs": [],
   "source": []
  },
  {
   "cell_type": "code",
   "execution_count": 69,
   "metadata": {},
   "outputs": [],
   "source": [
    "# Save trained (with dropouts) to HDD-\n",
    "model.save(\"Trained_LSTM_model.h5\", overwrite=True)"
   ]
  },
  {
   "cell_type": "code",
   "execution_count": null,
   "metadata": {},
   "outputs": [],
   "source": []
  },
  {
   "cell_type": "code",
   "execution_count": null,
   "metadata": {},
   "outputs": [],
   "source": []
  }
 ],
 "metadata": {
  "kernelspec": {
   "display_name": "Python 3 (ipykernel)",
   "language": "python",
   "name": "python3"
  },
  "language_info": {
   "codemirror_mode": {
    "name": "ipython",
    "version": 3
   },
   "file_extension": ".py",
   "mimetype": "text/x-python",
   "name": "python",
   "nbconvert_exporter": "python",
   "pygments_lexer": "ipython3",
   "version": "3.9.12"
  }
 },
 "nbformat": 4,
 "nbformat_minor": 4
}
