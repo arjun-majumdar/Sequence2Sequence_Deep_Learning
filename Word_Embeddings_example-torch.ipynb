{
 "cells": [
  {
   "cell_type": "markdown",
   "id": "6a57c471-0fee-42c4-bd5c-aceaf063e734",
   "metadata": {},
   "source": [
    "# EXP: Word Embeddings Example - PyTorch\n",
    "\n",
    "__Word Embeddings: Encoding Lexical Semantics__\n",
    "\n",
    "Word embeddings are dense vectors of real numbers, one per word in your vocabulary. In NLP, it is almost always the case that your features are words! But how should you represent a word in a computer? You could store its ASCII character representation, but that only tells you what the word is, it doesn’t say much about what it means (you might be able to derive its part of speech from its affixes, or properties from its capitalization, but not much). Even more, in what sense could you combine these representations? We often want dense outputs from our neural networks, where the inputs are ∣V∣|V|∣V∣ dimensional, where VVV is our vocabulary, but often the outputs are only a few dimensional (if we are only predicting a handful of labels, for instance). How do we get from a massive dimensional space to a smaller dimensional space?\n",
    "\n",
    "How about instead of ASCII representations, we use a one-hot encoding? There is an enormous drawback to this representation, besides just how huge it is. _It basically treats all words as independent entities with no relation to each other_. __What we really want is some notion of _similarity_ between words__.\n",
    "\n",
    "- What we mean by a notion of similarity is: __we mean _semantic similarity_, not simply having similar orthographic representations__.\n",
    "- It is a technique to combat the sparsity of linguistic data, by connecting the dots between what we have seen and what we haven’t.\n",
    "\n",
    "This example of course relies on a fundamental linguistic assumption: that words appearing in similar contexts are related to each other semantically. This is called the [distributional hypothesis](https://en.wikipedia.org/wiki/Distributional_semantics).\n",
    "\n",
    "\n",
    "__Central to the idea of deep learning is that the neural network learns representations of the features, rather than requiring the programmer to design them herself__. So _why not just let the word embeddings be parameters in our model, and then be updated during training?_ This is exactly what we will do. _We will have some latent semantic attributes that the network can, in principle, learn_.\n",
    "\n",
    "Note that the word embeddings will probably not be interpretable. That is, although with our hand-crafted vectors we can see that (say) mathematicians and physicists are similar in that they both like coffee, if we allow a neural network to learn the embeddings and see that both mathematicians and physicists have a large value in the second dimension, it is not clear what that means. They are similar in some latent semantic dimension, but this probably has no interpretation to us.\n",
    "\n",
    "In summary, __word embeddings are a representation of the _semantics_ of a word, efficiently encoding semantic information that might be relevant to the task at hand__. You can embed other things too: part of speech tags, parse trees, anything! The idea of feature embeddings is central to the field.\n",
    "\n",
    "- [Reference](https://pytorch.org/tutorials/beginner/nlp/word_embeddings_tutorial.html)\n",
    "- [example](https://www.educba.com/pytorch-embedding/)"
   ]
  },
  {
   "cell_type": "markdown",
   "id": "02eb57a5-a72f-482d-8229-84d6d0806ca9",
   "metadata": {},
   "source": [
    "### Word Embeddings in Pytorch\n",
    "\n",
    "Before we get to a worked example and an exercise, a few quick notes about how to use embeddings in Pytorch and in deep learning programming in general. Similar to how we defined a unique index for each word when making one-hot vectors, __we__ also __need to define an index for each word when using embeddings. These will be keys into a lookup table__. That is, __embeddings are stored as a $∣V∣ \\times D$ matrix__, where $D$ is the dimensionality of the embeddings, such that the word assigned index $i$ has its embedding stored in the $i^{th}$ row of the matrix. In all of the code, the mapping from words to indices is a dictionary named ```word_to_ix```.\n",
    "\n",
    "- The module that allows you to use embeddings is ```torch.nn.Embedding```, which takes two arguments: the vocabulary size, and the dimensionality of the embeddings.\n",
    "\n",
    "- To index into this table, you must use ```torch.LongTensor``` (since the indices are integers, not floats)."
   ]
  },
  {
   "cell_type": "code",
   "execution_count": 1,
   "id": "65f7258d-bc36-4654-b6e8-30e3749830c4",
   "metadata": {},
   "outputs": [
    {
     "name": "stdout",
     "output_type": "stream",
     "text": [
      "env: CUDA_DEVICE_ORDER=PCI_BUS_ID\n",
      "env: CUDA_VISIBLE_DEVICES=0\n"
     ]
    }
   ],
   "source": [
    "# Specify GPU to be used-\n",
    "%env CUDA_DEVICE_ORDER = PCI_BUS_ID\n",
    "%env CUDA_VISIBLE_DEVICES = 0"
   ]
  },
  {
   "cell_type": "code",
   "execution_count": 2,
   "id": "282e6187-0b39-4586-8ede-72ac00d8026a",
   "metadata": {},
   "outputs": [
    {
     "name": "stderr",
     "output_type": "stream",
     "text": [
      "C:\\Users\\arjun\\anaconda3\\envs\\torch-gpu\\lib\\site-packages\\tqdm\\auto.py:22: TqdmWarning: IProgress not found. Please update jupyter and ipywidgets. See https://ipywidgets.readthedocs.io/en/stable/user_install.html\n",
      "  from .autonotebook import tqdm as notebook_tqdm\n"
     ]
    }
   ],
   "source": [
    "import torch\n",
    "import torch.nn as nn\n",
    "import torch.nn.functional as F\n",
    "import torchtext\n",
    "\n",
    "import numpy as np\n",
    "import matplotlib.pyplot as plt\n",
    "import pickle"
   ]
  },
  {
   "cell_type": "code",
   "execution_count": null,
   "id": "db27d6b5-16ea-4253-923b-63541baf97e3",
   "metadata": {},
   "outputs": [],
   "source": []
  },
  {
   "cell_type": "code",
   "execution_count": null,
   "id": "0d153634-f44e-4489-a190-b51cb0ff3d14",
   "metadata": {},
   "outputs": [],
   "source": []
  },
  {
   "cell_type": "code",
   "execution_count": 3,
   "id": "a33f0051-54d8-4d9e-959a-98a9b09333a4",
   "metadata": {},
   "outputs": [
    {
     "name": "stdout",
     "output_type": "stream",
     "text": [
      "torch version: 1.12.1\n"
     ]
    }
   ],
   "source": [
    "print(f\"torch version: {torch.__version__}\")"
   ]
  },
  {
   "cell_type": "code",
   "execution_count": 4,
   "id": "8a038590-eae0-4c38-9a28-60a4c0ef92de",
   "metadata": {},
   "outputs": [
    {
     "name": "stdout",
     "output_type": "stream",
     "text": [
      "Number of GPU(s) available = 1\n",
      "Current GPU: 0\n",
      "Current GPU name: NVIDIA GeForce RTX 3080 Laptop GPU\n"
     ]
    }
   ],
   "source": [
    "# Check if there are multiple devices (i.e., GPU cards)-\n",
    "print(f\"Number of GPU(s) available = {torch.cuda.device_count()}\")\n",
    "\n",
    "# Which GPU Is The Current GPU?\n",
    "# print(f\"current GPU: {torch.cuda.current_device()}\")\n",
    "\n",
    "# Get the name of the current GPU-\n",
    "# print(f\"Current GPU name: {torch.cuda.get_device_name(torch.cuda.current_device())}\")\n",
    "\n",
    "# Is PyTorch using a GPU?\n",
    "# print(f\"Is PyTorch using a GPU? {torch.cuda.is_available()}\")\n",
    "\n",
    "if torch.cuda.is_available():\n",
    "    print(f\"Current GPU: {torch.cuda.current_device()}\")\n",
    "    print(f\"Current GPU name: {torch.cuda.get_device_name(torch.cuda.current_device())}\")\n",
    "else:\n",
    "    print(\"PyTorch does not have access to GPU\")"
   ]
  },
  {
   "cell_type": "code",
   "execution_count": 5,
   "id": "dfc036ce-9866-4fa0-b425-23dadc58eba8",
   "metadata": {},
   "outputs": [
    {
     "name": "stdout",
     "output_type": "stream",
     "text": [
      "Available device is cuda\n"
     ]
    }
   ],
   "source": [
    "# Device configuration-\n",
    "device = torch.device('cuda' if torch.cuda.is_available() else 'cpu')\n",
    "print(f'Available device is {device}')"
   ]
  },
  {
   "cell_type": "code",
   "execution_count": null,
   "id": "8905ecb0-0d23-457b-94b7-942b4129da29",
   "metadata": {},
   "outputs": [],
   "source": []
  },
  {
   "cell_type": "code",
   "execution_count": null,
   "id": "1d83e759-587b-43f4-8722-bdd22528e9d2",
   "metadata": {},
   "outputs": [],
   "source": []
  },
  {
   "cell_type": "code",
   "execution_count": 6,
   "id": "ae1459d0-50c1-4684-8c83-e527cc6032db",
   "metadata": {},
   "outputs": [],
   "source": [
    "# Python3 dict for mapping from words to indices-\n",
    "word_to_ix = {\"hello\": 0, \"world\": 1}\n",
    "\n",
    "# Create an embedding matrix for 2 words in our vocabulary. Embedding dim = 5-\n",
    "embeds = nn.Embedding(\n",
    "    num_embeddings = 2, embedding_dim = 5\n",
    ")"
   ]
  },
  {
   "cell_type": "code",
   "execution_count": 7,
   "id": "c03f64bd-1109-497c-bc5b-77b9debc95c3",
   "metadata": {},
   "outputs": [
    {
     "name": "stdout",
     "output_type": "stream",
     "text": [
      "word: hello has embedding:\n",
      "tensor([-0.5115, -1.1887,  0.4204,  0.5859, -0.1765],\n",
      "       grad_fn=<EmbeddingBackward0>)\n",
      "\n",
      "word: world has embedding:\n",
      "tensor([-0.1238,  1.0840,  0.3871, -1.0026,  0.4309],\n",
      "       grad_fn=<EmbeddingBackward0>)\n",
      "\n"
     ]
    }
   ],
   "source": [
    "# Get (random) embeddings for words in the mapping dict-\n",
    "for w in word_to_ix.keys():\n",
    "    wrd_embed = embeds(torch.tensor(word_to_ix[w], dtype = torch.long))\n",
    "    print(f\"word: {w} has embedding:\\n{wrd_embed}\\n\")"
   ]
  },
  {
   "cell_type": "code",
   "execution_count": null,
   "id": "6c5386aa-7ed0-455b-995f-ae102036be69",
   "metadata": {},
   "outputs": [],
   "source": []
  },
  {
   "cell_type": "code",
   "execution_count": null,
   "id": "3c663df6-6379-462f-aa26-309d7502fce1",
   "metadata": {},
   "outputs": [],
   "source": []
  },
  {
   "cell_type": "markdown",
   "id": "10387a10-b1bd-4e09-8116-dba0002c6d75",
   "metadata": {},
   "source": [
    "### An Example: N-Gram Language Modeling\n",
    "\n",
    "Recall that in an _n-gram_ language model, given a sequence of words $w$, we want to compute:\n",
    "\n",
    "$P\\left(w_i|w_{i-1}, w_{i-2}, ..., w_{i-n+1}\\right)$\n",
    "\n",
    "Where $w_i$ is the $i^{th}$ word of the sequence.\n",
    "\n",
    "In this example, we will compute the loss function on some training examples and update the parameters with backpropagation."
   ]
  },
  {
   "cell_type": "code",
   "execution_count": 8,
   "id": "3cc1587f-e6d7-4287-b4c6-3521d49f9681",
   "metadata": {},
   "outputs": [],
   "source": [
    "# Define hyper-parameters-\n",
    "CONTEXT_SIZE = 2\n",
    "EMBEDDING_DIM = 10"
   ]
  },
  {
   "cell_type": "code",
   "execution_count": 13,
   "id": "8a44c5eb-bbc6-41b6-a16c-6cbaa9562c2e",
   "metadata": {},
   "outputs": [],
   "source": [
    "# Using Shakespeare Sonnet 2\n",
    "test_sentence = \"\"\"When forty winters shall besiege thy brow,\n",
    "And dig deep trenches in thy beauty's field,\n",
    "Thy youth's proud livery so gazed on now,\n",
    "Will be a totter'd weed of small worth held:\n",
    "Then being asked, where all thy beauty lies,\n",
    "Where all the treasure of thy lusty days;\n",
    "To say, within thine own deep sunken eyes,\n",
    "Were an all-eating shame, and thriftless praise.\n",
    "How much more praise deserv'd thy beauty's use,\n",
    "If thou couldst answer 'This fair child of mine\n",
    "Shall sum my count, and make my old excuse,'\n",
    "Proving his beauty by succession thine!\n",
    "This were to be new made when thou art old,\n",
    "And see thy blood warm when thou feel'st it cold.\"\"\""
   ]
  },
  {
   "cell_type": "code",
   "execution_count": 14,
   "id": "22741503-7f31-4a30-b74b-15df3e46ee95",
   "metadata": {},
   "outputs": [],
   "source": [
    "# Tokenize text-\n",
    "tokenizer = torchtext.data.get_tokenizer(\"basic_english\")"
   ]
  },
  {
   "cell_type": "code",
   "execution_count": 15,
   "id": "15fcc71e-b9fc-422d-a676-93d09d0702e7",
   "metadata": {},
   "outputs": [],
   "source": [
    "tokens = tokenizer(test_sentence)"
   ]
  },
  {
   "cell_type": "code",
   "execution_count": 16,
   "id": "66622fee-b2ef-440f-a8ec-1f7c59d16b8e",
   "metadata": {},
   "outputs": [
    {
     "name": "stdout",
     "output_type": "stream",
     "text": [
      "Number of tokens = 144\n"
     ]
    }
   ],
   "source": [
    "print(f\"Number of tokens = {len(tokens)}\")"
   ]
  },
  {
   "cell_type": "code",
   "execution_count": null,
   "id": "b5b6acc8-8806-4f8a-a921-80013866ea44",
   "metadata": {},
   "outputs": [],
   "source": []
  },
  {
   "cell_type": "code",
   "execution_count": 20,
   "id": "2a513d7a-2f5e-447e-839d-d255a38b6328",
   "metadata": {},
   "outputs": [],
   "source": [
    "# Build a list of tuples.\n",
    "# Each tuple is ([word_i-CONTEXT_SIZE, ..., word_i-1], target word)\n",
    "ngrams = [\n",
    "    (\n",
    "        [tokens[i - j - 1] for j in range(CONTEXT_SIZE)],\n",
    "        tokens[i]\n",
    "    )\n",
    "    for i in range(CONTEXT_SIZE, len(tokens))\n",
    "]"
   ]
  },
  {
   "cell_type": "code",
   "execution_count": 21,
   "id": "a4eac32d-5753-46a3-ba20-a73c4fb62ba0",
   "metadata": {},
   "outputs": [
    {
     "name": "stdout",
     "output_type": "stream",
     "text": [
      "length of n-gram model = 142\n"
     ]
    }
   ],
   "source": [
    "print(f\"length of n-gram model = {len(ngrams)}\")"
   ]
  },
  {
   "cell_type": "code",
   "execution_count": 22,
   "id": "0f12b0d3-30c8-4db7-8ba0-28129e09c366",
   "metadata": {},
   "outputs": [
    {
     "name": "stdout",
     "output_type": "stream",
     "text": [
      "The first 5 n-gram model:\n",
      "[(['forty', 'when'], 'winters'), (['winters', 'forty'], 'shall'), (['shall', 'winters'], 'besiege'), (['besiege', 'shall'], 'thy'), (['thy', 'besiege'], 'brow')]\n"
     ]
    }
   ],
   "source": [
    "print(f\"The first 5 n-gram model:\\n{ngrams[:5]}\")"
   ]
  },
  {
   "cell_type": "code",
   "execution_count": 23,
   "id": "b986f3b3-28f9-41a0-9f96-cd0bac9277f7",
   "metadata": {},
   "outputs": [],
   "source": [
    "# Create vocabulary-\n",
    "vocab = set(tokens)\n",
    "\n",
    "# Python3 dict to map from words to their indices-\n",
    "word_to_ix = {word: i for i, word in enumerate(vocab)}"
   ]
  },
  {
   "cell_type": "code",
   "execution_count": 24,
   "id": "e3723c41-e5df-4335-ab10-a7d75e9d6122",
   "metadata": {},
   "outputs": [
    {
     "name": "stdout",
     "output_type": "stream",
     "text": [
      "length of vocabulary = 92\n"
     ]
    }
   ],
   "source": [
    "print(f\"length of vocabulary = {len(vocab)}\")"
   ]
  },
  {
   "cell_type": "code",
   "execution_count": 25,
   "id": "9d21d147-aeff-4b65-9130-617617ef76db",
   "metadata": {},
   "outputs": [
    {
     "name": "stdout",
     "output_type": "stream",
     "text": [
      "5 dict kays are: ['forty', 'treasure', 'st', 'were', 'all-eating']\n"
     ]
    }
   ],
   "source": [
    "print(f\"5 dict kays are: {list(word_to_ix.keys())[:5]}\")"
   ]
  },
  {
   "cell_type": "code",
   "execution_count": null,
   "id": "62cefeff-4d18-46d1-8fb5-c6fa23a5bf7a",
   "metadata": {},
   "outputs": [],
   "source": []
  },
  {
   "cell_type": "code",
   "execution_count": null,
   "id": "9d253cbe-bbc0-4ad4-ab89-4e9fde3acc3a",
   "metadata": {},
   "outputs": [],
   "source": []
  },
  {
   "cell_type": "code",
   "execution_count": 26,
   "id": "e2a27071-5cb1-478d-8f4e-00d3da8546d3",
   "metadata": {},
   "outputs": [],
   "source": [
    "class NGramLanguageModeler(nn.Module):\n",
    "    def __init__(self, vocab_size, embedding_dim, context_size):\n",
    "        super(NGramLanguageModeler, self).__init__()\n",
    "        self.embeddings = nn.Embedding(\n",
    "            num_embeddings = vocab_size, embedding_dim = embedding_dim\n",
    "        )\n",
    "        self.linear1 = nn.Linear(in_features = context_size * embedding_dim, out_features = 128)\n",
    "        self.linear2 = nn.Linear(in_features = 128, out_features = vocab_size)\n",
    "\n",
    "    def forward(self, inputs):\n",
    "        embeds = self.embeddings(inputs).view((1, -1))\n",
    "        out = F.relu(self.linear1(embeds))\n",
    "        out = self.linear2(out)\n",
    "        log_probs = F.log_softmax(out, dim = 1)\n",
    "        return log_probs\n",
    "    "
   ]
  },
  {
   "cell_type": "code",
   "execution_count": 27,
   "id": "c7e34858-c3c6-42b8-82c6-ebbbfc8e4460",
   "metadata": {},
   "outputs": [],
   "source": [
    "# Instantiate an instance of LM-\n",
    "model = NGramLanguageModeler(\n",
    "    vocab_size = len(vocab), embedding_dim = EMBEDDING_DIM,\n",
    "    context_size = CONTEXT_SIZE\n",
    ").to(device)"
   ]
  },
  {
   "cell_type": "code",
   "execution_count": null,
   "id": "cdd18989-6db0-4d5d-8158-9984be17c5ac",
   "metadata": {},
   "outputs": [],
   "source": []
  },
  {
   "cell_type": "code",
   "execution_count": 28,
   "id": "81149009-86eb-41f4-96c9-9e8e1f729f41",
   "metadata": {},
   "outputs": [],
   "source": [
    "# Python3 dict to contain losses-\n",
    "losses = {}\n",
    "\n",
    "# Define negative log-likelihood loss-\n",
    "loss_function = nn.NLLLoss()"
   ]
  },
  {
   "cell_type": "code",
   "execution_count": 29,
   "id": "240259cd-5ad4-43b1-8463-4e2601bb8ff7",
   "metadata": {},
   "outputs": [],
   "source": [
    "# Use SGD optimizer-\n",
    "optimizer = torch.optim.SGD(model.parameters(), lr = 0.001)"
   ]
  },
  {
   "cell_type": "code",
   "execution_count": null,
   "id": "ec8bf719-4884-4662-808d-aeb5240ac4d6",
   "metadata": {},
   "outputs": [],
   "source": []
  },
  {
   "cell_type": "code",
   "execution_count": 30,
   "id": "ca96dd0f-1cc0-4401-81f7-dd664d9f6473",
   "metadata": {},
   "outputs": [],
   "source": [
    "# Train language model for these epochs-\n",
    "num_epochs = 200"
   ]
  },
  {
   "cell_type": "code",
   "execution_count": null,
   "id": "f7238aea-9823-4a61-acb3-42fa1f69edde",
   "metadata": {},
   "outputs": [],
   "source": []
  },
  {
   "cell_type": "code",
   "execution_count": 31,
   "id": "3bfce564-dd83-4788-9d4d-2f56fb3a1809",
   "metadata": {},
   "outputs": [
    {
     "name": "stdout",
     "output_type": "stream",
     "text": [
      "epoch = 1, loss = 648.8161\n",
      "epoch = 2, loss = 644.1093\n",
      "epoch = 3, loss = 639.4745\n",
      "epoch = 4, loss = 634.9085\n",
      "epoch = 5, loss = 630.4079\n",
      "epoch = 6, loss = 625.9692\n",
      "epoch = 7, loss = 621.5923\n",
      "epoch = 8, loss = 617.2769\n",
      "epoch = 9, loss = 613.0202\n",
      "epoch = 10, loss = 608.8225\n",
      "epoch = 11, loss = 604.6847\n",
      "epoch = 12, loss = 600.6053\n",
      "epoch = 13, loss = 596.5842\n",
      "epoch = 14, loss = 592.6230\n",
      "epoch = 15, loss = 588.7188\n",
      "epoch = 16, loss = 584.8732\n",
      "epoch = 17, loss = 581.0859\n",
      "epoch = 18, loss = 577.3562\n",
      "epoch = 19, loss = 573.6858\n",
      "epoch = 20, loss = 570.0734\n",
      "epoch = 21, loss = 566.5175\n",
      "epoch = 22, loss = 563.0136\n",
      "epoch = 23, loss = 559.5591\n",
      "epoch = 24, loss = 556.1509\n",
      "epoch = 25, loss = 552.7846\n",
      "epoch = 26, loss = 549.4593\n",
      "epoch = 27, loss = 546.1719\n",
      "epoch = 28, loss = 542.9242\n",
      "epoch = 29, loss = 539.7121\n",
      "epoch = 30, loss = 536.5328\n",
      "epoch = 31, loss = 533.3816\n",
      "epoch = 32, loss = 530.2540\n",
      "epoch = 33, loss = 527.1508\n",
      "epoch = 34, loss = 524.0708\n",
      "epoch = 35, loss = 521.0076\n",
      "epoch = 36, loss = 517.9622\n",
      "epoch = 37, loss = 514.9273\n",
      "epoch = 38, loss = 511.9015\n",
      "epoch = 39, loss = 508.8865\n",
      "epoch = 40, loss = 505.8810\n",
      "epoch = 41, loss = 502.8847\n",
      "epoch = 42, loss = 499.8958\n",
      "epoch = 43, loss = 496.9140\n",
      "epoch = 44, loss = 493.9352\n",
      "epoch = 45, loss = 490.9599\n",
      "epoch = 46, loss = 487.9894\n",
      "epoch = 47, loss = 485.0215\n",
      "epoch = 48, loss = 482.0547\n",
      "epoch = 49, loss = 479.0898\n",
      "epoch = 50, loss = 476.1252\n",
      "epoch = 51, loss = 473.1598\n",
      "epoch = 52, loss = 470.1935\n",
      "epoch = 53, loss = 467.2261\n",
      "epoch = 54, loss = 464.2598\n",
      "epoch = 55, loss = 461.2920\n",
      "epoch = 56, loss = 458.3252\n",
      "epoch = 57, loss = 455.3601\n",
      "epoch = 58, loss = 452.3926\n",
      "epoch = 59, loss = 449.4238\n",
      "epoch = 60, loss = 446.4508\n",
      "epoch = 61, loss = 443.4751\n",
      "epoch = 62, loss = 440.4963\n",
      "epoch = 63, loss = 437.5108\n",
      "epoch = 64, loss = 434.5203\n",
      "epoch = 65, loss = 431.5248\n",
      "epoch = 66, loss = 428.5258\n",
      "epoch = 67, loss = 425.5208\n",
      "epoch = 68, loss = 422.5087\n",
      "epoch = 69, loss = 419.4913\n",
      "epoch = 70, loss = 416.4679\n",
      "epoch = 71, loss = 413.4360\n",
      "epoch = 72, loss = 410.3980\n",
      "epoch = 73, loss = 407.3514\n",
      "epoch = 74, loss = 404.3014\n",
      "epoch = 75, loss = 401.2426\n",
      "epoch = 76, loss = 398.1787\n",
      "epoch = 77, loss = 395.1076\n",
      "epoch = 78, loss = 392.0323\n",
      "epoch = 79, loss = 388.9529\n",
      "epoch = 80, loss = 385.8656\n",
      "epoch = 81, loss = 382.7699\n",
      "epoch = 82, loss = 379.6737\n",
      "epoch = 83, loss = 376.5662\n",
      "epoch = 84, loss = 373.4605\n",
      "epoch = 85, loss = 370.3483\n",
      "epoch = 86, loss = 367.2304\n",
      "epoch = 87, loss = 364.1120\n",
      "epoch = 88, loss = 360.9888\n",
      "epoch = 89, loss = 357.8652\n",
      "epoch = 90, loss = 354.7361\n",
      "epoch = 91, loss = 351.6062\n",
      "epoch = 92, loss = 348.4786\n",
      "epoch = 93, loss = 345.3473\n",
      "epoch = 94, loss = 342.2175\n",
      "epoch = 95, loss = 339.0869\n",
      "epoch = 96, loss = 335.9597\n",
      "epoch = 97, loss = 332.8339\n",
      "epoch = 98, loss = 329.7102\n",
      "epoch = 99, loss = 326.5853\n",
      "epoch = 100, loss = 323.4663\n",
      "epoch = 101, loss = 320.3503\n",
      "epoch = 102, loss = 317.2388\n",
      "epoch = 103, loss = 314.1340\n",
      "epoch = 104, loss = 311.0349\n",
      "epoch = 105, loss = 307.9425\n",
      "epoch = 106, loss = 304.8554\n",
      "epoch = 107, loss = 301.7760\n",
      "epoch = 108, loss = 298.7041\n",
      "epoch = 109, loss = 295.6376\n",
      "epoch = 110, loss = 292.5799\n",
      "epoch = 111, loss = 289.5304\n",
      "epoch = 112, loss = 286.4899\n",
      "epoch = 113, loss = 283.4586\n",
      "epoch = 114, loss = 280.4385\n",
      "epoch = 115, loss = 277.4312\n",
      "epoch = 116, loss = 274.4313\n",
      "epoch = 117, loss = 271.4463\n",
      "epoch = 118, loss = 268.4700\n",
      "epoch = 119, loss = 265.5065\n",
      "epoch = 120, loss = 262.5565\n",
      "epoch = 121, loss = 259.6199\n",
      "epoch = 122, loss = 256.6991\n",
      "epoch = 123, loss = 253.7899\n",
      "epoch = 124, loss = 250.8998\n",
      "epoch = 125, loss = 248.0217\n",
      "epoch = 126, loss = 245.1626\n",
      "epoch = 127, loss = 242.3180\n",
      "epoch = 128, loss = 239.4900\n",
      "epoch = 129, loss = 236.6820\n",
      "epoch = 130, loss = 233.8891\n",
      "epoch = 131, loss = 231.1174\n",
      "epoch = 132, loss = 228.3623\n",
      "epoch = 133, loss = 225.6271\n",
      "epoch = 134, loss = 222.9116\n",
      "epoch = 135, loss = 220.2167\n",
      "epoch = 136, loss = 217.5419\n",
      "epoch = 137, loss = 214.8880\n",
      "epoch = 138, loss = 212.2539\n",
      "epoch = 139, loss = 209.6433\n",
      "epoch = 140, loss = 207.0540\n",
      "epoch = 141, loss = 204.4860\n",
      "epoch = 142, loss = 201.9417\n",
      "epoch = 143, loss = 199.4203\n",
      "epoch = 144, loss = 196.9238\n",
      "epoch = 145, loss = 194.4486\n",
      "epoch = 146, loss = 191.9986\n",
      "epoch = 147, loss = 189.5769\n",
      "epoch = 148, loss = 187.1785\n",
      "epoch = 149, loss = 184.8059\n",
      "epoch = 150, loss = 182.4580\n",
      "epoch = 151, loss = 180.1345\n",
      "epoch = 152, loss = 177.8386\n",
      "epoch = 153, loss = 175.5654\n",
      "epoch = 154, loss = 173.3213\n",
      "epoch = 155, loss = 171.1011\n",
      "epoch = 156, loss = 168.9087\n",
      "epoch = 157, loss = 166.7397\n",
      "epoch = 158, loss = 164.5991\n",
      "epoch = 159, loss = 162.4856\n",
      "epoch = 160, loss = 160.3987\n",
      "epoch = 161, loss = 158.3391\n",
      "epoch = 162, loss = 156.3067\n",
      "epoch = 163, loss = 154.3005\n",
      "epoch = 164, loss = 152.3210\n",
      "epoch = 165, loss = 150.3678\n",
      "epoch = 166, loss = 148.4420\n",
      "epoch = 167, loss = 146.5396\n",
      "epoch = 168, loss = 144.6653\n",
      "epoch = 169, loss = 142.8169\n",
      "epoch = 170, loss = 140.9961\n",
      "epoch = 171, loss = 139.1978\n",
      "epoch = 172, loss = 137.4302\n",
      "epoch = 173, loss = 135.6881\n",
      "epoch = 174, loss = 133.9682\n",
      "epoch = 175, loss = 132.2776\n",
      "epoch = 176, loss = 130.6090\n",
      "epoch = 177, loss = 128.9673\n",
      "epoch = 178, loss = 127.3504\n",
      "epoch = 179, loss = 125.7587\n",
      "epoch = 180, loss = 124.1905\n",
      "epoch = 181, loss = 122.6470\n",
      "epoch = 182, loss = 121.1275\n",
      "epoch = 183, loss = 119.6319\n",
      "epoch = 184, loss = 118.1606\n",
      "epoch = 185, loss = 116.7117\n",
      "epoch = 186, loss = 115.2844\n",
      "epoch = 187, loss = 113.8806\n",
      "epoch = 188, loss = 112.4998\n",
      "epoch = 189, loss = 111.1407\n",
      "epoch = 190, loss = 109.8035\n",
      "epoch = 191, loss = 108.4881\n",
      "epoch = 192, loss = 107.1935\n",
      "epoch = 193, loss = 105.9200\n",
      "epoch = 194, loss = 104.6688\n",
      "epoch = 195, loss = 103.4361\n",
      "epoch = 196, loss = 102.2235\n",
      "epoch = 197, loss = 101.0311\n",
      "epoch = 198, loss = 99.8589\n",
      "epoch = 199, loss = 98.7038\n",
      "epoch = 200, loss = 97.5691\n"
     ]
    }
   ],
   "source": [
    "for epoch in range(num_epochs):\n",
    "    total_loss = 0\n",
    "    for context, target in ngrams:\n",
    "\n",
    "        # Step 1. Prepare the inputs to be passed to the model (i.e, turn the words\n",
    "        # into integer indices and wrap them in tensors)-\n",
    "        context_idxs = torch.tensor([word_to_ix[w] for w in context], dtype = torch.long).to(device)\n",
    "\n",
    "        # Step 2. Recall that torch *accumulates* gradients. Before passing in a\n",
    "        # new instance, you need to zero out the gradients from the old\n",
    "        # instance-\n",
    "        model.zero_grad()\n",
    "\n",
    "        # Step 3. Run the forward pass, getting log probabilities over next\n",
    "        # words-\n",
    "        log_probs = model(context_idxs)\n",
    "\n",
    "        # Step 4. Compute your loss function. (Again, Torch wants the target\n",
    "        # word wrapped in a tensor)\n",
    "        loss = loss_function(\n",
    "            log_probs,\n",
    "            torch.tensor([word_to_ix[target]], dtype = torch.long).to(device)\n",
    "        )\n",
    "\n",
    "        # Step 5. Do the backward pass and update the gradient-\n",
    "        loss.backward()\n",
    "        optimizer.step()\n",
    "\n",
    "        # Get the Python number from a 1-element Tensor by calling tensor.item()-\n",
    "        total_loss += loss.item()\n",
    "    \n",
    "    print(f\"epoch = {epoch + 1}, loss = {total_loss:.4f}\")\n",
    "    \n",
    "    # Add loss-\n",
    "    losses[epoch + 1] = total_loss\n",
    "    "
   ]
  },
  {
   "cell_type": "code",
   "execution_count": null,
   "id": "9830bfc8-de7c-490d-8dc1-92286260b22d",
   "metadata": {},
   "outputs": [],
   "source": []
  },
  {
   "cell_type": "code",
   "execution_count": null,
   "id": "7891ea36-308a-4580-90b3-ba67b92b2ce9",
   "metadata": {},
   "outputs": [],
   "source": []
  },
  {
   "cell_type": "markdown",
   "id": "a046d560-2759-46b9-ad1b-e93472a6a218",
   "metadata": {},
   "source": [
    "#### Sanity check"
   ]
  },
  {
   "cell_type": "code",
   "execution_count": 32,
   "id": "d5489a25-008f-4c43-8209-0646cb202348",
   "metadata": {},
   "outputs": [
    {
     "data": {
      "text/plain": [
       "(['cold', 'it'], '.')"
      ]
     },
     "execution_count": 32,
     "metadata": {},
     "output_type": "execute_result"
    }
   ],
   "source": [
    "context, target"
   ]
  },
  {
   "cell_type": "code",
   "execution_count": 33,
   "id": "11ddd601-b2bd-4800-994e-bdd5f729857a",
   "metadata": {},
   "outputs": [],
   "source": [
    "context_idxs = torch.tensor([word_to_ix[w] for w in context], dtype = torch.long).to(device)"
   ]
  },
  {
   "cell_type": "code",
   "execution_count": 34,
   "id": "d3ec6a7c-7f72-460d-9729-df93f3fe8095",
   "metadata": {},
   "outputs": [
    {
     "data": {
      "text/plain": [
       "tensor([74, 90], device='cuda:0')"
      ]
     },
     "execution_count": 34,
     "metadata": {},
     "output_type": "execute_result"
    }
   ],
   "source": [
    "context_idxs"
   ]
  },
  {
   "cell_type": "code",
   "execution_count": 35,
   "id": "7812a136-b7e4-4f19-b753-8a9e922bcc50",
   "metadata": {},
   "outputs": [],
   "source": [
    "log_probs = model(context_idxs)"
   ]
  },
  {
   "cell_type": "code",
   "execution_count": 36,
   "id": "0d2948b3-ab59-451e-8901-2c3e5c9febd3",
   "metadata": {},
   "outputs": [
    {
     "data": {
      "text/plain": [
       "(torch.Size([1, 92]), torch.Size([2]))"
      ]
     },
     "execution_count": 36,
     "metadata": {},
     "output_type": "execute_result"
    }
   ],
   "source": [
    "log_probs.shape, context_idxs.shape"
   ]
  },
  {
   "cell_type": "code",
   "execution_count": 37,
   "id": "ce64249f-d08a-4d48-84dd-dfe6b2d0c829",
   "metadata": {},
   "outputs": [
    {
     "data": {
      "text/plain": [
       "array(0.21412897, dtype=float32)"
      ]
     },
     "execution_count": 37,
     "metadata": {},
     "output_type": "execute_result"
    }
   ],
   "source": [
    "loss_function(\n",
    "    log_probs,\n",
    "    torch.tensor([word_to_ix[target]], dtype = torch.long).to(device)\n",
    ").cpu().detach().numpy()"
   ]
  },
  {
   "cell_type": "code",
   "execution_count": null,
   "id": "6b99cb1c-83b1-4395-80d3-67f7000e577a",
   "metadata": {},
   "outputs": [],
   "source": []
  },
  {
   "cell_type": "code",
   "execution_count": null,
   "id": "37e4a85f-5785-468e-88ef-b6e30a2682ed",
   "metadata": {},
   "outputs": [],
   "source": []
  },
  {
   "cell_type": "code",
   "execution_count": 38,
   "id": "7b2482ab-732b-42be-8062-c5451ca02d63",
   "metadata": {},
   "outputs": [
    {
     "data": {
      "image/png": "[encoded data removed]",
      "text/plain": [
       "<Figure size 600x500 with 1 Axes>"
      ]
     },
     "metadata": {},
     "output_type": "display_data"
    }
   ],
   "source": [
    "plt.figure(figsize = (6, 5))\n",
    "plt.plot([losses[k] for k in losses.keys()])\n",
    "plt.xlabel(\"epochs\")\n",
    "plt.ylabel(\"nll\")\n",
    "plt.title(\"N-Gram Language Modeling: NLL loss\")\n",
    "plt.show()"
   ]
  },
  {
   "cell_type": "code",
   "execution_count": null,
   "id": "b23f4e40-e760-4948-8b14-d7109653f144",
   "metadata": {},
   "outputs": [],
   "source": []
  },
  {
   "cell_type": "code",
   "execution_count": 39,
   "id": "cdc440dc-d20d-43a8-88ac-6040537d8d60",
   "metadata": {},
   "outputs": [
    {
     "name": "stdout",
     "output_type": "stream",
     "text": [
      "Dimensions of learned embedding matrix: torch.Size([92, 10])\n"
     ]
    }
   ],
   "source": [
    "print(f\"Dimensions of learned embedding matrix: {model.embeddings.weight.shape}\")"
   ]
  },
  {
   "cell_type": "code",
   "execution_count": 40,
   "id": "6962941b-e50e-4295-b647-7d87d965fe70",
   "metadata": {},
   "outputs": [],
   "source": [
    "# Randomly choose a word from the text corpus-\n",
    "random_wrd = np.random.choice(a = list(word_to_ix.keys()), size = 1, replace = False)[0]"
   ]
  },
  {
   "cell_type": "code",
   "execution_count": 41,
   "id": "62ae1a66-7b23-4b99-8a9f-d79c025aff7c",
   "metadata": {},
   "outputs": [
    {
     "name": "stdout",
     "output_type": "stream",
     "text": [
      "Learned embedding for the word: couldst is:\n",
      "[-0.6795246  -0.23531438 -0.04182692 -1.2779577  -0.54892033  1.1771073\n",
      " -1.5215546  -0.6584726  -0.43037704  1.1042604 ]\n"
     ]
    }
   ],
   "source": [
    "# To get the embedding of a particular word, e.g. \"beauty\"\n",
    "print(f\"Learned embedding for the word: {random_wrd} is:\\n{model.embeddings.weight[word_to_ix[random_wrd]].cpu().detach().numpy()}\")"
   ]
  },
  {
   "cell_type": "code",
   "execution_count": 42,
   "id": "1c2c1396-8727-430e-9f87-4eea93131e81",
   "metadata": {},
   "outputs": [
    {
     "data": {
      "text/plain": [
       "84"
      ]
     },
     "execution_count": 42,
     "metadata": {},
     "output_type": "execute_result"
    }
   ],
   "source": [
    "word_to_ix[random_wrd]"
   ]
  },
  {
   "cell_type": "code",
   "execution_count": 43,
   "id": "b91246a5-2c23-4ee6-8a39-49332a44ed99",
   "metadata": {},
   "outputs": [
    {
     "data": {
      "text/plain": [
       "array([-0.6795246 , -0.23531438, -0.04182692, -1.2779577 , -0.54892033,\n",
       "        1.1771073 , -1.5215546 , -0.6584726 , -0.43037704,  1.1042604 ],\n",
       "      dtype=float32)"
      ]
     },
     "execution_count": 43,
     "metadata": {},
     "output_type": "execute_result"
    }
   ],
   "source": [
    "model.embeddings.weight[84].cpu().detach().numpy()"
   ]
  },
  {
   "cell_type": "code",
   "execution_count": null,
   "id": "753613bf-0f0d-446e-b324-68398fd193d8",
   "metadata": {},
   "outputs": [],
   "source": []
  },
  {
   "cell_type": "code",
   "execution_count": null,
   "id": "53a869ae-f724-4409-8e0b-7ed69677773e",
   "metadata": {},
   "outputs": [],
   "source": []
  },
  {
   "cell_type": "code",
   "execution_count": null,
   "id": "6bc37547-1f79-4903-ad87-7a4c6e177871",
   "metadata": {},
   "outputs": [],
   "source": []
  },
  {
   "cell_type": "code",
   "execution_count": null,
   "id": "1ad602eb-e71f-4d8b-87f7-0abe936787ac",
   "metadata": {},
   "outputs": [],
   "source": []
  },
  {
   "cell_type": "markdown",
   "id": "885134bf-378b-43de-ba2b-0969ccd592bd",
   "metadata": {},
   "source": [
    "### Computing Word Embeddings: _Continuous Bag-of-Words_\n",
    "\n",
    "The Continuous Bag-of-Words model (CBOW) is frequently used in NLP deep learning.\n",
    "\n",
    "- __It is a model that tries to predict words given the context of a few words before and a few words after the target word__.\n",
    "- __This is distinct from language modeling, since CBOW is not sequential and does not have to be probabilistic__.\n",
    "- _Typically, CBOW is used to quickly train word embeddings, and these embeddings are used to initialize the embeddings of some more complicated model_.\n",
    "- Usually, this is referred to as _pretraining embeddings_. It almost always helps performance a couple of percent.\n",
    "\n",
    "The CBOW model is as follows: __Given a target word $w_i$ and a $N$ context window on each side, $w_{i-1}$, ..., $w_{i-N}$ and $w_{i+1}$, ..., $w_{i+N}$ referring to all context words collectively as $C$, CBOW tries to minimize-__\n",
    "\n",
    "$−logp\\left(w_i∣C\\right)=-logSoftmax\\left(A\\left(\\sum_{w \\in C} q_w\\right) + b\\right)$\n",
    "\n",
    "where $q_w$ is the embedding for word $w$."
   ]
  },
  {
   "cell_type": "code",
   "execution_count": 79,
   "id": "5c08601e-ceec-469d-a370-abaa74a69607",
   "metadata": {},
   "outputs": [],
   "source": [
    "# 2 words to the left, 2 to the right-\n",
    "CONTEXT_SIZE = 2"
   ]
  },
  {
   "cell_type": "code",
   "execution_count": 80,
   "id": "1c737cfb-839f-45bc-ae64-b467eaa9125c",
   "metadata": {},
   "outputs": [],
   "source": [
    "raw_text = \"\"\"We are about to study the idea of a computational process.\n",
    "Computational processes are abstract beings that inhabit computers.\n",
    "As they evolve, processes manipulate other abstract things called data.\n",
    "The evolution of a process is directed by a pattern of rules\n",
    "called a program. People create programs to direct processes. In effect,\n",
    "we conjure the spirits of the computer with our spells.\"\"\".split()"
   ]
  },
  {
   "cell_type": "code",
   "execution_count": 81,
   "id": "ef55f85d-4a22-4304-abd1-32b735cd0917",
   "metadata": {},
   "outputs": [
    {
     "name": "stdout",
     "output_type": "stream",
     "text": [
      "Length of input text = 62\n"
     ]
    }
   ],
   "source": [
    "print(f\"Length of input text = {len(raw_text)}\")"
   ]
  },
  {
   "cell_type": "code",
   "execution_count": 82,
   "id": "231b7373-0a43-4377-a57e-0bc4e0626687",
   "metadata": {},
   "outputs": [
    {
     "name": "stdout",
     "output_type": "stream",
     "text": [
      "Size of vocabulary = 49\n"
     ]
    }
   ],
   "source": [
    "# By deriving a set from `raw_text`, we deduplicate the array-\n",
    "vocab = set(raw_text)\n",
    "vocab_size = len(vocab)\n",
    "print(f\"Size of vocabulary = {vocab_size}\")"
   ]
  },
  {
   "cell_type": "code",
   "execution_count": 83,
   "id": "6ef1c012-bbfe-4b7e-8957-bf8f9b56bea1",
   "metadata": {},
   "outputs": [],
   "source": [
    "# Python3 dict to map from words to indices-\n",
    "word_to_ix = {word: i for i, word in enumerate(vocab)}"
   ]
  },
  {
   "cell_type": "code",
   "execution_count": 84,
   "id": "73ece83b-d106-458f-9c76-70ea19a94b93",
   "metadata": {},
   "outputs": [],
   "source": [
    "data = []\n",
    "for i in range(CONTEXT_SIZE, len(raw_text) - CONTEXT_SIZE):\n",
    "    context = (\n",
    "        [raw_text[i - j - 1] for j in range(CONTEXT_SIZE)]\n",
    "        + [raw_text[i + j + 1] for j in range(CONTEXT_SIZE)]\n",
    "    )\n",
    "    target = raw_text[i]\n",
    "    data.append((context, target))"
   ]
  },
  {
   "cell_type": "code",
   "execution_count": 85,
   "id": "a6c6d3a7-62f1-4ab7-8bc4-123123b37afa",
   "metadata": {},
   "outputs": [
    {
     "data": {
      "text/plain": [
       "58"
      ]
     },
     "execution_count": 85,
     "metadata": {},
     "output_type": "execute_result"
    }
   ],
   "source": [
    "len(data)"
   ]
  },
  {
   "cell_type": "code",
   "execution_count": 87,
   "id": "80f4a282-4a82-4378-ab10-aa29b0731c62",
   "metadata": {},
   "outputs": [
    {
     "name": "stdout",
     "output_type": "stream",
     "text": [
      "For the given context: ['to', 'about', 'the', 'idea'], predict target: study\n"
     ]
    }
   ],
   "source": [
    "c, t = data[2]\n",
    "print(f\"For the given context: {c}, predict target: {t}\")"
   ]
  },
  {
   "cell_type": "code",
   "execution_count": null,
   "id": "871b0937-5df5-4cd7-9aee-cebf7b87e3d8",
   "metadata": {},
   "outputs": [],
   "source": []
  },
  {
   "cell_type": "code",
   "execution_count": null,
   "id": "8fd84240-51ae-42bb-8329-5195af6703cc",
   "metadata": {},
   "outputs": [],
   "source": []
  },
  {
   "cell_type": "code",
   "execution_count": null,
   "id": "789a1651-caed-4d1a-b8d0-93019f2f16d2",
   "metadata": {},
   "outputs": [],
   "source": [
    "class CBOW(nn.Module):\n",
    "    def __init__(self):\n",
    "        pass\n",
    "\n",
    "    def forward(self, inputs):\n",
    "        pass\n",
    "\n",
    "# Create your model and train. Here are some functions to help you make\n",
    "# the data ready for use by your module."
   ]
  },
  {
   "cell_type": "code",
   "execution_count": null,
   "id": "e79bc85a-6345-49a7-92ed-ff29b3d0018e",
   "metadata": {},
   "outputs": [],
   "source": []
  },
  {
   "cell_type": "code",
   "execution_count": 88,
   "id": "fb9fddc7-acac-486c-9b89-7008dbd8fe71",
   "metadata": {},
   "outputs": [],
   "source": [
    "def make_context_vector(context, word_to_ix):\n",
    "    idxs = [word_to_ix[w] for w in context]\n",
    "    return torch.tensor(idxs, dtype = torch.long)\n"
   ]
  },
  {
   "cell_type": "code",
   "execution_count": 89,
   "id": "b362a2ce-5c01-4f65-8b57-276e019c59dd",
   "metadata": {},
   "outputs": [
    {
     "data": {
      "text/plain": [
       "tensor([42, 15, 26,  3])"
      ]
     },
     "execution_count": 89,
     "metadata": {},
     "output_type": "execute_result"
    }
   ],
   "source": [
    "make_context_vector(data[0][0], word_to_ix)"
   ]
  },
  {
   "cell_type": "code",
   "execution_count": 91,
   "id": "682e8c65-d8cd-4978-86b1-3e3d6686fd42",
   "metadata": {},
   "outputs": [
    {
     "data": {
      "text/plain": [
       "((['are', 'We', 'to', 'study'], 'about'), ['are', 'We', 'to', 'study'])"
      ]
     },
     "execution_count": 91,
     "metadata": {},
     "output_type": "execute_result"
    }
   ],
   "source": [
    "data[0], data[0][0]"
   ]
  },
  {
   "cell_type": "code",
   "execution_count": null,
   "id": "f893f3c7-f5f1-4161-9e94-6d7447c993cd",
   "metadata": {},
   "outputs": [],
   "source": []
  },
  {
   "cell_type": "code",
   "execution_count": null,
   "id": "0c1bd102-3014-4f3a-a827-7d30a91edf46",
   "metadata": {},
   "outputs": [],
   "source": []
  }
 ],
 "metadata": {
  "kernelspec": {
   "display_name": "Python 3 (ipykernel)",
   "language": "python",
   "name": "python3"
  },
  "language_info": {
   "codemirror_mode": {
    "name": "ipython",
    "version": 3
   },
   "file_extension": ".py",
   "mimetype": "text/x-python",
   "name": "python",
   "nbconvert_exporter": "python",
   "pygments_lexer": "ipython3",
   "version": "3.10.4"
  }
 },
 "nbformat": 4,
 "nbformat_minor": 5
}
