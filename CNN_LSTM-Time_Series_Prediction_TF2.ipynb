{
 "cells": [
  {
   "cell_type": "markdown",
   "id": "6b5a9826-a149-4c3d-b94e-d3992bcf6622",
   "metadata": {},
   "source": [
    "# CNN LSTM for Time Series Forecasting using TF2\n",
    "\n",
    "The goal is _multivariate, multistep, multivariate (output)_ time-series prediction/modelling using Bitcoin (BTC) data queried from the Internet with CNN-LSTM architecture.\n",
    "\n",
    "\n",
    "[Reference](https://machinelearningmastery.com/cnn-long-short-term-memory-networks/)\n",
    "\n",
    "[Multistep Time Series forecasting](https://machinelearningmastery.com/how-to-develop-lstm-models-for-multi-step-time-series-forecasting-of-household-power-consumption/)"
   ]
  },
  {
   "cell_type": "code",
   "execution_count": 1,
   "id": "ad6f6b5b-26d5-4841-86dc-6bcf675d49ce",
   "metadata": {},
   "outputs": [
    {
     "name": "stdout",
     "output_type": "stream",
     "text": [
      "env: CUDA_DEVICE_ORDER=PCI_BUS_ID\n",
      "env: CUDA_VISIBLE_DEVICES=0\n"
     ]
    }
   ],
   "source": [
    "# Specify GPU to be used-\n",
    "%env CUDA_DEVICE_ORDER = PCI_BUS_ID\n",
    "%env CUDA_VISIBLE_DEVICES = 0"
   ]
  },
  {
   "cell_type": "code",
   "execution_count": 2,
   "id": "19bd2c5f-82af-41c3-a829-6bb02b90b432",
   "metadata": {},
   "outputs": [],
   "source": [
    "import tensorflow\n",
    "from tensorflow import keras\n",
    "from tensorflow.keras import layers\n",
    "from tensorflow.keras.layers import Flatten, BatchNormalization, LeakyReLU, Reshape\n",
    "from tensorflow.keras.layers import LSTM, GRU, Input, Flatten, Dense, LSTM, RepeatVector\n",
    "from tensorflow.keras.layers import Conv1D, MaxPooling1D\n",
    "from tensorflow.keras.layers import Bidirectional, TimeDistributed, Dropout\n",
    "# from tensorflow.keras.preprocessing.sequence import pad_sequences\n",
    "from tensorflow.keras.models import Sequential, Model\n",
    "import tensorflow.keras.backend as K\n",
    "import tensorflow as tf\n",
    "\n",
    "from sklearn.preprocessing import MinMaxScaler, StandardScaler, RobustScaler\n",
    "from sklearn.metrics import mean_absolute_error, mean_squared_error, r2_score\n",
    "import pandas as pd\n",
    "import numpy as np\n",
    "import matplotlib.pyplot as plt\n",
    "import seaborn as sns\n",
    "import pickle"
   ]
  },
  {
   "cell_type": "code",
   "execution_count": null,
   "id": "30a769cf-6351-4d44-822c-97d5a182b42d",
   "metadata": {},
   "outputs": [],
   "source": []
  },
  {
   "cell_type": "code",
   "execution_count": null,
   "id": "5a2abb86-7350-4e55-b50b-b0db8ef43e33",
   "metadata": {},
   "outputs": [],
   "source": []
  },
  {
   "cell_type": "code",
   "execution_count": 3,
   "id": "53955a4a-f37c-46a2-b894-9d9f6722ff12",
   "metadata": {},
   "outputs": [
    {
     "name": "stdout",
     "output_type": "stream",
     "text": [
      "TensorFlow version: 2.8.0\n"
     ]
    }
   ],
   "source": [
    "print(f\"TensorFlow version: {tf.__version__}\")"
   ]
  },
  {
   "cell_type": "code",
   "execution_count": 4,
   "id": "e79b94c4-6568-473a-9427-25bd08f771ca",
   "metadata": {},
   "outputs": [
    {
     "name": "stdout",
     "output_type": "stream",
     "text": [
      "GPU: [PhysicalDevice(name='/physical_device:GPU:0', device_type='GPU')]\n",
      "GPU details: NVIDIA GeForce RTX 3080\n"
     ]
    },
    {
     "name": "stderr",
     "output_type": "stream",
     "text": [
      "2022-08-14 22:33:37.980140: I tensorflow/stream_executor/cuda/cuda_gpu_executor.cc:936] successful NUMA node read from SysFS had negative value (-1), but there must be at least one NUMA node, so returning NUMA node zero\n",
      "2022-08-14 22:33:37.997415: I tensorflow/stream_executor/cuda/cuda_gpu_executor.cc:936] successful NUMA node read from SysFS had negative value (-1), but there must be at least one NUMA node, so returning NUMA node zero\n",
      "2022-08-14 22:33:37.997620: I tensorflow/stream_executor/cuda/cuda_gpu_executor.cc:936] successful NUMA node read from SysFS had negative value (-1), but there must be at least one NUMA node, so returning NUMA node zero\n",
      "2022-08-14 22:33:37.998318: I tensorflow/stream_executor/cuda/cuda_gpu_executor.cc:936] successful NUMA node read from SysFS had negative value (-1), but there must be at least one NUMA node, so returning NUMA node zero\n"
     ]
    }
   ],
   "source": [
    "# Check GPU availibility-\n",
    "gpu_devices = tf.config.list_physical_devices('GPU')\n",
    "# print(f\"GPU: {gpu_devices}\")\n",
    "\n",
    "if gpu_devices:\n",
    "    print(f\"GPU: {gpu_devices}\")\n",
    "    details = tf.config.experimental.get_device_details(gpu_devices[0])\n",
    "    print(f\"GPU details: {details.get('device_name', 'Unknown GPU')}\")\n",
    "else:\n",
    "    print(\"No GPU found\")"
   ]
  },
  {
   "cell_type": "code",
   "execution_count": null,
   "id": "c59fedd9-5b0a-4d66-9e87-4c8577d25efe",
   "metadata": {},
   "outputs": [],
   "source": []
  },
  {
   "cell_type": "code",
   "execution_count": null,
   "id": "f4731fb6-f402-4293-b15d-81b66898b8c1",
   "metadata": {},
   "outputs": [],
   "source": []
  },
  {
   "cell_type": "code",
   "execution_count": 5,
   "id": "a280037d-8251-4b72-93ab-e8432b2c8be7",
   "metadata": {},
   "outputs": [],
   "source": [
    "# Read in CSV file-\n",
    "data = pd.read_csv(\"Datasets/BTC-USD.csv\")"
   ]
  },
  {
   "cell_type": "code",
   "execution_count": 6,
   "id": "0fa1f450-714f-452f-a270-97168dedb59c",
   "metadata": {},
   "outputs": [
    {
     "name": "stdout",
     "output_type": "stream",
     "text": [
      "Dimensions of dataset: (1827, 7)\n"
     ]
    }
   ],
   "source": [
    "print(f\"Dimensions of dataset: {data.shape}\")"
   ]
  },
  {
   "cell_type": "code",
   "execution_count": 7,
   "id": "04e183b5-a2dd-4985-9515-3218695a6cc8",
   "metadata": {},
   "outputs": [
    {
     "data": {
      "text/plain": [
       "Date          object\n",
       "Open         float64\n",
       "High         float64\n",
       "Low          float64\n",
       "Close        float64\n",
       "Adj Close    float64\n",
       "Volume         int64\n",
       "dtype: object"
      ]
     },
     "execution_count": 7,
     "metadata": {},
     "output_type": "execute_result"
    }
   ],
   "source": [
    "# Get data types for all features-\n",
    "data.dtypes"
   ]
  },
  {
   "cell_type": "code",
   "execution_count": 8,
   "id": "06b36f45-a577-4d12-96b1-4fafbba3d443",
   "metadata": {},
   "outputs": [
    {
     "name": "stdout",
     "output_type": "stream",
     "text": [
      "Are there any missing values in dataset? False\n"
     ]
    }
   ],
   "source": [
    "print(f\"Are there any missing values in dataset? {data.isna().values.any()}\")"
   ]
  },
  {
   "cell_type": "code",
   "execution_count": 9,
   "id": "12fd29e4-694c-4d4e-866e-91cf33396582",
   "metadata": {},
   "outputs": [],
   "source": [
    "# Convert 'Date' feature to datetime, sort in ascending order\n",
    "# and reset resulting indices-\n",
    "data['Date'] = pd.to_datetime(data['Date'])\n",
    "data.sort_values(by = 'Date', ascending = True, inplace = True)\n",
    "data.reset_index(drop = True, inplace = True)"
   ]
  },
  {
   "cell_type": "code",
   "execution_count": 10,
   "id": "a644f927-e282-41f9-9d90-60bae010f9c6",
   "metadata": {},
   "outputs": [
    {
     "data": {
      "text/html": [
       "<div>\n",
       "<style scoped>\n",
       "    .dataframe tbody tr th:only-of-type {\n",
       "        vertical-align: middle;\n",
       "    }\n",
       "\n",
       "    .dataframe tbody tr th {\n",
       "        vertical-align: top;\n",
       "    }\n",
       "\n",
       "    .dataframe thead th {\n",
       "        text-align: right;\n",
       "    }\n",
       "</style>\n",
       "<table border=\"1\" class=\"dataframe\">\n",
       "  <thead>\n",
       "    <tr style=\"text-align: right;\">\n",
       "      <th></th>\n",
       "      <th>Date</th>\n",
       "      <th>Open</th>\n",
       "      <th>High</th>\n",
       "      <th>Low</th>\n",
       "      <th>Close</th>\n",
       "      <th>Adj Close</th>\n",
       "      <th>Volume</th>\n",
       "    </tr>\n",
       "  </thead>\n",
       "  <tbody>\n",
       "    <tr>\n",
       "      <th>0</th>\n",
       "      <td>2017-08-09</td>\n",
       "      <td>3420.399902</td>\n",
       "      <td>3422.760010</td>\n",
       "      <td>3247.669922</td>\n",
       "      <td>3342.469971</td>\n",
       "      <td>3342.469971</td>\n",
       "      <td>1468960000</td>\n",
       "    </tr>\n",
       "    <tr>\n",
       "      <th>1</th>\n",
       "      <td>2017-08-10</td>\n",
       "      <td>3341.840088</td>\n",
       "      <td>3453.449951</td>\n",
       "      <td>3319.469971</td>\n",
       "      <td>3381.280029</td>\n",
       "      <td>3381.280029</td>\n",
       "      <td>1515110016</td>\n",
       "    </tr>\n",
       "    <tr>\n",
       "      <th>2</th>\n",
       "      <td>2017-08-11</td>\n",
       "      <td>3373.820068</td>\n",
       "      <td>3679.719971</td>\n",
       "      <td>3372.120117</td>\n",
       "      <td>3650.620117</td>\n",
       "      <td>3650.620117</td>\n",
       "      <td>2021190016</td>\n",
       "    </tr>\n",
       "    <tr>\n",
       "      <th>3</th>\n",
       "      <td>2017-08-12</td>\n",
       "      <td>3650.629883</td>\n",
       "      <td>3949.919922</td>\n",
       "      <td>3613.699951</td>\n",
       "      <td>3884.709961</td>\n",
       "      <td>3884.709961</td>\n",
       "      <td>2219589888</td>\n",
       "    </tr>\n",
       "    <tr>\n",
       "      <th>4</th>\n",
       "      <td>2017-08-13</td>\n",
       "      <td>3880.040039</td>\n",
       "      <td>4208.390137</td>\n",
       "      <td>3857.800049</td>\n",
       "      <td>4073.260010</td>\n",
       "      <td>4073.260010</td>\n",
       "      <td>3159089920</td>\n",
       "    </tr>\n",
       "  </tbody>\n",
       "</table>\n",
       "</div>"
      ],
      "text/plain": [
       "        Date         Open         High          Low        Close    Adj Close  \\\n",
       "0 2017-08-09  3420.399902  3422.760010  3247.669922  3342.469971  3342.469971   \n",
       "1 2017-08-10  3341.840088  3453.449951  3319.469971  3381.280029  3381.280029   \n",
       "2 2017-08-11  3373.820068  3679.719971  3372.120117  3650.620117  3650.620117   \n",
       "3 2017-08-12  3650.629883  3949.919922  3613.699951  3884.709961  3884.709961   \n",
       "4 2017-08-13  3880.040039  4208.390137  3857.800049  4073.260010  4073.260010   \n",
       "\n",
       "       Volume  \n",
       "0  1468960000  \n",
       "1  1515110016  \n",
       "2  2021190016  \n",
       "3  2219589888  \n",
       "4  3159089920  "
      ]
     },
     "execution_count": 10,
     "metadata": {},
     "output_type": "execute_result"
    }
   ],
   "source": [
    "# Sanity check-\n",
    "data.head()"
   ]
  },
  {
   "cell_type": "code",
   "execution_count": 11,
   "id": "f9d46550-1621-438a-899d-38190b2d9f43",
   "metadata": {},
   "outputs": [
    {
     "name": "stdout",
     "output_type": "stream",
     "text": [
      "min Date value = 2017-08-09 00:00:00 & max value = 2022-08-09 00:00:00\n"
     ]
    }
   ],
   "source": [
    "print(f\"min Date value = {data['Date'].min()} & max value = {data['Date'].max()}\")"
   ]
  },
  {
   "cell_type": "code",
   "execution_count": 12,
   "id": "f025b155-729e-4cca-bf03-8b98144167ba",
   "metadata": {},
   "outputs": [
    {
     "data": {
      "text/html": [
       "<div>\n",
       "<style scoped>\n",
       "    .dataframe tbody tr th:only-of-type {\n",
       "        vertical-align: middle;\n",
       "    }\n",
       "\n",
       "    .dataframe tbody tr th {\n",
       "        vertical-align: top;\n",
       "    }\n",
       "\n",
       "    .dataframe thead th {\n",
       "        text-align: right;\n",
       "    }\n",
       "</style>\n",
       "<table border=\"1\" class=\"dataframe\">\n",
       "  <thead>\n",
       "    <tr style=\"text-align: right;\">\n",
       "      <th></th>\n",
       "      <th>Open</th>\n",
       "      <th>High</th>\n",
       "      <th>Low</th>\n",
       "      <th>Close</th>\n",
       "      <th>Adj Close</th>\n",
       "      <th>Volume</th>\n",
       "    </tr>\n",
       "  </thead>\n",
       "  <tbody>\n",
       "    <tr>\n",
       "      <th>count</th>\n",
       "      <td>1827.000000</td>\n",
       "      <td>1827.000000</td>\n",
       "      <td>1827.000000</td>\n",
       "      <td>1827.000000</td>\n",
       "      <td>1827.000000</td>\n",
       "      <td>1.827000e+03</td>\n",
       "    </tr>\n",
       "    <tr>\n",
       "      <th>mean</th>\n",
       "      <td>19416.397674</td>\n",
       "      <td>19921.360465</td>\n",
       "      <td>18849.730833</td>\n",
       "      <td>19424.722149</td>\n",
       "      <td>19424.722149</td>\n",
       "      <td>2.450380e+10</td>\n",
       "    </tr>\n",
       "    <tr>\n",
       "      <th>std</th>\n",
       "      <td>17376.407379</td>\n",
       "      <td>17823.080252</td>\n",
       "      <td>16853.925903</td>\n",
       "      <td>17367.955310</td>\n",
       "      <td>17367.955310</td>\n",
       "      <td>2.017131e+10</td>\n",
       "    </tr>\n",
       "    <tr>\n",
       "      <th>min</th>\n",
       "      <td>3166.300049</td>\n",
       "      <td>3275.377930</td>\n",
       "      <td>2946.620117</td>\n",
       "      <td>3154.949951</td>\n",
       "      <td>3154.949951</td>\n",
       "      <td>7.680150e+08</td>\n",
       "    </tr>\n",
       "    <tr>\n",
       "      <th>25%</th>\n",
       "      <td>7097.275635</td>\n",
       "      <td>7287.041260</td>\n",
       "      <td>6894.411133</td>\n",
       "      <td>7106.541992</td>\n",
       "      <td>7106.541992</td>\n",
       "      <td>7.367460e+09</td>\n",
       "    </tr>\n",
       "    <tr>\n",
       "      <th>50%</th>\n",
       "      <td>9936.162109</td>\n",
       "      <td>10191.675781</td>\n",
       "      <td>9694.650391</td>\n",
       "      <td>9951.518555</td>\n",
       "      <td>9951.518555</td>\n",
       "      <td>2.175686e+10</td>\n",
       "    </tr>\n",
       "    <tr>\n",
       "      <th>75%</th>\n",
       "      <td>33767.375000</td>\n",
       "      <td>34778.076172</td>\n",
       "      <td>32265.797851</td>\n",
       "      <td>33734.515625</td>\n",
       "      <td>33734.515625</td>\n",
       "      <td>3.440956e+10</td>\n",
       "    </tr>\n",
       "    <tr>\n",
       "      <th>max</th>\n",
       "      <td>67549.734375</td>\n",
       "      <td>68789.625000</td>\n",
       "      <td>66382.062500</td>\n",
       "      <td>67566.828125</td>\n",
       "      <td>67566.828125</td>\n",
       "      <td>3.509679e+11</td>\n",
       "    </tr>\n",
       "  </tbody>\n",
       "</table>\n",
       "</div>"
      ],
      "text/plain": [
       "               Open          High           Low         Close     Adj Close  \\\n",
       "count   1827.000000   1827.000000   1827.000000   1827.000000   1827.000000   \n",
       "mean   19416.397674  19921.360465  18849.730833  19424.722149  19424.722149   \n",
       "std    17376.407379  17823.080252  16853.925903  17367.955310  17367.955310   \n",
       "min     3166.300049   3275.377930   2946.620117   3154.949951   3154.949951   \n",
       "25%     7097.275635   7287.041260   6894.411133   7106.541992   7106.541992   \n",
       "50%     9936.162109  10191.675781   9694.650391   9951.518555   9951.518555   \n",
       "75%    33767.375000  34778.076172  32265.797851  33734.515625  33734.515625   \n",
       "max    67549.734375  68789.625000  66382.062500  67566.828125  67566.828125   \n",
       "\n",
       "             Volume  \n",
       "count  1.827000e+03  \n",
       "mean   2.450380e+10  \n",
       "std    2.017131e+10  \n",
       "min    7.680150e+08  \n",
       "25%    7.367460e+09  \n",
       "50%    2.175686e+10  \n",
       "75%    3.440956e+10  \n",
       "max    3.509679e+11  "
      ]
     },
     "execution_count": 12,
     "metadata": {},
     "output_type": "execute_result"
    }
   ],
   "source": [
    "# Get basic data statistics-\n",
    "data.describe()"
   ]
  },
  {
   "cell_type": "code",
   "execution_count": 13,
   "id": "a30465fc-1a65-42d0-9555-f3ae074b728a",
   "metadata": {},
   "outputs": [
    {
     "name": "stdout",
     "output_type": "stream",
     "text": [
      "Open has 1.0782 skew\n",
      "High has 1.0694 skew\n",
      "Low has 1.0886 skew\n",
      "Close has 1.0772 skew\n",
      "Adj Close has 1.0772 skew\n",
      "Volume has 3.2190 skew\n"
     ]
    }
   ],
   "source": [
    "# Compute skew for numerical features:\n",
    "for col in data.columns.tolist():\n",
    "    if col == 'Date':\n",
    "        continue\n",
    "    else:\n",
    "        print(f\"{col} has {data[col].skew():.4f} skew\")"
   ]
  },
  {
   "cell_type": "code",
   "execution_count": null,
   "id": "b08c478a-4ca9-43af-b38c-9b2044e92ed8",
   "metadata": {},
   "outputs": [],
   "source": []
  },
  {
   "cell_type": "code",
   "execution_count": 14,
   "id": "7da04f40-3e77-45ac-91f9-7affa38be3bb",
   "metadata": {},
   "outputs": [],
   "source": [
    "# Remove 'Adj Close' attribute-\n",
    "data.drop(columns = ['Adj Close'], inplace = True)"
   ]
  },
  {
   "cell_type": "code",
   "execution_count": 15,
   "id": "49450fed-9655-4ae9-88f7-837a8d510f76",
   "metadata": {},
   "outputs": [
    {
     "data": {
      "text/html": [
       "<div>\n",
       "<style scoped>\n",
       "    .dataframe tbody tr th:only-of-type {\n",
       "        vertical-align: middle;\n",
       "    }\n",
       "\n",
       "    .dataframe tbody tr th {\n",
       "        vertical-align: top;\n",
       "    }\n",
       "\n",
       "    .dataframe thead th {\n",
       "        text-align: right;\n",
       "    }\n",
       "</style>\n",
       "<table border=\"1\" class=\"dataframe\">\n",
       "  <thead>\n",
       "    <tr style=\"text-align: right;\">\n",
       "      <th></th>\n",
       "      <th>Date</th>\n",
       "      <th>Open</th>\n",
       "      <th>High</th>\n",
       "      <th>Low</th>\n",
       "      <th>Close</th>\n",
       "      <th>Volume</th>\n",
       "    </tr>\n",
       "  </thead>\n",
       "  <tbody>\n",
       "    <tr>\n",
       "      <th>0</th>\n",
       "      <td>2017-08-09</td>\n",
       "      <td>3420.399902</td>\n",
       "      <td>3422.760010</td>\n",
       "      <td>3247.669922</td>\n",
       "      <td>3342.469971</td>\n",
       "      <td>1468960000</td>\n",
       "    </tr>\n",
       "    <tr>\n",
       "      <th>1</th>\n",
       "      <td>2017-08-10</td>\n",
       "      <td>3341.840088</td>\n",
       "      <td>3453.449951</td>\n",
       "      <td>3319.469971</td>\n",
       "      <td>3381.280029</td>\n",
       "      <td>1515110016</td>\n",
       "    </tr>\n",
       "    <tr>\n",
       "      <th>2</th>\n",
       "      <td>2017-08-11</td>\n",
       "      <td>3373.820068</td>\n",
       "      <td>3679.719971</td>\n",
       "      <td>3372.120117</td>\n",
       "      <td>3650.620117</td>\n",
       "      <td>2021190016</td>\n",
       "    </tr>\n",
       "    <tr>\n",
       "      <th>3</th>\n",
       "      <td>2017-08-12</td>\n",
       "      <td>3650.629883</td>\n",
       "      <td>3949.919922</td>\n",
       "      <td>3613.699951</td>\n",
       "      <td>3884.709961</td>\n",
       "      <td>2219589888</td>\n",
       "    </tr>\n",
       "    <tr>\n",
       "      <th>4</th>\n",
       "      <td>2017-08-13</td>\n",
       "      <td>3880.040039</td>\n",
       "      <td>4208.390137</td>\n",
       "      <td>3857.800049</td>\n",
       "      <td>4073.260010</td>\n",
       "      <td>3159089920</td>\n",
       "    </tr>\n",
       "  </tbody>\n",
       "</table>\n",
       "</div>"
      ],
      "text/plain": [
       "        Date         Open         High          Low        Close      Volume\n",
       "0 2017-08-09  3420.399902  3422.760010  3247.669922  3342.469971  1468960000\n",
       "1 2017-08-10  3341.840088  3453.449951  3319.469971  3381.280029  1515110016\n",
       "2 2017-08-11  3373.820068  3679.719971  3372.120117  3650.620117  2021190016\n",
       "3 2017-08-12  3650.629883  3949.919922  3613.699951  3884.709961  2219589888\n",
       "4 2017-08-13  3880.040039  4208.390137  3857.800049  4073.260010  3159089920"
      ]
     },
     "execution_count": 15,
     "metadata": {},
     "output_type": "execute_result"
    }
   ],
   "source": [
    "# Sanity check-\n",
    "data.head()"
   ]
  },
  {
   "cell_type": "code",
   "execution_count": null,
   "id": "7668b09b-ffd6-4039-9192-282388dfe7e0",
   "metadata": {},
   "outputs": [],
   "source": []
  },
  {
   "cell_type": "code",
   "execution_count": 17,
   "id": "92b50103-9d2c-4d04-afc9-c832b1205a9f",
   "metadata": {},
   "outputs": [],
   "source": [
    "# Split into features and target-\n",
    "X = data.drop(columns = ['Date', 'Open', 'Close'], axis = 1)\n",
    "y = data[['Open', 'Close']].values"
   ]
  },
  {
   "cell_type": "code",
   "execution_count": 18,
   "id": "9270ee14-ae6b-4b9c-be53-8868b514878f",
   "metadata": {},
   "outputs": [
    {
     "name": "stdout",
     "output_type": "stream",
     "text": [
      "Features/predictors has shape: (1827, 3) & target has shape: (1827, 2)\n"
     ]
    }
   ],
   "source": [
    "print(f\"Features/predictors has shape: {X.shape} & target has\"\n",
    "      f\" shape: {y.shape}\")"
   ]
  },
  {
   "cell_type": "code",
   "execution_count": null,
   "id": "741d7dc3-54cf-47ce-9d14-fdcbc70959ed",
   "metadata": {},
   "outputs": [],
   "source": []
  },
  {
   "cell_type": "code",
   "execution_count": null,
   "id": "90836552-4e82-4fe9-8f18-8f6993b177f1",
   "metadata": {},
   "outputs": [],
   "source": []
  },
  {
   "cell_type": "code",
   "execution_count": 19,
   "id": "8d050450-4e76-424e-a616-1e2954aea5e0",
   "metadata": {},
   "outputs": [],
   "source": [
    "# Scale features and labels-\n",
    "std_scaler = StandardScaler()\n",
    "mm_scaler = MinMaxScaler(feature_range = (0, 1))\n",
    "\n",
    "X_scaled = std_scaler.fit_transform(X)\n",
    "# y_scaled = mm_scaler.fit_transform(y.reshape(-1, 1))\n",
    "y_scaled = mm_scaler.fit_transform(y)"
   ]
  },
  {
   "cell_type": "code",
   "execution_count": 20,
   "id": "7e40c73a-9a5f-498b-8615-43eaae8c6baf",
   "metadata": {},
   "outputs": [
    {
     "data": {
      "text/plain": [
       "((1827, 3), (1827, 2))"
      ]
     },
     "execution_count": 20,
     "metadata": {},
     "output_type": "execute_result"
    }
   ],
   "source": [
    "X_scaled.shape, y.shape"
   ]
  },
  {
   "cell_type": "code",
   "execution_count": null,
   "id": "3a0d4180-5d54-4874-ad3b-f4d511958c21",
   "metadata": {},
   "outputs": [],
   "source": []
  },
  {
   "cell_type": "code",
   "execution_count": 21,
   "id": "11da3f9c-129a-4d51-87ed-621e473f7f01",
   "metadata": {},
   "outputs": [
    {
     "data": {
      "text/plain": [
       "(1644, 183)"
      ]
     },
     "execution_count": 21,
     "metadata": {},
     "output_type": "execute_result"
    }
   ],
   "source": [
    "# Split data into training and validation datasets. Ratio is\n",
    "# 90:10-\n",
    "len(X_scaled[: int(len(X_scaled) * 0.9)]), len(X_scaled[int(len(X_scaled) * 0.9): ])"
   ]
  },
  {
   "cell_type": "code",
   "execution_count": 22,
   "id": "32eb21e4-584e-48b9-bbaf-d31ac976ba3b",
   "metadata": {},
   "outputs": [
    {
     "data": {
      "text/plain": [
       "(1644, 183)"
      ]
     },
     "execution_count": 22,
     "metadata": {},
     "output_type": "execute_result"
    }
   ],
   "source": [
    "# Split data into training and validation datasets. Ratio is\n",
    "# 90:10-\n",
    "len(y_scaled[: int(len(X_scaled) * 0.9)]), len(y_scaled[int(len(X_scaled) * 0.9): ])"
   ]
  },
  {
   "cell_type": "code",
   "execution_count": 23,
   "id": "a2aa80e1-a78a-4ea6-969a-2d87af2987f9",
   "metadata": {},
   "outputs": [
    {
     "data": {
      "text/plain": [
       "True"
      ]
     },
     "execution_count": 23,
     "metadata": {},
     "output_type": "execute_result"
    }
   ],
   "source": [
    "# Sanity check-\n",
    "len(X_scaled[: int(len(X_scaled) * 0.9)]) + len(X_scaled[int(len(X_scaled) * 0.9): ]) == len(X_scaled)"
   ]
  },
  {
   "cell_type": "code",
   "execution_count": 24,
   "id": "f5a3b0e3-d238-475b-a4d8-163004288c99",
   "metadata": {},
   "outputs": [],
   "source": [
    "X_train = X_scaled[: int(len(X_scaled) * 0.9)]\n",
    "y_train = y_scaled[: int(len(X_scaled) * 0.9)]"
   ]
  },
  {
   "cell_type": "code",
   "execution_count": 25,
   "id": "ac2351f1-a4ad-4bb4-ae1c-eb90d2dc4314",
   "metadata": {},
   "outputs": [],
   "source": [
    "X_test = X_scaled[int(len(X_scaled) * 0.9): ]\n",
    "y_test = y_scaled[int(len(X_scaled) * 0.9): ]"
   ]
  },
  {
   "cell_type": "code",
   "execution_count": 26,
   "id": "6654839f-d064-471f-9b8c-3cad6c70241c",
   "metadata": {},
   "outputs": [
    {
     "data": {
      "text/plain": [
       "((1644, 3), (1644, 2))"
      ]
     },
     "execution_count": 26,
     "metadata": {},
     "output_type": "execute_result"
    }
   ],
   "source": [
    "# Sanity check-\n",
    "X_train.shape, y_train.shape"
   ]
  },
  {
   "cell_type": "code",
   "execution_count": 27,
   "id": "765d1f48-7a1f-4300-907d-f7a18894369d",
   "metadata": {},
   "outputs": [
    {
     "data": {
      "text/plain": [
       "((183, 3), (183, 2))"
      ]
     },
     "execution_count": 27,
     "metadata": {},
     "output_type": "execute_result"
    }
   ],
   "source": [
    "X_test.shape, y_test.shape"
   ]
  },
  {
   "cell_type": "code",
   "execution_count": null,
   "id": "4a69286c-3312-4ebd-b6f4-f4cea8ec2e89",
   "metadata": {},
   "outputs": [],
   "source": []
  },
  {
   "cell_type": "code",
   "execution_count": null,
   "id": "a463b719-4de0-4682-8490-5e3baeba18e1",
   "metadata": {},
   "outputs": [],
   "source": []
  },
  {
   "cell_type": "code",
   "execution_count": 28,
   "id": "1a7f8b25-1061-4391-b9cd-415ca828d9f7",
   "metadata": {},
   "outputs": [],
   "source": [
    "def split_sequences(\n",
    "    input_sequences, output_sequence,\n",
    "    n_steps_in, n_steps_out\n",
    "):\n",
    "    '''\n",
    "    Function to convert training data for Seq2Seq neural network\n",
    "    '''\n",
    "    X, y = list(), list()\n",
    "    \n",
    "    for i in range(len(input_sequences)):\n",
    "        # find the end of the input, output sequence-\n",
    "        end_ix = i + n_steps_in\n",
    "        out_end_ix = end_ix + n_steps_out - 1\n",
    "        \n",
    "        # check if we are beyond the dataset-\n",
    "        if out_end_ix > len(input_sequences):\n",
    "            break\n",
    "            \n",
    "        # gather input and output of the pattern-\n",
    "        # seq_x, seq_y = input_sequences[i : end_ix], output_sequence[end_ix - 1 : out_end_ix, -1]\n",
    "        seq_x, seq_y = input_sequences[i : end_ix], output_sequence[end_ix - 1 : out_end_ix, :]\n",
    "        \n",
    "        X.append(seq_x), y.append(seq_y)\n",
    "        \n",
    "    return np.array(X), np.array(y)"
   ]
  },
  {
   "cell_type": "code",
   "execution_count": null,
   "id": "8522cfed-6a73-4bba-98f3-38ae18232297",
   "metadata": {},
   "outputs": [],
   "source": []
  },
  {
   "cell_type": "code",
   "execution_count": 29,
   "id": "dc92f762-bf31-48ac-a531-cde57cac8263",
   "metadata": {},
   "outputs": [],
   "source": [
    "# Define hyper-parameters for time-series forecasting-\n",
    "look_back = 50\n",
    "look_ahead = 10\n",
    "num_features = 3"
   ]
  },
  {
   "cell_type": "code",
   "execution_count": 30,
   "id": "ab729e18-5c29-4a9e-b813-a100fc798d05",
   "metadata": {},
   "outputs": [],
   "source": [
    "# Define hyper-parameters for training neural network-\n",
    "batch_size = 256\n",
    "num_epochs = 50"
   ]
  },
  {
   "cell_type": "code",
   "execution_count": null,
   "id": "371f834e-366d-4f00-aa9f-649fcb306a3c",
   "metadata": {},
   "outputs": [],
   "source": []
  },
  {
   "cell_type": "code",
   "execution_count": 31,
   "id": "1dcb4a84-15b4-4a51-9eb0-cdf8be0191e8",
   "metadata": {},
   "outputs": [],
   "source": [
    "# Generate sequences required for Seq2Seq architecture-\n",
    "X_train, y_train = split_sequences(\n",
    "    input_sequences = X_train, output_sequence = y_train,\n",
    "    n_steps_in = look_back, n_steps_out = look_ahead\n",
    ")\n",
    "\n",
    "X_test, y_test = split_sequences(\n",
    "    input_sequences = X_test, output_sequence = y_test,\n",
    "    n_steps_in = look_back, n_steps_out = look_ahead\n",
    ")"
   ]
  },
  {
   "cell_type": "code",
   "execution_count": 32,
   "id": "29ecf3d8-1e48-411d-8e62-058a1039975f",
   "metadata": {},
   "outputs": [
    {
     "name": "stdout",
     "output_type": "stream",
     "text": [
      "X_train.shape: (1586, 50, 3), y_train.shape: (1586, 10, 2)\n",
      "X_test.shape: (125, 50, 3), y_test.shape: (125, 10, 2)\n"
     ]
    }
   ],
   "source": [
    "# Sanity check-\n",
    "print(f\"X_train.shape: {X_train.shape}, y_train.shape: {y_train.shape}\")\n",
    "print(f\"X_test.shape: {X_test.shape}, y_test.shape: {y_test.shape}\")"
   ]
  },
  {
   "cell_type": "code",
   "execution_count": null,
   "id": "d3580aec-d3ed-40a9-95a0-0028d785f902",
   "metadata": {},
   "outputs": [],
   "source": []
  },
  {
   "cell_type": "code",
   "execution_count": null,
   "id": "7d0bfedb-57bb-47d7-a4b3-d7a7950669ed",
   "metadata": {},
   "outputs": [],
   "source": [
    "# Create TF datasets-\n",
    "\n",
    "# DO NOT USE 'shuffle()' since this is a time-series problem!\n",
    "# train_dataset = tf.data.Dataset.from_tensor_slices((X_train, y_train)).batch(batch_size)\n",
    "# test_dataset = tf.data.Dataset.from_tensor_slices((X_test, y_test)).batch(batch_size)\n",
    "\n",
    "# Needed by 'tf.GradientTape()' API for custom training and testing code."
   ]
  },
  {
   "cell_type": "code",
   "execution_count": null,
   "id": "37b3c5cf-6108-402b-8f72-5c23d514bbcc",
   "metadata": {},
   "outputs": [],
   "source": [
    "# Sanity check-\n",
    "# x, y = next(iter(train_dataset))\n",
    "# x.shape, y.shape"
   ]
  },
  {
   "cell_type": "code",
   "execution_count": null,
   "id": "6a360479-3374-400a-81cf-24c4585243e5",
   "metadata": {},
   "outputs": [],
   "source": []
  },
  {
   "cell_type": "code",
   "execution_count": null,
   "id": "89ba56fb-6f30-4cee-baa3-88b6802b9957",
   "metadata": {},
   "outputs": [],
   "source": []
  },
  {
   "cell_type": "markdown",
   "id": "2f13b593-ed04-4af0-9ce3-a8a5184dadf5",
   "metadata": {},
   "source": [
    "### CNN-LSTM Encoder-Decoder architecture\n",
    "\n",
    "- __A CNN, can be used as the encoder__ in an encoder-decoder architecture.\n",
    "\n",
    "- __The CNN does not directly support sequence input; instead, a 1-D CNN is capable of reading across sequence input and automatically learning the salient features__. These can then be interpreted by an LSTM decoder as per normal.\n",
    "\n",
    "- We refer to hybrid models that use a CNN and LSTM as [CNN-LSTM models](https://machinelearningmastery.com/cnn-long-short-term-memory-networks/), and in this case we are using them together in an encoder-decoder architecture.\n",
    "\n",
    "- The CNN expects the input data to have the same 3D structure as the LSTM model, _although multiple features are read as different channels that ultimately have the same effect_.\n",
    "\n",
    "- A CNN architecture for the encoder comprises of two convolutional layers followed by a max pooling layer, the results of which are then flattened.\n",
    "\n",
    "- The first convolutional layer reads across the input sequence and projects the results onto feature maps.\n",
    "\n",
    "- The second convolutional layer performs the same operation on the feature maps created by the first layer, attempting to amplify any salient features. We will use 64 feature maps per convolutional layer and __read the input sequences with a kernel size of three time steps__.\n",
    "\n",
    "- The max pooling layer simplifies the feature maps by keeping 1/4 of the values with the largest (max) signal.\n",
    "\n",
    "- __The distilled feature maps after the pooling layer are then flattened into one long vector that can then be used as input to the decoding process__.\n"
   ]
  },
  {
   "cell_type": "code",
   "execution_count": 49,
   "id": "b2fc2d3e-3013-4437-ade7-2512d9e71e86",
   "metadata": {},
   "outputs": [],
   "source": [
    "# Define encoder-decoder model-\n",
    "cnn_encoder_decoder_model = Sequential()\n",
    "\n",
    "# Encoder-\n",
    "cnn_encoder_decoder_model.add(\n",
    "    Conv1D(\n",
    "        filters = 64, kernel_size = 3,\n",
    "        activation = tf.nn.relu,\n",
    "        input_shape = (look_back, num_features)\n",
    "    )\n",
    ")\n",
    "cnn_encoder_decoder_model.add(\n",
    "    Conv1D(\n",
    "        filters = 128, kernel_size = 3,\n",
    "        activation = tf.nn.relu\n",
    "    )\n",
    ")\n",
    "cnn_encoder_decoder_model.add(\n",
    "    Conv1D(\n",
    "        filters = 128, kernel_size = 3,\n",
    "        activation = tf.nn.relu\n",
    "    )\n",
    ")\n",
    "cnn_encoder_decoder_model.add(\n",
    "    MaxPooling1D(pool_size = 2)\n",
    ")\n",
    "cnn_encoder_decoder_model.add(Flatten())\n",
    "\n",
    "# Decoder-\n",
    "cnn_encoder_decoder_model.add(RepeatVector(n = look_ahead))\n",
    "cnn_encoder_decoder_model.add(\n",
    "    LSTM(\n",
    "        units = 128, activation = tf.keras.activations.tanh,\n",
    "        return_sequences = True\n",
    "    )\n",
    ")\n",
    "cnn_encoder_decoder_model.add(\n",
    "    LSTM(\n",
    "        units = 128, activation = tf.keras.activations.tanh,\n",
    "        return_sequences = True\n",
    "    )\n",
    ")\n",
    "cnn_encoder_decoder_model.add(\n",
    "    LSTM(\n",
    "        units = 128, activation = tf.keras.activations.tanh,\n",
    "        return_sequences = True\n",
    "    )\n",
    ")\n",
    "cnn_encoder_decoder_model.add(\n",
    "    TimeDistributed(\n",
    "        Dense(units = 128, activation = tf.nn.relu)\n",
    "    )\n",
    ")\n",
    "cnn_encoder_decoder_model.add(\n",
    "    TimeDistributed(Dense(units = 2))\n",
    ")"
   ]
  },
  {
   "cell_type": "code",
   "execution_count": null,
   "id": "7618b224-56cb-4e12-a0e4-4831279838b7",
   "metadata": {},
   "outputs": [],
   "source": []
  },
  {
   "cell_type": "code",
   "execution_count": 50,
   "id": "7cbec6aa-7b23-46ef-9600-1e652a684632",
   "metadata": {},
   "outputs": [
    {
     "name": "stdout",
     "output_type": "stream",
     "text": [
      "Model: \"sequential_1\"\n",
      "_________________________________________________________________\n",
      " Layer (type)                Output Shape              Param #   \n",
      "=================================================================\n",
      " conv1d_2 (Conv1D)           (None, 48, 64)            640       \n",
      "                                                                 \n",
      " conv1d_3 (Conv1D)           (None, 46, 128)           24704     \n",
      "                                                                 \n",
      " conv1d_4 (Conv1D)           (None, 44, 128)           49280     \n",
      "                                                                 \n",
      " max_pooling1d_1 (MaxPooling  (None, 22, 128)          0         \n",
      " 1D)                                                             \n",
      "                                                                 \n",
      " flatten_1 (Flatten)         (None, 2816)              0         \n",
      "                                                                 \n",
      " repeat_vector_1 (RepeatVect  (None, 10, 2816)         0         \n",
      " or)                                                             \n",
      "                                                                 \n",
      " lstm_2 (LSTM)               (None, 10, 128)           1507840   \n",
      "                                                                 \n",
      " lstm_3 (LSTM)               (None, 10, 128)           131584    \n",
      "                                                                 \n",
      " lstm_4 (LSTM)               (None, 10, 128)           131584    \n",
      "                                                                 \n",
      " time_distributed_2 (TimeDis  (None, 10, 128)          16512     \n",
      " tributed)                                                       \n",
      "                                                                 \n",
      " time_distributed_3 (TimeDis  (None, 10, 2)            258       \n",
      " tributed)                                                       \n",
      "                                                                 \n",
      "=================================================================\n",
      "Total params: 1,862,402\n",
      "Trainable params: 1,862,402\n",
      "Non-trainable params: 0\n",
      "_________________________________________________________________\n"
     ]
    }
   ],
   "source": [
    "# Get summary-\n",
    "cnn_encoder_decoder_model.summary()"
   ]
  },
  {
   "cell_type": "code",
   "execution_count": 51,
   "id": "52820f73-a758-4248-bbe2-ba9feddf1af2",
   "metadata": {},
   "outputs": [
    {
     "name": "stdout",
     "output_type": "stream",
     "text": [
      "layer: (3, 3, 64) has 576 non-zero params\n",
      "layer: (64,) has 0 non-zero params\n",
      "layer: (3, 64, 128) has 24576 non-zero params\n",
      "layer: (128,) has 0 non-zero params\n",
      "layer: (3, 128, 128) has 49152 non-zero params\n",
      "layer: (128,) has 0 non-zero params\n",
      "layer: (2816, 512) has 1441792 non-zero params\n",
      "layer: (128, 512) has 65536 non-zero params\n",
      "layer: (512,) has 128 non-zero params\n",
      "layer: (128, 512) has 65536 non-zero params\n",
      "layer: (128, 512) has 65536 non-zero params\n",
      "layer: (512,) has 128 non-zero params\n",
      "layer: (128, 512) has 65536 non-zero params\n",
      "layer: (128, 512) has 65536 non-zero params\n",
      "layer: (512,) has 128 non-zero params\n",
      "layer: (128, 128) has 16384 non-zero params\n",
      "layer: (128,) has 0 non-zero params\n",
      "layer: (128, 2) has 256 non-zero params\n",
      "layer: (2,) has 0 non-zero params\n"
     ]
    }
   ],
   "source": [
    "# Count number of trainable parameters-\n",
    "tot_params = 0\n",
    "\n",
    "for layer in cnn_encoder_decoder_model.trainable_weights:\n",
    "    loc_params = tf.math.count_nonzero(layer, axis = None).numpy()\n",
    "    tot_params += loc_params\n",
    "    print(f\"layer: {layer.shape} has {loc_params} non-zero params\")"
   ]
  },
  {
   "cell_type": "code",
   "execution_count": 52,
   "id": "51b23cd5-6f5d-4577-adaf-59c27497d4c5",
   "metadata": {},
   "outputs": [
    {
     "name": "stdout",
     "output_type": "stream",
     "text": [
      "CNN-LSTM encoder decoder model has 1860800 trainable parameters\n"
     ]
    }
   ],
   "source": [
    "print(f\"CNN-LSTM encoder decoder model has {tot_params} trainable parameters\")"
   ]
  },
  {
   "cell_type": "code",
   "execution_count": null,
   "id": "9d0b014b-dd25-48cd-ac30-7f09a6040223",
   "metadata": {},
   "outputs": [],
   "source": []
  },
  {
   "cell_type": "code",
   "execution_count": 53,
   "id": "7399138e-085c-416e-a94a-c9ec263a778e",
   "metadata": {},
   "outputs": [],
   "source": [
    "# Compile defined model-\n",
    "cnn_encoder_decoder_model.compile(\n",
    "    loss = tf.keras.losses.MeanSquaredError(),\n",
    "    optimizer = tf.keras.optimizers.Adam()\n",
    ")"
   ]
  },
  {
   "cell_type": "code",
   "execution_count": null,
   "id": "14c968af-9249-430a-b281-103536f06344",
   "metadata": {},
   "outputs": [],
   "source": []
  },
  {
   "cell_type": "code",
   "execution_count": 36,
   "id": "c835a52c-64c6-4d8d-9814-56ced05fd69a",
   "metadata": {},
   "outputs": [],
   "source": [
    "# Define early stopping criterion-\n",
    "early_stopping_criterion = tf.keras.callbacks.EarlyStopping(\n",
    "    monitor = 'val_loss', min_delta = 10e-4,\n",
    "    patience = 5,  restore_best_weights = True\n",
    ")\n"
   ]
  },
  {
   "cell_type": "code",
   "execution_count": 54,
   "id": "ea35dd01-121f-41f2-a21c-d5e1f2461152",
   "metadata": {},
   "outputs": [
    {
     "name": "stdout",
     "output_type": "stream",
     "text": [
      "Epoch 1/50\n",
      "7/7 [==============================] - 3s 112ms/step - loss: 0.0547 - val_loss: 0.0568\n",
      "Epoch 2/50\n",
      "7/7 [==============================] - 0s 11ms/step - loss: 0.0161 - val_loss: 0.0675\n",
      "Epoch 3/50\n",
      "7/7 [==============================] - 0s 10ms/step - loss: 0.0102 - val_loss: 0.0649\n",
      "Epoch 4/50\n",
      "7/7 [==============================] - 0s 11ms/step - loss: 0.0078 - val_loss: 0.0284\n",
      "Epoch 5/50\n",
      "7/7 [==============================] - 0s 11ms/step - loss: 0.0057 - val_loss: 0.0230\n",
      "Epoch 6/50\n",
      "7/7 [==============================] - 0s 11ms/step - loss: 0.0041 - val_loss: 0.0219\n",
      "Epoch 7/50\n",
      "7/7 [==============================] - 0s 11ms/step - loss: 0.0032 - val_loss: 0.0200\n",
      "Epoch 8/50\n",
      "7/7 [==============================] - 0s 10ms/step - loss: 0.0029 - val_loss: 0.0203\n",
      "Epoch 9/50\n",
      "7/7 [==============================] - 0s 10ms/step - loss: 0.0024 - val_loss: 0.0296\n",
      "Epoch 10/50\n",
      "7/7 [==============================] - 0s 10ms/step - loss: 0.0023 - val_loss: 0.0229\n",
      "Epoch 11/50\n",
      "7/7 [==============================] - 0s 11ms/step - loss: 0.0019 - val_loss: 0.0168\n",
      "Epoch 12/50\n",
      "7/7 [==============================] - 0s 10ms/step - loss: 0.0017 - val_loss: 0.0206\n",
      "Epoch 13/50\n",
      "7/7 [==============================] - 0s 10ms/step - loss: 0.0017 - val_loss: 0.0188\n",
      "Epoch 14/50\n",
      "7/7 [==============================] - 0s 11ms/step - loss: 0.0018 - val_loss: 0.0155\n",
      "Epoch 15/50\n",
      "7/7 [==============================] - 0s 11ms/step - loss: 0.0019 - val_loss: 0.0081\n",
      "Epoch 16/50\n",
      "7/7 [==============================] - 0s 11ms/step - loss: 0.0026 - val_loss: 0.0396\n",
      "Epoch 17/50\n",
      "7/7 [==============================] - 0s 9ms/step - loss: 0.0028 - val_loss: 0.0306\n",
      "Epoch 18/50\n",
      "7/7 [==============================] - 0s 10ms/step - loss: 0.0022 - val_loss: 0.0176\n",
      "Epoch 19/50\n",
      "7/7 [==============================] - 0s 11ms/step - loss: 0.0017 - val_loss: 0.0147\n",
      "Epoch 20/50\n",
      "7/7 [==============================] - 0s 11ms/step - loss: 0.0014 - val_loss: 0.0138\n"
     ]
    }
   ],
   "source": [
    "# Train model-\n",
    "train_history = cnn_encoder_decoder_model.fit(\n",
    "    x = X_train, y = y_train,\n",
    "    validation_data = (X_test, y_test),\n",
    "    epochs = num_epochs, batch_size = batch_size,\n",
    "    callbacks = [early_stopping_criterion]\n",
    ")"
   ]
  },
  {
   "cell_type": "code",
   "execution_count": null,
   "id": "26f26189-20d7-479e-8596-1c19acaddeb5",
   "metadata": {},
   "outputs": [],
   "source": []
  },
  {
   "cell_type": "code",
   "execution_count": 55,
   "id": "5cca5186-af45-47bc-81e8-2d3dde2c3f8e",
   "metadata": {},
   "outputs": [
    {
     "data": {
      "image/png": "[encoded data removed]",
      "text/plain": [
       "<Figure size 648x504 with 1 Axes>"
      ]
     },
     "metadata": {
      "needs_background": "light"
     },
     "output_type": "display_data"
    }
   ],
   "source": [
    "# Visualize training-\n",
    "plt.figure(figsize = (9, 7))\n",
    "plt.plot(train_history.history['loss'], label = 'loss')\n",
    "plt.plot(train_history.history['val_loss'], label = 'val loss')\n",
    "plt.xlabel(\"epochs\")\n",
    "plt.ylabel(\"loss\")\n",
    "plt.legend(loc = 'best')\n",
    "plt.title(\"CNN-LSTM: Training loss Visualization\")\n",
    "plt.show()"
   ]
  },
  {
   "cell_type": "code",
   "execution_count": null,
   "id": "78a2d963-350e-450a-bab9-343261a8c045",
   "metadata": {},
   "outputs": [],
   "source": []
  },
  {
   "cell_type": "code",
   "execution_count": 56,
   "id": "fa0f2ddc-b4cd-4fa5-aaf8-c9f759d5aa3a",
   "metadata": {},
   "outputs": [],
   "source": [
    "# Save trained model-\n",
    "cnn_encoder_decoder_model.save_weights(\"CNN_LSTM_BTC_Prediction-Trained_Parameters.h5\", overwrite = True)"
   ]
  },
  {
   "cell_type": "code",
   "execution_count": null,
   "id": "670493d6-5d8d-4213-924f-8693684f0e05",
   "metadata": {},
   "outputs": [],
   "source": []
  },
  {
   "cell_type": "code",
   "execution_count": 57,
   "id": "7c08d87b-933e-41c3-84e3-f0679cb3d406",
   "metadata": {},
   "outputs": [],
   "source": [
    "# Make predictions using trained model-\n",
    "predictions = cnn_encoder_decoder_model(X_test)"
   ]
  },
  {
   "cell_type": "code",
   "execution_count": 58,
   "id": "7729e6ff-458b-4d59-989b-92bd2bd249c0",
   "metadata": {},
   "outputs": [
    {
     "data": {
      "text/plain": [
       "((125, 10, 2), TensorShape([125, 10, 2]))"
      ]
     },
     "execution_count": 58,
     "metadata": {},
     "output_type": "execute_result"
    }
   ],
   "source": [
    "# Sanity check-\n",
    "y_test.shape, predictions.shape"
   ]
  },
  {
   "cell_type": "code",
   "execution_count": null,
   "id": "6782a25d-8a5d-4ce3-a4ae-ad0a15979fd8",
   "metadata": {},
   "outputs": [],
   "source": []
  },
  {
   "cell_type": "code",
   "execution_count": 59,
   "id": "9ccc402b-9bbd-4d08-bcf6-60cd6b3e439b",
   "metadata": {},
   "outputs": [],
   "source": [
    "# Define two lists to contain true vs. predicted values-\n",
    "true_vals = []\n",
    "pred_vals = []"
   ]
  },
  {
   "cell_type": "code",
   "execution_count": 60,
   "id": "32669b60-11f6-4b11-af5a-f84f49e026c3",
   "metadata": {},
   "outputs": [],
   "source": [
    "for i in range(y_test.shape[0]):\n",
    "    true_vals.append(y_test[i, 0, :])"
   ]
  },
  {
   "cell_type": "code",
   "execution_count": 61,
   "id": "1e0c7c06-967c-40ce-9698-5b66c77386f1",
   "metadata": {},
   "outputs": [],
   "source": [
    "for i in range(len(predictions)):\n",
    "    pred_vals.append(predictions[i, 0, :])"
   ]
  },
  {
   "cell_type": "code",
   "execution_count": 62,
   "id": "23bd13ea-60ae-4c0a-a9d3-0dd14418715f",
   "metadata": {},
   "outputs": [],
   "source": [
    "# Convert to numpy arrays-\n",
    "true_vals = np.asarray(true_vals)\n",
    "pred_vals = np.asarray(pred_vals)"
   ]
  },
  {
   "cell_type": "code",
   "execution_count": 63,
   "id": "70914a95-b225-443e-9d66-a17a34d9379a",
   "metadata": {},
   "outputs": [
    {
     "data": {
      "text/plain": [
       "((125, 2), (125, 2))"
      ]
     },
     "execution_count": 63,
     "metadata": {},
     "output_type": "execute_result"
    }
   ],
   "source": [
    "# Sanity check-\n",
    "true_vals.shape, pred_vals.shape"
   ]
  },
  {
   "cell_type": "code",
   "execution_count": null,
   "id": "984ce9f7-493c-4d94-8847-b994e6fb83d3",
   "metadata": {},
   "outputs": [],
   "source": []
  },
  {
   "cell_type": "code",
   "execution_count": null,
   "id": "e6b3cac2-0ccf-4028-9575-68c96e09dabc",
   "metadata": {},
   "outputs": [],
   "source": []
  },
  {
   "cell_type": "markdown",
   "id": "e2f29d7c-a547-4280-8320-0f758a30e632",
   "metadata": {},
   "source": [
    "### Visualize true vs. predicted values ∀ attributes"
   ]
  },
  {
   "cell_type": "code",
   "execution_count": 64,
   "id": "b84b42dc-0512-47db-b3f5-b3745f98bf93",
   "metadata": {},
   "outputs": [
    {
     "data": {
      "image/png": "[encoded data removed]",
      "text/plain": [
       "<Figure size 648x504 with 1 Axes>"
      ]
     },
     "metadata": {
      "needs_background": "light"
     },
     "output_type": "display_data"
    }
   ],
   "source": [
    "plt.figure(figsize = (9, 7))\n",
    "plt.plot(pred_vals[:, 0].flatten(), label = 'pred')\n",
    "plt.plot(true_vals[:, 0].flatten(), label = 'true')\n",
    "plt.xlabel(\"date-time\")\n",
    "plt.ylabel(\"val\")\n",
    "plt.title(\"LSTM Comparisons: 'Open' feature\")\n",
    "plt.legend(loc = 'best')\n",
    "plt.show()"
   ]
  },
  {
   "cell_type": "code",
   "execution_count": 65,
   "id": "f81075fb-0b9e-4cfa-8a52-7ad3f0d9c213",
   "metadata": {},
   "outputs": [
    {
     "data": {
      "image/png": "[encoded data removed]",
      "text/plain": [
       "<Figure size 648x504 with 1 Axes>"
      ]
     },
     "metadata": {
      "needs_background": "light"
     },
     "output_type": "display_data"
    }
   ],
   "source": [
    "plt.figure(figsize = (9, 7))\n",
    "plt.plot(pred_vals[:, 1].flatten(), label = 'pred')\n",
    "plt.plot(true_vals[:, 1].flatten(), label = 'true')\n",
    "plt.xlabel(\"date-time\")\n",
    "plt.ylabel(\"val\")\n",
    "plt.title(\"LSTM Comparisons: 'Close' feature\")\n",
    "plt.legend(loc = 'best')\n",
    "plt.show()"
   ]
  },
  {
   "cell_type": "code",
   "execution_count": 66,
   "id": "51b32eb4-ea86-4ae1-a531-a0a8977af0e6",
   "metadata": {},
   "outputs": [
    {
     "data": {
      "image/png": "[encoded data removed]",
      "text/plain": [
       "<Figure size 648x504 with 1 Axes>"
      ]
     },
     "metadata": {
      "needs_background": "light"
     },
     "output_type": "display_data"
    }
   ],
   "source": [
    "plt.figure(figsize = (9, 7))\n",
    "plt.plot(true_vals[:, 0].flatten(), label = 'open')\n",
    "plt.plot(true_vals[:, 1].flatten(), label = 'close')\n",
    "plt.xlabel(\"date-time\")\n",
    "plt.ylabel(\"val\")\n",
    "plt.title(\"BTC: Test Ground Truth data\")\n",
    "plt.legend(loc = 'best')\n",
    "plt.show()"
   ]
  },
  {
   "cell_type": "code",
   "execution_count": null,
   "id": "0b3e2fc0-6f75-4678-a929-e1a156248be4",
   "metadata": {},
   "outputs": [],
   "source": []
  },
  {
   "cell_type": "code",
   "execution_count": null,
   "id": "7850956c-7d43-4002-a108-de5d26b6435a",
   "metadata": {},
   "outputs": [],
   "source": []
  }
 ],
 "metadata": {
  "kernelspec": {
   "display_name": "Python 3 (ipykernel)",
   "language": "python",
   "name": "python3"
  },
  "language_info": {
   "codemirror_mode": {
    "name": "ipython",
    "version": 3
   },
   "file_extension": ".py",
   "mimetype": "text/x-python",
   "name": "python",
   "nbconvert_exporter": "python",
   "pygments_lexer": "ipython3",
   "version": "3.8.13"
  }
 },
 "nbformat": 4,
 "nbformat_minor": 5
}
