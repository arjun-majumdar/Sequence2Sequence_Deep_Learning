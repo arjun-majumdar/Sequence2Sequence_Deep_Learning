{
 "cells": [
  {
   "cell_type": "markdown",
   "id": "6e94e65e-e3f4-4090-b380-07ef5810d847",
   "metadata": {},
   "source": [
    "# Multivariate time series forecasting - LSTM, GRU & TF2\n",
    "\n",
    "\n",
    "[Yahoo Finance - GE stocks dataset](https://finance.yahoo.com/quote/GE/)\n",
    "\n",
    "Attributes to be used include:\n",
    "\n",
    "1. 'Open'\n",
    "1. 'High'\n",
    "1. 'Low'\n",
    "1. 'Close'\n",
    "1. 'Adj Close'.\n",
    "\n",
    "- 'Volume' is not being used. _Volume_ is the number of transactions done on that day.\n",
    "\n",
    "- __Predict 'Open' attribute using all of the above variables__.\n",
    "\n",
    "- Assumption - these are the right variables affecting the opening price.\n",
    "\n",
    "\n",
    "- [Reference](https://www.youtube.com/watch?v=tepxdcepTbY)\n",
    "\n",
    "- [GitHub reference](https://github.com/bnsreenu/python_for_microscopists/blob/master/181_multivariate_timeseries_LSTM_GE.py)"
   ]
  },
  {
   "cell_type": "code",
   "execution_count": null,
   "id": "fef6079e-3520-46b7-89ae-56dd4fcfe6df",
   "metadata": {},
   "outputs": [],
   "source": []
  },
  {
   "cell_type": "code",
   "execution_count": 39,
   "id": "704758a0-5f16-4706-9e4c-e7736bea6a5d",
   "metadata": {},
   "outputs": [],
   "source": [
    "import tensorflow\n",
    "from tensorflow import keras\n",
    "from tensorflow.keras.models import Sequential\n",
    "from tensorflow.keras.layers import Dense, LSTM, GRU, Dropout\n",
    "import tensorflow as tf\n",
    "\n",
    "import pandas as pd\n",
    "import numpy as np\n",
    "import matplotlib.pyplot as plt\n",
    "import seaborn as sns\n",
    "\n",
    "from sklearn.preprocessing import StandardScaler, MinMaxScaler\n",
    "from sklearn.metrics import mean_absolute_error, mean_squared_error"
   ]
  },
  {
   "cell_type": "code",
   "execution_count": null,
   "id": "79167afc-4d98-422d-a94a-d061c86f7362",
   "metadata": {},
   "outputs": [],
   "source": []
  },
  {
   "cell_type": "code",
   "execution_count": null,
   "id": "c63bf6e6-b255-40fe-9977-8505fb276db5",
   "metadata": {},
   "outputs": [],
   "source": []
  },
  {
   "cell_type": "code",
   "execution_count": 2,
   "id": "27bda0a1-c5a6-46a4-922e-bb7ff09d5a47",
   "metadata": {},
   "outputs": [
    {
     "name": "stdout",
     "output_type": "stream",
     "text": [
      "TensorFlow version: 2.6.0\n"
     ]
    }
   ],
   "source": [
    "print(f\"TensorFlow version: {tf.__version__}\")"
   ]
  },
  {
   "cell_type": "code",
   "execution_count": 3,
   "id": "760ea958-dac8-47d0-838b-6024400ba61a",
   "metadata": {},
   "outputs": [
    {
     "name": "stdout",
     "output_type": "stream",
     "text": [
      "number of GPUs available = 0\n"
     ]
    }
   ],
   "source": [
    "# Get number of available GPUs-\n",
    "num_gpus = len(tf.config.list_physical_devices('GPU'))\n",
    "print(f\"number of GPUs available = {num_gpus}\")"
   ]
  },
  {
   "cell_type": "code",
   "execution_count": 4,
   "id": "e15a511d-5776-4923-81f6-278d2681043d",
   "metadata": {},
   "outputs": [
    {
     "name": "stdout",
     "output_type": "stream",
     "text": [
      "No GPU found\n"
     ]
    }
   ],
   "source": [
    "# Check GPU availibility-\n",
    "gpu_devices = tf.config.list_physical_devices('GPU')\n",
    "# print(f\"GPU: {gpu_devices}\")\n",
    "\n",
    "if gpu_devices:\n",
    "    print(f\"GPU: {gpu_devices}\")\n",
    "    details = tf.config.experimental.get_device_details(gpu_devices[0])\n",
    "    print(f\"GPU details: {details.get('device_name', 'Unknown GPU')}\")\n",
    "else:\n",
    "    print(\"No GPU found\")"
   ]
  },
  {
   "cell_type": "code",
   "execution_count": null,
   "id": "2113ee43-12d1-4f24-803b-1f7563e599f3",
   "metadata": {},
   "outputs": [],
   "source": []
  },
  {
   "cell_type": "code",
   "execution_count": null,
   "id": "19323c80-3736-4a9d-98fa-1fc3f5957b71",
   "metadata": {},
   "outputs": [],
   "source": []
  },
  {
   "cell_type": "code",
   "execution_count": 5,
   "id": "834aeb55-2ee3-4bb5-8f39-3b0bad2998b8",
   "metadata": {},
   "outputs": [],
   "source": [
    "# Read in dataset-\n",
    "data = pd.read_csv(\"GE_data.csv\")"
   ]
  },
  {
   "cell_type": "code",
   "execution_count": 6,
   "id": "84cfca6d-0938-4582-bd89-e7e537eacf4d",
   "metadata": {},
   "outputs": [
    {
     "data": {
      "text/plain": [
       "(1259, 7)"
      ]
     },
     "execution_count": 6,
     "metadata": {},
     "output_type": "execute_result"
    }
   ],
   "source": [
    "data.shape"
   ]
  },
  {
   "cell_type": "code",
   "execution_count": 7,
   "id": "377661bc-6a6c-41df-a7f3-62db3842fbc3",
   "metadata": {},
   "outputs": [
    {
     "name": "stdout",
     "output_type": "stream",
     "text": [
      "<class 'pandas.core.frame.DataFrame'>\n",
      "RangeIndex: 1259 entries, 0 to 1258\n",
      "Data columns (total 7 columns):\n",
      " #   Column     Non-Null Count  Dtype  \n",
      "---  ------     --------------  -----  \n",
      " 0   Date       1259 non-null   object \n",
      " 1   Open       1259 non-null   float64\n",
      " 2   High       1259 non-null   float64\n",
      " 3   Low        1259 non-null   float64\n",
      " 4   Close      1259 non-null   float64\n",
      " 5   Adj Close  1259 non-null   float64\n",
      " 6   Volume     1259 non-null   int64  \n",
      "dtypes: float64(5), int64(1), object(1)\n",
      "memory usage: 69.0+ KB\n"
     ]
    }
   ],
   "source": [
    "data.info()"
   ]
  },
  {
   "cell_type": "code",
   "execution_count": 8,
   "id": "c3ffbe47-82d5-445c-b7af-22a53c54888d",
   "metadata": {},
   "outputs": [
    {
     "data": {
      "text/plain": [
       "Date          object\n",
       "Open         float64\n",
       "High         float64\n",
       "Low          float64\n",
       "Close        float64\n",
       "Adj Close    float64\n",
       "Volume         int64\n",
       "dtype: object"
      ]
     },
     "execution_count": 8,
     "metadata": {},
     "output_type": "execute_result"
    }
   ],
   "source": [
    "data.dtypes"
   ]
  },
  {
   "cell_type": "code",
   "execution_count": null,
   "id": "6d3e229b-3cfe-4d82-b4c6-17eede8c62f9",
   "metadata": {},
   "outputs": [],
   "source": []
  },
  {
   "cell_type": "code",
   "execution_count": 9,
   "id": "54da5832-75a9-4e64-8758-500b1fc2bfc3",
   "metadata": {},
   "outputs": [],
   "source": [
    "# Convert to DateTime-\n",
    "data['Date'] = pd.to_datetime(data['Date'])"
   ]
  },
  {
   "cell_type": "code",
   "execution_count": 10,
   "id": "808eadc0-3168-43eb-a1e2-982ccf696bb7",
   "metadata": {},
   "outputs": [],
   "source": [
    "# Sort in ascending order-\n",
    "data.sort_values(by = 'Date', ascending = True, inplace = True)"
   ]
  },
  {
   "cell_type": "code",
   "execution_count": 11,
   "id": "9cf79d9f-2c16-4d6c-99da-39e605ca3d09",
   "metadata": {},
   "outputs": [],
   "source": [
    "data.reset_index(drop = True, inplace = True)"
   ]
  },
  {
   "cell_type": "code",
   "execution_count": null,
   "id": "59c12914-1397-405d-8038-4826bfed08fd",
   "metadata": {},
   "outputs": [],
   "source": []
  },
  {
   "cell_type": "code",
   "execution_count": 12,
   "id": "2d4447f4-c898-4545-b985-b17971097789",
   "metadata": {},
   "outputs": [
    {
     "data": {
      "text/plain": [
       "Date         datetime64[ns]\n",
       "Open                float64\n",
       "High                float64\n",
       "Low                 float64\n",
       "Close               float64\n",
       "Adj Close           float64\n",
       "Volume                int64\n",
       "dtype: object"
      ]
     },
     "execution_count": 12,
     "metadata": {},
     "output_type": "execute_result"
    }
   ],
   "source": [
    "# Sanity check-\n",
    "data.dtypes"
   ]
  },
  {
   "cell_type": "code",
   "execution_count": null,
   "id": "0bf288ed-61cc-4362-99cb-29f591b6c60d",
   "metadata": {},
   "outputs": [],
   "source": []
  },
  {
   "cell_type": "code",
   "execution_count": 13,
   "id": "524b16aa-5d1a-43e1-a493-689e9221fafa",
   "metadata": {},
   "outputs": [
    {
     "data": {
      "text/plain": [
       "False"
      ]
     },
     "execution_count": 13,
     "metadata": {},
     "output_type": "execute_result"
    }
   ],
   "source": [
    "# Check for missing values-\n",
    "data.isna().values.any()"
   ]
  },
  {
   "cell_type": "code",
   "execution_count": 14,
   "id": "314faba1-2dc7-45ec-864b-6a160c106942",
   "metadata": {},
   "outputs": [
    {
     "data": {
      "text/plain": [
       "0"
      ]
     },
     "execution_count": 14,
     "metadata": {},
     "output_type": "execute_result"
    }
   ],
   "source": [
    "data.isna().sum().sum()"
   ]
  },
  {
   "cell_type": "code",
   "execution_count": null,
   "id": "0123987f-0c21-49f6-beef-4e2d770393ff",
   "metadata": {},
   "outputs": [],
   "source": []
  },
  {
   "cell_type": "code",
   "execution_count": null,
   "id": "f3dcf376-d656-4053-b0e9-3aaa82bf5816",
   "metadata": {},
   "outputs": [],
   "source": []
  },
  {
   "cell_type": "markdown",
   "id": "e26999fb-0b50-46d0-a622-b600c52e4db0",
   "metadata": {},
   "source": [
    "### Data Pre-processing:"
   ]
  },
  {
   "cell_type": "code",
   "execution_count": 15,
   "id": "a12f603e-552c-41cb-bfc0-202a45d1fe33",
   "metadata": {},
   "outputs": [
    {
     "data": {
      "image/png": "[encoded data removed]",
      "text/plain": [
       "<Figure size 648x504 with 1 Axes>"
      ]
     },
     "metadata": {
      "needs_background": "light"
     },
     "output_type": "display_data"
    }
   ],
   "source": [
    "# Visualize distribution of each attribute-\n",
    "plt.figure(figsize = (9, 7))\n",
    "sns.histplot(data = data['Open'], bins = int(np.ceil(np.sqrt(len(data)))))\n",
    "plt.xlabel(\"Opening Price\")\n",
    "plt.title(\"Distribution - 'Open' attribute\")\n",
    "plt.show()"
   ]
  },
  {
   "cell_type": "code",
   "execution_count": 16,
   "id": "ab8db9b3-fc83-407f-bd1d-c6a4a190440c",
   "metadata": {},
   "outputs": [
    {
     "data": {
      "image/png": "[encoded data removed]",
      "text/plain": [
       "<Figure size 648x504 with 1 Axes>"
      ]
     },
     "metadata": {
      "needs_background": "light"
     },
     "output_type": "display_data"
    }
   ],
   "source": [
    "plt.figure(figsize = (9, 7))\n",
    "sns.histplot(data = data['High'], bins = int(np.ceil(np.sqrt(len(data)))))\n",
    "plt.xlabel(\"High Price\")\n",
    "plt.title(\"Distribution - 'High' attribute\")\n",
    "plt.show()"
   ]
  },
  {
   "cell_type": "code",
   "execution_count": 17,
   "id": "920010bc-0190-4d6b-8f69-1fb2ebab79b3",
   "metadata": {},
   "outputs": [
    {
     "data": {
      "image/png": "[encoded data removed]",
      "text/plain": [
       "<Figure size 648x504 with 1 Axes>"
      ]
     },
     "metadata": {
      "needs_background": "light"
     },
     "output_type": "display_data"
    }
   ],
   "source": [
    "plt.figure(figsize = (9, 7))\n",
    "sns.histplot(data = data['Low'], bins = int(np.ceil(np.sqrt(len(data)))))\n",
    "plt.xlabel(\"Low Price\")\n",
    "plt.title(\"Distribution - 'Low' attribute\")\n",
    "plt.show()"
   ]
  },
  {
   "cell_type": "code",
   "execution_count": 18,
   "id": "53fcd520-3722-4e1c-96ba-75e5ed5da8c5",
   "metadata": {},
   "outputs": [
    {
     "data": {
      "image/png": "[encoded data removed]",
      "text/plain": [
       "<Figure size 648x504 with 1 Axes>"
      ]
     },
     "metadata": {
      "needs_background": "light"
     },
     "output_type": "display_data"
    }
   ],
   "source": [
    "plt.figure(figsize = (9, 7))\n",
    "sns.histplot(data = data['Close'], bins = int(np.ceil(np.sqrt(len(data)))))\n",
    "plt.xlabel(\"Closing Price\")\n",
    "plt.title(\"Distribution - 'Close' attribute\")\n",
    "plt.show()"
   ]
  },
  {
   "cell_type": "code",
   "execution_count": 19,
   "id": "b3512016-0f70-4129-80b8-85d3e554736a",
   "metadata": {},
   "outputs": [
    {
     "data": {
      "image/png": "[encoded data removed]",
      "text/plain": [
       "<Figure size 648x504 with 1 Axes>"
      ]
     },
     "metadata": {
      "needs_background": "light"
     },
     "output_type": "display_data"
    }
   ],
   "source": [
    "plt.figure(figsize = (9, 7))\n",
    "sns.histplot(data = data['Adj Close'], bins = int(np.ceil(np.sqrt(len(data)))))\n",
    "plt.xlabel(\"Adjusted Low Price\")\n",
    "plt.title(\"Distribution - 'Adj Low' attribute\")\n",
    "plt.show()"
   ]
  },
  {
   "cell_type": "code",
   "execution_count": 20,
   "id": "1bfd1a67-e59d-4e79-a554-e34c44f0a745",
   "metadata": {},
   "outputs": [
    {
     "data": {
      "image/png": "[encoded data removed]",
      "text/plain": [
       "<Figure size 648x504 with 1 Axes>"
      ]
     },
     "metadata": {
      "needs_background": "light"
     },
     "output_type": "display_data"
    }
   ],
   "source": [
    "plt.figure(figsize = (9, 7))\n",
    "sns.histplot(data = data['Volume'], bins = int(np.ceil(np.sqrt(len(data)))))\n",
    "plt.xlabel(\"Volume\")\n",
    "plt.title(\"Distribution - 'Volume' attribute\")\n",
    "plt.show()"
   ]
  },
  {
   "cell_type": "markdown",
   "id": "61793d01-87b1-452a-a980-afa6dc3f7324",
   "metadata": {},
   "source": [
    "### Observation:\n",
    "\n",
    "1. Apply some data transformation techniques before applying Standard Sclaer can be used for all attributes/features except _Volume_ which has a skewed distribution.\n",
    "1. _Volume_ can be attempted to be normalized using - log, inverse, square root, cubic and box-cox transformations"
   ]
  },
  {
   "cell_type": "code",
   "execution_count": null,
   "id": "c5727b71-1621-43fd-a652-c0a74dcd117a",
   "metadata": {},
   "outputs": [],
   "source": []
  },
  {
   "cell_type": "code",
   "execution_count": null,
   "id": "a1c0d223-7bd6-46fb-8677-ab35d1fe96af",
   "metadata": {},
   "outputs": [],
   "source": []
  },
  {
   "cell_type": "code",
   "execution_count": 27,
   "id": "b6aad705-b567-4dcc-abc2-c00d0216efed",
   "metadata": {},
   "outputs": [],
   "source": [
    "# Apply log transformation-\n",
    "high_log = np.log(data['High'])"
   ]
  },
  {
   "cell_type": "code",
   "execution_count": 28,
   "id": "6c0b6aae-7db0-48e7-b89f-c9e27840e621",
   "metadata": {},
   "outputs": [],
   "source": [
    "# Apply inverse transformation-\n",
    "high_inv = 1 / data['High']"
   ]
  },
  {
   "cell_type": "code",
   "execution_count": 34,
   "id": "b7cea8be-0e99-49a5-a15c-a86ae1b5c607",
   "metadata": {},
   "outputs": [],
   "source": [
    "# Apply square root transformation-\n",
    "high_sqrt = np.sqrt(data['High'])"
   ]
  },
  {
   "cell_type": "code",
   "execution_count": null,
   "id": "5bb3bac5-4bf1-42ee-a9d4-c96482aa65c2",
   "metadata": {},
   "outputs": [],
   "source": []
  },
  {
   "cell_type": "code",
   "execution_count": null,
   "id": "6d4f23e5-2e6b-469b-8fee-abbc1baba12e",
   "metadata": {},
   "outputs": [],
   "source": []
  },
  {
   "cell_type": "code",
   "execution_count": 26,
   "id": "8d378ceb-ab54-420a-8f0e-11093489aa54",
   "metadata": {},
   "outputs": [
    {
     "data": {
      "image/png": "[encoded data removed]",
      "text/plain": [
       "<Figure size 648x504 with 1 Axes>"
      ]
     },
     "metadata": {
      "needs_background": "light"
     },
     "output_type": "display_data"
    }
   ],
   "source": [
    "plt.figure(figsize = (9, 7))\n",
    "sns.histplot(data = high_log, bins = int(np.ceil(np.sqrt((high_log.size)))))\n",
    "plt.xlabel(\"High Price\")\n",
    "plt.title(\"Distribution - 'High' (log transform) attribute\")\n",
    "plt.show()"
   ]
  },
  {
   "cell_type": "code",
   "execution_count": 31,
   "id": "1b8b0d30-60e4-485a-8aad-85506a36b745",
   "metadata": {},
   "outputs": [
    {
     "data": {
      "image/png": "[encoded data removed]",
      "text/plain": [
       "<Figure size 648x504 with 1 Axes>"
      ]
     },
     "metadata": {
      "needs_background": "light"
     },
     "output_type": "display_data"
    }
   ],
   "source": [
    "plt.figure(figsize = (9, 7))\n",
    "sns.histplot(data = high_inv, bins = int(np.ceil(np.sqrt((high_inv.size)))))\n",
    "plt.xlabel(\"High Price\")\n",
    "plt.title(\"Distribution - 'High' (inverse transform) attribute\")\n",
    "plt.show()"
   ]
  },
  {
   "cell_type": "code",
   "execution_count": 35,
   "id": "f1f2dbdd-b6a5-422a-bc38-0cde2b0635ea",
   "metadata": {},
   "outputs": [
    {
     "data": {
      "image/png": "[encoded data removed]",
      "text/plain": [
       "<Figure size 648x504 with 1 Axes>"
      ]
     },
     "metadata": {
      "needs_background": "light"
     },
     "output_type": "display_data"
    }
   ],
   "source": [
    "plt.figure(figsize = (9, 7))\n",
    "sns.histplot(data = high_sqrt, bins = int(np.ceil(np.sqrt((high_sqrt.size)))))\n",
    "plt.xlabel(\"High Price\")\n",
    "plt.title(\"Distribution - 'High' (sqrt transform) attribute\")\n",
    "plt.show()"
   ]
  },
  {
   "cell_type": "markdown",
   "id": "9a849006-c5eb-434a-b0b2-71b0bb6d1c63",
   "metadata": {},
   "source": [
    "### Obversvation:\n",
    "\n",
    "It seems that all of the transformations are almost equal. You might choose betweenn log or inverse transformation."
   ]
  },
  {
   "cell_type": "code",
   "execution_count": 36,
   "id": "4644f940-8d95-4d81-afbe-8b830affc2a8",
   "metadata": {},
   "outputs": [],
   "source": [
    "del high_log, high_inv, high_sqrt"
   ]
  },
  {
   "cell_type": "code",
   "execution_count": null,
   "id": "7e2660cf-aa1f-4fb5-ac48-c82b6b702fda",
   "metadata": {},
   "outputs": [],
   "source": []
  },
  {
   "cell_type": "code",
   "execution_count": null,
   "id": "9c252c1b-8478-4cef-aee2-ab4ea1899c99",
   "metadata": {},
   "outputs": [],
   "source": []
  },
  {
   "cell_type": "code",
   "execution_count": 15,
   "id": "ec549512-60d0-4ed1-a9eb-d87b0198622c",
   "metadata": {},
   "outputs": [
    {
     "data": {
      "text/html": [
       "<div>\n",
       "<style scoped>\n",
       "    .dataframe tbody tr th:only-of-type {\n",
       "        vertical-align: middle;\n",
       "    }\n",
       "\n",
       "    .dataframe tbody tr th {\n",
       "        vertical-align: top;\n",
       "    }\n",
       "\n",
       "    .dataframe thead th {\n",
       "        text-align: right;\n",
       "    }\n",
       "</style>\n",
       "<table border=\"1\" class=\"dataframe\">\n",
       "  <thead>\n",
       "    <tr style=\"text-align: right;\">\n",
       "      <th></th>\n",
       "      <th>Date</th>\n",
       "      <th>Open</th>\n",
       "      <th>High</th>\n",
       "      <th>Low</th>\n",
       "      <th>Close</th>\n",
       "      <th>Adj Close</th>\n",
       "      <th>Volume</th>\n",
       "    </tr>\n",
       "  </thead>\n",
       "  <tbody>\n",
       "    <tr>\n",
       "      <th>0</th>\n",
       "      <td>2017-02-07</td>\n",
       "      <td>228.846161</td>\n",
       "      <td>229.307693</td>\n",
       "      <td>227.153839</td>\n",
       "      <td>227.384613</td>\n",
       "      <td>211.307877</td>\n",
       "      <td>3091179</td>\n",
       "    </tr>\n",
       "    <tr>\n",
       "      <th>1</th>\n",
       "      <td>2017-02-08</td>\n",
       "      <td>227.000000</td>\n",
       "      <td>227.230774</td>\n",
       "      <td>225.076920</td>\n",
       "      <td>226.384613</td>\n",
       "      <td>210.378616</td>\n",
       "      <td>4183582</td>\n",
       "    </tr>\n",
       "    <tr>\n",
       "      <th>2</th>\n",
       "      <td>2017-02-09</td>\n",
       "      <td>227.076920</td>\n",
       "      <td>228.461533</td>\n",
       "      <td>226.615387</td>\n",
       "      <td>227.615387</td>\n",
       "      <td>211.522354</td>\n",
       "      <td>2816580</td>\n",
       "    </tr>\n",
       "    <tr>\n",
       "      <th>3</th>\n",
       "      <td>2017-02-10</td>\n",
       "      <td>228.769226</td>\n",
       "      <td>228.846161</td>\n",
       "      <td>227.307693</td>\n",
       "      <td>228.615387</td>\n",
       "      <td>212.451675</td>\n",
       "      <td>2962323</td>\n",
       "    </tr>\n",
       "    <tr>\n",
       "      <th>4</th>\n",
       "      <td>2017-02-13</td>\n",
       "      <td>229.846161</td>\n",
       "      <td>231.230774</td>\n",
       "      <td>228.692307</td>\n",
       "      <td>231.076920</td>\n",
       "      <td>214.739166</td>\n",
       "      <td>4812600</td>\n",
       "    </tr>\n",
       "    <tr>\n",
       "      <th>5</th>\n",
       "      <td>2017-02-14</td>\n",
       "      <td>231.769226</td>\n",
       "      <td>232.923080</td>\n",
       "      <td>230.153839</td>\n",
       "      <td>232.923080</td>\n",
       "      <td>216.454773</td>\n",
       "      <td>4553679</td>\n",
       "    </tr>\n",
       "    <tr>\n",
       "      <th>6</th>\n",
       "      <td>2017-02-15</td>\n",
       "      <td>233.000000</td>\n",
       "      <td>233.461533</td>\n",
       "      <td>232.153839</td>\n",
       "      <td>233.461533</td>\n",
       "      <td>216.955185</td>\n",
       "      <td>3311399</td>\n",
       "    </tr>\n",
       "    <tr>\n",
       "      <th>7</th>\n",
       "      <td>2017-02-16</td>\n",
       "      <td>233.461533</td>\n",
       "      <td>234.384613</td>\n",
       "      <td>233.076920</td>\n",
       "      <td>234.230774</td>\n",
       "      <td>217.670044</td>\n",
       "      <td>3371225</td>\n",
       "    </tr>\n",
       "    <tr>\n",
       "      <th>8</th>\n",
       "      <td>2017-02-17</td>\n",
       "      <td>233.923080</td>\n",
       "      <td>234.153839</td>\n",
       "      <td>232.307693</td>\n",
       "      <td>233.615387</td>\n",
       "      <td>217.098175</td>\n",
       "      <td>2840422</td>\n",
       "    </tr>\n",
       "    <tr>\n",
       "      <th>9</th>\n",
       "      <td>2017-02-21</td>\n",
       "      <td>233.923080</td>\n",
       "      <td>235.307693</td>\n",
       "      <td>233.384613</td>\n",
       "      <td>234.769226</td>\n",
       "      <td>218.170410</td>\n",
       "      <td>3931330</td>\n",
       "    </tr>\n",
       "  </tbody>\n",
       "</table>\n",
       "</div>"
      ],
      "text/plain": [
       "        Date        Open        High         Low       Close   Adj Close  \\\n",
       "0 2017-02-07  228.846161  229.307693  227.153839  227.384613  211.307877   \n",
       "1 2017-02-08  227.000000  227.230774  225.076920  226.384613  210.378616   \n",
       "2 2017-02-09  227.076920  228.461533  226.615387  227.615387  211.522354   \n",
       "3 2017-02-10  228.769226  228.846161  227.307693  228.615387  212.451675   \n",
       "4 2017-02-13  229.846161  231.230774  228.692307  231.076920  214.739166   \n",
       "5 2017-02-14  231.769226  232.923080  230.153839  232.923080  216.454773   \n",
       "6 2017-02-15  233.000000  233.461533  232.153839  233.461533  216.955185   \n",
       "7 2017-02-16  233.461533  234.384613  233.076920  234.230774  217.670044   \n",
       "8 2017-02-17  233.923080  234.153839  232.307693  233.615387  217.098175   \n",
       "9 2017-02-21  233.923080  235.307693  233.384613  234.769226  218.170410   \n",
       "\n",
       "    Volume  \n",
       "0  3091179  \n",
       "1  4183582  \n",
       "2  2816580  \n",
       "3  2962323  \n",
       "4  4812600  \n",
       "5  4553679  \n",
       "6  3311399  \n",
       "7  3371225  \n",
       "8  2840422  \n",
       "9  3931330  "
      ]
     },
     "execution_count": 15,
     "metadata": {},
     "output_type": "execute_result"
    }
   ],
   "source": [
    "# Print first values-\n",
    "data.head(10)"
   ]
  },
  {
   "cell_type": "code",
   "execution_count": null,
   "id": "9107ee76-cfe4-4520-a3d3-e89a04d867ab",
   "metadata": {},
   "outputs": [],
   "source": []
  },
  {
   "cell_type": "code",
   "execution_count": null,
   "id": "73ff4241-bfb9-4ef1-a603-9638d7e5c8b2",
   "metadata": {},
   "outputs": [],
   "source": []
  },
  {
   "cell_type": "code",
   "execution_count": 16,
   "id": "7477b954-30da-4ed8-aec5-ae14512539a2",
   "metadata": {},
   "outputs": [
    {
     "data": {
      "image/png": "[encoded data removed]",
      "text/plain": [
       "<Figure size 720x648 with 1 Axes>"
      ]
     },
     "metadata": {
      "needs_background": "light"
     },
     "output_type": "display_data"
    }
   ],
   "source": [
    "# Visualize time series data-\n",
    "plt.figure(figsize = (10, 9))\n",
    "plt.plot(data['Date'], data['Open'], label = 'open')\n",
    "plt.plot(data['Date'], data['High'], label = 'high')\n",
    "plt.plot(data['Date'], data['Low'], label = 'low')\n",
    "plt.plot(data['Date'], data['Close'], label = 'close')\n",
    "plt.plot(data['Date'], data['Adj Close'], label = 'adj close')\n",
    "plt.xlabel(\"Date\")\n",
    "# plt.ylabel(\"Opening Price\")\n",
    "plt.legend(loc = 'best')\n",
    "plt.title(\"Time Series Visualization - attributes\")\n",
    "plt.show() "
   ]
  },
  {
   "cell_type": "code",
   "execution_count": null,
   "id": "13230017-e581-4a00-9125-71e72f745895",
   "metadata": {},
   "outputs": [],
   "source": []
  },
  {
   "cell_type": "code",
   "execution_count": 17,
   "id": "93cb78f8-bffe-4af7-bb06-f28c656e351d",
   "metadata": {},
   "outputs": [
    {
     "data": {
      "image/png": "[encoded data removed]",
      "text/plain": [
       "<Figure size 720x648 with 1 Axes>"
      ]
     },
     "metadata": {
      "needs_background": "light"
     },
     "output_type": "display_data"
    }
   ],
   "source": [
    "# Visualize time series data-\n",
    "plt.figure(figsize = (10, 9))\n",
    "plt.plot(data['Date'], data['Volume'])\n",
    "plt.xlabel(\"Date\")\n",
    "plt.ylabel(\"Volume\")\n",
    "plt.title(\"Time Series Visualization - 'Volume' attribute\")\n",
    "plt.show() "
   ]
  },
  {
   "cell_type": "code",
   "execution_count": null,
   "id": "e290822b-abe2-41fc-a3e5-0a3079016f90",
   "metadata": {},
   "outputs": [],
   "source": []
  },
  {
   "cell_type": "code",
   "execution_count": null,
   "id": "9d5b3d7a-bc39-4be0-baa3-664c625cfa24",
   "metadata": {},
   "outputs": [],
   "source": []
  },
  {
   "cell_type": "code",
   "execution_count": 18,
   "id": "e6a53da9-a3dc-4857-9477-718a5c5f36aa",
   "metadata": {},
   "outputs": [],
   "source": [
    "# Specify features/channels to be used-\n",
    "cols = ['Open', 'High', 'Low', 'Close', 'Adj Close']"
   ]
  },
  {
   "cell_type": "code",
   "execution_count": null,
   "id": "a2d1a73b-925e-42bb-83d9-997d2b38c15c",
   "metadata": {},
   "outputs": [],
   "source": []
  },
  {
   "cell_type": "code",
   "execution_count": 19,
   "id": "443f2fd5-90c0-4cd4-8057-164c853c08c1",
   "metadata": {},
   "outputs": [],
   "source": [
    "# Create training data-\n",
    "data_train = data.loc[:, cols].astype(float)"
   ]
  },
  {
   "cell_type": "code",
   "execution_count": 20,
   "id": "4ebc6214-123d-4d4d-bc30-5adce16caca5",
   "metadata": {},
   "outputs": [
    {
     "data": {
      "text/plain": [
       "(1259, 5)"
      ]
     },
     "execution_count": 20,
     "metadata": {},
     "output_type": "execute_result"
    }
   ],
   "source": [
    "data_train.shape"
   ]
  },
  {
   "cell_type": "code",
   "execution_count": 21,
   "id": "943ebdfe-c313-465e-8ff9-826bc3e4ffbc",
   "metadata": {},
   "outputs": [
    {
     "data": {
      "text/html": [
       "<div>\n",
       "<style scoped>\n",
       "    .dataframe tbody tr th:only-of-type {\n",
       "        vertical-align: middle;\n",
       "    }\n",
       "\n",
       "    .dataframe tbody tr th {\n",
       "        vertical-align: top;\n",
       "    }\n",
       "\n",
       "    .dataframe thead th {\n",
       "        text-align: right;\n",
       "    }\n",
       "</style>\n",
       "<table border=\"1\" class=\"dataframe\">\n",
       "  <thead>\n",
       "    <tr style=\"text-align: right;\">\n",
       "      <th></th>\n",
       "      <th>Open</th>\n",
       "      <th>High</th>\n",
       "      <th>Low</th>\n",
       "      <th>Close</th>\n",
       "      <th>Adj Close</th>\n",
       "    </tr>\n",
       "  </thead>\n",
       "  <tbody>\n",
       "    <tr>\n",
       "      <th>0</th>\n",
       "      <td>228.846161</td>\n",
       "      <td>229.307693</td>\n",
       "      <td>227.153839</td>\n",
       "      <td>227.384613</td>\n",
       "      <td>211.307877</td>\n",
       "    </tr>\n",
       "    <tr>\n",
       "      <th>1</th>\n",
       "      <td>227.000000</td>\n",
       "      <td>227.230774</td>\n",
       "      <td>225.076920</td>\n",
       "      <td>226.384613</td>\n",
       "      <td>210.378616</td>\n",
       "    </tr>\n",
       "    <tr>\n",
       "      <th>2</th>\n",
       "      <td>227.076920</td>\n",
       "      <td>228.461533</td>\n",
       "      <td>226.615387</td>\n",
       "      <td>227.615387</td>\n",
       "      <td>211.522354</td>\n",
       "    </tr>\n",
       "    <tr>\n",
       "      <th>3</th>\n",
       "      <td>228.769226</td>\n",
       "      <td>228.846161</td>\n",
       "      <td>227.307693</td>\n",
       "      <td>228.615387</td>\n",
       "      <td>212.451675</td>\n",
       "    </tr>\n",
       "    <tr>\n",
       "      <th>4</th>\n",
       "      <td>229.846161</td>\n",
       "      <td>231.230774</td>\n",
       "      <td>228.692307</td>\n",
       "      <td>231.076920</td>\n",
       "      <td>214.739166</td>\n",
       "    </tr>\n",
       "  </tbody>\n",
       "</table>\n",
       "</div>"
      ],
      "text/plain": [
       "         Open        High         Low       Close   Adj Close\n",
       "0  228.846161  229.307693  227.153839  227.384613  211.307877\n",
       "1  227.000000  227.230774  225.076920  226.384613  210.378616\n",
       "2  227.076920  228.461533  226.615387  227.615387  211.522354\n",
       "3  228.769226  228.846161  227.307693  228.615387  212.451675\n",
       "4  229.846161  231.230774  228.692307  231.076920  214.739166"
      ]
     },
     "execution_count": 21,
     "metadata": {},
     "output_type": "execute_result"
    }
   ],
   "source": [
    "data_train.head()"
   ]
  },
  {
   "cell_type": "code",
   "execution_count": null,
   "id": "4b61c8e1-2169-432d-9d7d-a853a82bd367",
   "metadata": {},
   "outputs": [],
   "source": []
  },
  {
   "cell_type": "code",
   "execution_count": null,
   "id": "341a3718-2d6a-484b-a8e1-b16dfefa1d64",
   "metadata": {},
   "outputs": [],
   "source": []
  },
  {
   "cell_type": "code",
   "execution_count": 22,
   "id": "bbb16cb1-5fca-4bb8-a7bb-931434c5a461",
   "metadata": {},
   "outputs": [],
   "source": [
    "# Use standard scaler to scale training data-\n",
    "std_scaler = StandardScaler()\n",
    "data_train_scaled = std_scaler.fit_transform(data_train)\n",
    "\n",
    "# LSTM uses sigmoid and tanh activation functionsthat are sensitive to magnitude. Hence, scale them."
   ]
  },
  {
   "cell_type": "code",
   "execution_count": 23,
   "id": "9dc0a059-70ab-4336-823e-facb5d8d5a76",
   "metadata": {},
   "outputs": [
    {
     "data": {
      "text/plain": [
       "(numpy.ndarray, (1259, 5))"
      ]
     },
     "execution_count": 23,
     "metadata": {},
     "output_type": "execute_result"
    }
   ],
   "source": [
    "type(data_train_scaled), data_train_scaled.shape "
   ]
  },
  {
   "cell_type": "code",
   "execution_count": 24,
   "id": "2f1b627f-3d71-40e9-ace2-90eae6ffc873",
   "metadata": {},
   "outputs": [
    {
     "name": "stdout",
     "output_type": "stream",
     "text": [
      "attribute: 1, min = 2.5 & max = 2.6\n",
      "attribute: 2, min = 2.4 & max = 2.5\n",
      "attribute: 3, min = 2.5 & max = 2.5\n",
      "attribute: 4, min = 2.5 & max = 2.6\n",
      "attribute: 5, min = 2.5 & max = 2.6\n"
     ]
    }
   ],
   "source": [
    "# Sanity check - values after scaling-\n",
    "for i in range(data_train_scaled.shape[1]):\n",
    "    print(f\"attribute: {i + 1}, min = {data_train_scaled[i].min():.1f} &\"\n",
    "          f\" max = {data_train_scaled[i].max():.1f}\")"
   ]
  },
  {
   "cell_type": "code",
   "execution_count": null,
   "id": "06e5b1f7-d70c-4e56-ae04-a0eb33ac716d",
   "metadata": {},
   "outputs": [],
   "source": []
  },
  {
   "cell_type": "code",
   "execution_count": null,
   "id": "f4cc74ae-1419-478d-9f1b-a32582112ca5",
   "metadata": {},
   "outputs": [],
   "source": []
  },
  {
   "cell_type": "markdown",
   "id": "48cd867c-1133-4b45-96cd-c140fa41198e",
   "metadata": {},
   "source": [
    "### LSTM specific training data reshaping:\n",
    "\n",
    "- As required for LSTM networks, we require to reshape an input data into: _n_samples x timesteps x n_features_.\n",
    "\n",
    "- In this example, the _n_features_ is 5. We will make timesteps = 14 (past days data used for training). \n",
    "\n",
    "Capture the training series ```X_train``` and prediction ```y_train```. If say your training consists of 10 values then the 11th value is output. You then shift these 10 values by 1 to the RHS and continue - similar to __sliding window protocol__. Note that this does not have to be one, your output can be the 3rd or 4th value (and so on).\n",
    "\n",
    "We are going to capture this. _The 5 variables are reshaped into chunks along with the value to be predicted_.\n",
    "\n",
    "- ```n_future``` - how far in the future do you want to predict for (aka _look back_)\n",
    "\n",
    "- ```n_past``` - how many past values are you using to predict for ```n_future```\n",
    "\n",
    "Example:\n",
    "\n",
    "- Use the first 1 to 14 values as input. The 15th value is the value to be predicted.\n",
    "\n",
    "- Use the values from 2 to 15 as input and predict the 16th value (and so on)."
   ]
  },
  {
   "cell_type": "code",
   "execution_count": 25,
   "id": "15674358-a4de-4864-9944-e39c67dcfdfc",
   "metadata": {},
   "outputs": [],
   "source": [
    "# Python3 lists to be populated using formatted training data-\n",
    "X_train = []\n",
    "y_train = []"
   ]
  },
  {
   "cell_type": "code",
   "execution_count": 26,
   "id": "19f54411-9813-4a9f-9b75-beafeb4416f7",
   "metadata": {},
   "outputs": [],
   "source": [
    "# Number of days to predict using past days-\n",
    "n_future = 1\n",
    "\n",
    "# Number of past days to be used for training & prediction-\n",
    "n_past = 14"
   ]
  },
  {
   "cell_type": "code",
   "execution_count": null,
   "id": "3767e473-cc14-4c8b-b810-e8da87c35535",
   "metadata": {},
   "outputs": [],
   "source": []
  },
  {
   "cell_type": "code",
   "execution_count": null,
   "id": "1d7b96a9-7bba-41b8-9a36-873c5b06b25d",
   "metadata": {},
   "outputs": [],
   "source": [
    "\"\"\"\n",
    "len(data_train_scaled) - n_future + 1\n",
    "# 1259\n",
    "\n",
    "i_l = []\n",
    "\n",
    "for i in range(n_past, len(data_train_scaled) - n_future + 1):\n",
    "    i_l.append(i)\n",
    "\n",
    "len(i_l), len(data_train_scaled)\n",
    "# (1245, 1259)\n",
    "\n",
    "i_l[0], i_l[-1]\n",
    "# (14, 1258)\n",
    "\n",
    "i, i - n_past\n",
    "# (1258, 1244)\n",
    "\n",
    "data_train_scaled.shape\n",
    "# (1259, 5)\n",
    "\n",
    "data_train_scaled[0, 0: data_train_scaled.shape[1]].shape\n",
    "# (5,)\n",
    "\n",
    "\"\"\""
   ]
  },
  {
   "cell_type": "code",
   "execution_count": null,
   "id": "a654e921-bdcc-4cca-8854-f51a11a4b21a",
   "metadata": {},
   "outputs": [],
   "source": []
  },
  {
   "cell_type": "code",
   "execution_count": 27,
   "id": "61b2c7bb-415a-4e16-9030-7ec22d65ac8d",
   "metadata": {},
   "outputs": [],
   "source": [
    "# Reformat input data into the shape: (n_samples x timesteps x n_features)\n",
    "\n",
    "# In this example, the scaled dataset for training has the shape (1259, 5)\n",
    "# 1259 refers to the number of data points or examples. And 5 refers to the\n",
    "# columns or attributes (multi-variables).\n",
    "\n",
    "for i in range(n_past, len(data_train_scaled) - n_future +1):\n",
    "    X_train.append(data_train_scaled[i - n_past : i, 0 : data_train_scaled.shape[1]])\n",
    "    y_train.append(data_train_scaled[i + n_future - 1 : i + n_future, 0])\n"
   ]
  },
  {
   "cell_type": "code",
   "execution_count": 28,
   "id": "741e7f28-0316-4241-ba09-6669b90bf2a0",
   "metadata": {},
   "outputs": [
    {
     "data": {
      "text/plain": [
       "(1245, 1245)"
      ]
     },
     "execution_count": 28,
     "metadata": {},
     "output_type": "execute_result"
    }
   ],
   "source": [
    "len(X_train), len(y_train)"
   ]
  },
  {
   "cell_type": "code",
   "execution_count": 29,
   "id": "1801c554-753a-435b-8d99-afa6908c9739",
   "metadata": {},
   "outputs": [
    {
     "data": {
      "text/plain": [
       "(14, 5)"
      ]
     },
     "execution_count": 29,
     "metadata": {},
     "output_type": "execute_result"
    }
   ],
   "source": [
    "X_train[0].shape"
   ]
  },
  {
   "cell_type": "code",
   "execution_count": 30,
   "id": "8432af98-0f80-4ed1-8794-24e8da28606a",
   "metadata": {},
   "outputs": [],
   "source": [
    "# Convert to np arrays-\n",
    "X_train, y_train = np.asarray(X_train), np.asarray(y_train)"
   ]
  },
  {
   "cell_type": "code",
   "execution_count": 31,
   "id": "4e6561b6-da6e-4dce-a678-59f3be6bb13d",
   "metadata": {},
   "outputs": [
    {
     "name": "stdout",
     "output_type": "stream",
     "text": [
      "X_train.shape: (1245, 14, 5) & y_train.shape: (1245, 1)\n"
     ]
    }
   ],
   "source": [
    "print(f\"X_train.shape: {X_train.shape} & y_train.shape: {y_train.shape}\")"
   ]
  },
  {
   "cell_type": "markdown",
   "id": "f1790cff-d79e-4ed0-bdd4-f15219b9eaa3",
   "metadata": {},
   "source": [
    "### Explanation for reshaped data\n",
    "\n",
    "```X_train``` = (1245, 14, 5) - the difference between ```data_train_scaled``` & ```X_train``` is due to ```n_past```. ```n_past``` = 14 and we are using 5 features."
   ]
  },
  {
   "cell_type": "code",
   "execution_count": 32,
   "id": "873db0b0-f111-4329-af31-0ce4f88643d8",
   "metadata": {},
   "outputs": [
    {
     "data": {
      "text/plain": [
       "True"
      ]
     },
     "execution_count": 32,
     "metadata": {},
     "output_type": "execute_result"
    }
   ],
   "source": [
    "len(data_train_scaled) - len(X_train) == n_past"
   ]
  },
  {
   "cell_type": "code",
   "execution_count": null,
   "id": "85a7d21e-2a27-4458-bb52-d2b6490450a5",
   "metadata": {},
   "outputs": [],
   "source": []
  },
  {
   "cell_type": "markdown",
   "id": "29d42069-340d-4b1a-8337-344c6db17979",
   "metadata": {},
   "source": [
    "### Data Reshaping Explanation:\n",
    "\n",
    "- Use the first ```n_future``` values as input for all _n_ features (in this example, _n_future = 14_) to predict the ```n_future + 1```th value.\n",
    "\n",
    "- Shift by 1 value to the RHS similar to _sliding windows protocol_."
   ]
  },
  {
   "cell_type": "code",
   "execution_count": 33,
   "id": "05556f27-e971-4076-a9be-ccf5ffc32a47",
   "metadata": {},
   "outputs": [
    {
     "data": {
      "text/plain": [
       "array([[2.551367  , 2.53468985, 2.55230242, 2.52787956, 2.45392725],\n",
       "       [2.51287861, 2.49137563, 2.50890508, 2.50700033, 2.43277621],\n",
       "       [2.51448222, 2.51704315, 2.54105144, 2.53269794, 2.45880899],\n",
       "       [2.54976307, 2.52506459, 2.55551721, 2.55357717, 2.47996139],\n",
       "       [2.57221479, 2.57479579, 2.5844488 , 2.60497209, 2.53202728],\n",
       "       [2.61230646, 2.6100889 , 2.6149876 , 2.64351849, 2.57107644],\n",
       "       [2.63796539, 2.62131835, 2.65677772, 2.65476097, 2.58246639],\n",
       "       [2.64758734, 2.64056922, 2.67606556, 2.67082213, 2.59873739],\n",
       "       [2.65720958, 2.63575642, 2.65999251, 2.65797333, 2.585721  ],\n",
       "       [2.65720958, 2.65982009, 2.68249482, 2.6820646 , 2.61012629],\n",
       "       [2.67484986, 2.65340314, 2.66963627, 2.65154891, 2.57921211],\n",
       "       [2.59787341, 2.5780041 , 2.60373662, 2.60176003, 2.56773153],\n",
       "       [2.56580005, 2.59565083, 2.59248532, 2.62906367, 2.59561267],\n",
       "       [2.599477  , 2.58923386, 2.61177313, 2.58891122, 2.55461199],\n",
       "       [2.58985507, 2.5780041 , 2.57480504, 2.56803199, 2.53329114]])"
      ]
     },
     "execution_count": 33,
     "metadata": {},
     "output_type": "execute_result"
    }
   ],
   "source": [
    "data_train_scaled[:n_past + 1, :]"
   ]
  },
  {
   "cell_type": "code",
   "execution_count": 34,
   "id": "9c1aa1b5-f6d0-4cb9-b41e-e04368df5937",
   "metadata": {},
   "outputs": [
    {
     "data": {
      "text/plain": [
       "(14, 5)"
      ]
     },
     "execution_count": 34,
     "metadata": {},
     "output_type": "execute_result"
    }
   ],
   "source": [
    "X_train[0, :].shape"
   ]
  },
  {
   "cell_type": "code",
   "execution_count": 35,
   "id": "3c33cd13-c049-4be3-aa39-3c0387e7e8ce",
   "metadata": {},
   "outputs": [
    {
     "data": {
      "text/plain": [
       "array([[2.551367  , 2.53468985, 2.55230242, 2.52787956, 2.45392725],\n",
       "       [2.51287861, 2.49137563, 2.50890508, 2.50700033, 2.43277621],\n",
       "       [2.51448222, 2.51704315, 2.54105144, 2.53269794, 2.45880899],\n",
       "       [2.54976307, 2.52506459, 2.55551721, 2.55357717, 2.47996139],\n",
       "       [2.57221479, 2.57479579, 2.5844488 , 2.60497209, 2.53202728],\n",
       "       [2.61230646, 2.6100889 , 2.6149876 , 2.64351849, 2.57107644],\n",
       "       [2.63796539, 2.62131835, 2.65677772, 2.65476097, 2.58246639],\n",
       "       [2.64758734, 2.64056922, 2.67606556, 2.67082213, 2.59873739],\n",
       "       [2.65720958, 2.63575642, 2.65999251, 2.65797333, 2.585721  ],\n",
       "       [2.65720958, 2.65982009, 2.68249482, 2.6820646 , 2.61012629],\n",
       "       [2.67484986, 2.65340314, 2.66963627, 2.65154891, 2.57921211],\n",
       "       [2.59787341, 2.5780041 , 2.60373662, 2.60176003, 2.56773153],\n",
       "       [2.56580005, 2.59565083, 2.59248532, 2.62906367, 2.59561267],\n",
       "       [2.599477  , 2.58923386, 2.61177313, 2.58891122, 2.55461199]])"
      ]
     },
     "execution_count": 35,
     "metadata": {},
     "output_type": "execute_result"
    }
   ],
   "source": [
    "X_train[0, :]"
   ]
  },
  {
   "cell_type": "code",
   "execution_count": 36,
   "id": "46e55687-7705-4b2c-ab66-93fad7526f23",
   "metadata": {},
   "outputs": [
    {
     "data": {
      "text/plain": [
       "array([2.58985507])"
      ]
     },
     "execution_count": 36,
     "metadata": {},
     "output_type": "execute_result"
    }
   ],
   "source": [
    "y_train[0]"
   ]
  },
  {
   "cell_type": "code",
   "execution_count": null,
   "id": "26bb5c64-334e-4442-aa09-40494c65ff45",
   "metadata": {},
   "outputs": [],
   "source": []
  },
  {
   "cell_type": "code",
   "execution_count": 37,
   "id": "226f38e2-3d07-43b6-9841-ed40f853c3fb",
   "metadata": {},
   "outputs": [
    {
     "data": {
      "text/plain": [
       "((1245, 14, 5), (1245, 1))"
      ]
     },
     "execution_count": 37,
     "metadata": {},
     "output_type": "execute_result"
    }
   ],
   "source": [
    "X_train.shape, y_train.shape"
   ]
  },
  {
   "cell_type": "markdown",
   "id": "6b98dead-268a-473d-8d4e-0b79cfd48075",
   "metadata": {},
   "source": [
    "- Think of the input shape (```X_train.shape```) to the LSTM deep learning architecture as 1245 different _X_ values of size (14, 5).\n",
    "\n",
    "- ```y_train``` is just the value for the day after ```n_past``` values."
   ]
  },
  {
   "cell_type": "code",
   "execution_count": null,
   "id": "1b92c2af-fc8f-4444-a03a-1d7fd649d4ca",
   "metadata": {},
   "outputs": [],
   "source": []
  },
  {
   "cell_type": "code",
   "execution_count": null,
   "id": "60e2baf2-1edb-423e-ae23-f3d10fc678eb",
   "metadata": {},
   "outputs": [],
   "source": []
  },
  {
   "cell_type": "markdown",
   "id": "0ee95e5d-931d-4340-a2f3-56a5ad315aac",
   "metadata": {},
   "source": [
    "### Define LSTM Seq2Seq architecture"
   ]
  },
  {
   "cell_type": "code",
   "execution_count": 38,
   "id": "d7d1e7fa-6a32-44ce-b3c5-f67bf5b2cb9d",
   "metadata": {},
   "outputs": [],
   "source": [
    "def Stacked_LSTM():\n",
    "    # Function to define stacked LSTM architecture.\n",
    "    model = Sequential()\n",
    "\n",
    "    # Stack of LSTMs-\n",
    "    model.add(\n",
    "        LSTM(\n",
    "            units = 64, activation = 'relu',\n",
    "            input_shape = (X_train.shape[1], X_train.shape[2]),\n",
    "            return_sequences = True\n",
    "        )\n",
    "    )\n",
    "    # return sequence for the next LSTM to process.\n",
    "\n",
    "    model.add(\n",
    "        LSTM(\n",
    "            units = 32, activation = 'relu',\n",
    "            return_sequences = False\n",
    "        )\n",
    "    )\n",
    "\n",
    "    model.add(Dropout(0.2))\n",
    "\n",
    "    model.add(\n",
    "        Dense(\n",
    "            units = y_train.shape[1]\n",
    "        )\n",
    "    )\n",
    "\n",
    "    return model\n"
   ]
  },
  {
   "cell_type": "code",
   "execution_count": 40,
   "id": "59f4bcf2-9290-4e6d-b532-d69be1f863d5",
   "metadata": {},
   "outputs": [],
   "source": [
    "def Stacked_GRU():\n",
    "    # Function to define stacked GRU architecture.\n",
    "    model = Sequential()\n",
    "\n",
    "    # Stack of LSTMs-\n",
    "    model.add(\n",
    "        GRU(\n",
    "            units = 64, activation = 'tanh',\n",
    "            input_shape = (X_train.shape[1], X_train.shape[2]),\n",
    "            return_sequences = True, return_state = False\n",
    "        )\n",
    "    )\n",
    "    # return sequence for the next GRU to process.\n",
    "\n",
    "    model.add(\n",
    "        GRU(\n",
    "            units = 32, activation = 'tanh',\n",
    "            return_sequences = False\n",
    "        )\n",
    "    )\n",
    "\n",
    "    model.add(Dropout(0.2))\n",
    "\n",
    "    model.add(\n",
    "        Dense(\n",
    "            units = y_train.shape[1]\n",
    "        )\n",
    "    )\n",
    "\n",
    "    return model\n"
   ]
  },
  {
   "cell_type": "code",
   "execution_count": null,
   "id": "fc5cee6e-5baa-422d-ad20-38c9c0657ae8",
   "metadata": {},
   "outputs": [],
   "source": []
  },
  {
   "cell_type": "code",
   "execution_count": 41,
   "id": "f8154911-5aaa-4f37-b2be-52b9077b9be4",
   "metadata": {},
   "outputs": [],
   "source": [
    "# Instantiate an LSTM instance architecture-\n",
    "model_lstm = Stacked_LSTM()"
   ]
  },
  {
   "cell_type": "code",
   "execution_count": 42,
   "id": "021510ef-c9b3-4562-a927-d68d44dfa94a",
   "metadata": {},
   "outputs": [],
   "source": [
    "# Instantiate a GRU instance architecture-\n",
    "model_gru = Stacked_GRU()"
   ]
  },
  {
   "cell_type": "code",
   "execution_count": null,
   "id": "517a7800-fa85-44df-9c13-44d6aa4bb855",
   "metadata": {},
   "outputs": [],
   "source": []
  },
  {
   "cell_type": "code",
   "execution_count": 43,
   "id": "c0aad33f-ce45-4416-a00f-6272e9b74bfa",
   "metadata": {},
   "outputs": [],
   "source": [
    "# Compile defined architecture-\n",
    "model_lstm.compile(\n",
    "    optimizer = tf.keras.optimizers.Adam(learning_rate = 0.01),\n",
    "    loss = tf.keras.losses.MeanSquaredError()\n",
    ")"
   ]
  },
  {
   "cell_type": "code",
   "execution_count": 49,
   "id": "630d490f-c557-4e3d-b985-b03dbbe387b2",
   "metadata": {},
   "outputs": [],
   "source": [
    "# Compile defined architecture-\n",
    "model_gru.compile(\n",
    "    optimizer = tf.keras.optimizers.Adam(learning_rate = 0.01),\n",
    "    loss = tf.keras.losses.MeanSquaredError()\n",
    ")"
   ]
  },
  {
   "cell_type": "code",
   "execution_count": null,
   "id": "4040a606-5912-4b5a-b9cd-c67a4b6863b8",
   "metadata": {},
   "outputs": [],
   "source": []
  },
  {
   "cell_type": "code",
   "execution_count": 44,
   "id": "d0e18e97-d192-466c-ae46-4a59929fafb0",
   "metadata": {},
   "outputs": [
    {
     "name": "stdout",
     "output_type": "stream",
     "text": [
      "Model: \"sequential\"\n",
      "_________________________________________________________________\n",
      "Layer (type)                 Output Shape              Param #   \n",
      "=================================================================\n",
      "lstm (LSTM)                  (None, 14, 64)            17920     \n",
      "_________________________________________________________________\n",
      "lstm_1 (LSTM)                (None, 32)                12416     \n",
      "_________________________________________________________________\n",
      "dropout (Dropout)            (None, 32)                0         \n",
      "_________________________________________________________________\n",
      "dense (Dense)                (None, 1)                 33        \n",
      "=================================================================\n",
      "Total params: 30,369\n",
      "Trainable params: 30,369\n",
      "Non-trainable params: 0\n",
      "_________________________________________________________________\n"
     ]
    }
   ],
   "source": [
    "# Get model summary-\n",
    "model_lstm.summary()"
   ]
  },
  {
   "cell_type": "code",
   "execution_count": 50,
   "id": "8415c13d-bf92-43f9-adba-0ddb54b9bc14",
   "metadata": {},
   "outputs": [
    {
     "name": "stdout",
     "output_type": "stream",
     "text": [
      "Model: \"sequential_1\"\n",
      "_________________________________________________________________\n",
      "Layer (type)                 Output Shape              Param #   \n",
      "=================================================================\n",
      "gru (GRU)                    (None, 14, 64)            13632     \n",
      "_________________________________________________________________\n",
      "gru_1 (GRU)                  (None, 32)                9408      \n",
      "_________________________________________________________________\n",
      "dropout_1 (Dropout)          (None, 32)                0         \n",
      "_________________________________________________________________\n",
      "dense_1 (Dense)              (None, 1)                 33        \n",
      "=================================================================\n",
      "Total params: 23,073\n",
      "Trainable params: 23,073\n",
      "Non-trainable params: 0\n",
      "_________________________________________________________________\n"
     ]
    }
   ],
   "source": [
    "# Get model summary-\n",
    "model_gru.summary()"
   ]
  },
  {
   "cell_type": "code",
   "execution_count": null,
   "id": "41a5b1e8-ac0a-4fe8-be50-9fea27cadca4",
   "metadata": {},
   "outputs": [],
   "source": []
  },
  {
   "cell_type": "code",
   "execution_count": 53,
   "id": "a990165a-6dc0-49c7-a8e7-d859a7fff79e",
   "metadata": {},
   "outputs": [
    {
     "name": "stdout",
     "output_type": "stream",
     "text": [
      "layer: (5, 256) has 1280 weights\n",
      "layer: (64, 256) has 16384 weights\n",
      "layer: (256,) has 256 weights\n",
      "layer: (64, 128) has 8192 weights\n",
      "layer: (32, 128) has 4096 weights\n",
      "layer: (128,) has 128 weights\n",
      "layer: (32, 1) has 32 weights\n",
      "layer: (1,) has 1 weights\n"
     ]
    }
   ],
   "source": [
    "# Count number of trainable parameters manually-\n",
    "tot_params_lstm = 0\n",
    "\n",
    "for layer in model_lstm.trainable_weights:\n",
    "    loc_params = tf.math.count_nonzero(layer, axis = None).numpy()\n",
    "    tot_params_lstm += loc_params\n",
    "    print(f\"layer: {layer.shape} has {loc_params} weights\")"
   ]
  },
  {
   "cell_type": "code",
   "execution_count": 54,
   "id": "28c855cc-c271-424c-9258-4f78d3147462",
   "metadata": {},
   "outputs": [
    {
     "name": "stdout",
     "output_type": "stream",
     "text": [
      "layer: (5, 192) has 960 weights\n",
      "layer: (64, 192) has 12288 weights\n",
      "layer: (2, 192) has 0 weights\n",
      "layer: (64, 96) has 6144 weights\n",
      "layer: (32, 96) has 3072 weights\n",
      "layer: (2, 96) has 0 weights\n",
      "layer: (32, 1) has 32 weights\n",
      "layer: (1,) has 0 weights\n"
     ]
    }
   ],
   "source": [
    "# Count number of trainable parameters manually-\n",
    "tot_params_gru = 0\n",
    "\n",
    "for layer in model_gru.trainable_weights:\n",
    "    loc_params = tf.math.count_nonzero(layer, axis = None).numpy()\n",
    "    tot_params_gru += loc_params\n",
    "    print(f\"layer: {layer.shape} has {loc_params} weights\")"
   ]
  },
  {
   "cell_type": "code",
   "execution_count": 55,
   "id": "6eda10da-8a92-47cb-bfb2-a34847f7b2d4",
   "metadata": {},
   "outputs": [
    {
     "name": "stdout",
     "output_type": "stream",
     "text": [
      "Stacked LSTM architecture has 30369 trainable parameters\n"
     ]
    }
   ],
   "source": [
    "print(f\"Stacked LSTM architecture has {tot_params_lstm} trainable parameters\")"
   ]
  },
  {
   "cell_type": "code",
   "execution_count": 56,
   "id": "7745ceee-3acb-45d7-8bf5-212af3fd6921",
   "metadata": {},
   "outputs": [
    {
     "name": "stdout",
     "output_type": "stream",
     "text": [
      "Stacked LSTM architecture has 22496 trainable parameters\n"
     ]
    }
   ],
   "source": [
    "print(f\"Stacked LSTM architecture has {tot_params_gru} trainable parameters\")"
   ]
  },
  {
   "cell_type": "code",
   "execution_count": null,
   "id": "26c8e130-5ae9-4b1d-998a-d5c718c00622",
   "metadata": {},
   "outputs": [],
   "source": []
  },
  {
   "cell_type": "code",
   "execution_count": null,
   "id": "c1efc03b-9acd-45cd-8afc-35b63107400d",
   "metadata": {},
   "outputs": [],
   "source": []
  },
  {
   "cell_type": "code",
   "execution_count": 59,
   "id": "ad160690-b394-47ed-ac8f-4af4904221a3",
   "metadata": {},
   "outputs": [],
   "source": [
    "# Define EarlyStopping criterion-\n",
    "early_stopping = tf.keras.callbacks.EarlyStopping(\n",
    "    monitor = 'val_loss', min_delta = 0.001,\n",
    "    patience = 3, verbose = 0,\n",
    "    mode = 'auto', baseline = None,\n",
    "    restore_best_weights = True\n",
    ")\n"
   ]
  },
  {
   "cell_type": "code",
   "execution_count": 48,
   "id": "e1c2c09c-228c-40e2-a37a-3a73fe09192a",
   "metadata": {},
   "outputs": [
    {
     "name": "stdout",
     "output_type": "stream",
     "text": [
      "Epoch 1/10\n",
      "35/35 [==============================] - 3s 23ms/step - loss: 1.4194 - val_loss: 0.0163\n",
      "Epoch 2/10\n",
      "35/35 [==============================] - 0s 8ms/step - loss: 0.4485 - val_loss: 0.0062\n",
      "Epoch 3/10\n",
      "35/35 [==============================] - 0s 7ms/step - loss: 0.1056 - val_loss: 0.0052\n",
      "Epoch 4/10\n",
      "35/35 [==============================] - 0s 7ms/step - loss: 0.0892 - val_loss: 0.0054\n",
      "Epoch 5/10\n",
      "35/35 [==============================] - 0s 8ms/step - loss: 0.0740 - val_loss: 0.0046\n",
      "Epoch 6/10\n",
      "35/35 [==============================] - 0s 7ms/step - loss: 0.0657 - val_loss: 0.0071\n",
      "Epoch 7/10\n",
      "35/35 [==============================] - 0s 8ms/step - loss: 0.0765 - val_loss: 0.0052\n",
      "Epoch 8/10\n",
      "35/35 [==============================] - 0s 7ms/step - loss: 0.0792 - val_loss: 0.0045\n",
      "Epoch 9/10\n",
      "35/35 [==============================] - 0s 7ms/step - loss: 0.0704 - val_loss: 0.0041\n",
      "Epoch 10/10\n",
      "35/35 [==============================] - 0s 7ms/step - loss: 0.0656 - val_loss: 0.0053\n"
     ]
    }
   ],
   "source": [
    "# Train LSTM model-\n",
    "train_history = model_lstm.fit(\n",
    "    x = X_train, y = y_train,\n",
    "    epochs = 10, batch_size = 32,\n",
    "    validation_split = 0.1, verbose = 1,\n",
    "    # callbacks = [early_stopping]\n",
    ")"
   ]
  },
  {
   "cell_type": "code",
   "execution_count": 57,
   "id": "6b5944b1-6bd7-4d1f-8917-eb6b804e0359",
   "metadata": {},
   "outputs": [
    {
     "name": "stdout",
     "output_type": "stream",
     "text": [
      "Epoch 1/10\n",
      "35/35 [==============================] - 5s 41ms/step - loss: 0.0882 - val_loss: 0.0014\n",
      "Epoch 2/10\n",
      "35/35 [==============================] - 0s 8ms/step - loss: 0.0181 - val_loss: 9.1728e-04\n",
      "Epoch 3/10\n",
      "35/35 [==============================] - 0s 8ms/step - loss: 0.0200 - val_loss: 0.0044\n",
      "Epoch 4/10\n",
      "35/35 [==============================] - 0s 8ms/step - loss: 0.0204 - val_loss: 0.0017\n",
      "Epoch 5/10\n",
      "35/35 [==============================] - 0s 8ms/step - loss: 0.0173 - val_loss: 0.0017\n",
      "Epoch 6/10\n",
      "35/35 [==============================] - 0s 8ms/step - loss: 0.0154 - val_loss: 5.7649e-04\n",
      "Epoch 7/10\n",
      "35/35 [==============================] - 0s 9ms/step - loss: 0.0130 - val_loss: 5.8226e-04\n",
      "Epoch 8/10\n",
      "35/35 [==============================] - 0s 9ms/step - loss: 0.0146 - val_loss: 7.8157e-04\n",
      "Epoch 9/10\n",
      "35/35 [==============================] - 0s 8ms/step - loss: 0.0151 - val_loss: 0.0034\n",
      "Epoch 10/10\n",
      "35/35 [==============================] - 0s 8ms/step - loss: 0.0163 - val_loss: 0.0019\n"
     ]
    }
   ],
   "source": [
    "# Train GRU model-\n",
    "train_history_gru = model_gru.fit(\n",
    "    x = X_train, y = y_train,\n",
    "    epochs = 10, batch_size = 32,\n",
    "    validation_split = 0.1, verbose = 1,\n",
    "    # callbacks = [early_stopping]\n",
    ")"
   ]
  },
  {
   "cell_type": "code",
   "execution_count": null,
   "id": "7d867003-e295-4886-b840-275720aa4c90",
   "metadata": {},
   "outputs": [],
   "source": []
  },
  {
   "cell_type": "code",
   "execution_count": null,
   "id": "67495e3f-c1d3-4c87-8218-ed64b4016f6e",
   "metadata": {},
   "outputs": [],
   "source": []
  },
  {
   "cell_type": "code",
   "execution_count": 58,
   "id": "ed102d59-2ab1-4689-938c-7065b9284cdd",
   "metadata": {},
   "outputs": [
    {
     "data": {
      "image/png": "[encoded data removed]",
      "text/plain": [
       "<Figure size 648x504 with 1 Axes>"
      ]
     },
     "metadata": {
      "needs_background": "light"
     },
     "output_type": "display_data"
    }
   ],
   "source": [
    "# Visualize LSTM training-\n",
    "plt.figure(figsize = (9, 7))\n",
    "plt.plot(train_history.history['loss'], label = 'training loss')\n",
    "plt.plot(train_history.history['val_loss'], label = 'validation loss')\n",
    "plt.legend(loc = 'best')\n",
    "plt.xlabel(\"epochs\")\n",
    "plt.ylabel(\"loss\")\n",
    "plt.title(\"LSTM Training Visualization (Early Stopping)\")\n",
    "plt.show()"
   ]
  },
  {
   "cell_type": "code",
   "execution_count": 59,
   "id": "faf0cf70-cb78-40fa-a73c-65eda1fbc1ed",
   "metadata": {},
   "outputs": [
    {
     "data": {
      "image/png": "[encoded data removed]",
      "text/plain": [
       "<Figure size 648x504 with 1 Axes>"
      ]
     },
     "metadata": {
      "needs_background": "light"
     },
     "output_type": "display_data"
    }
   ],
   "source": [
    "# Visualize LSTM training-\n",
    "plt.figure(figsize = (9, 7))\n",
    "plt.plot(train_history_gru.history['loss'], label = 'training loss')\n",
    "plt.plot(train_history_gru.history['val_loss'], label = 'validation loss')\n",
    "plt.legend(loc = 'best')\n",
    "plt.xlabel(\"epochs\")\n",
    "plt.ylabel(\"loss\")\n",
    "plt.title(\"GRU Training Visualization (Early Stopping)\")\n",
    "plt.show()"
   ]
  },
  {
   "cell_type": "code",
   "execution_count": null,
   "id": "b07562c1-0901-421e-8fa3-5947975024e6",
   "metadata": {},
   "outputs": [],
   "source": []
  },
  {
   "cell_type": "code",
   "execution_count": null,
   "id": "b1ac0b44-1eb2-466c-a995-0c67e8e120d0",
   "metadata": {},
   "outputs": [],
   "source": []
  },
  {
   "cell_type": "code",
   "execution_count": 60,
   "id": "83e8e75c-ff80-4b1c-90e9-1d6dcc764be7",
   "metadata": {},
   "outputs": [],
   "source": [
    "# Make predictions using trained LSTM model-\n",
    "y_pred_lstm = model_lstm.predict(X_train)"
   ]
  },
  {
   "cell_type": "code",
   "execution_count": 61,
   "id": "18d6974b-b2cc-4b1c-835c-c4d091b0b784",
   "metadata": {},
   "outputs": [],
   "source": [
    "# Make predictions using trained GRU model-\n",
    "y_pred_gru = model_gru.predict(X_train)"
   ]
  },
  {
   "cell_type": "code",
   "execution_count": null,
   "id": "a0800ab4-ca76-4b5b-863e-8e611f6f1ddf",
   "metadata": {},
   "outputs": [],
   "source": []
  },
  {
   "cell_type": "code",
   "execution_count": 62,
   "id": "702ce8b5-7ab4-433f-9f4d-69a9a5eb4952",
   "metadata": {},
   "outputs": [
    {
     "data": {
      "text/plain": [
       "((1245, 14, 5), (1245, 1), (1245, 1), (1245, 1))"
      ]
     },
     "execution_count": 62,
     "metadata": {},
     "output_type": "execute_result"
    }
   ],
   "source": [
    "# Sanity check-\n",
    "X_train.shape, y_train.shape, y_pred_lstm.shape, y_pred_gru.shape"
   ]
  },
  {
   "cell_type": "code",
   "execution_count": null,
   "id": "0bd7efa8-508b-4016-9e1d-caa980f9b932",
   "metadata": {},
   "outputs": [],
   "source": []
  },
  {
   "cell_type": "code",
   "execution_count": 67,
   "id": "ed3bdf95-99d2-4d2a-af0c-a32b040fe7b1",
   "metadata": {},
   "outputs": [],
   "source": [
    "# Compute metrics-\n",
    "mae_lstm = mean_absolute_error(y_true = y_train, y_pred = y_pred_lstm)\n",
    "mse_lstm = mean_squared_error(y_true = y_train, y_pred = y_pred_lstm)\n",
    "\n",
    "mae_gru = mean_absolute_error(y_true = y_train, y_pred = y_pred_gru)\n",
    "mse_gru = mean_squared_error(y_true = y_train, y_pred = y_pred_gru)"
   ]
  },
  {
   "cell_type": "code",
   "execution_count": 68,
   "id": "7bbaf9ed-720e-475d-b337-38b31f9628a8",
   "metadata": {},
   "outputs": [
    {
     "name": "stdout",
     "output_type": "stream",
     "text": [
      "LSTM: MAE = 0.0954, MSE = 0.0143 & RMSE = 0.1197\n"
     ]
    }
   ],
   "source": [
    "print(f\"LSTM: MAE = {mae_lstm:.4f}, MSE = {mse_lstm:.4f} & RMSE = {np.sqrt(mse_lstm):.4f}\")"
   ]
  },
  {
   "cell_type": "code",
   "execution_count": 69,
   "id": "bfb6cdab-7f65-44b7-b537-9d061fc2c3d9",
   "metadata": {},
   "outputs": [
    {
     "name": "stdout",
     "output_type": "stream",
     "text": [
      "GRU: MAE = 0.0958, MSE = 0.0199 & RMSE = 0.1412\n"
     ]
    }
   ],
   "source": [
    "print(f\"GRU: MAE = {mae_gru:.4f}, MSE = {mse_gru:.4f} & RMSE = {np.sqrt(mse_gru):.4f}\")"
   ]
  },
  {
   "cell_type": "code",
   "execution_count": null,
   "id": "32f9eb16-c6a5-437f-8997-2237432719e7",
   "metadata": {},
   "outputs": [],
   "source": []
  },
  {
   "cell_type": "code",
   "execution_count": null,
   "id": "27888d3a-2b4b-4bbe-9dd0-871fcaf44780",
   "metadata": {},
   "outputs": [],
   "source": []
  },
  {
   "cell_type": "code",
   "execution_count": 71,
   "id": "a3af934b-2472-4c44-abff-6cfb252914d6",
   "metadata": {},
   "outputs": [
    {
     "data": {
      "image/png": "[encoded data removed]",
      "text/plain": [
       "<Figure size 648x504 with 1 Axes>"
      ]
     },
     "metadata": {
      "needs_background": "light"
     },
     "output_type": "display_data"
    }
   ],
   "source": [
    "# Visualize predictions vs. true values-\n",
    "plt.figure(figsize = (9, 7))\n",
    "plt.plot(y_train, label = 'y_train')\n",
    "plt.plot(y_pred_gru, label = 'y_pred_gru')\n",
    "plt.plot(y_pred_lstm, label = 'y_pred_lstm')\n",
    "plt.legend(loc = 'best')\n",
    "plt.title(\"Visualize predictions vs. true values\")\n",
    "plt.xlabel(\"date\")\n",
    "plt.ylabel(\"values\")\n",
    "plt.show()"
   ]
  },
  {
   "cell_type": "code",
   "execution_count": 72,
   "id": "642be348-2eb2-434f-8067-e62b9e240b51",
   "metadata": {},
   "outputs": [
    {
     "data": {
      "image/png": "[encoded data removed]",
      "text/plain": [
       "<Figure size 648x504 with 1 Axes>"
      ]
     },
     "metadata": {
      "needs_background": "light"
     },
     "output_type": "display_data"
    }
   ],
   "source": [
    "plt.figure(figsize = (9, 7))\n",
    "plt.plot(y_train, label = 'y_train')\n",
    "plt.plot(y_pred_gru, label = 'y_pred_gru')\n",
    "plt.legend(loc = 'best')\n",
    "plt.title(\"Visualize predictions vs. true values\")\n",
    "plt.xlabel(\"date\")\n",
    "plt.ylabel(\"values\")\n",
    "plt.show()"
   ]
  },
  {
   "cell_type": "code",
   "execution_count": 73,
   "id": "001316ca-fb46-46bb-9f8f-bcc93c1ebbde",
   "metadata": {},
   "outputs": [
    {
     "data": {
      "image/png": "[encoded data removed]",
      "text/plain": [
       "<Figure size 648x504 with 1 Axes>"
      ]
     },
     "metadata": {
      "needs_background": "light"
     },
     "output_type": "display_data"
    }
   ],
   "source": [
    "plt.figure(figsize = (9, 7))\n",
    "plt.plot(y_train, label = 'y_train')\n",
    "plt.plot(y_pred_lstm, label = 'y_pred_lstm')\n",
    "plt.legend(loc = 'best')\n",
    "plt.title(\"Visualize predictions vs. true values\")\n",
    "plt.xlabel(\"date\")\n",
    "plt.ylabel(\"values\")\n",
    "plt.show()"
   ]
  },
  {
   "cell_type": "code",
   "execution_count": null,
   "id": "5b94a330-e2ea-4676-bace-b76745a850a0",
   "metadata": {},
   "outputs": [],
   "source": []
  },
  {
   "cell_type": "code",
   "execution_count": null,
   "id": "7d78fc98-fcff-45b3-bfb8-d24dd63ae9e0",
   "metadata": {},
   "outputs": [],
   "source": [
    "# Save LSTM trained model for later use-\n",
    "model_lstm.save_weights(\"LSTM_Multivariate_GE_stock_prices.h5\", overwrite = True)"
   ]
  },
  {
   "cell_type": "code",
   "execution_count": null,
   "id": "c55423f3-cf71-4b3a-882c-f286e46aaedd",
   "metadata": {},
   "outputs": [],
   "source": [
    "# Save GRU trained model for later use-\n",
    "model_gru.save_weights(\"GRU_Multivariate_GE_stock_prices.h5\", overwrite = True)"
   ]
  },
  {
   "cell_type": "code",
   "execution_count": null,
   "id": "5c9b8738-b995-473f-9fe2-729fd760b6b6",
   "metadata": {},
   "outputs": [],
   "source": []
  },
  {
   "cell_type": "code",
   "execution_count": null,
   "id": "15184d71-6688-43ea-8314-f2d01fc2c35b",
   "metadata": {},
   "outputs": [],
   "source": [
    "\"\"\"\n",
    "# Instantiate an instance architecture-\n",
    "model = Stacked_LSTM()\n",
    "\n",
    "# Load trained weights-\n",
    "model.load_weights(\"LSTM_Multivariate_GE_stock_prices.h5\")\n",
    "\"\"\""
   ]
  },
  {
   "cell_type": "code",
   "execution_count": 57,
   "id": "9f325dce-e227-4ff0-a89e-ef2b6ff708e0",
   "metadata": {},
   "outputs": [],
   "source": [
    "\"\"\"\n",
    "# Compile defined architecture-\n",
    "model.compile(\n",
    "    optimizer = tf.keras.optimizers.Adam(learning_rate = 0.01),\n",
    "    # optimizer = 'adam',\n",
    "    loss = tf.keras.losses.MeanSquaredError()\n",
    "    # loss = 'mse'\n",
    ")\n",
    "\"\"\""
   ]
  },
  {
   "cell_type": "code",
   "execution_count": null,
   "id": "ef3dc9c8-6ba3-447b-a96d-c90b83d6f5c0",
   "metadata": {},
   "outputs": [],
   "source": []
  },
  {
   "cell_type": "code",
   "execution_count": null,
   "id": "0d7950e8-ce5a-4d86-9e00-a2517cf3a387",
   "metadata": {},
   "outputs": [],
   "source": []
  },
  {
   "cell_type": "markdown",
   "id": "7cab5c52-6c12-43ad-a988-da0e78484d28",
   "metadata": {},
   "source": [
    "### Make forecasts"
   ]
  },
  {
   "cell_type": "code",
   "execution_count": null,
   "id": "bd81be38-e4d1-4353-8d45-e75ef00525a3",
   "metadata": {},
   "outputs": [],
   "source": [
    "# from pandas.tseries.holiday import USFederalHolidayCalendar\n",
    "# from pandas.tseries.offsets import CustomBusinessDay"
   ]
  },
  {
   "cell_type": "code",
   "execution_count": null,
   "id": "bf7242dd-b2d5-4af9-ac70-1447a8017e5d",
   "metadata": {},
   "outputs": [],
   "source": []
  },
  {
   "cell_type": "code",
   "execution_count": 74,
   "id": "90da5a55-5196-48f3-9a9a-2046d4006095",
   "metadata": {},
   "outputs": [],
   "source": [
    "# Extract dates-\n",
    "train_dates = data['Date']"
   ]
  },
  {
   "cell_type": "code",
   "execution_count": 75,
   "id": "8884a556-7ee1-49ff-b81d-ba28e9a874c3",
   "metadata": {},
   "outputs": [],
   "source": [
    "# Make forecasts for the next 90 days (3 months)-\n",
    "n_future = 90"
   ]
  },
  {
   "cell_type": "code",
   "execution_count": 76,
   "id": "5a40e7b1-b915-4a82-9ce9-37dda4a93f98",
   "metadata": {},
   "outputs": [],
   "source": [
    "# Extract future dates (for visualizations)-\n",
    "forecast_period_dates = pd.date_range(list(train_dates)[-1], periods = n_future, freq = '1d').tolist()\n",
    "\n",
    "# From the last date in 'train_dates' (included) go for the next 89 days."
   ]
  },
  {
   "cell_type": "code",
   "execution_count": 77,
   "id": "7bf78261-834a-4c80-af28-4779a64ee720",
   "metadata": {},
   "outputs": [
    {
     "data": {
      "text/plain": [
       "(list, 90)"
      ]
     },
     "execution_count": 77,
     "metadata": {},
     "output_type": "execute_result"
    }
   ],
   "source": [
    "type(forecast_period_dates), len(forecast_period_dates)"
   ]
  },
  {
   "cell_type": "code",
   "execution_count": 78,
   "id": "6e64d18a-ad09-4fcb-ad7d-b4936d92e9fd",
   "metadata": {},
   "outputs": [
    {
     "data": {
      "text/plain": [
       "(Timestamp('2022-02-04 00:00:00', freq='D'),\n",
       " Timestamp('2022-05-04 00:00:00', freq='D'))"
      ]
     },
     "execution_count": 78,
     "metadata": {},
     "output_type": "execute_result"
    }
   ],
   "source": [
    "forecast_period_dates[0], forecast_period_dates[-1]"
   ]
  },
  {
   "cell_type": "code",
   "execution_count": 79,
   "id": "dd2f8d39-7142-40c0-bdb6-489cb2f99c47",
   "metadata": {},
   "outputs": [
    {
     "data": {
      "text/plain": [
       "(Timestamp('2017-02-07 00:00:00'), Timestamp('2022-02-04 00:00:00'))"
      ]
     },
     "execution_count": 79,
     "metadata": {},
     "output_type": "execute_result"
    }
   ],
   "source": [
    "train_dates.min(), train_dates.max()"
   ]
  },
  {
   "cell_type": "code",
   "execution_count": null,
   "id": "ef9898eb-461a-46f1-ae8f-8f99754b82cb",
   "metadata": {},
   "outputs": [],
   "source": []
  },
  {
   "cell_type": "code",
   "execution_count": 80,
   "id": "55929148-539d-47a6-9905-1dab86db3779",
   "metadata": {},
   "outputs": [
    {
     "data": {
      "text/plain": [
       "((90, 14, 5), (90, 1))"
      ]
     },
     "execution_count": 80,
     "metadata": {},
     "output_type": "execute_result"
    }
   ],
   "source": [
    "X_train[-n_future: ].shape, y_train[-n_future: ].shape"
   ]
  },
  {
   "cell_type": "code",
   "execution_count": null,
   "id": "8178e72d-7455-4c8d-b9dc-6cf167d1ebee",
   "metadata": {},
   "outputs": [],
   "source": [
    "# y_train[-n_future: ]"
   ]
  },
  {
   "cell_type": "code",
   "execution_count": null,
   "id": "bdba6235-51a4-441c-996d-c867f0441d95",
   "metadata": {},
   "outputs": [],
   "source": []
  },
  {
   "cell_type": "code",
   "execution_count": 81,
   "id": "82819aee-c3fc-4447-8f18-761dcbc9dbec",
   "metadata": {},
   "outputs": [],
   "source": [
    "# Make predictions for the future 90 days-\n",
    "future_predictions_lstm = model_lstm.predict(X_train[-n_future: ])"
   ]
  },
  {
   "cell_type": "code",
   "execution_count": 82,
   "id": "03119cd2-fa3f-435c-a99e-27ecea839172",
   "metadata": {},
   "outputs": [],
   "source": [
    "# Make predictions for the future 90 days-\n",
    "future_predictions_gru = model_gru.predict(X_train[-n_future: ])"
   ]
  },
  {
   "cell_type": "code",
   "execution_count": 83,
   "id": "04b08a88-8fd6-4066-a5c6-aabcfacdaa05",
   "metadata": {},
   "outputs": [
    {
     "data": {
      "text/plain": [
       "((90, 1), (90, 1), (90, 1))"
      ]
     },
     "execution_count": 83,
     "metadata": {},
     "output_type": "execute_result"
    }
   ],
   "source": [
    "future_predictions_lstm.shape, future_predictions_gru.shape, y_train[-n_future:].shape"
   ]
  },
  {
   "cell_type": "code",
   "execution_count": null,
   "id": "5d762c13-d118-44ed-888b-02741af80ac6",
   "metadata": {},
   "outputs": [],
   "source": []
  },
  {
   "cell_type": "markdown",
   "id": "eefad9e8-ea35-495b-84e3-eaa62dd65175",
   "metadata": {},
   "source": [
    "### Reverse scaling:\n",
    "\n",
    "- Inverse standard scaler to get back predictions in the original data range.\n",
    "\n",
    "- Since 5 features were used to scaling, inverse scaling expects the same 5 features as inputs.\n",
    "\n",
    "- Therefore, copy the values 5 times and discard after the inverse scaling operation."
   ]
  },
  {
   "cell_type": "code",
   "execution_count": 84,
   "id": "d88d4d3c-8db6-47a2-b838-04c7f7911c78",
   "metadata": {},
   "outputs": [],
   "source": [
    "forecast_copies_lstm = np.repeat(future_predictions_lstm, data_train_scaled.shape[1], axis = -1)\n",
    "forecast_copies_gru = np.repeat(future_predictions_gru, data_train_scaled.shape[1], axis = -1)"
   ]
  },
  {
   "cell_type": "code",
   "execution_count": 85,
   "id": "24edd230-e70e-4e8e-9199-7f765e7d7063",
   "metadata": {},
   "outputs": [],
   "source": [
    "forecast_actual = np.repeat(y_train[-n_future: ], data_train_scaled.shape[1], axis = -1)"
   ]
  },
  {
   "cell_type": "code",
   "execution_count": 86,
   "id": "066faa9a-9d10-407f-9ade-402391847b19",
   "metadata": {},
   "outputs": [
    {
     "data": {
      "text/plain": [
       "((90, 5), (90, 5), (90, 5))"
      ]
     },
     "execution_count": 86,
     "metadata": {},
     "output_type": "execute_result"
    }
   ],
   "source": [
    "forecast_copies_lstm.shape, forecast_copies_gru.shape, forecast_actual.shape"
   ]
  },
  {
   "cell_type": "code",
   "execution_count": 87,
   "id": "556450dd-82bb-45c8-b431-37db918a05f0",
   "metadata": {},
   "outputs": [
    {
     "data": {
      "text/plain": [
       "array([[-0.05197221, -0.05197221, -0.05197221, -0.05197221, -0.05197221],\n",
       "       [-0.03714135, -0.03714135, -0.03714135, -0.03714135, -0.03714135],\n",
       "       [-0.02837279, -0.02837279, -0.02837279, -0.02837279, -0.02837279],\n",
       "       [-0.02048305, -0.02048305, -0.02048305, -0.02048305, -0.02048305],\n",
       "       [-0.01458958, -0.01458958, -0.01458958, -0.01458958, -0.01458958]],\n",
       "      dtype=float32)"
      ]
     },
     "execution_count": 87,
     "metadata": {},
     "output_type": "execute_result"
    }
   ],
   "source": [
    "# Sanity check-\n",
    "forecast_copies_lstm[:5, :]\n",
    "\n",
    "# The same column is repated 5 times to mimic 5 features"
   ]
  },
  {
   "cell_type": "code",
   "execution_count": 88,
   "id": "4262c9df-30b0-4d5f-8c56-81384a788d11",
   "metadata": {},
   "outputs": [
    {
     "data": {
      "text/plain": [
       "array([[ 0.03202664,  0.03202664,  0.03202664,  0.03202664,  0.03202664],\n",
       "       [ 0.0450796 ,  0.0450796 ,  0.0450796 ,  0.0450796 ,  0.0450796 ],\n",
       "       [-0.01359798, -0.01359798, -0.01359798, -0.01359798, -0.01359798],\n",
       "       [ 0.03164097,  0.03164097,  0.03164097,  0.03164097,  0.03164097],\n",
       "       [ 0.02567231,  0.02567231,  0.02567231,  0.02567231,  0.02567231]],\n",
       "      dtype=float32)"
      ]
     },
     "execution_count": 88,
     "metadata": {},
     "output_type": "execute_result"
    }
   ],
   "source": [
    "# Sanity check-\n",
    "forecast_copies_gru[:5, :]\n",
    "\n",
    "# The same column is repated 5 times to mimic 5 features"
   ]
  },
  {
   "cell_type": "code",
   "execution_count": 89,
   "id": "13191e1b-77f5-4c54-8887-a822a401cd87",
   "metadata": {},
   "outputs": [
    {
     "data": {
      "text/plain": [
       "array([[-0.00970491, -0.00970491, -0.00970491, -0.00970491, -0.00970491],\n",
       "       [-0.00219968, -0.00219968, -0.00219968, -0.00219968, -0.00219968],\n",
       "       [-0.0476479 , -0.0476479 , -0.0476479 , -0.0476479 , -0.0476479 ],\n",
       "       [-0.02221354, -0.02221354, -0.02221354, -0.02221354, -0.02221354],\n",
       "       [-0.02930188, -0.02930188, -0.02930188, -0.02930188, -0.02930188]])"
      ]
     },
     "execution_count": 89,
     "metadata": {},
     "output_type": "execute_result"
    }
   ],
   "source": [
    "# Sanity check-\n",
    "forecast_actual[:5, :]\n",
    "# The same column is repated 5 times to mimic 5 features"
   ]
  },
  {
   "cell_type": "code",
   "execution_count": null,
   "id": "89305c62-ecb6-446b-af23-a10ef2f2af2a",
   "metadata": {},
   "outputs": [],
   "source": []
  },
  {
   "cell_type": "code",
   "execution_count": 93,
   "id": "63579695-48cb-4adb-b393-53b4af88a25e",
   "metadata": {},
   "outputs": [],
   "source": [
    "forecast_lstm = std_scaler.inverse_transform(forecast_copies_lstm)[:, 0]"
   ]
  },
  {
   "cell_type": "code",
   "execution_count": 90,
   "id": "1698b27b-0ff8-40fb-95ac-05a025c1f0cf",
   "metadata": {},
   "outputs": [],
   "source": [
    "forecast_gru = std_scaler.inverse_transform(forecast_copies_gru)[:, 0]"
   ]
  },
  {
   "cell_type": "code",
   "execution_count": 91,
   "id": "bd700340-958b-443d-b333-b90a751808f7",
   "metadata": {},
   "outputs": [],
   "source": [
    "actual = std_scaler.inverse_transform(forecast_actual)[:, 0]"
   ]
  },
  {
   "cell_type": "code",
   "execution_count": 95,
   "id": "ac817753-f2e6-4b59-b158-f1a36eccbabf",
   "metadata": {},
   "outputs": [
    {
     "data": {
      "text/plain": [
       "((90,), (90,), (90,))"
      ]
     },
     "execution_count": 95,
     "metadata": {},
     "output_type": "execute_result"
    }
   ],
   "source": [
    "forecast_lstm.shape, forecast_gru.shape, actual.shape"
   ]
  },
  {
   "cell_type": "code",
   "execution_count": null,
   "id": "b8859fce-00a8-4c68-90e4-70989fa800f9",
   "metadata": {},
   "outputs": [],
   "source": []
  },
  {
   "cell_type": "code",
   "execution_count": 96,
   "id": "c3c75bf6-a81f-4b5a-94e2-2fd1d4768ee7",
   "metadata": {},
   "outputs": [
    {
     "data": {
      "image/png": "[encoded data removed]",
      "text/plain": [
       "<Figure size 648x504 with 1 Axes>"
      ]
     },
     "metadata": {
      "needs_background": "light"
     },
     "output_type": "display_data"
    }
   ],
   "source": [
    "# Visualize predictions for the next 90 days-\n",
    "plt.figure(figsize = (9, 7))\n",
    "plt.plot(forecast_lstm, label = 'LSTM pred')\n",
    "plt.plot(forecast_gru, label = 'GRU pred')\n",
    "plt.plot(actual, label = 'actual')\n",
    "plt.xlabel(\"days\")\n",
    "plt.ylabel(\"values\")\n",
    "plt.legend(loc = 'best')\n",
    "plt.title(\"Predictions for future 90 days\")\n",
    "plt.show()"
   ]
  },
  {
   "cell_type": "code",
   "execution_count": null,
   "id": "eff3b18d-6e16-492f-af20-aa1f55e28605",
   "metadata": {},
   "outputs": [],
   "source": []
  },
  {
   "cell_type": "code",
   "execution_count": null,
   "id": "e2c1a070-4010-4566-a4df-236e9b1a02f5",
   "metadata": {},
   "outputs": [],
   "source": []
  },
  {
   "cell_type": "code",
   "execution_count": 97,
   "id": "1d3d4820-1874-44a3-975d-b76c04f525d5",
   "metadata": {},
   "outputs": [],
   "source": [
    "# Convert pd TimeStamp to Dates-\n",
    "forecast_dates = []\n",
    "\n",
    "for time_i in forecast_period_dates:\n",
    "    forecast_dates.append(time_i.date())"
   ]
  },
  {
   "cell_type": "code",
   "execution_count": 98,
   "id": "32d11b24-1b2e-4c83-877b-c0afa44abeac",
   "metadata": {},
   "outputs": [
    {
     "data": {
      "text/plain": [
       "90"
      ]
     },
     "execution_count": 98,
     "metadata": {},
     "output_type": "execute_result"
    }
   ],
   "source": [
    "len(forecast_dates)"
   ]
  },
  {
   "cell_type": "code",
   "execution_count": 99,
   "id": "6275b784-5975-4840-9afd-be2728eb0a75",
   "metadata": {},
   "outputs": [
    {
     "data": {
      "text/plain": [
       "[datetime.date(2022, 2, 4),\n",
       " datetime.date(2022, 2, 5),\n",
       " datetime.date(2022, 2, 6),\n",
       " datetime.date(2022, 2, 7),\n",
       " datetime.date(2022, 2, 8)]"
      ]
     },
     "execution_count": 99,
     "metadata": {},
     "output_type": "execute_result"
    }
   ],
   "source": [
    "forecast_dates[:5]"
   ]
  },
  {
   "cell_type": "code",
   "execution_count": null,
   "id": "e99c4a63-f67f-437e-94a0-12e2a31bf2d2",
   "metadata": {},
   "outputs": [],
   "source": []
  },
  {
   "cell_type": "code",
   "execution_count": 100,
   "id": "1196da5a-c759-4e45-bf9d-be5f7a135ce0",
   "metadata": {},
   "outputs": [],
   "source": [
    "# Create a new pd DataFrame using Python3 dict-\n",
    "data_forecast = pd.DataFrame(\n",
    "    {\n",
    "        'Date': np.asarray(forecast_dates),\n",
    "        'Open_LSTM_pred': np.asarray(forecast_lstm),\n",
    "        'Open_GRU_pred': np.asarray(forecast_gru)\n",
    "    }\n",
    ")"
   ]
  },
  {
   "cell_type": "code",
   "execution_count": 101,
   "id": "448762be-3c93-4174-980d-552b099ddf34",
   "metadata": {},
   "outputs": [],
   "source": [
    "# Convert 'Date' attribute to datetime-\n",
    "data_forecast['Date'] = pd.to_datetime(data['Date'])"
   ]
  },
  {
   "cell_type": "code",
   "execution_count": 102,
   "id": "c5d8a691-620a-4173-bb19-5e658835491a",
   "metadata": {},
   "outputs": [],
   "source": [
    "# Add true values-\n",
    "data_forecast['Open_actual'] = np.asarray(actual)"
   ]
  },
  {
   "cell_type": "code",
   "execution_count": null,
   "id": "4cc9194a-f6d2-4a97-8848-d3225e69bff1",
   "metadata": {},
   "outputs": [],
   "source": []
  },
  {
   "cell_type": "code",
   "execution_count": 103,
   "id": "e23e01d3-b648-42f7-8bd7-0a67d210baca",
   "metadata": {},
   "outputs": [
    {
     "data": {
      "text/plain": [
       "(90, 4)"
      ]
     },
     "execution_count": 103,
     "metadata": {},
     "output_type": "execute_result"
    }
   ],
   "source": [
    "data_forecast.shape"
   ]
  },
  {
   "cell_type": "code",
   "execution_count": 104,
   "id": "a1ad503a-cc90-41bd-a67b-063f0279a114",
   "metadata": {},
   "outputs": [
    {
     "data": {
      "text/html": [
       "<div>\n",
       "<style scoped>\n",
       "    .dataframe tbody tr th:only-of-type {\n",
       "        vertical-align: middle;\n",
       "    }\n",
       "\n",
       "    .dataframe tbody tr th {\n",
       "        vertical-align: top;\n",
       "    }\n",
       "\n",
       "    .dataframe thead th {\n",
       "        text-align: right;\n",
       "    }\n",
       "</style>\n",
       "<table border=\"1\" class=\"dataframe\">\n",
       "  <thead>\n",
       "    <tr style=\"text-align: right;\">\n",
       "      <th></th>\n",
       "      <th>Date</th>\n",
       "      <th>Open_LSTM_pred</th>\n",
       "      <th>Open_GRU_pred</th>\n",
       "      <th>Open_actual</th>\n",
       "    </tr>\n",
       "  </thead>\n",
       "  <tbody>\n",
       "    <tr>\n",
       "      <th>0</th>\n",
       "      <td>2017-02-07</td>\n",
       "      <td>103.972580</td>\n",
       "      <td>108.001724</td>\n",
       "      <td>106.000000</td>\n",
       "    </tr>\n",
       "    <tr>\n",
       "      <th>1</th>\n",
       "      <td>2017-02-08</td>\n",
       "      <td>104.683968</td>\n",
       "      <td>108.627831</td>\n",
       "      <td>106.360001</td>\n",
       "    </tr>\n",
       "    <tr>\n",
       "      <th>2</th>\n",
       "      <td>2017-02-09</td>\n",
       "      <td>105.104561</td>\n",
       "      <td>105.813263</td>\n",
       "      <td>104.180000</td>\n",
       "    </tr>\n",
       "    <tr>\n",
       "      <th>3</th>\n",
       "      <td>2017-02-10</td>\n",
       "      <td>105.483009</td>\n",
       "      <td>107.983223</td>\n",
       "      <td>105.400002</td>\n",
       "    </tr>\n",
       "    <tr>\n",
       "      <th>4</th>\n",
       "      <td>2017-02-13</td>\n",
       "      <td>105.765701</td>\n",
       "      <td>107.696930</td>\n",
       "      <td>105.059998</td>\n",
       "    </tr>\n",
       "  </tbody>\n",
       "</table>\n",
       "</div>"
      ],
      "text/plain": [
       "        Date  Open_LSTM_pred  Open_GRU_pred  Open_actual\n",
       "0 2017-02-07      103.972580     108.001724   106.000000\n",
       "1 2017-02-08      104.683968     108.627831   106.360001\n",
       "2 2017-02-09      105.104561     105.813263   104.180000\n",
       "3 2017-02-10      105.483009     107.983223   105.400002\n",
       "4 2017-02-13      105.765701     107.696930   105.059998"
      ]
     },
     "execution_count": 104,
     "metadata": {},
     "output_type": "execute_result"
    }
   ],
   "source": [
    "data_forecast.head()"
   ]
  },
  {
   "cell_type": "code",
   "execution_count": null,
   "id": "17bdb827-e778-4c93-aa08-0bb278640c02",
   "metadata": {},
   "outputs": [],
   "source": []
  },
  {
   "cell_type": "code",
   "execution_count": 105,
   "id": "820059f8-ca76-498f-8c43-b6c2c6e99357",
   "metadata": {},
   "outputs": [
    {
     "data": {
      "text/plain": [
       "(Timestamp('2017-02-07 00:00:00'), Timestamp('2017-06-15 00:00:00'))"
      ]
     },
     "execution_count": 105,
     "metadata": {},
     "output_type": "execute_result"
    }
   ],
   "source": [
    "data_forecast['Date'].min(), data_forecast['Date'].max()"
   ]
  },
  {
   "cell_type": "code",
   "execution_count": 106,
   "id": "5cecd04b-0b30-4701-88f8-004ce4c5c050",
   "metadata": {},
   "outputs": [
    {
     "data": {
      "text/plain": [
       "(Timestamp('2017-02-07 00:00:00'), Timestamp('2022-02-04 00:00:00'))"
      ]
     },
     "execution_count": 106,
     "metadata": {},
     "output_type": "execute_result"
    }
   ],
   "source": [
    "data['Date'].min(), data['Date'].max()"
   ]
  },
  {
   "cell_type": "code",
   "execution_count": null,
   "id": "ca8a1ffa-b27a-4dd9-add8-9b40aaf6a46c",
   "metadata": {},
   "outputs": [],
   "source": []
  },
  {
   "cell_type": "code",
   "execution_count": null,
   "id": "8919c0b4-fac3-4217-ba99-b634d779312f",
   "metadata": {},
   "outputs": [],
   "source": []
  },
  {
   "cell_type": "code",
   "execution_count": 108,
   "id": "4acc6ee7-b745-4664-a858-0a87c1a2fafd",
   "metadata": {},
   "outputs": [
    {
     "data": {
      "image/png": "[encoded data removed]",
      "text/plain": [
       "<Figure size 648x576 with 1 Axes>"
      ]
     },
     "metadata": {
      "needs_background": "light"
     },
     "output_type": "display_data"
    }
   ],
   "source": [
    "# Visualizations - LSTM & GRU predictions vs. actual values-\n",
    "plt.figure(figsize = (9, 8))\n",
    "sns.lineplot(x = data_forecast['Date'], y = data_forecast['Open_GRU_pred'], label = 'GRU pred')\n",
    "sns.lineplot(x = data_forecast['Date'], y = data_forecast['Open_LSTM_pred'], label = 'LSTM pred')\n",
    "sns.lineplot(x = data_forecast['Date'], y = data_forecast['Open_actual'], label = 'true')\n",
    "plt.legend(loc = 'best')\n",
    "plt.xlabel(\"date\")\n",
    "plt.ylabel(\"Opening Price\")\n",
    "plt.xticks(rotation = 30)\n",
    "plt.title(\"Opening Price: Actual vs. Predictions\")\n",
    "plt.show()\n",
    "\n",
    "# Similar to visualization above."
   ]
  },
  {
   "cell_type": "code",
   "execution_count": null,
   "id": "8f5dfd54-b6a8-4c8a-aecb-a9bd0ca5e360",
   "metadata": {},
   "outputs": [],
   "source": []
  },
  {
   "cell_type": "code",
   "execution_count": null,
   "id": "8b253c7b-f9ce-4ac2-88be-431585a3d5ba",
   "metadata": {},
   "outputs": [],
   "source": []
  },
  {
   "cell_type": "code",
   "execution_count": null,
   "id": "26f80fd1-6dea-4aa9-a72b-f8017c23a9a6",
   "metadata": {},
   "outputs": [],
   "source": [
    "'''\n",
    "us_buz_day = CustomBusinessDay(calendar = USFederalHolidayCalendar())\n",
    "\n",
    "# Remember that we can only predict one day in future as our model needs 5 variables\n",
    "# as inputs for prediction. We only have all 5 variables until the last day in our dataset.\n",
    "n_past = 16\n",
    "\n",
    "# Predict past 15 days\n",
    "n_days_for_prediction = 15\n",
    "\n",
    "predict_period_dates = pd.date_range(list(train_dates)[-n_past], periods = n_days_for_prediction, freq = us_buz_day).tolist()\n",
    "'''"
   ]
  },
  {
   "cell_type": "code",
   "execution_count": null,
   "id": "aac42edd-888f-4f0c-b22a-034383d08305",
   "metadata": {},
   "outputs": [],
   "source": [
    "# print(predict_period_dates)"
   ]
  },
  {
   "cell_type": "code",
   "execution_count": null,
   "id": "7c4992af-856f-495e-bfbb-e60ec02e5835",
   "metadata": {},
   "outputs": [],
   "source": []
  },
  {
   "cell_type": "code",
   "execution_count": null,
   "id": "357ed63f-f31d-4c0b-b436-00caf10f546a",
   "metadata": {},
   "outputs": [],
   "source": []
  }
 ],
 "metadata": {
  "kernelspec": {
   "display_name": "Python 3 (ipykernel)",
   "language": "python",
   "name": "python3"
  },
  "language_info": {
   "codemirror_mode": {
    "name": "ipython",
    "version": 3
   },
   "file_extension": ".py",
   "mimetype": "text/x-python",
   "name": "python",
   "nbconvert_exporter": "python",
   "pygments_lexer": "ipython3",
   "version": "3.9.7"
  }
 },
 "nbformat": 4,
 "nbformat_minor": 5
}
