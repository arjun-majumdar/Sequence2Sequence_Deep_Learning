{
 "cells": [
  {
   "cell_type": "markdown",
   "id": "fd6aab88-1564-41f0-bb94-09ea954b206f",
   "metadata": {},
   "source": [
    "# Multivariate time-series forecasting with Pytorch LSTMs\n",
    "\n",
    "- [Tutorial Reference](https://charlieoneill11.github.io/charlieoneill/python/lstm/pytorch/2022/01/14/lstm2.html)\n",
    "\n",
    "- [Yahoo finance dataset](https://finance.yahoo.com/quote/BTC-USD/history?period1=1502236800&period2=1660003200&interval=1d&filter=history&frequency=1d&includeAdjustedClose=true)\n",
    "\n",
    "- [PyTorch Dataset and DataLoader](https://www.kaggle.com/code/kishalmandal/pytorch-series-part-1-dataset-and-dataloader)"
   ]
  },
  {
   "cell_type": "code",
   "execution_count": 1,
   "id": "bc66f3b5-c800-49f1-9a62-3ab3b28c1549",
   "metadata": {},
   "outputs": [
    {
     "name": "stdout",
     "output_type": "stream",
     "text": [
      "env: CUDA_DEVICE_ORDER=PCI_BUS_ID\n",
      "env: CUDA_VISIBLE_DEVICES=0\n"
     ]
    }
   ],
   "source": [
    "# Specify GPU to be used-\n",
    "%env CUDA_DEVICE_ORDER = PCI_BUS_ID\n",
    "%env CUDA_VISIBLE_DEVICES = 0"
   ]
  },
  {
   "cell_type": "code",
   "execution_count": 2,
   "id": "0ae01780-6b09-4ecd-b120-49e78d18b8d3",
   "metadata": {},
   "outputs": [
    {
     "name": "stderr",
     "output_type": "stream",
     "text": [
      "/home/arjun/anaconda3/envs/pytorch-gpu/lib/python3.9/site-packages/tqdm/auto.py:22: TqdmWarning: IProgress not found. Please update jupyter and ipywidgets. See https://ipywidgets.readthedocs.io/en/stable/user_install.html\n",
      "  from .autonotebook import tqdm as notebook_tqdm\n"
     ]
    }
   ],
   "source": [
    "import torch\n",
    "import torch.nn as nn\n",
    "import torch.optim as optim\n",
    "from torch.utils.data import DataLoader, Dataset\n",
    "from torch.autograd import Variable\n",
    "from torch.optim import lr_scheduler\n",
    "import torch.nn.functional as F\n",
    "import torch.backends.cudnn as cudnn\n",
    "\n",
    "import pandas as pd\n",
    "from tqdm import tqdm\n",
    "from tqdm import trange\n",
    "import numpy as np\n",
    "import matplotlib.pyplot as plt\n",
    "import seaborn as sns\n",
    "import time, os, copy, pickle\n",
    "from sklearn.preprocessing import StandardScaler, MinMaxScaler"
   ]
  },
  {
   "cell_type": "code",
   "execution_count": null,
   "id": "62cc3e21-1a59-4249-b98d-bc866141bc64",
   "metadata": {},
   "outputs": [],
   "source": []
  },
  {
   "cell_type": "code",
   "execution_count": null,
   "id": "c42f2809-fa75-424a-9326-27195be4da32",
   "metadata": {},
   "outputs": [],
   "source": []
  },
  {
   "cell_type": "code",
   "execution_count": 3,
   "id": "d4038dac-c3f7-40c4-81b9-c98fd4e83db6",
   "metadata": {},
   "outputs": [
    {
     "name": "stdout",
     "output_type": "stream",
     "text": [
      "torch version: 1.11.0\n"
     ]
    }
   ],
   "source": [
    "print(f\"torch version: {torch.__version__}\")"
   ]
  },
  {
   "cell_type": "code",
   "execution_count": 4,
   "id": "c4ce6c7b-2a3e-4a79-888d-55aff61c10a9",
   "metadata": {},
   "outputs": [
    {
     "name": "stdout",
     "output_type": "stream",
     "text": [
      "Number of GPU(s) available = 1\n",
      "Current GPU: 0\n",
      "Current GPU name: NVIDIA GeForce RTX 3080\n"
     ]
    }
   ],
   "source": [
    "# Check if there are multiple devices (i.e., GPU cards)-\n",
    "print(f\"Number of GPU(s) available = {torch.cuda.device_count()}\")\n",
    "\n",
    "# Which GPU Is The Current GPU?\n",
    "# print(f\"current GPU: {torch.cuda.current_device()}\")\n",
    "\n",
    "# Get the name of the current GPU-\n",
    "# print(f\"Current GPU name: {torch.cuda.get_device_name(torch.cuda.current_device())}\")\n",
    "\n",
    "# Is PyTorch using a GPU?\n",
    "# print(f\"Is PyTorch using a GPU? {torch.cuda.is_available()}\")\n",
    "\n",
    "if torch.cuda.is_available():\n",
    "    print(f\"Current GPU: {torch.cuda.current_device()}\")\n",
    "    print(f\"Current GPU name: {torch.cuda.get_device_name(torch.cuda.current_device())}\")\n",
    "else:\n",
    "    print(\"PyTorch does not have access to GPU\")"
   ]
  },
  {
   "cell_type": "code",
   "execution_count": 5,
   "id": "b955f7a6-3adf-44d7-9900-19f27fe91481",
   "metadata": {},
   "outputs": [
    {
     "name": "stdout",
     "output_type": "stream",
     "text": [
      "Available device is cuda\n"
     ]
    }
   ],
   "source": [
    "# Device configuration-\n",
    "device = torch.device('cuda' if torch.cuda.is_available() else 'cpu')\n",
    "print(f'Available device is {device}')"
   ]
  },
  {
   "cell_type": "code",
   "execution_count": null,
   "id": "8225365e-021e-44b8-bb52-d5fb86688232",
   "metadata": {},
   "outputs": [],
   "source": []
  },
  {
   "cell_type": "code",
   "execution_count": null,
   "id": "50c2e791-ebcc-44ab-a65e-92ae7c8a069c",
   "metadata": {},
   "outputs": [],
   "source": []
  },
  {
   "cell_type": "code",
   "execution_count": 6,
   "id": "5be860b0-5163-46f9-889b-b884bf7f5fd7",
   "metadata": {},
   "outputs": [],
   "source": [
    "# Read in CSV file-\n",
    "data = pd.read_csv(\"BTC-USD.csv\")"
   ]
  },
  {
   "cell_type": "code",
   "execution_count": 7,
   "id": "a80745d5-5f01-496b-859c-a4931d720260",
   "metadata": {},
   "outputs": [
    {
     "name": "stdout",
     "output_type": "stream",
     "text": [
      "Dimensions of dataset: (1827, 7)\n"
     ]
    }
   ],
   "source": [
    "print(f\"Dimensions of dataset: {data.shape}\")"
   ]
  },
  {
   "cell_type": "code",
   "execution_count": 8,
   "id": "500f2f6a-a04e-4e90-ac33-520af5a3b276",
   "metadata": {},
   "outputs": [
    {
     "data": {
      "text/plain": [
       "Date          object\n",
       "Open         float64\n",
       "High         float64\n",
       "Low          float64\n",
       "Close        float64\n",
       "Adj Close    float64\n",
       "Volume         int64\n",
       "dtype: object"
      ]
     },
     "execution_count": 8,
     "metadata": {},
     "output_type": "execute_result"
    }
   ],
   "source": [
    "# Get data types for all features-\n",
    "data.dtypes"
   ]
  },
  {
   "cell_type": "code",
   "execution_count": 9,
   "id": "8f5c4df3-7ab8-4608-b27f-a37459cd7e02",
   "metadata": {},
   "outputs": [
    {
     "name": "stdout",
     "output_type": "stream",
     "text": [
      "Are there any missing values in dataset? False\n"
     ]
    }
   ],
   "source": [
    "print(f\"Are there any missing values in dataset? {data.isna().values.any()}\")"
   ]
  },
  {
   "cell_type": "code",
   "execution_count": 10,
   "id": "bc915134-5d2c-4b5a-9b62-b93aa8e73f22",
   "metadata": {},
   "outputs": [],
   "source": [
    "# Convert 'Date' feature to datetime, sort in ascending order\n",
    "# and reset resulting indices-\n",
    "data['Date'] = pd.to_datetime(data['Date'])\n",
    "data.sort_values(by = 'Date', ascending = True, inplace = True)\n",
    "data.reset_index(drop = True, inplace = True)"
   ]
  },
  {
   "cell_type": "code",
   "execution_count": 11,
   "id": "2db5d517-13f0-40a0-8192-775eca1629cb",
   "metadata": {},
   "outputs": [
    {
     "data": {
      "text/html": [
       "<div>\n",
       "<style scoped>\n",
       "    .dataframe tbody tr th:only-of-type {\n",
       "        vertical-align: middle;\n",
       "    }\n",
       "\n",
       "    .dataframe tbody tr th {\n",
       "        vertical-align: top;\n",
       "    }\n",
       "\n",
       "    .dataframe thead th {\n",
       "        text-align: right;\n",
       "    }\n",
       "</style>\n",
       "<table border=\"1\" class=\"dataframe\">\n",
       "  <thead>\n",
       "    <tr style=\"text-align: right;\">\n",
       "      <th></th>\n",
       "      <th>Date</th>\n",
       "      <th>Open</th>\n",
       "      <th>High</th>\n",
       "      <th>Low</th>\n",
       "      <th>Close</th>\n",
       "      <th>Adj Close</th>\n",
       "      <th>Volume</th>\n",
       "    </tr>\n",
       "  </thead>\n",
       "  <tbody>\n",
       "    <tr>\n",
       "      <th>0</th>\n",
       "      <td>2017-08-09</td>\n",
       "      <td>3420.399902</td>\n",
       "      <td>3422.760010</td>\n",
       "      <td>3247.669922</td>\n",
       "      <td>3342.469971</td>\n",
       "      <td>3342.469971</td>\n",
       "      <td>1468960000</td>\n",
       "    </tr>\n",
       "    <tr>\n",
       "      <th>1</th>\n",
       "      <td>2017-08-10</td>\n",
       "      <td>3341.840088</td>\n",
       "      <td>3453.449951</td>\n",
       "      <td>3319.469971</td>\n",
       "      <td>3381.280029</td>\n",
       "      <td>3381.280029</td>\n",
       "      <td>1515110016</td>\n",
       "    </tr>\n",
       "    <tr>\n",
       "      <th>2</th>\n",
       "      <td>2017-08-11</td>\n",
       "      <td>3373.820068</td>\n",
       "      <td>3679.719971</td>\n",
       "      <td>3372.120117</td>\n",
       "      <td>3650.620117</td>\n",
       "      <td>3650.620117</td>\n",
       "      <td>2021190016</td>\n",
       "    </tr>\n",
       "    <tr>\n",
       "      <th>3</th>\n",
       "      <td>2017-08-12</td>\n",
       "      <td>3650.629883</td>\n",
       "      <td>3949.919922</td>\n",
       "      <td>3613.699951</td>\n",
       "      <td>3884.709961</td>\n",
       "      <td>3884.709961</td>\n",
       "      <td>2219589888</td>\n",
       "    </tr>\n",
       "    <tr>\n",
       "      <th>4</th>\n",
       "      <td>2017-08-13</td>\n",
       "      <td>3880.040039</td>\n",
       "      <td>4208.390137</td>\n",
       "      <td>3857.800049</td>\n",
       "      <td>4073.260010</td>\n",
       "      <td>4073.260010</td>\n",
       "      <td>3159089920</td>\n",
       "    </tr>\n",
       "  </tbody>\n",
       "</table>\n",
       "</div>"
      ],
      "text/plain": [
       "        Date         Open         High          Low        Close    Adj Close  \\\n",
       "0 2017-08-09  3420.399902  3422.760010  3247.669922  3342.469971  3342.469971   \n",
       "1 2017-08-10  3341.840088  3453.449951  3319.469971  3381.280029  3381.280029   \n",
       "2 2017-08-11  3373.820068  3679.719971  3372.120117  3650.620117  3650.620117   \n",
       "3 2017-08-12  3650.629883  3949.919922  3613.699951  3884.709961  3884.709961   \n",
       "4 2017-08-13  3880.040039  4208.390137  3857.800049  4073.260010  4073.260010   \n",
       "\n",
       "       Volume  \n",
       "0  1468960000  \n",
       "1  1515110016  \n",
       "2  2021190016  \n",
       "3  2219589888  \n",
       "4  3159089920  "
      ]
     },
     "execution_count": 11,
     "metadata": {},
     "output_type": "execute_result"
    }
   ],
   "source": [
    "# Sanity check-\n",
    "data.head()"
   ]
  },
  {
   "cell_type": "code",
   "execution_count": 12,
   "id": "d4224c5e-29ad-4e95-a041-182363de7c18",
   "metadata": {},
   "outputs": [
    {
     "name": "stdout",
     "output_type": "stream",
     "text": [
      "min Date value = 2017-08-09 00:00:00 & max value = 2022-08-09 00:00:00\n"
     ]
    }
   ],
   "source": [
    "print(f\"min Date value = {data['Date'].min()} & max value = {data['Date'].max()}\")"
   ]
  },
  {
   "cell_type": "code",
   "execution_count": null,
   "id": "ecde27b7-fb85-4903-81a6-a9a684fceb88",
   "metadata": {},
   "outputs": [],
   "source": []
  },
  {
   "cell_type": "code",
   "execution_count": 13,
   "id": "e0ea168b-7cee-48f6-8857-6e221d009da4",
   "metadata": {},
   "outputs": [
    {
     "data": {
      "text/html": [
       "<div>\n",
       "<style scoped>\n",
       "    .dataframe tbody tr th:only-of-type {\n",
       "        vertical-align: middle;\n",
       "    }\n",
       "\n",
       "    .dataframe tbody tr th {\n",
       "        vertical-align: top;\n",
       "    }\n",
       "\n",
       "    .dataframe thead th {\n",
       "        text-align: right;\n",
       "    }\n",
       "</style>\n",
       "<table border=\"1\" class=\"dataframe\">\n",
       "  <thead>\n",
       "    <tr style=\"text-align: right;\">\n",
       "      <th></th>\n",
       "      <th>Open</th>\n",
       "      <th>High</th>\n",
       "      <th>Low</th>\n",
       "      <th>Close</th>\n",
       "      <th>Adj Close</th>\n",
       "      <th>Volume</th>\n",
       "    </tr>\n",
       "  </thead>\n",
       "  <tbody>\n",
       "    <tr>\n",
       "      <th>count</th>\n",
       "      <td>1827.000000</td>\n",
       "      <td>1827.000000</td>\n",
       "      <td>1827.000000</td>\n",
       "      <td>1827.000000</td>\n",
       "      <td>1827.000000</td>\n",
       "      <td>1.827000e+03</td>\n",
       "    </tr>\n",
       "    <tr>\n",
       "      <th>mean</th>\n",
       "      <td>19416.397674</td>\n",
       "      <td>19921.360465</td>\n",
       "      <td>18849.730833</td>\n",
       "      <td>19424.722149</td>\n",
       "      <td>19424.722149</td>\n",
       "      <td>2.450380e+10</td>\n",
       "    </tr>\n",
       "    <tr>\n",
       "      <th>std</th>\n",
       "      <td>17376.407379</td>\n",
       "      <td>17823.080252</td>\n",
       "      <td>16853.925903</td>\n",
       "      <td>17367.955310</td>\n",
       "      <td>17367.955310</td>\n",
       "      <td>2.017131e+10</td>\n",
       "    </tr>\n",
       "    <tr>\n",
       "      <th>min</th>\n",
       "      <td>3166.300049</td>\n",
       "      <td>3275.377930</td>\n",
       "      <td>2946.620117</td>\n",
       "      <td>3154.949951</td>\n",
       "      <td>3154.949951</td>\n",
       "      <td>7.680150e+08</td>\n",
       "    </tr>\n",
       "    <tr>\n",
       "      <th>25%</th>\n",
       "      <td>7097.275635</td>\n",
       "      <td>7287.041260</td>\n",
       "      <td>6894.411133</td>\n",
       "      <td>7106.541992</td>\n",
       "      <td>7106.541992</td>\n",
       "      <td>7.367460e+09</td>\n",
       "    </tr>\n",
       "    <tr>\n",
       "      <th>50%</th>\n",
       "      <td>9936.162109</td>\n",
       "      <td>10191.675781</td>\n",
       "      <td>9694.650391</td>\n",
       "      <td>9951.518555</td>\n",
       "      <td>9951.518555</td>\n",
       "      <td>2.175686e+10</td>\n",
       "    </tr>\n",
       "    <tr>\n",
       "      <th>75%</th>\n",
       "      <td>33767.375000</td>\n",
       "      <td>34778.076172</td>\n",
       "      <td>32265.797851</td>\n",
       "      <td>33734.515625</td>\n",
       "      <td>33734.515625</td>\n",
       "      <td>3.440956e+10</td>\n",
       "    </tr>\n",
       "    <tr>\n",
       "      <th>max</th>\n",
       "      <td>67549.734375</td>\n",
       "      <td>68789.625000</td>\n",
       "      <td>66382.062500</td>\n",
       "      <td>67566.828125</td>\n",
       "      <td>67566.828125</td>\n",
       "      <td>3.509679e+11</td>\n",
       "    </tr>\n",
       "  </tbody>\n",
       "</table>\n",
       "</div>"
      ],
      "text/plain": [
       "               Open          High           Low         Close     Adj Close  \\\n",
       "count   1827.000000   1827.000000   1827.000000   1827.000000   1827.000000   \n",
       "mean   19416.397674  19921.360465  18849.730833  19424.722149  19424.722149   \n",
       "std    17376.407379  17823.080252  16853.925903  17367.955310  17367.955310   \n",
       "min     3166.300049   3275.377930   2946.620117   3154.949951   3154.949951   \n",
       "25%     7097.275635   7287.041260   6894.411133   7106.541992   7106.541992   \n",
       "50%     9936.162109  10191.675781   9694.650391   9951.518555   9951.518555   \n",
       "75%    33767.375000  34778.076172  32265.797851  33734.515625  33734.515625   \n",
       "max    67549.734375  68789.625000  66382.062500  67566.828125  67566.828125   \n",
       "\n",
       "             Volume  \n",
       "count  1.827000e+03  \n",
       "mean   2.450380e+10  \n",
       "std    2.017131e+10  \n",
       "min    7.680150e+08  \n",
       "25%    7.367460e+09  \n",
       "50%    2.175686e+10  \n",
       "75%    3.440956e+10  \n",
       "max    3.509679e+11  "
      ]
     },
     "execution_count": 13,
     "metadata": {},
     "output_type": "execute_result"
    }
   ],
   "source": [
    "# Get basic data statistics-\n",
    "data.describe()"
   ]
  },
  {
   "cell_type": "code",
   "execution_count": null,
   "id": "825d1144-6a8a-40ef-be5f-cc1b128d94e9",
   "metadata": {},
   "outputs": [],
   "source": []
  },
  {
   "cell_type": "code",
   "execution_count": 13,
   "id": "8c13a50e-f21a-4c34-a1f9-701a73186db2",
   "metadata": {},
   "outputs": [
    {
     "name": "stdout",
     "output_type": "stream",
     "text": [
      "Open has 1.0782 skew\n",
      "High has 1.0694 skew\n",
      "Low has 1.0886 skew\n",
      "Close has 1.0772 skew\n",
      "Adj Close has 1.0772 skew\n",
      "Volume has 3.2190 skew\n"
     ]
    }
   ],
   "source": [
    "# Compute skew for numerical features:\n",
    "for col in data.columns.tolist():\n",
    "    if col == 'Date':\n",
    "        continue\n",
    "    else:\n",
    "        print(f\"{col} has {data[col].skew():.4f} skew\")"
   ]
  },
  {
   "cell_type": "code",
   "execution_count": null,
   "id": "160283b6-e6e2-4560-b7d7-126d2c760eca",
   "metadata": {},
   "outputs": [],
   "source": []
  },
  {
   "cell_type": "code",
   "execution_count": 14,
   "id": "6e86a068-8f7d-43fa-9cdd-4f444c781578",
   "metadata": {},
   "outputs": [],
   "source": [
    "# Compute Pearson's correlation coefficient-\n",
    "pearson_corr = data.loc[:, ['Open', 'High', 'Low', 'Close', 'Adj Close', 'Volume']].corr(method = 'pearson')"
   ]
  },
  {
   "cell_type": "code",
   "execution_count": 15,
   "id": "8edc76df-3f75-45c6-a0a6-22b3f4d3a75f",
   "metadata": {},
   "outputs": [],
   "source": [
    "# Compute Kendall's correlation coefficient-\n",
    "kendall_corr = data.loc[:, ['Open', 'High', 'Low', 'Close', 'Adj Close', 'Volume']].corr(method = 'kendall')"
   ]
  },
  {
   "cell_type": "code",
   "execution_count": 16,
   "id": "72c0c8d7-e4ca-4f38-9447-c48d65bd012b",
   "metadata": {},
   "outputs": [],
   "source": [
    "# Compute Spearman's correlation coefficient-\n",
    "spearman_corr = data.loc[:, ['Open', 'High', 'Low', 'Close', 'Adj Close', 'Volume']].corr(method = 'spearman')"
   ]
  },
  {
   "cell_type": "code",
   "execution_count": null,
   "id": "0ed6c142-e34e-491f-a043-923b01d9541a",
   "metadata": {},
   "outputs": [],
   "source": []
  },
  {
   "cell_type": "code",
   "execution_count": 17,
   "id": "b9f63f0d-9f87-41f0-b7b4-450d2db8aff7",
   "metadata": {},
   "outputs": [
    {
     "data": {
      "image/png": "[encoded data removed]",
      "text/plain": [
       "<Figure size 648x504 with 2 Axes>"
      ]
     },
     "metadata": {
      "needs_background": "light"
     },
     "output_type": "display_data"
    }
   ],
   "source": [
    "# Visualize correlation matrix as heatmap-\n",
    "plt.figure(figsize = (9, 7))\n",
    "sns.heatmap(data = pearson_corr, fmt = '.4f', annot = True)\n",
    "plt.title(\"Pearon's correlation coefficients\")\n",
    "plt.show()"
   ]
  },
  {
   "cell_type": "code",
   "execution_count": 18,
   "id": "048f137b-5b72-4282-8d31-6ca4a72ca1e1",
   "metadata": {},
   "outputs": [
    {
     "data": {
      "image/png": "[encoded data removed]",
      "text/plain": [
       "<Figure size 648x504 with 2 Axes>"
      ]
     },
     "metadata": {
      "needs_background": "light"
     },
     "output_type": "display_data"
    }
   ],
   "source": [
    "# Visualize correlation matrix as heatmap-\n",
    "plt.figure(figsize = (9, 7))\n",
    "sns.heatmap(data = kendall_corr, fmt = '.4f', annot = True)\n",
    "plt.title(\"Kendall's correlation coefficients\")\n",
    "plt.show()"
   ]
  },
  {
   "cell_type": "code",
   "execution_count": 19,
   "id": "9c9b7115-00fb-4a9f-add1-3ca32a46c490",
   "metadata": {},
   "outputs": [
    {
     "data": {
      "image/png": "[encoded data removed]",
      "text/plain": [
       "<Figure size 648x504 with 2 Axes>"
      ]
     },
     "metadata": {
      "needs_background": "light"
     },
     "output_type": "display_data"
    }
   ],
   "source": [
    "# Visualize correlation matrix as heatmap-\n",
    "plt.figure(figsize = (9, 7))\n",
    "sns.heatmap(data = spearman_corr, fmt = '.4f', annot = True)\n",
    "plt.title(\"Spearman's correlation coefficients\")\n",
    "plt.show()"
   ]
  },
  {
   "cell_type": "code",
   "execution_count": null,
   "id": "67e12482-9400-43e6-ab17-f58dc037f45e",
   "metadata": {},
   "outputs": [],
   "source": []
  },
  {
   "cell_type": "code",
   "execution_count": 20,
   "id": "cce46ca4-7464-4ce4-90f9-055303bdf038",
   "metadata": {},
   "outputs": [
    {
     "name": "stdout",
     "output_type": "stream",
     "text": [
      "number of bins using rule of thumb = 43\n"
     ]
    }
   ],
   "source": [
    "# Compute number of bins for histogram distribution-\n",
    "num_bins = int(np.ceil(np.sqrt(len(data))))\n",
    "print(f\"number of bins using rule of thumb = {num_bins}\")"
   ]
  },
  {
   "cell_type": "code",
   "execution_count": 21,
   "id": "d1177af6-9eb6-42c2-a202-2af6ef4f8745",
   "metadata": {},
   "outputs": [
    {
     "data": {
      "image/png": "[encoded data removed]",
      "text/plain": [
       "<Figure size 576x504 with 1 Axes>"
      ]
     },
     "metadata": {
      "needs_background": "light"
     },
     "output_type": "display_data"
    }
   ],
   "source": [
    "plt.figure(figsize = (8, 7))\n",
    "n, b, _ = plt.hist(data['Open'], bins = num_bins)\n",
    "plt.xlabel(\"open\")\n",
    "plt.title(\"Distribution using histogram: 'Open'\")\n",
    "plt.show()"
   ]
  },
  {
   "cell_type": "code",
   "execution_count": 22,
   "id": "630e7b57-a504-49e4-ac14-1b6813008525",
   "metadata": {},
   "outputs": [
    {
     "data": {
      "image/png": "[encoded data removed]",
      "text/plain": [
       "<Figure size 576x504 with 1 Axes>"
      ]
     },
     "metadata": {
      "needs_background": "light"
     },
     "output_type": "display_data"
    }
   ],
   "source": [
    "plt.figure(figsize = (8, 7))\n",
    "n, b, _ = plt.hist(np.log(data['Open']), bins = num_bins)\n",
    "plt.xlabel(\"open\")\n",
    "plt.title(\"Distribution using histogram: log transformation - 'Open'\")\n",
    "plt.show()"
   ]
  },
  {
   "cell_type": "code",
   "execution_count": 23,
   "id": "c7eb5cf2-772a-4b4d-b60e-268fb60d7770",
   "metadata": {},
   "outputs": [
    {
     "data": {
      "image/png": "[encoded data removed]",
      "text/plain": [
       "<Figure size 576x504 with 1 Axes>"
      ]
     },
     "metadata": {
      "needs_background": "light"
     },
     "output_type": "display_data"
    }
   ],
   "source": [
    "plt.figure(figsize = (8, 7))\n",
    "n, b, _ = plt.hist(1 / data['Open'], bins = num_bins)\n",
    "plt.xlabel(\"open\")\n",
    "plt.title(\"Distribution using histogram: inverse transformation - 'Open'\")\n",
    "plt.show()"
   ]
  },
  {
   "cell_type": "code",
   "execution_count": 24,
   "id": "b8ff3723-0538-4ef8-a601-7e0c5dc96afc",
   "metadata": {},
   "outputs": [
    {
     "data": {
      "image/png": "[encoded data removed]",
      "text/plain": [
       "<Figure size 576x504 with 1 Axes>"
      ]
     },
     "metadata": {
      "needs_background": "light"
     },
     "output_type": "display_data"
    }
   ],
   "source": [
    "plt.figure(figsize = (8, 7))\n",
    "n, b, _ = plt.hist(np.sqrt(data['Open']), bins = num_bins)\n",
    "plt.xlabel(\"open\")\n",
    "plt.title(\"Distribution using histogram: sqrt transformation - 'Open'\")\n",
    "plt.show()"
   ]
  },
  {
   "cell_type": "code",
   "execution_count": 25,
   "id": "f6e27ce8-c27a-423b-9e27-eb0e67aee446",
   "metadata": {},
   "outputs": [
    {
     "data": {
      "image/png": "[encoded data removed]",
      "text/plain": [
       "<Figure size 576x504 with 1 Axes>"
      ]
     },
     "metadata": {
      "needs_background": "light"
     },
     "output_type": "display_data"
    }
   ],
   "source": [
    "plt.figure(figsize = (8, 7))\n",
    "n, b, _ = plt.hist(data['High'], bins = num_bins)\n",
    "plt.xlabel(\"high\")\n",
    "plt.title(\"Distribution using histogram: 'High'\")\n",
    "plt.show()"
   ]
  },
  {
   "cell_type": "code",
   "execution_count": 26,
   "id": "8096b1d9-33ed-417c-95a7-9df0fb87fa2c",
   "metadata": {},
   "outputs": [
    {
     "data": {
      "image/png": "[encoded data removed]",
      "text/plain": [
       "<Figure size 576x504 with 1 Axes>"
      ]
     },
     "metadata": {
      "needs_background": "light"
     },
     "output_type": "display_data"
    }
   ],
   "source": [
    "plt.figure(figsize = (8, 7))\n",
    "n, b, _ = plt.hist(data['Close'], bins = num_bins)\n",
    "plt.xlabel(\"close\")\n",
    "plt.title(\"Distribution using histogram: 'Close'\")\n",
    "plt.show()"
   ]
  },
  {
   "cell_type": "code",
   "execution_count": 27,
   "id": "9efcd8ec-8e97-42d7-af53-ad684cf7d3e9",
   "metadata": {},
   "outputs": [
    {
     "data": {
      "image/png": "[encoded data removed]",
      "text/plain": [
       "<Figure size 576x504 with 1 Axes>"
      ]
     },
     "metadata": {
      "needs_background": "light"
     },
     "output_type": "display_data"
    }
   ],
   "source": [
    "plt.figure(figsize = (8, 7))\n",
    "n, b, _ = plt.hist(data['Low'], bins = num_bins)\n",
    "plt.xlabel(\"low\")\n",
    "plt.title(\"Distribution using histogram: 'Low'\")\n",
    "plt.show()"
   ]
  },
  {
   "cell_type": "code",
   "execution_count": 28,
   "id": "0cae7111-5c86-43c1-be2f-cac77e15713a",
   "metadata": {},
   "outputs": [
    {
     "data": {
      "image/png": "[encoded data removed]",
      "text/plain": [
       "<Figure size 576x504 with 1 Axes>"
      ]
     },
     "metadata": {
      "needs_background": "light"
     },
     "output_type": "display_data"
    }
   ],
   "source": [
    "plt.figure(figsize = (8, 7))\n",
    "n, b, _ = plt.hist(data['Adj Close'], bins = num_bins)\n",
    "plt.xlabel(\"adj close\")\n",
    "plt.title(\"Distribution using histogram: 'Adj Close'\")\n",
    "plt.show()"
   ]
  },
  {
   "cell_type": "code",
   "execution_count": 29,
   "id": "21409cad-f523-4b49-8c5c-9b338b193124",
   "metadata": {},
   "outputs": [
    {
     "data": {
      "image/png": "[encoded data removed]",
      "text/plain": [
       "<Figure size 576x504 with 1 Axes>"
      ]
     },
     "metadata": {
      "needs_background": "light"
     },
     "output_type": "display_data"
    }
   ],
   "source": [
    "plt.figure(figsize = (8, 7))\n",
    "n, b, _ = plt.hist(data['Volume'], bins = num_bins)\n",
    "plt.xlabel(\"volume\")\n",
    "plt.title(\"Distribution using histogram: 'Volume'\")\n",
    "plt.show()"
   ]
  },
  {
   "cell_type": "code",
   "execution_count": 30,
   "id": "215cd9f0-7c09-4393-951a-0f2b2f788927",
   "metadata": {},
   "outputs": [
    {
     "data": {
      "text/html": [
       "<div>\n",
       "<style scoped>\n",
       "    .dataframe tbody tr th:only-of-type {\n",
       "        vertical-align: middle;\n",
       "    }\n",
       "\n",
       "    .dataframe tbody tr th {\n",
       "        vertical-align: top;\n",
       "    }\n",
       "\n",
       "    .dataframe thead th {\n",
       "        text-align: right;\n",
       "    }\n",
       "</style>\n",
       "<table border=\"1\" class=\"dataframe\">\n",
       "  <thead>\n",
       "    <tr style=\"text-align: right;\">\n",
       "      <th></th>\n",
       "      <th>Date</th>\n",
       "      <th>Open</th>\n",
       "      <th>High</th>\n",
       "      <th>Low</th>\n",
       "      <th>Close</th>\n",
       "      <th>Adj Close</th>\n",
       "      <th>Volume</th>\n",
       "    </tr>\n",
       "  </thead>\n",
       "  <tbody>\n",
       "  </tbody>\n",
       "</table>\n",
       "</div>"
      ],
      "text/plain": [
       "Empty DataFrame\n",
       "Columns: [Date, Open, High, Low, Close, Adj Close, Volume]\n",
       "Index: []"
      ]
     },
     "execution_count": 30,
     "metadata": {},
     "output_type": "execute_result"
    }
   ],
   "source": [
    "# Check for zero or negative values-\n",
    "data[data.loc[:, 'Volume'] <= 0]"
   ]
  },
  {
   "cell_type": "code",
   "execution_count": 31,
   "id": "4b9145ba-5661-42a7-91f7-d922854e9871",
   "metadata": {},
   "outputs": [
    {
     "data": {
      "image/png": "[encoded data removed]",
      "text/plain": [
       "<Figure size 576x504 with 1 Axes>"
      ]
     },
     "metadata": {
      "needs_background": "light"
     },
     "output_type": "display_data"
    }
   ],
   "source": [
    "plt.figure(figsize = (8, 7))\n",
    "n, b, _ = plt.hist(np.log(data['Volume']), bins = num_bins)\n",
    "plt.xlabel(\"volume\")\n",
    "plt.title(\"Distribution using histogram: log transformation 'Volume'\")\n",
    "plt.show()"
   ]
  },
  {
   "cell_type": "code",
   "execution_count": null,
   "id": "367bad22-a50a-4d11-8154-f0be692e47a0",
   "metadata": {},
   "outputs": [],
   "source": []
  },
  {
   "cell_type": "code",
   "execution_count": 32,
   "id": "a02621dd-7952-47c3-8024-8d7de37dfb80",
   "metadata": {},
   "outputs": [
    {
     "data": {
      "image/png": "[encoded data removed]",
      "text/plain": [
       "<Figure size 648x504 with 1 Axes>"
      ]
     },
     "metadata": {
      "needs_background": "light"
     },
     "output_type": "display_data"
    }
   ],
   "source": [
    "plt.figure(figsize = (9, 7))\n",
    "plt.plot(data['Date'], data['Open'], label = 'Open')\n",
    "plt.plot(data['Date'], data['High'], label = 'High')\n",
    "plt.plot(data['Date'], data['Low'], label = 'Low')\n",
    "plt.plot(data['Date'], data['Close'], label = 'Close')\n",
    "plt.plot(data['Date'], data['Adj Close'], label = 'Adj Close')\n",
    "plt.plot(data['Date'], data['Volume'], label = 'Volume')\n",
    "plt.xlabel(\"Date\")\n",
    "plt.title(\"Time Series Visualizations\")\n",
    "plt.legend(loc = 'best')\n",
    "plt.show()"
   ]
  },
  {
   "cell_type": "code",
   "execution_count": 33,
   "id": "c9d3015b-35a7-4636-9dcc-f416e869f653",
   "metadata": {},
   "outputs": [
    {
     "data": {
      "image/png": "[encoded data removed]",
      "text/plain": [
       "<Figure size 648x504 with 1 Axes>"
      ]
     },
     "metadata": {
      "needs_background": "light"
     },
     "output_type": "display_data"
    }
   ],
   "source": [
    "plt.figure(figsize = (9, 7))\n",
    "plt.plot(data['Date'], data['Adj Close'], label = 'Adj Close')\n",
    "plt.xlabel(\"Date\")\n",
    "plt.ylabel(\"adj close\")\n",
    "plt.title(\"Time Series Visualization - Adj Close\")\n",
    "plt.legend(loc = 'best')\n",
    "plt.show()"
   ]
  },
  {
   "cell_type": "code",
   "execution_count": 34,
   "id": "a04274a0-65eb-4013-b7bf-d1afd3cab351",
   "metadata": {},
   "outputs": [
    {
     "data": {
      "image/png": "[encoded data removed]",
      "text/plain": [
       "<Figure size 648x504 with 1 Axes>"
      ]
     },
     "metadata": {
      "needs_background": "light"
     },
     "output_type": "display_data"
    }
   ],
   "source": [
    "plt.figure(figsize = (9, 7))\n",
    "plt.plot(data['Date'], data['Close'], label = 'Close')\n",
    "plt.xlabel(\"Date\")\n",
    "plt.ylabel(\"close\")\n",
    "plt.title(\"Time Series Visualization - Close; BTC over time (target)\")\n",
    "plt.legend(loc = 'best')\n",
    "plt.show()"
   ]
  },
  {
   "cell_type": "markdown",
   "id": "02475677-b873-4298-8064-da53122ee86c",
   "metadata": {},
   "source": [
    "#### Further data pre-processing steps\n",
    "\n",
    "As an example: _regressing the target variable on the features/predictors, and looking for linear relationships between the variables_."
   ]
  },
  {
   "cell_type": "code",
   "execution_count": null,
   "id": "9efca0cf-18fc-4ae9-8f4c-3b542c2adfdb",
   "metadata": {},
   "outputs": [],
   "source": []
  },
  {
   "cell_type": "code",
   "execution_count": 14,
   "id": "1f588814-3a6f-42b0-90ae-f89ecca785d9",
   "metadata": {},
   "outputs": [],
   "source": [
    "# Remove 'Adj Close' attribute-\n",
    "data.drop(columns = ['Adj Close'], inplace = True)"
   ]
  },
  {
   "cell_type": "code",
   "execution_count": 15,
   "id": "ca62c25e-c9d0-4dbf-89c6-4052beba5da1",
   "metadata": {},
   "outputs": [
    {
     "data": {
      "text/html": [
       "<div>\n",
       "<style scoped>\n",
       "    .dataframe tbody tr th:only-of-type {\n",
       "        vertical-align: middle;\n",
       "    }\n",
       "\n",
       "    .dataframe tbody tr th {\n",
       "        vertical-align: top;\n",
       "    }\n",
       "\n",
       "    .dataframe thead th {\n",
       "        text-align: right;\n",
       "    }\n",
       "</style>\n",
       "<table border=\"1\" class=\"dataframe\">\n",
       "  <thead>\n",
       "    <tr style=\"text-align: right;\">\n",
       "      <th></th>\n",
       "      <th>Date</th>\n",
       "      <th>Open</th>\n",
       "      <th>High</th>\n",
       "      <th>Low</th>\n",
       "      <th>Close</th>\n",
       "      <th>Volume</th>\n",
       "    </tr>\n",
       "  </thead>\n",
       "  <tbody>\n",
       "    <tr>\n",
       "      <th>0</th>\n",
       "      <td>2017-08-09</td>\n",
       "      <td>3420.399902</td>\n",
       "      <td>3422.760010</td>\n",
       "      <td>3247.669922</td>\n",
       "      <td>3342.469971</td>\n",
       "      <td>1468960000</td>\n",
       "    </tr>\n",
       "    <tr>\n",
       "      <th>1</th>\n",
       "      <td>2017-08-10</td>\n",
       "      <td>3341.840088</td>\n",
       "      <td>3453.449951</td>\n",
       "      <td>3319.469971</td>\n",
       "      <td>3381.280029</td>\n",
       "      <td>1515110016</td>\n",
       "    </tr>\n",
       "    <tr>\n",
       "      <th>2</th>\n",
       "      <td>2017-08-11</td>\n",
       "      <td>3373.820068</td>\n",
       "      <td>3679.719971</td>\n",
       "      <td>3372.120117</td>\n",
       "      <td>3650.620117</td>\n",
       "      <td>2021190016</td>\n",
       "    </tr>\n",
       "    <tr>\n",
       "      <th>3</th>\n",
       "      <td>2017-08-12</td>\n",
       "      <td>3650.629883</td>\n",
       "      <td>3949.919922</td>\n",
       "      <td>3613.699951</td>\n",
       "      <td>3884.709961</td>\n",
       "      <td>2219589888</td>\n",
       "    </tr>\n",
       "    <tr>\n",
       "      <th>4</th>\n",
       "      <td>2017-08-13</td>\n",
       "      <td>3880.040039</td>\n",
       "      <td>4208.390137</td>\n",
       "      <td>3857.800049</td>\n",
       "      <td>4073.260010</td>\n",
       "      <td>3159089920</td>\n",
       "    </tr>\n",
       "  </tbody>\n",
       "</table>\n",
       "</div>"
      ],
      "text/plain": [
       "        Date         Open         High          Low        Close      Volume\n",
       "0 2017-08-09  3420.399902  3422.760010  3247.669922  3342.469971  1468960000\n",
       "1 2017-08-10  3341.840088  3453.449951  3319.469971  3381.280029  1515110016\n",
       "2 2017-08-11  3373.820068  3679.719971  3372.120117  3650.620117  2021190016\n",
       "3 2017-08-12  3650.629883  3949.919922  3613.699951  3884.709961  2219589888\n",
       "4 2017-08-13  3880.040039  4208.390137  3857.800049  4073.260010  3159089920"
      ]
     },
     "execution_count": 15,
     "metadata": {},
     "output_type": "execute_result"
    }
   ],
   "source": [
    "# Sanity check-\n",
    "data.head()"
   ]
  },
  {
   "cell_type": "code",
   "execution_count": null,
   "id": "5e3e828e-c4d9-493c-9fe0-ca723b1ba2f8",
   "metadata": {},
   "outputs": [],
   "source": []
  },
  {
   "cell_type": "code",
   "execution_count": 16,
   "id": "2269a5f7-a2f7-4ab0-8f7e-0a74723beac1",
   "metadata": {},
   "outputs": [],
   "source": [
    "# Split into features and target-\n",
    "X = data.drop(columns = ['Date', 'Close'], axis = 1)\n",
    "y = data['Close'].values"
   ]
  },
  {
   "cell_type": "code",
   "execution_count": 17,
   "id": "3ad9a6a0-f858-4e61-a90a-0c9a5a8f924b",
   "metadata": {},
   "outputs": [
    {
     "name": "stdout",
     "output_type": "stream",
     "text": [
      "Features/predictors has shape: (1827, 4) & target has shape: (1827,)\n"
     ]
    }
   ],
   "source": [
    "print(f\"Features/predictors has shape: {X.shape} & target has\"\n",
    "      f\" shape: {y.shape}\")"
   ]
  },
  {
   "cell_type": "code",
   "execution_count": null,
   "id": "be266c29-cd13-42f0-a771-a598aef1572f",
   "metadata": {},
   "outputs": [],
   "source": []
  },
  {
   "cell_type": "code",
   "execution_count": 18,
   "id": "a7460636-7938-4bb8-ba61-fb96db85fa49",
   "metadata": {},
   "outputs": [],
   "source": [
    "# Scale features and labels-\n",
    "std_scaler = StandardScaler()\n",
    "mm_scaler = MinMaxScaler(feature_range = (0, 1))\n",
    "\n",
    "X_scaled = std_scaler.fit_transform(X)\n",
    "y_scaled = mm_scaler.fit_transform(y.reshape(-1, 1))"
   ]
  },
  {
   "cell_type": "code",
   "execution_count": 19,
   "id": "032e46fa-2524-4a59-aca3-da3cf58281b7",
   "metadata": {},
   "outputs": [
    {
     "data": {
      "text/plain": [
       "((1827, 4), (1827,))"
      ]
     },
     "execution_count": 19,
     "metadata": {},
     "output_type": "execute_result"
    }
   ],
   "source": [
    "X_scaled.shape, y.shape"
   ]
  },
  {
   "cell_type": "code",
   "execution_count": null,
   "id": "7ad8b4b6-4782-4721-891e-5c14bc9a8e4c",
   "metadata": {},
   "outputs": [],
   "source": []
  },
  {
   "cell_type": "code",
   "execution_count": null,
   "id": "8781c1ec-00a7-4552-a40e-96f2e7afe782",
   "metadata": {},
   "outputs": [],
   "source": []
  },
  {
   "cell_type": "code",
   "execution_count": 20,
   "id": "ec395532-138a-4c61-9576-6382af48977a",
   "metadata": {},
   "outputs": [],
   "source": [
    "def split_sequences(\n",
    "    input_sequences, output_sequence,\n",
    "    n_steps_in, n_steps_out\n",
    "):\n",
    "    '''\n",
    "    Function to convert training data for Seq2Seq neural network\n",
    "    '''\n",
    "    X, y = list(), list()\n",
    "    \n",
    "    for i in range(len(input_sequences)):\n",
    "        # find the end of the input, output sequence-\n",
    "        end_ix = i + n_steps_in\n",
    "        out_end_ix = end_ix + n_steps_out - 1\n",
    "        \n",
    "        # check if we are beyond the dataset-\n",
    "        if out_end_ix > len(input_sequences):\n",
    "            break\n",
    "            \n",
    "        # gather input and output of the pattern-\n",
    "        seq_x, seq_y = input_sequences[i:end_ix], output_sequence[end_ix-1:out_end_ix, -1]\n",
    "        \n",
    "        X.append(seq_x), y.append(seq_y)\n",
    "        \n",
    "    return np.array(X), np.array(y)\n"
   ]
  },
  {
   "cell_type": "code",
   "execution_count": null,
   "id": "01cdb2e6-78d5-4cc7-a32b-834db3501a7d",
   "metadata": {},
   "outputs": [],
   "source": []
  },
  {
   "cell_type": "code",
   "execution_count": 21,
   "id": "48a7ee0a-279f-4e9a-8855-8e08e72d4060",
   "metadata": {},
   "outputs": [],
   "source": [
    "# Generate sequences required for Seq2Seq architecture-\n",
    "X_seq, y_seq = split_sequences(\n",
    "    input_sequences = X_scaled, output_sequence = y_scaled,\n",
    "    n_steps_in = 100, n_steps_out = 50\n",
    ")"
   ]
  },
  {
   "cell_type": "code",
   "execution_count": 22,
   "id": "94524936-4b66-4cf3-b01b-d6a9e40802ee",
   "metadata": {},
   "outputs": [
    {
     "data": {
      "text/plain": [
       "((1679, 100, 4), (1679, 50))"
      ]
     },
     "execution_count": 22,
     "metadata": {},
     "output_type": "execute_result"
    }
   ],
   "source": [
    "# Sanity check-\n",
    "X_seq.shape, y_seq.shape"
   ]
  },
  {
   "cell_type": "markdown",
   "id": "a3cabb64-f981-4237-baa2-e08c31e2d10f",
   "metadata": {},
   "source": [
    "#### Dimension/shape explanation\n",
    "\n",
    "- The input feature ```X_seq``` is a 3-D tensor having: __(number of training data samples, look back window, number of features)__.\n",
    "\n",
    "- The output target ```y_seq``` is a 2-D matrix having: __(number of training data samples, look ahead window)__"
   ]
  },
  {
   "cell_type": "code",
   "execution_count": null,
   "id": "ad5b091c-e860-4dd9-bd98-24d45e88c2ff",
   "metadata": {},
   "outputs": [],
   "source": []
  },
  {
   "cell_type": "code",
   "execution_count": 23,
   "id": "8349ad56-5f15-417e-bc90-c3215421e056",
   "metadata": {},
   "outputs": [
    {
     "data": {
      "text/plain": [
       "array([0.0732278 , 0.07070187, 0.07196188, 0.07578634, 0.07833477,\n",
       "       0.07632614, 0.07915621, 0.07582173, 0.07915839, 0.08749892,\n",
       "       0.09587672, 0.10344986, 0.10718287, 0.10454066, 0.10989665,\n",
       "       0.12141626, 0.12295325, 0.12681279, 0.13199817, 0.13602693,\n",
       "       0.17289591, 0.22891351, 0.20826051, 0.186662  , 0.19096556,\n",
       "       0.21396443, 0.22139473, 0.20575785, 0.20817667, 0.22592029,\n",
       "       0.25371796, 0.24818172, 0.24776873, 0.22700393, 0.20911748,\n",
       "       0.19636053, 0.16575902, 0.17922549, 0.16721838, 0.1687833 ,\n",
       "       0.20096992, 0.19691322, 0.17778631, 0.17855791, 0.15210316,\n",
       "       0.17079847, 0.16304835, 0.18361753, 0.18701597, 0.19319807])"
      ]
     },
     "execution_count": 23,
     "metadata": {},
     "output_type": "execute_result"
    }
   ],
   "source": [
    "# Sanity check- Let's check that the first sample in 'y_seq' indeed\n",
    "# starts at the 100th sample in the original target 'y' vector-\n",
    "y_seq[0]"
   ]
  },
  {
   "cell_type": "code",
   "execution_count": 24,
   "id": "0d503b39-5e5e-4df8-8f66-462fdc1dbafa",
   "metadata": {},
   "outputs": [
    {
     "data": {
      "text/plain": [
       "array([0.0732278 , 0.07070187, 0.07196188, 0.07578634, 0.07833477,\n",
       "       0.07632614, 0.07915621, 0.07582173, 0.07915839, 0.08749892,\n",
       "       0.09587672, 0.10344986, 0.10718287, 0.10454066, 0.10989665,\n",
       "       0.12141626, 0.12295325, 0.12681279, 0.13199817, 0.13602693,\n",
       "       0.17289591, 0.22891351, 0.20826051, 0.186662  , 0.19096556,\n",
       "       0.21396443, 0.22139473, 0.20575785, 0.20817667, 0.22592029,\n",
       "       0.25371796, 0.24818172, 0.24776873, 0.22700393, 0.20911748,\n",
       "       0.19636053, 0.16575902, 0.17922549, 0.16721838, 0.1687833 ,\n",
       "       0.20096992, 0.19691322, 0.17778631, 0.17855791, 0.15210316,\n",
       "       0.17079847, 0.16304835, 0.18361753, 0.18701597, 0.19319807])"
      ]
     },
     "execution_count": 24,
     "metadata": {},
     "output_type": "execute_result"
    }
   ],
   "source": [
    "y_scaled[99:149].squeeze(1)"
   ]
  },
  {
   "cell_type": "code",
   "execution_count": 25,
   "id": "eea754e9-195c-46b2-afdf-f337e358fe11",
   "metadata": {},
   "outputs": [],
   "source": [
    "assert y_seq[0].all() == y_scaled[99:149].squeeze(1).all()"
   ]
  },
  {
   "cell_type": "code",
   "execution_count": null,
   "id": "4b1ac26b-93da-4d3a-9054-4afef837f622",
   "metadata": {},
   "outputs": [],
   "source": []
  },
  {
   "cell_type": "code",
   "execution_count": 26,
   "id": "d4cbfeb6-498c-4fdd-90c4-764c76477356",
   "metadata": {},
   "outputs": [],
   "source": [
    "# Get training and testing sets by using 95% as training and 5%\n",
    "# as testing split-\n",
    "total_samples = len(X)\n",
    "train_test_cutoff = round(0.95 * total_samples)"
   ]
  },
  {
   "cell_type": "code",
   "execution_count": 27,
   "id": "1d20a266-c564-42b8-b696-101fc9737894",
   "metadata": {},
   "outputs": [
    {
     "data": {
      "text/plain": [
       "(1736, 1827, 91)"
      ]
     },
     "execution_count": 27,
     "metadata": {},
     "output_type": "execute_result"
    }
   ],
   "source": [
    "train_test_cutoff, len(X), len(X) - train_test_cutoff"
   ]
  },
  {
   "cell_type": "markdown",
   "id": "f929bed8-fc21-4812-83b7-003581eed6bf",
   "metadata": {},
   "source": [
    "- This gives us a training set size of 1736 days, or about 3 months.\n",
    "- We will predict for the remaining 91 days into the future, which is almost 3 months."
   ]
  },
  {
   "cell_type": "code",
   "execution_count": 28,
   "id": "629da9d1-e910-4219-963e-22a18744f8b9",
   "metadata": {},
   "outputs": [],
   "source": [
    "X_train = X_seq[:-91]\n",
    "X_test = X_seq[-91:]\n",
    "\n",
    "y_train = y_seq[:-91]\n",
    "y_test = y_seq[-91:] "
   ]
  },
  {
   "cell_type": "code",
   "execution_count": 29,
   "id": "cb7adbe2-34b7-4445-8831-ac5f8c3a0748",
   "metadata": {},
   "outputs": [
    {
     "name": "stdout",
     "output_type": "stream",
     "text": [
      "X_train.shape: (1588, 100, 4), y_train.shape: (1588, 50)\n",
      "X_test.shape: (91, 100, 4), y_test.shape: (91, 50)\n"
     ]
    }
   ],
   "source": [
    "print(f\"X_train.shape: {X_train.shape}, y_train.shape: {y_train.shape}\")\n",
    "print(f\"X_test.shape: {X_test.shape}, y_test.shape: {y_test.shape}\")"
   ]
  },
  {
   "cell_type": "code",
   "execution_count": null,
   "id": "58600291-353b-457f-8e89-7227bb5ba86f",
   "metadata": {},
   "outputs": [],
   "source": []
  },
  {
   "cell_type": "code",
   "execution_count": 30,
   "id": "2f1f446e-60ea-4169-b498-bdc338d26926",
   "metadata": {},
   "outputs": [
    {
     "data": {
      "text/plain": [
       "((1588, 100, 4), (1588, 50))"
      ]
     },
     "execution_count": 30,
     "metadata": {},
     "output_type": "execute_result"
    }
   ],
   "source": [
    "# Sanity check-\n",
    "X_train.shape, y_train.shape"
   ]
  },
  {
   "cell_type": "code",
   "execution_count": 31,
   "id": "93220a7a-5446-430c-8d8d-146446eb6278",
   "metadata": {},
   "outputs": [
    {
     "data": {
      "text/plain": [
       "((91, 100, 4), (91, 50))"
      ]
     },
     "execution_count": 31,
     "metadata": {},
     "output_type": "execute_result"
    }
   ],
   "source": [
    "X_test.shape, y_test.shape"
   ]
  },
  {
   "cell_type": "code",
   "execution_count": null,
   "id": "7a7ca58c-717e-4034-aa0a-7e2bdb1c88a8",
   "metadata": {},
   "outputs": [],
   "source": []
  },
  {
   "cell_type": "code",
   "execution_count": 32,
   "id": "eb62898c-7041-4b75-acb9-83386f9ee8fb",
   "metadata": {},
   "outputs": [],
   "source": [
    "class TimeSeriesDataset(Dataset):\n",
    "    def __init__(self, X, y):\n",
    "        # Convert to torch tensors-\n",
    "        self.X = torch.tensor(X, dtype = torch.float32)\n",
    "        self.y = torch.tensor(y, dtype = torch.float32)\n",
    "        \n",
    "    def __len__(self):\n",
    "        return len(self.X)\n",
    "    \n",
    "    def __getitem__(self, idx):\n",
    "        '''\n",
    "        return {\n",
    "            'X' : self.X[idx],\n",
    "            'y' : self.y[idx]\n",
    "        }\n",
    "        '''\n",
    "        return self.X[idx], self.y[idx]\n",
    "    "
   ]
  },
  {
   "cell_type": "code",
   "execution_count": null,
   "id": "5db84f5a-778a-4c80-b1f2-8420a838821f",
   "metadata": {},
   "outputs": [],
   "source": []
  },
  {
   "cell_type": "code",
   "execution_count": 33,
   "id": "ca22a612-90ac-4870-b1d9-70c0821a6f87",
   "metadata": {},
   "outputs": [],
   "source": [
    "# Get train and test datasets-\n",
    "train_dataset = TimeSeriesDataset(X_train, y_train)\n",
    "test_dataset = TimeSeriesDataset(X_test, y_test)"
   ]
  },
  {
   "cell_type": "code",
   "execution_count": 34,
   "id": "e434e215-fbfb-4acf-bc42-3e39dd289f28",
   "metadata": {},
   "outputs": [
    {
     "name": "stdout",
     "output_type": "stream",
     "text": [
      "train_dataset len = 1588 & test_dataset len = 91\n"
     ]
    }
   ],
   "source": [
    "# Sanity check-\n",
    "print(f\"train_dataset len = {len(train_dataset)} &\"\n",
    "      f\" test_dataset len = {len(test_dataset)}\")"
   ]
  },
  {
   "cell_type": "code",
   "execution_count": null,
   "id": "960a8499-0b2c-4866-aa59-0d06850fa24d",
   "metadata": {},
   "outputs": [],
   "source": []
  },
  {
   "cell_type": "code",
   "execution_count": null,
   "id": "d28331fb-8d47-45de-a615-8b4bdd5f0346",
   "metadata": {},
   "outputs": [],
   "source": []
  },
  {
   "cell_type": "code",
   "execution_count": 35,
   "id": "3960402b-1865-4eb2-920b-2a8e02ebeb6d",
   "metadata": {},
   "outputs": [],
   "source": [
    "# Specify hyper-parameters-\n",
    "batch_size = 256\n",
    "num_epochs = 100\n",
    "learning_rate = 0.001"
   ]
  },
  {
   "cell_type": "code",
   "execution_count": null,
   "id": "1e520bb8-4e8f-4a86-a9ab-c7fefd069b81",
   "metadata": {},
   "outputs": [],
   "source": []
  },
  {
   "cell_type": "code",
   "execution_count": 36,
   "id": "61071e77-7b9a-44f9-91cf-42b7b92fc835",
   "metadata": {},
   "outputs": [],
   "source": [
    "# Create data loaders-\n",
    "train_loader = DataLoader(\n",
    "    dataset = train_dataset, batch_size = batch_size,\n",
    "    shuffle = False\n",
    ")\n",
    "\n",
    "test_loader = DataLoader(\n",
    "    dataset = test_dataset, batch_size = batch_size,\n",
    "    shuffle = False\n",
    ")"
   ]
  },
  {
   "cell_type": "code",
   "execution_count": 37,
   "id": "2a1c01f7-8f0b-4ad4-93bc-4ee7a3944fa9",
   "metadata": {},
   "outputs": [
    {
     "name": "stdout",
     "output_type": "stream",
     "text": [
      "len(train_loader) = 7 & len(test_loader) = 1\n"
     ]
    }
   ],
   "source": [
    "print(f\"len(train_loader) = {len(train_loader)} &\"\n",
    "      f\" len(test_loader) = {len(test_loader)}\"\n",
    "     )"
   ]
  },
  {
   "cell_type": "code",
   "execution_count": 38,
   "id": "7c08d70f-a0e9-4431-a1c0-0da9ae678273",
   "metadata": {},
   "outputs": [
    {
     "data": {
      "text/plain": [
       "(6.203125, 0.35546875)"
      ]
     },
     "execution_count": 38,
     "metadata": {},
     "output_type": "execute_result"
    }
   ],
   "source": [
    "# Sanity check-\n",
    "len(train_dataset) / batch_size, len(test_dataset) / batch_size"
   ]
  },
  {
   "cell_type": "code",
   "execution_count": null,
   "id": "3bb2da35-2a9e-4f2a-9b1b-7c8d62de5864",
   "metadata": {},
   "outputs": [],
   "source": []
  },
  {
   "cell_type": "code",
   "execution_count": 39,
   "id": "8c1ba3c3-15dc-45fa-9cba-4c8205445f7b",
   "metadata": {},
   "outputs": [],
   "source": [
    "# Get some batch of data-\n",
    "features, labels = next(iter(train_loader))"
   ]
  },
  {
   "cell_type": "code",
   "execution_count": 40,
   "id": "ca3e4782-3950-4bd2-9178-34fdae26a9aa",
   "metadata": {},
   "outputs": [
    {
     "data": {
      "text/plain": [
       "(torch.Size([256, 100, 4]), torch.Size([256, 50]))"
      ]
     },
     "execution_count": 40,
     "metadata": {},
     "output_type": "execute_result"
    }
   ],
   "source": [
    "# Sanity check-\n",
    "features.shape, labels.shape"
   ]
  },
  {
   "cell_type": "code",
   "execution_count": null,
   "id": "571840e8-d84c-4361-825c-5d1a7538ec88",
   "metadata": {},
   "outputs": [],
   "source": []
  },
  {
   "cell_type": "code",
   "execution_count": null,
   "id": "13577ae1-4081-4b18-a6a9-ba8b06f0f131",
   "metadata": {},
   "outputs": [],
   "source": []
  },
  {
   "cell_type": "markdown",
   "id": "56121fdc-85ef-47e2-a5a3-d8e3ec3b41a5",
   "metadata": {},
   "source": [
    "### Seq2Seq using ```LSTM``` RNN\n",
    "\n",
    "We need to construct the ```LSTM``` class by inheriting from ```nn.Module```. We are going to build this model with the ```nn.LSTM``` rather than ```nn.LSTMCell```. This is because of two reasons:\n",
    "\n",
    "1. firstly, it's nice to be exposed to both so that we have the option.\n",
    "1. Secondly, we don't need the flexibility that ```nn.LSTMCell``` provides.\n",
    "\n",
    "We know that ```nn.LSTM``` is essentially just a recurrent application of ```nn.LSTMCell```. Thus, we would only use ```nn.LSTMCell``` if we wanted to apply other transformation in between different LSTM layers, such as batch-normalisation and dropout. Here however, we can implement dropout automatically using the ```dropout``` parameter in ```nn.LSTM```. We have already standardised our data (see above). Hence, there's not a whole lot of reasons to use the more fiddly ```nn.LSTMCell```.\n",
    "\n",
    "According to PyTorch's [LSTM](https://pytorch.org/docs/stable/generated/torch.nn.LSTM.html) documentation, you know that we need to shape the LSTM with input size, hidden size, and number of recurrent layers.\n",
    "\n",
    "- For example, setting ```num_layers = 2``` would mean stacking two LSTMs together to form a stacked LSTM, with the second LSTM taking in outputs of the first LSTM and computing the final results. Thus, we initialise these three variables in the class's ```__init__``` method.\n",
    "\n",
    "- __We need to force our model to output only one predicted value, so we also initialise a number of classes variable__.\n",
    "\n",
    "- Our first layer is obviously a recurrent application of LSTM cells, with all the parameters specified above.\n",
    "\n",
    "- The output of the ```LSTM``` layer is equal to ```hidden_size``` dimensions, and so, it outputs ```hidden_size``` activations."
   ]
  },
  {
   "cell_type": "code",
   "execution_count": 88,
   "id": "4c50a709-b904-47b3-bed2-bf982a0d43e7",
   "metadata": {},
   "outputs": [],
   "source": [
    "# Initialize LSTM layer-\n",
    "lstm_layer = lstm = nn.LSTM(\n",
    "    input_size = 4, hidden_size = 128,\n",
    "    num_layers = 1, batch_first = True,\n",
    "    dropout = 0, bias = True,\n",
    "    bidirectional = False\n",
    ").to(device)"
   ]
  },
  {
   "cell_type": "code",
   "execution_count": 87,
   "id": "0d98fb2e-440d-4ca7-a122-113901815396",
   "metadata": {},
   "outputs": [],
   "source": [
    "# Initialize stacked LSTM layer-\n",
    "lstm_stacked_layer = lstm = nn.LSTM(\n",
    "    input_size = 4, hidden_size = 128,\n",
    "    num_layers = 2, batch_first = True,\n",
    "    dropout = 0, bias = True,\n",
    "    bidirectional = False\n",
    ").to(device)"
   ]
  },
  {
   "cell_type": "code",
   "execution_count": 86,
   "id": "f95a3491-c391-4776-b5f4-2ff5c0fd1d1d",
   "metadata": {},
   "outputs": [
    {
     "data": {
      "text/plain": [
       "(torch.Size([256, 100, 4]), torch.Size([256, 50]))"
      ]
     },
     "execution_count": 86,
     "metadata": {},
     "output_type": "execute_result"
    }
   ],
   "source": [
    "features, labels = next(iter(train_loader))\n",
    "features = features.to(device)\n",
    "labels = labels.to(device)\n",
    "features.shape, labels.shape"
   ]
  },
  {
   "cell_type": "code",
   "execution_count": 89,
   "id": "835dda0d-54db-401a-b58e-01a4055cef5a",
   "metadata": {},
   "outputs": [],
   "source": [
    "lstm_out, (hn, cn) = lstm_layer(features)"
   ]
  },
  {
   "cell_type": "code",
   "execution_count": 90,
   "id": "25be617b-0dc2-4380-a6a6-562f758b0427",
   "metadata": {},
   "outputs": [],
   "source": [
    "lstm_stacked_out, (hn_s, cn_s) = lstm_stacked_layer(features)"
   ]
  },
  {
   "cell_type": "code",
   "execution_count": 91,
   "id": "e128ab43-2035-46ed-b03b-7ab7a3279fb4",
   "metadata": {},
   "outputs": [
    {
     "data": {
      "text/plain": [
       "(torch.Size([256, 100, 128]),\n",
       " torch.Size([2, 256, 128]),\n",
       " torch.Size([2, 256, 128]))"
      ]
     },
     "execution_count": 91,
     "metadata": {},
     "output_type": "execute_result"
    }
   ],
   "source": [
    "lstm_stacked_out.shape, hn_s.shape, cn_s.shape"
   ]
  },
  {
   "cell_type": "code",
   "execution_count": 92,
   "id": "4e3822a7-4fc0-46d1-a108-1e7f82b9d2d3",
   "metadata": {},
   "outputs": [
    {
     "data": {
      "text/plain": [
       "(torch.Size([256, 100, 128]),\n",
       " torch.Size([1, 256, 128]),\n",
       " torch.Size([1, 256, 128]))"
      ]
     },
     "execution_count": 92,
     "metadata": {},
     "output_type": "execute_result"
    }
   ],
   "source": [
    "lstm_out.shape, hn.shape, cn.shape"
   ]
  },
  {
   "cell_type": "code",
   "execution_count": 93,
   "id": "b564e1a2-c30f-452b-9ad1-b45c3688f6b7",
   "metadata": {},
   "outputs": [
    {
     "name": "stdout",
     "output_type": "stream",
     "text": [
      "Stacked LSTM layer accepts input shape: torch.Size([256, 100, 4]),  outputs shape: torch.Size([256, 100, 128]); hn.shape: torch.Size([2, 256, 128]) and cn.shape: torch.Size([2, 256, 128])\n"
     ]
    }
   ],
   "source": [
    "print(f\"Stacked LSTM layer accepts input shape: {features.shape}, \"\n",
    "      f\" outputs shape: {lstm_stacked_out.shape}; hn.shape: {hn_s.shape}\"\n",
    "      f\" and cn.shape: {cn_s.shape}\"\n",
    "     )"
   ]
  },
  {
   "cell_type": "code",
   "execution_count": 94,
   "id": "f18fcf3e-f049-4eca-b950-75e794ff6afa",
   "metadata": {},
   "outputs": [
    {
     "name": "stdout",
     "output_type": "stream",
     "text": [
      "LSTM layer accepts input shape: torch.Size([256, 100, 4]),  outputs shape: torch.Size([256, 100, 128]); hn.shape: torch.Size([1, 256, 128]) and cn.shape: torch.Size([1, 256, 128])\n"
     ]
    }
   ],
   "source": [
    "print(f\"LSTM layer accepts input shape: {features.shape}, \"\n",
    "      f\" outputs shape: {lstm_out.shape}; hn.shape: {hn.shape}\"\n",
    "      f\" and cn.shape: {cn.shape}\"\n",
    "     )"
   ]
  },
  {
   "cell_type": "code",
   "execution_count": 95,
   "id": "d7ebfaa3-9045-48a4-ba8a-4cb65d94cd72",
   "metadata": {},
   "outputs": [],
   "source": [
    "del lstm_out, lstm_layer, lstm_stacked_out, lstm_stacked_layer, hn, cn"
   ]
  },
  {
   "cell_type": "code",
   "execution_count": null,
   "id": "203fce33-5426-4475-8ad6-58f1b891054c",
   "metadata": {},
   "outputs": [],
   "source": []
  },
  {
   "cell_type": "code",
   "execution_count": null,
   "id": "02f1ef51-c063-495c-9482-26db6b243b7a",
   "metadata": {},
   "outputs": [],
   "source": []
  },
  {
   "cell_type": "code",
   "execution_count": 47,
   "id": "a0e991bb-d970-46fa-b059-f6d584d0bb88",
   "metadata": {},
   "outputs": [],
   "source": [
    "class LSTM(nn.Module):\n",
    "    \n",
    "    def __init__(\n",
    "        self, num_classes,\n",
    "        input_size, hidden_size,\n",
    "        num_layers\n",
    "    ):\n",
    "        super().__init__()\n",
    "        \n",
    "        # Output size-\n",
    "        self.num_classes = num_classes\n",
    "        \n",
    "        # Number of stacked recurrent layers in LSTM-\n",
    "        self.num_layers = num_layers\n",
    "        \n",
    "        # Input size (number of expected features in the input 'x')-\n",
    "        self.input_size = input_size\n",
    "        \n",
    "        # Number of features in the hidden state 'h'-\n",
    "        self.hidden_size = hidden_size\n",
    "        \n",
    "        # bias – If False, then the layer does not use bias weights\n",
    "        # 'b_ih' and 'b_hh'\n",
    "\n",
    "        '''\n",
    "        batch_first – If True, then the input and output tensors are provided as\n",
    "        (batch, seq, feature) instead of (seq, batch, feature). Note that this does\n",
    "        not apply to hidden or cell states.\n",
    "        '''\n",
    "\n",
    "        '''\n",
    "        dropout – If non-zero, introduces a Dropout layer on the outputs of each LSTM\n",
    "        layer except the last layer, with dropout probability equal to dropout.\n",
    "        '''\n",
    "\n",
    "        '''\n",
    "        bidirectional – If True, becomes a bidirectional LSTM.\n",
    "        '''\n",
    "        \n",
    "        # LSTM model-\n",
    "        if self.num_layers > 1:\n",
    "            self.lstm = nn.LSTM(\n",
    "                input_size = input_size, hidden_size = hidden_size,\n",
    "                num_layers = num_layers, batch_first = True,\n",
    "                dropout = 0.2, bias = True,\n",
    "                bidirectional = False\n",
    "            )\n",
    "        else:\n",
    "            self.lstm = nn.LSTM(\n",
    "                input_size = input_size, hidden_size = hidden_size,\n",
    "                num_layers = num_layers, batch_first = True,\n",
    "                dropout = 0, bias = True,\n",
    "                bidirectional = False\n",
    "            )\n",
    "        \n",
    "        # First fully-connected layer-\n",
    "        self.fc_1 =  nn.Linear(in_features = hidden_size, out_features = 128)\n",
    "        \n",
    "        # Output layer-\n",
    "        self.fc_2 = nn.Linear(in_features = 128, out_features = num_classes)\n",
    "\n",
    "        \n",
    "    def forward(self,x):\n",
    "        \n",
    "        # Initialize hidden and cell states as a vector of 0s-\n",
    "        # hidden state-\n",
    "        h_0 = Variable(\n",
    "            torch.zeros(self.num_layers, x.size(0),\n",
    "                        self.hidden_size, device = x.device)\n",
    "        )\n",
    "        \n",
    "        # cell state-\n",
    "        c_0 = Variable(\n",
    "            torch.zeros(\n",
    "                self.num_layers, x.size(0),\n",
    "                self.hidden_size, device = x.device)\n",
    "        )\n",
    "        \n",
    "        \n",
    "        # Propagate input through LSTM-\n",
    "        \n",
    "        # LSTM accepts as input: (input, hidden, and internal state)-\n",
    "        output, (hn, cn) = self.lstm(x, (h_0, c_0))\n",
    "        output = output.to(device)\n",
    "        # hn = hn.to(device)\n",
    "        # cn = cn.to(device)\n",
    "        \n",
    "        # Reshape LSTM's output for dense layer-\n",
    "        out = F.relu(hn.view(-1, self.hidden_size))\n",
    "        out = F.relu(self.fc_1(out))\n",
    "        out = self.fc_2(out)\n",
    "        \n",
    "        return out\n",
    "    "
   ]
  },
  {
   "cell_type": "code",
   "execution_count": null,
   "id": "acda24ff-70b5-4559-9ba8-e51c15da6906",
   "metadata": {},
   "outputs": [],
   "source": []
  },
  {
   "cell_type": "code",
   "execution_count": 48,
   "id": "d07a015c-596a-47ab-ae75-d11d265510e7",
   "metadata": {},
   "outputs": [],
   "source": [
    "# Initialize LSTM Seq2Seq model-\n",
    "model = LSTM(\n",
    "    num_classes = 50, input_size = 4,\n",
    "    hidden_size = 128, num_layers = 1\n",
    ").to(device)"
   ]
  },
  {
   "cell_type": "code",
   "execution_count": null,
   "id": "80a07620-456e-4cba-9d27-6b52009eb93e",
   "metadata": {},
   "outputs": [],
   "source": []
  },
  {
   "cell_type": "code",
   "execution_count": 49,
   "id": "a6482e65-b3cf-4243-a1b5-0a8c069dffca",
   "metadata": {},
   "outputs": [
    {
     "name": "stdout",
     "output_type": "stream",
     "text": [
      "lstm.weight_ih_l0 has dimension = (512, 4)\n",
      "lstm.weight_hh_l0 has dimension = (512, 128)\n",
      "lstm.bias_ih_l0 has dimension = (512,)\n",
      "lstm.bias_hh_l0 has dimension = (512,)\n",
      "fc_1.weight has dimension = (128, 128)\n",
      "fc_1.bias has dimension = (128,)\n",
      "fc_2.weight has dimension = (50, 128)\n",
      "fc_2.bias has dimension = (50,)\n"
     ]
    }
   ],
   "source": [
    "# Count number of trainable parameters in model-\n",
    "tot_params = 0\n",
    "\n",
    "# Print layer names-\n",
    "for layer in model.state_dict().keys():\n",
    "    print(f\"{layer} has dimension = {model.state_dict()[layer].cpu().detach().numpy().shape}\")\n",
    "    tot_params += model.state_dict()[layer].cpu().numpy().size"
   ]
  },
  {
   "cell_type": "code",
   "execution_count": 50,
   "id": "00ae7d77-70af-4f9e-ab36-6d821d7b9d36",
   "metadata": {},
   "outputs": [
    {
     "name": "stdout",
     "output_type": "stream",
     "text": [
      "Total number of trainable parameters = 91570\n"
     ]
    }
   ],
   "source": [
    "print(f\"Total number of trainable parameters = {tot_params}\")"
   ]
  },
  {
   "cell_type": "code",
   "execution_count": null,
   "id": "8c10c425-e58a-4ba5-b24f-bfe8f7022cff",
   "metadata": {},
   "outputs": [],
   "source": []
  },
  {
   "cell_type": "code",
   "execution_count": 51,
   "id": "2baa8d19-ee0a-42f4-b490-def1403b1b3b",
   "metadata": {},
   "outputs": [],
   "source": [
    "# Define loss function (MSE for regression)-\n",
    "loss_criterion = nn.MSELoss()\n",
    "\n",
    "# Define SGD optimizer-\n",
    "# optimizer = optim.SGD(model.parameters(), lr = 0.001, momentum = 0.9)\n",
    "optimizer = optim.Adam(model.parameters(), lr = 10e-3)"
   ]
  },
  {
   "cell_type": "code",
   "execution_count": null,
   "id": "743b80a2-1045-4b5b-b70e-83e2f388c265",
   "metadata": {},
   "outputs": [],
   "source": []
  },
  {
   "cell_type": "code",
   "execution_count": 96,
   "id": "b5cd136f-c2c0-45a5-84d4-1f25db137b34",
   "metadata": {},
   "outputs": [],
   "source": [
    "# Initialize stacked LSTM Seq2Seq model-\n",
    "model_stacked = LSTM(\n",
    "    num_classes = 50, input_size = 4,\n",
    "    hidden_size = 128, num_layers = 2\n",
    ").to(device)"
   ]
  },
  {
   "cell_type": "code",
   "execution_count": 98,
   "id": "eb62e1c1-7118-40e0-9f25-c5385907563b",
   "metadata": {},
   "outputs": [],
   "source": [
    "# Make predictions-\n",
    "out = model_stacked(features)"
   ]
  },
  {
   "cell_type": "code",
   "execution_count": 99,
   "id": "11f49eb8-4ac7-4d78-9f66-0af01f9ea287",
   "metadata": {},
   "outputs": [
    {
     "data": {
      "text/plain": [
       "(torch.Size([256, 100, 4]), torch.Size([256, 50]), torch.Size([512, 50]))"
      ]
     },
     "execution_count": 99,
     "metadata": {},
     "output_type": "execute_result"
    }
   ],
   "source": [
    "# Sanity check-\n",
    "features.shape, labels.shape, out.shape"
   ]
  },
  {
   "cell_type": "code",
   "execution_count": 104,
   "id": "2ecf9459-b544-4ea7-a82a-602ddfa20200",
   "metadata": {},
   "outputs": [
    {
     "data": {
      "text/plain": [
       "(array(0.01628028, dtype=float32), array(0.01633039, dtype=float32))"
      ]
     },
     "execution_count": 104,
     "metadata": {},
     "output_type": "execute_result"
    }
   ],
   "source": [
    "loss_criterion(out[:256, :], labels).cpu().detach().numpy(), loss_criterion(out[256:, :], labels).cpu().detach().numpy()"
   ]
  },
  {
   "cell_type": "code",
   "execution_count": null,
   "id": "768cee55-d13f-47f9-ae96-bfb3dcc00308",
   "metadata": {},
   "outputs": [],
   "source": []
  },
  {
   "cell_type": "code",
   "execution_count": null,
   "id": "464e9227-2cb7-4cfa-b5a8-64f076784ad2",
   "metadata": {},
   "outputs": [],
   "source": []
  },
  {
   "cell_type": "code",
   "execution_count": null,
   "id": "da570cc8-f5a4-4749-8541-0e7be5e073c6",
   "metadata": {},
   "outputs": [],
   "source": [
    "'''\n",
    "# Sanity check-\n",
    "features, labels = next(iter(train_loader))\n",
    "features.shape, labels.shape\n",
    "\n",
    "# Move to 'device' (if available)-\n",
    "features = features.to(device)\n",
    "labels = labels.to(device)\n",
    "\n",
    "# Make predictions/forward prop-\n",
    "out = model(features)\n",
    "\n",
    "out.shape, labels.shape, features.shape\n",
    "\n",
    "loss = loss_criterion(out, labels)\n",
    "print(f\"MSE loss = {loss:.4f}\")\n",
    "\n",
    "del features, labels, out\n",
    "'''"
   ]
  },
  {
   "cell_type": "code",
   "execution_count": 73,
   "id": "f2729828-5a24-4aa3-8fb3-4b773582ceb0",
   "metadata": {},
   "outputs": [],
   "source": []
  },
  {
   "cell_type": "code",
   "execution_count": null,
   "id": "6afcfb59-36dd-4beb-8af9-620aadb566fe",
   "metadata": {},
   "outputs": [],
   "source": []
  },
  {
   "cell_type": "code",
   "execution_count": 52,
   "id": "fd50c013-00ab-4e06-9649-a93129ffa778",
   "metadata": {},
   "outputs": [],
   "source": [
    "def train_model_progress(model, train_loader):\n",
    "    '''\n",
    "    Function to perform one epoch of training by using 'train_loader'.\n",
    "    Returns loss for this epoch.\n",
    "    '''\n",
    "    running_loss = 0.0\n",
    "    \n",
    "    model.train()\n",
    "    \n",
    "    with tqdm(train_loader, unit = 'batch') as tepoch:\n",
    "        for features, labels in tepoch:\n",
    "            tepoch.set_description(f\"Training: \")\n",
    "            \n",
    "            features = features.to(device)\n",
    "            labels = labels.to(device)\n",
    "            \n",
    "            # Get model predictions-\n",
    "            outputs = model(features)\n",
    "            # print(f\"labels.shape: {labels.shape}, outputs.shape: {outputs.shape}\")\n",
    "            \n",
    "            # Compute loss-\n",
    "            J = loss_criterion(outputs, labels)\n",
    "            \n",
    "            # Empty accumulated gradients-\n",
    "            optimizer.zero_grad()\n",
    "            \n",
    "            # Perform backprop-\n",
    "            J.backward()\n",
    "            \n",
    "            # Update parameters-\n",
    "            optimizer.step()\n",
    "            \n",
    "            # global step\n",
    "            # optimizer.param_groups[0]['lr'] = custom_lr_scheduler.get_lr(step)\n",
    "            # step += 1\n",
    "            \n",
    "            # Compute model's performance statistics-\n",
    "            running_loss += J.item() * features.size(0)\n",
    "            \n",
    "            tepoch.set_postfix(\n",
    "                loss = running_loss / len(train_dataset),\n",
    "            )\n",
    "            \n",
    "    \n",
    "    train_loss = running_loss / len(train_dataset)\n",
    "    \n",
    "    return train_loss\n"
   ]
  },
  {
   "cell_type": "code",
   "execution_count": 53,
   "id": "671457d1-7348-4668-9d55-9ae32764634f",
   "metadata": {},
   "outputs": [],
   "source": [
    "def test_model_progress(model, test_loader):\n",
    "    running_loss_val = 0.0\n",
    "\n",
    "    with torch.no_grad():\n",
    "        with tqdm(test_loader, unit = 'batch') as tepoch:\n",
    "            for features, labels in tepoch:\n",
    "                tepoch.set_description(f\"Validation: \")\n",
    "                \n",
    "                features = features.to(device)\n",
    "                labels = labels.to(device)\n",
    "                \n",
    "                # Set model to evaluation mode-\n",
    "                model.eval()\n",
    "            \n",
    "                # Predict using trained model-\n",
    "                outputs = model(features)\n",
    "                \n",
    "                # Compute validation loss-\n",
    "                J_val = loss_criterion(outputs, labels)\n",
    "                \n",
    "                running_loss_val += J_val.item() * labels.size(0)\n",
    "                \n",
    "                tepoch.set_postfix(\n",
    "                    val_loss = running_loss_val / len(test_dataset)\n",
    "                )\n",
    "            \n",
    "        \n",
    "    # return (running_loss_val, correct, total)\n",
    "    val_loss = running_loss_val / len(test_dataset)\n",
    "\n",
    "    return val_loss\n"
   ]
  },
  {
   "cell_type": "code",
   "execution_count": null,
   "id": "4e071f85-a71d-4a64-b309-3edb4fafbbdb",
   "metadata": {},
   "outputs": [],
   "source": []
  },
  {
   "cell_type": "code",
   "execution_count": null,
   "id": "e5bb7477-a53a-441f-ad4e-d6e64b4f3d8e",
   "metadata": {},
   "outputs": [],
   "source": []
  },
  {
   "cell_type": "code",
   "execution_count": 54,
   "id": "dc7cca7a-c69f-40ac-8d26-54618c0f252a",
   "metadata": {},
   "outputs": [],
   "source": [
    "# Python3 dict to contain metrics-\n",
    "training_history = {}"
   ]
  },
  {
   "cell_type": "code",
   "execution_count": null,
   "id": "5d9d0253-7a7c-413f-82a4-af06dd8419f4",
   "metadata": {},
   "outputs": [],
   "source": []
  },
  {
   "cell_type": "code",
   "execution_count": 55,
   "id": "1cbfb601-17b5-4f91-adac-5f448aebd917",
   "metadata": {},
   "outputs": [],
   "source": [
    "# Initialize parameters for saving 'best' models-\n",
    "loc_patience = 0\n",
    "best_val_loss = 100"
   ]
  },
  {
   "cell_type": "code",
   "execution_count": null,
   "id": "3a1afadb-ddae-4dd4-9704-3a942dd7673a",
   "metadata": {},
   "outputs": [],
   "source": []
  },
  {
   "cell_type": "code",
   "execution_count": null,
   "id": "75e3d248-fc63-4414-a8a7-43f7960179b0",
   "metadata": {},
   "outputs": [],
   "source": []
  },
  {
   "cell_type": "code",
   "execution_count": 56,
   "id": "6b1ade7a-80a9-45ad-92d9-f6d1476be04f",
   "metadata": {},
   "outputs": [
    {
     "name": "stderr",
     "output_type": "stream",
     "text": [
      "Training: : 100%|████████████████████████████████████████████████████████████████████████████████████████| 7/7 [00:00<00:00, 127.64batch/s, loss=0.0895]\n",
      "Validation: : 100%|██████████████████████████████████████████████████████████████████████████████████| 1/1 [00:00<00:00, 309.93batch/s, val_loss=0.0189]\n"
     ]
    },
    {
     "name": "stdout",
     "output_type": "stream",
     "text": [
      "\n",
      "epoch: 1 training loss = 0.0895,  & test loss = 0.0189\n",
      "\n",
      "Saving model with lowest test_loss = 0.0189\n",
      "\n"
     ]
    },
    {
     "name": "stderr",
     "output_type": "stream",
     "text": [
      "Training: : 100%|████████████████████████████████████████████████████████████████████████████████████████| 7/7 [00:00<00:00, 141.71batch/s, loss=0.0982]\n",
      "Validation: : 100%|██████████████████████████████████████████████████████████████████████████████████| 1/1 [00:00<00:00, 303.96batch/s, val_loss=0.0664]\n"
     ]
    },
    {
     "name": "stdout",
     "output_type": "stream",
     "text": [
      "\n",
      "epoch: 2 training loss = 0.0982,  & test loss = 0.0664\n",
      "\n"
     ]
    },
    {
     "name": "stderr",
     "output_type": "stream",
     "text": [
      "Training: : 100%|████████████████████████████████████████████████████████████████████████████████████████| 7/7 [00:00<00:00, 155.76batch/s, loss=0.0306]\n",
      "Validation: : 100%|███████████████████████████████████████████████████████████████████████████████████| 1/1 [00:00<00:00, 371.70batch/s, val_loss=0.118]\n"
     ]
    },
    {
     "name": "stdout",
     "output_type": "stream",
     "text": [
      "\n",
      "epoch: 3 training loss = 0.0306,  & test loss = 0.1175\n",
      "\n"
     ]
    },
    {
     "name": "stderr",
     "output_type": "stream",
     "text": [
      "Training: : 100%|█████████████████████████████████████████████████████████████████████████████████████████| 7/7 [00:00<00:00, 169.37batch/s, loss=0.224]\n",
      "Validation: : 100%|██████████████████████████████████████████████████████████████████████████████████| 1/1 [00:00<00:00, 478.91batch/s, val_loss=0.0195]\n"
     ]
    },
    {
     "name": "stdout",
     "output_type": "stream",
     "text": [
      "\n",
      "epoch: 4 training loss = 0.2243,  & test loss = 0.0195\n",
      "\n"
     ]
    },
    {
     "name": "stderr",
     "output_type": "stream",
     "text": [
      "Training: : 100%|█████████████████████████████████████████████████████████████████████████████████████████| 7/7 [00:00<00:00, 194.33batch/s, loss=0.115]\n",
      "Validation: : 100%|███████████████████████████████████████████████████████████████████████████████████| 1/1 [00:00<00:00, 482.38batch/s, val_loss=0.116]\n"
     ]
    },
    {
     "name": "stdout",
     "output_type": "stream",
     "text": [
      "\n",
      "epoch: 5 training loss = 0.1153,  & test loss = 0.1156\n",
      "\n"
     ]
    },
    {
     "name": "stderr",
     "output_type": "stream",
     "text": [
      "Training: : 100%|█████████████████████████████████████████████████████████████████████████████████████████| 7/7 [00:00<00:00, 193.94batch/s, loss=0.102]\n",
      "Validation: : 100%|██████████████████████████████████████████████████████████████████████████████████| 1/1 [00:00<00:00, 452.85batch/s, val_loss=0.0947]\n"
     ]
    },
    {
     "name": "stdout",
     "output_type": "stream",
     "text": [
      "\n",
      "epoch: 6 training loss = 0.1024,  & test loss = 0.0947\n",
      "\n"
     ]
    },
    {
     "name": "stderr",
     "output_type": "stream",
     "text": [
      "Training: : 100%|████████████████████████████████████████████████████████████████████████████████████████| 7/7 [00:00<00:00, 198.11batch/s, loss=0.0797]\n",
      "Validation: : 100%|██████████████████████████████████████████████████████████████████████████████████| 1/1 [00:00<00:00, 480.56batch/s, val_loss=0.0508]\n"
     ]
    },
    {
     "name": "stdout",
     "output_type": "stream",
     "text": [
      "\n",
      "epoch: 7 training loss = 0.0797,  & test loss = 0.0508\n",
      "\n"
     ]
    },
    {
     "name": "stderr",
     "output_type": "stream",
     "text": [
      "Training: : 100%|████████████████████████████████████████████████████████████████████████████████████████| 7/7 [00:00<00:00, 183.82batch/s, loss=0.0366]\n",
      "Validation: : 100%|███████████████████████████████████████████████████████████████████████████████████| 1/1 [00:00<00:00, 364.18batch/s, val_loss=0.033]\n"
     ]
    },
    {
     "name": "stdout",
     "output_type": "stream",
     "text": [
      "\n",
      "epoch: 8 training loss = 0.0366,  & test loss = 0.0330\n",
      "\n"
     ]
    },
    {
     "name": "stderr",
     "output_type": "stream",
     "text": [
      "Training: : 100%|████████████████████████████████████████████████████████████████████████████████████████| 7/7 [00:00<00:00, 189.59batch/s, loss=0.0322]\n",
      "Validation: : 100%|██████████████████████████████████████████████████████████████████████████████████| 1/1 [00:00<00:00, 473.72batch/s, val_loss=0.0666]\n"
     ]
    },
    {
     "name": "stdout",
     "output_type": "stream",
     "text": [
      "\n",
      "epoch: 9 training loss = 0.0322,  & test loss = 0.0666\n",
      "\n"
     ]
    },
    {
     "name": "stderr",
     "output_type": "stream",
     "text": [
      "Training: : 100%|█████████████████████████████████████████████████████████████████████████████████████████| 7/7 [00:00<00:00, 190.70batch/s, loss=0.021]\n",
      "Validation: : 100%|██████████████████████████████████████████████████████████████████████████████████| 1/1 [00:00<00:00, 475.11batch/s, val_loss=0.0141]\n"
     ]
    },
    {
     "name": "stdout",
     "output_type": "stream",
     "text": [
      "\n",
      "epoch: 10 training loss = 0.0210,  & test loss = 0.0141\n",
      "\n",
      "Saving model with lowest test_loss = 0.0141\n",
      "\n"
     ]
    },
    {
     "name": "stderr",
     "output_type": "stream",
     "text": [
      "Training: : 100%|████████████████████████████████████████████████████████████████████████████████████████| 7/7 [00:00<00:00, 195.78batch/s, loss=0.0147]\n",
      "Validation: : 100%|██████████████████████████████████████████████████████████████████████████████████| 1/1 [00:00<00:00, 450.81batch/s, val_loss=0.0281]\n"
     ]
    },
    {
     "name": "stdout",
     "output_type": "stream",
     "text": [
      "\n",
      "epoch: 11 training loss = 0.0147,  & test loss = 0.0281\n",
      "\n"
     ]
    },
    {
     "name": "stderr",
     "output_type": "stream",
     "text": [
      "Training: : 100%|███████████████████████████████████████████████████████████████████████████████████████| 7/7 [00:00<00:00, 195.22batch/s, loss=0.00773]\n",
      "Validation: : 100%|██████████████████████████████████████████████████████████████████████████████████| 1/1 [00:00<00:00, 500.51batch/s, val_loss=0.0665]\n"
     ]
    },
    {
     "name": "stdout",
     "output_type": "stream",
     "text": [
      "\n",
      "epoch: 12 training loss = 0.0077,  & test loss = 0.0665\n",
      "\n"
     ]
    },
    {
     "name": "stderr",
     "output_type": "stream",
     "text": [
      "Training: : 100%|███████████████████████████████████████████████████████████████████████████████████████| 7/7 [00:00<00:00, 194.34batch/s, loss=0.00705]\n",
      "Validation: : 100%|██████████████████████████████████████████████████████████████████████████████████| 1/1 [00:00<00:00, 489.13batch/s, val_loss=0.0626]\n"
     ]
    },
    {
     "name": "stdout",
     "output_type": "stream",
     "text": [
      "\n",
      "epoch: 13 training loss = 0.0071,  & test loss = 0.0626\n",
      "\n"
     ]
    },
    {
     "name": "stderr",
     "output_type": "stream",
     "text": [
      "Training: : 100%|███████████████████████████████████████████████████████████████████████████████████████| 7/7 [00:00<00:00, 196.73batch/s, loss=0.00604]\n",
      "Validation: : 100%|██████████████████████████████████████████████████████████████████████████████████| 1/1 [00:00<00:00, 511.44batch/s, val_loss=0.0393]\n"
     ]
    },
    {
     "name": "stdout",
     "output_type": "stream",
     "text": [
      "\n",
      "epoch: 14 training loss = 0.0060,  & test loss = 0.0393\n",
      "\n"
     ]
    },
    {
     "name": "stderr",
     "output_type": "stream",
     "text": [
      "Training: : 100%|███████████████████████████████████████████████████████████████████████████████████████| 7/7 [00:00<00:00, 193.64batch/s, loss=0.00657]\n",
      "Validation: : 100%|██████████████████████████████████████████████████████████████████████████████████| 1/1 [00:00<00:00, 474.25batch/s, val_loss=0.0379]\n"
     ]
    },
    {
     "name": "stdout",
     "output_type": "stream",
     "text": [
      "\n",
      "epoch: 15 training loss = 0.0066,  & test loss = 0.0379\n",
      "\n"
     ]
    },
    {
     "name": "stderr",
     "output_type": "stream",
     "text": [
      "Training: : 100%|███████████████████████████████████████████████████████████████████████████████████████| 7/7 [00:00<00:00, 195.87batch/s, loss=0.00738]\n",
      "Validation: : 100%|██████████████████████████████████████████████████████████████████████████████████| 1/1 [00:00<00:00, 455.65batch/s, val_loss=0.0448]\n"
     ]
    },
    {
     "name": "stdout",
     "output_type": "stream",
     "text": [
      "\n",
      "epoch: 16 training loss = 0.0074,  & test loss = 0.0448\n",
      "\n"
     ]
    },
    {
     "name": "stderr",
     "output_type": "stream",
     "text": [
      "Training: : 100%|███████████████████████████████████████████████████████████████████████████████████████| 7/7 [00:00<00:00, 193.34batch/s, loss=0.00626]\n",
      "Validation: : 100%|██████████████████████████████████████████████████████████████████████████████████| 1/1 [00:00<00:00, 473.83batch/s, val_loss=0.0466]\n"
     ]
    },
    {
     "name": "stdout",
     "output_type": "stream",
     "text": [
      "\n",
      "epoch: 17 training loss = 0.0063,  & test loss = 0.0466\n",
      "\n"
     ]
    },
    {
     "name": "stderr",
     "output_type": "stream",
     "text": [
      "Training: : 100%|███████████████████████████████████████████████████████████████████████████████████████| 7/7 [00:00<00:00, 192.21batch/s, loss=0.00571]\n",
      "Validation: : 100%|██████████████████████████████████████████████████████████████████████████████████| 1/1 [00:00<00:00, 472.01batch/s, val_loss=0.0411]\n"
     ]
    },
    {
     "name": "stdout",
     "output_type": "stream",
     "text": [
      "\n",
      "epoch: 18 training loss = 0.0057,  & test loss = 0.0411\n",
      "\n"
     ]
    },
    {
     "name": "stderr",
     "output_type": "stream",
     "text": [
      "Training: : 100%|███████████████████████████████████████████████████████████████████████████████████████| 7/7 [00:00<00:00, 193.41batch/s, loss=0.00551]\n",
      "Validation: : 100%|██████████████████████████████████████████████████████████████████████████████████| 1/1 [00:00<00:00, 472.54batch/s, val_loss=0.0394]\n"
     ]
    },
    {
     "name": "stdout",
     "output_type": "stream",
     "text": [
      "\n",
      "epoch: 19 training loss = 0.0055,  & test loss = 0.0394\n",
      "\n"
     ]
    },
    {
     "name": "stderr",
     "output_type": "stream",
     "text": [
      "Training: : 100%|███████████████████████████████████████████████████████████████████████████████████████| 7/7 [00:00<00:00, 190.10batch/s, loss=0.00532]\n",
      "Validation: : 100%|██████████████████████████████████████████████████████████████████████████████████| 1/1 [00:00<00:00, 477.00batch/s, val_loss=0.0411]\n"
     ]
    },
    {
     "name": "stdout",
     "output_type": "stream",
     "text": [
      "\n",
      "epoch: 20 training loss = 0.0053,  & test loss = 0.0411\n",
      "\n"
     ]
    },
    {
     "name": "stderr",
     "output_type": "stream",
     "text": [
      "Training: : 100%|███████████████████████████████████████████████████████████████████████████████████████| 7/7 [00:00<00:00, 193.90batch/s, loss=0.00529]\n",
      "Validation: : 100%|██████████████████████████████████████████████████████████████████████████████████| 1/1 [00:00<00:00, 480.56batch/s, val_loss=0.0401]\n"
     ]
    },
    {
     "name": "stdout",
     "output_type": "stream",
     "text": [
      "\n",
      "epoch: 21 training loss = 0.0053,  & test loss = 0.0401\n",
      "\n"
     ]
    },
    {
     "name": "stderr",
     "output_type": "stream",
     "text": [
      "Training: : 100%|███████████████████████████████████████████████████████████████████████████████████████| 7/7 [00:00<00:00, 193.16batch/s, loss=0.00521]\n",
      "Validation: : 100%|██████████████████████████████████████████████████████████████████████████████████| 1/1 [00:00<00:00, 480.39batch/s, val_loss=0.0383]\n"
     ]
    },
    {
     "name": "stdout",
     "output_type": "stream",
     "text": [
      "\n",
      "epoch: 22 training loss = 0.0052,  & test loss = 0.0383\n",
      "\n"
     ]
    },
    {
     "name": "stderr",
     "output_type": "stream",
     "text": [
      "Training: : 100%|███████████████████████████████████████████████████████████████████████████████████████| 7/7 [00:00<00:00, 195.61batch/s, loss=0.00515]\n",
      "Validation: : 100%|██████████████████████████████████████████████████████████████████████████████████| 1/1 [00:00<00:00, 488.45batch/s, val_loss=0.0383]\n"
     ]
    },
    {
     "name": "stdout",
     "output_type": "stream",
     "text": [
      "\n",
      "epoch: 23 training loss = 0.0052,  & test loss = 0.0383\n",
      "\n"
     ]
    },
    {
     "name": "stderr",
     "output_type": "stream",
     "text": [
      "Training: : 100%|███████████████████████████████████████████████████████████████████████████████████████| 7/7 [00:00<00:00, 196.67batch/s, loss=0.00511]\n",
      "Validation: : 100%|██████████████████████████████████████████████████████████████████████████████████| 1/1 [00:00<00:00, 461.42batch/s, val_loss=0.0381]\n"
     ]
    },
    {
     "name": "stdout",
     "output_type": "stream",
     "text": [
      "\n",
      "epoch: 24 training loss = 0.0051,  & test loss = 0.0381\n",
      "\n"
     ]
    },
    {
     "name": "stderr",
     "output_type": "stream",
     "text": [
      "Training: : 100%|████████████████████████████████████████████████████████████████████████████████████████| 7/7 [00:00<00:00, 83.82batch/s, loss=0.00506]\n",
      "Validation: : 100%|██████████████████████████████████████████████████████████████████████████████████| 1/1 [00:00<00:00, 451.58batch/s, val_loss=0.0374]\n"
     ]
    },
    {
     "name": "stdout",
     "output_type": "stream",
     "text": [
      "\n",
      "epoch: 25 training loss = 0.0051,  & test loss = 0.0374\n",
      "\n"
     ]
    },
    {
     "name": "stderr",
     "output_type": "stream",
     "text": [
      "Training: : 100%|███████████████████████████████████████████████████████████████████████████████████████| 7/7 [00:00<00:00, 195.78batch/s, loss=0.00502]\n",
      "Validation: : 100%|██████████████████████████████████████████████████████████████████████████████████| 1/1 [00:00<00:00, 455.26batch/s, val_loss=0.0371]\n"
     ]
    },
    {
     "name": "stdout",
     "output_type": "stream",
     "text": [
      "\n",
      "epoch: 26 training loss = 0.0050,  & test loss = 0.0371\n",
      "\n"
     ]
    },
    {
     "name": "stderr",
     "output_type": "stream",
     "text": [
      "Training: : 100%|███████████████████████████████████████████████████████████████████████████████████████| 7/7 [00:00<00:00, 193.22batch/s, loss=0.00499]\n",
      "Validation: : 100%|██████████████████████████████████████████████████████████████████████████████████| 1/1 [00:00<00:00, 452.02batch/s, val_loss=0.0369]\n"
     ]
    },
    {
     "name": "stdout",
     "output_type": "stream",
     "text": [
      "\n",
      "epoch: 27 training loss = 0.0050,  & test loss = 0.0369\n",
      "\n"
     ]
    },
    {
     "name": "stderr",
     "output_type": "stream",
     "text": [
      "Training: : 100%|███████████████████████████████████████████████████████████████████████████████████████| 7/7 [00:00<00:00, 194.60batch/s, loss=0.00495]\n",
      "Validation: : 100%|██████████████████████████████████████████████████████████████████████████████████| 1/1 [00:00<00:00, 453.98batch/s, val_loss=0.0366]\n"
     ]
    },
    {
     "name": "stdout",
     "output_type": "stream",
     "text": [
      "\n",
      "epoch: 28 training loss = 0.0050,  & test loss = 0.0366\n",
      "\n"
     ]
    },
    {
     "name": "stderr",
     "output_type": "stream",
     "text": [
      "Training: : 100%|███████████████████████████████████████████████████████████████████████████████████████| 7/7 [00:00<00:00, 194.22batch/s, loss=0.00493]\n",
      "Validation: : 100%|██████████████████████████████████████████████████████████████████████████████████| 1/1 [00:00<00:00, 500.81batch/s, val_loss=0.0364]\n"
     ]
    },
    {
     "name": "stdout",
     "output_type": "stream",
     "text": [
      "\n",
      "epoch: 29 training loss = 0.0049,  & test loss = 0.0364\n",
      "\n"
     ]
    },
    {
     "name": "stderr",
     "output_type": "stream",
     "text": [
      "Training: : 100%|████████████████████████████████████████████████████████████████████████████████████████| 7/7 [00:00<00:00, 196.67batch/s, loss=0.0049]\n",
      "Validation: : 100%|██████████████████████████████████████████████████████████████████████████████████| 1/1 [00:00<00:00, 475.01batch/s, val_loss=0.0363]\n"
     ]
    },
    {
     "name": "stdout",
     "output_type": "stream",
     "text": [
      "\n",
      "epoch: 30 training loss = 0.0049,  & test loss = 0.0363\n",
      "\n"
     ]
    },
    {
     "name": "stderr",
     "output_type": "stream",
     "text": [
      "Training: : 100%|███████████████████████████████████████████████████████████████████████████████████████| 7/7 [00:00<00:00, 197.25batch/s, loss=0.00488]\n",
      "Validation: : 100%|██████████████████████████████████████████████████████████████████████████████████| 1/1 [00:00<00:00, 454.77batch/s, val_loss=0.0361]\n"
     ]
    },
    {
     "name": "stdout",
     "output_type": "stream",
     "text": [
      "\n",
      "epoch: 31 training loss = 0.0049,  & test loss = 0.0361\n",
      "\n"
     ]
    },
    {
     "name": "stderr",
     "output_type": "stream",
     "text": [
      "Training: : 100%|███████████████████████████████████████████████████████████████████████████████████████| 7/7 [00:00<00:00, 196.18batch/s, loss=0.00485]\n",
      "Validation: : 100%|███████████████████████████████████████████████████████████████████████████████████| 1/1 [00:00<00:00, 442.25batch/s, val_loss=0.036]\n"
     ]
    },
    {
     "name": "stdout",
     "output_type": "stream",
     "text": [
      "\n",
      "epoch: 32 training loss = 0.0049,  & test loss = 0.0360\n",
      "\n"
     ]
    },
    {
     "name": "stderr",
     "output_type": "stream",
     "text": [
      "Training: : 100%|███████████████████████████████████████████████████████████████████████████████████████| 7/7 [00:00<00:00, 196.53batch/s, loss=0.00484]\n",
      "Validation: : 100%|██████████████████████████████████████████████████████████████████████████████████| 1/1 [00:00<00:00, 447.34batch/s, val_loss=0.0359]\n"
     ]
    },
    {
     "name": "stdout",
     "output_type": "stream",
     "text": [
      "\n",
      "epoch: 33 training loss = 0.0048,  & test loss = 0.0359\n",
      "\n"
     ]
    },
    {
     "name": "stderr",
     "output_type": "stream",
     "text": [
      "Training: : 100%|███████████████████████████████████████████████████████████████████████████████████████| 7/7 [00:00<00:00, 195.97batch/s, loss=0.00482]\n",
      "Validation: : 100%|██████████████████████████████████████████████████████████████████████████████████| 1/1 [00:00<00:00, 474.52batch/s, val_loss=0.0358]\n"
     ]
    },
    {
     "name": "stdout",
     "output_type": "stream",
     "text": [
      "\n",
      "epoch: 34 training loss = 0.0048,  & test loss = 0.0358\n",
      "\n"
     ]
    },
    {
     "name": "stderr",
     "output_type": "stream",
     "text": [
      "Training: : 100%|████████████████████████████████████████████████████████████████████████████████████████| 7/7 [00:00<00:00, 194.56batch/s, loss=0.0048]\n",
      "Validation: : 100%|██████████████████████████████████████████████████████████████████████████████████| 1/1 [00:00<00:00, 473.34batch/s, val_loss=0.0356]\n"
     ]
    },
    {
     "name": "stdout",
     "output_type": "stream",
     "text": [
      "\n",
      "epoch: 35 training loss = 0.0048,  & test loss = 0.0356\n",
      "\n"
     ]
    },
    {
     "name": "stderr",
     "output_type": "stream",
     "text": [
      "Training: : 100%|███████████████████████████████████████████████████████████████████████████████████████| 7/7 [00:00<00:00, 195.26batch/s, loss=0.00478]\n",
      "Validation: : 100%|██████████████████████████████████████████████████████████████████████████████████| 1/1 [00:00<00:00, 459.40batch/s, val_loss=0.0356]\n"
     ]
    },
    {
     "name": "stdout",
     "output_type": "stream",
     "text": [
      "\n",
      "epoch: 36 training loss = 0.0048,  & test loss = 0.0356\n",
      "\n"
     ]
    },
    {
     "name": "stderr",
     "output_type": "stream",
     "text": [
      "Training: : 100%|███████████████████████████████████████████████████████████████████████████████████████| 7/7 [00:00<00:00, 196.48batch/s, loss=0.00477]\n",
      "Validation: : 100%|██████████████████████████████████████████████████████████████████████████████████| 1/1 [00:00<00:00, 467.44batch/s, val_loss=0.0355]\n"
     ]
    },
    {
     "name": "stdout",
     "output_type": "stream",
     "text": [
      "\n",
      "epoch: 37 training loss = 0.0048,  & test loss = 0.0355\n",
      "\n"
     ]
    },
    {
     "name": "stderr",
     "output_type": "stream",
     "text": [
      "Training: : 100%|███████████████████████████████████████████████████████████████████████████████████████| 7/7 [00:00<00:00, 193.74batch/s, loss=0.00475]\n",
      "Validation: : 100%|██████████████████████████████████████████████████████████████████████████████████| 1/1 [00:00<00:00, 485.23batch/s, val_loss=0.0355]\n"
     ]
    },
    {
     "name": "stdout",
     "output_type": "stream",
     "text": [
      "\n",
      "epoch: 38 training loss = 0.0047,  & test loss = 0.0355\n",
      "\n"
     ]
    },
    {
     "name": "stderr",
     "output_type": "stream",
     "text": [
      "Training: : 100%|███████████████████████████████████████████████████████████████████████████████████████| 7/7 [00:00<00:00, 192.31batch/s, loss=0.00474]\n",
      "Validation: : 100%|██████████████████████████████████████████████████████████████████████████████████| 1/1 [00:00<00:00, 483.66batch/s, val_loss=0.0354]\n"
     ]
    },
    {
     "name": "stdout",
     "output_type": "stream",
     "text": [
      "\n",
      "epoch: 39 training loss = 0.0047,  & test loss = 0.0354\n",
      "\n"
     ]
    },
    {
     "name": "stderr",
     "output_type": "stream",
     "text": [
      "Training: : 100%|███████████████████████████████████████████████████████████████████████████████████████| 7/7 [00:00<00:00, 195.35batch/s, loss=0.00472]\n",
      "Validation: : 100%|██████████████████████████████████████████████████████████████████████████████████| 1/1 [00:00<00:00, 442.16batch/s, val_loss=0.0354]\n"
     ]
    },
    {
     "name": "stdout",
     "output_type": "stream",
     "text": [
      "\n",
      "epoch: 40 training loss = 0.0047,  & test loss = 0.0354\n",
      "\n"
     ]
    },
    {
     "name": "stderr",
     "output_type": "stream",
     "text": [
      "Training: : 100%|███████████████████████████████████████████████████████████████████████████████████████| 7/7 [00:00<00:00, 194.12batch/s, loss=0.00471]\n",
      "Validation: : 100%|██████████████████████████████████████████████████████████████████████████████████| 1/1 [00:00<00:00, 477.98batch/s, val_loss=0.0353]\n"
     ]
    },
    {
     "name": "stdout",
     "output_type": "stream",
     "text": [
      "\n",
      "epoch: 41 training loss = 0.0047,  & test loss = 0.0353\n",
      "\n"
     ]
    },
    {
     "name": "stderr",
     "output_type": "stream",
     "text": [
      "Training: : 100%|███████████████████████████████████████████████████████████████████████████████████████| 7/7 [00:00<00:00, 193.80batch/s, loss=0.00469]\n",
      "Validation: : 100%|██████████████████████████████████████████████████████████████████████████████████| 1/1 [00:00<00:00, 492.52batch/s, val_loss=0.0354]\n"
     ]
    },
    {
     "name": "stdout",
     "output_type": "stream",
     "text": [
      "\n",
      "epoch: 42 training loss = 0.0047,  & test loss = 0.0354\n",
      "\n"
     ]
    },
    {
     "name": "stderr",
     "output_type": "stream",
     "text": [
      "Training: : 100%|███████████████████████████████████████████████████████████████████████████████████████| 7/7 [00:00<00:00, 192.45batch/s, loss=0.00468]\n",
      "Validation: : 100%|██████████████████████████████████████████████████████████████████████████████████| 1/1 [00:00<00:00, 460.05batch/s, val_loss=0.0354]\n"
     ]
    },
    {
     "name": "stdout",
     "output_type": "stream",
     "text": [
      "\n",
      "epoch: 43 training loss = 0.0047,  & test loss = 0.0354\n",
      "\n"
     ]
    },
    {
     "name": "stderr",
     "output_type": "stream",
     "text": [
      "Training: : 100%|███████████████████████████████████████████████████████████████████████████████████████| 7/7 [00:00<00:00, 196.02batch/s, loss=0.00467]\n",
      "Validation: : 100%|██████████████████████████████████████████████████████████████████████████████████| 1/1 [00:00<00:00, 472.97batch/s, val_loss=0.0353]\n"
     ]
    },
    {
     "name": "stdout",
     "output_type": "stream",
     "text": [
      "\n",
      "epoch: 44 training loss = 0.0047,  & test loss = 0.0353\n",
      "\n"
     ]
    },
    {
     "name": "stderr",
     "output_type": "stream",
     "text": [
      "Training: : 100%|███████████████████████████████████████████████████████████████████████████████████████| 7/7 [00:00<00:00, 193.16batch/s, loss=0.00468]\n",
      "Validation: : 100%|██████████████████████████████████████████████████████████████████████████████████| 1/1 [00:00<00:00, 465.62batch/s, val_loss=0.0354]\n"
     ]
    },
    {
     "name": "stdout",
     "output_type": "stream",
     "text": [
      "\n",
      "epoch: 45 training loss = 0.0047,  & test loss = 0.0354\n",
      "\n"
     ]
    },
    {
     "name": "stderr",
     "output_type": "stream",
     "text": [
      "Training: : 100%|███████████████████████████████████████████████████████████████████████████████████████| 7/7 [00:00<00:00, 194.56batch/s, loss=0.00467]\n",
      "Validation: : 100%|██████████████████████████████████████████████████████████████████████████████████| 1/1 [00:00<00:00, 475.76batch/s, val_loss=0.0353]\n"
     ]
    },
    {
     "name": "stdout",
     "output_type": "stream",
     "text": [
      "\n",
      "epoch: 46 training loss = 0.0047,  & test loss = 0.0353\n",
      "\n"
     ]
    },
    {
     "name": "stderr",
     "output_type": "stream",
     "text": [
      "Training: : 100%|███████████████████████████████████████████████████████████████████████████████████████| 7/7 [00:00<00:00, 190.76batch/s, loss=0.00478]\n",
      "Validation: : 100%|██████████████████████████████████████████████████████████████████████████████████| 1/1 [00:00<00:00, 453.88batch/s, val_loss=0.0355]\n"
     ]
    },
    {
     "name": "stdout",
     "output_type": "stream",
     "text": [
      "\n",
      "epoch: 47 training loss = 0.0048,  & test loss = 0.0355\n",
      "\n"
     ]
    },
    {
     "name": "stderr",
     "output_type": "stream",
     "text": [
      "Training: : 100%|███████████████████████████████████████████████████████████████████████████████████████| 7/7 [00:00<00:00, 195.76batch/s, loss=0.00478]\n",
      "Validation: : 100%|███████████████████████████████████████████████████████████████████████████████████| 1/1 [00:00<00:00, 437.09batch/s, val_loss=0.035]\n"
     ]
    },
    {
     "name": "stdout",
     "output_type": "stream",
     "text": [
      "\n",
      "epoch: 48 training loss = 0.0048,  & test loss = 0.0350\n",
      "\n"
     ]
    },
    {
     "name": "stderr",
     "output_type": "stream",
     "text": [
      "Training: : 100%|███████████████████████████████████████████████████████████████████████████████████████| 7/7 [00:00<00:00, 194.44batch/s, loss=0.00519]\n",
      "Validation: : 100%|██████████████████████████████████████████████████████████████████████████████████| 1/1 [00:00<00:00, 450.76batch/s, val_loss=0.0356]\n"
     ]
    },
    {
     "name": "stdout",
     "output_type": "stream",
     "text": [
      "\n",
      "epoch: 49 training loss = 0.0052,  & test loss = 0.0356\n",
      "\n"
     ]
    },
    {
     "name": "stderr",
     "output_type": "stream",
     "text": [
      "Training: : 100%|████████████████████████████████████████████████████████████████████████████████████████| 7/7 [00:00<00:00, 194.62batch/s, loss=0.0048]\n",
      "Validation: : 100%|██████████████████████████████████████████████████████████████████████████████████| 1/1 [00:00<00:00, 439.19batch/s, val_loss=0.0354]\n"
     ]
    },
    {
     "name": "stdout",
     "output_type": "stream",
     "text": [
      "\n",
      "epoch: 50 training loss = 0.0048,  & test loss = 0.0354\n",
      "\n"
     ]
    },
    {
     "name": "stderr",
     "output_type": "stream",
     "text": [
      "Training: : 100%|███████████████████████████████████████████████████████████████████████████████████████| 7/7 [00:00<00:00, 195.86batch/s, loss=0.00542]\n",
      "Validation: : 100%|██████████████████████████████████████████████████████████████████████████████████| 1/1 [00:00<00:00, 477.00batch/s, val_loss=0.0358]\n"
     ]
    },
    {
     "name": "stdout",
     "output_type": "stream",
     "text": [
      "\n",
      "epoch: 51 training loss = 0.0054,  & test loss = 0.0358\n",
      "\n"
     ]
    },
    {
     "name": "stderr",
     "output_type": "stream",
     "text": [
      "Training: : 100%|███████████████████████████████████████████████████████████████████████████████████████| 7/7 [00:00<00:00, 194.95batch/s, loss=0.00523]\n",
      "Validation: : 100%|██████████████████████████████████████████████████████████████████████████████████| 1/1 [00:00<00:00, 454.57batch/s, val_loss=0.0368]\n"
     ]
    },
    {
     "name": "stdout",
     "output_type": "stream",
     "text": [
      "\n",
      "epoch: 52 training loss = 0.0052,  & test loss = 0.0368\n",
      "\n"
     ]
    },
    {
     "name": "stderr",
     "output_type": "stream",
     "text": [
      "Training: : 100%|███████████████████████████████████████████████████████████████████████████████████████| 7/7 [00:00<00:00, 194.06batch/s, loss=0.00628]\n",
      "Validation: : 100%|██████████████████████████████████████████████████████████████████████████████████| 1/1 [00:00<00:00, 480.78batch/s, val_loss=0.0329]\n"
     ]
    },
    {
     "name": "stdout",
     "output_type": "stream",
     "text": [
      "\n",
      "epoch: 53 training loss = 0.0063,  & test loss = 0.0329\n",
      "\n"
     ]
    },
    {
     "name": "stderr",
     "output_type": "stream",
     "text": [
      "Training: : 100%|███████████████████████████████████████████████████████████████████████████████████████| 7/7 [00:00<00:00, 192.99batch/s, loss=0.00609]\n",
      "Validation: : 100%|██████████████████████████████████████████████████████████████████████████████████| 1/1 [00:00<00:00, 464.38batch/s, val_loss=0.0434]\n"
     ]
    },
    {
     "name": "stdout",
     "output_type": "stream",
     "text": [
      "\n",
      "epoch: 54 training loss = 0.0061,  & test loss = 0.0434\n",
      "\n"
     ]
    },
    {
     "name": "stderr",
     "output_type": "stream",
     "text": [
      "Training: : 100%|███████████████████████████████████████████████████████████████████████████████████████| 7/7 [00:00<00:00, 194.34batch/s, loss=0.00695]\n",
      "Validation: : 100%|███████████████████████████████████████████████████████████████████████████████████| 1/1 [00:00<00:00, 476.63batch/s, val_loss=0.027]\n"
     ]
    },
    {
     "name": "stdout",
     "output_type": "stream",
     "text": [
      "\n",
      "epoch: 55 training loss = 0.0069,  & test loss = 0.0270\n",
      "\n"
     ]
    },
    {
     "name": "stderr",
     "output_type": "stream",
     "text": [
      "Training: : 100%|███████████████████████████████████████████████████████████████████████████████████████| 7/7 [00:00<00:00, 191.34batch/s, loss=0.00516]\n",
      "Validation: : 100%|██████████████████████████████████████████████████████████████████████████████████| 1/1 [00:00<00:00, 497.01batch/s, val_loss=0.0473]\n"
     ]
    },
    {
     "name": "stdout",
     "output_type": "stream",
     "text": [
      "\n",
      "epoch: 56 training loss = 0.0052,  & test loss = 0.0473\n",
      "\n"
     ]
    },
    {
     "name": "stderr",
     "output_type": "stream",
     "text": [
      "Training: : 100%|███████████████████████████████████████████████████████████████████████████████████████| 7/7 [00:00<00:00, 195.21batch/s, loss=0.00477]\n",
      "Validation: : 100%|██████████████████████████████████████████████████████████████████████████████████| 1/1 [00:00<00:00, 500.33batch/s, val_loss=0.0368]\n"
     ]
    },
    {
     "name": "stdout",
     "output_type": "stream",
     "text": [
      "\n",
      "epoch: 57 training loss = 0.0048,  & test loss = 0.0368\n",
      "\n"
     ]
    },
    {
     "name": "stderr",
     "output_type": "stream",
     "text": [
      "Training: : 100%|███████████████████████████████████████████████████████████████████████████████████████| 7/7 [00:00<00:00, 193.13batch/s, loss=0.00489]\n",
      "Validation: : 100%|███████████████████████████████████████████████████████████████████████████████████| 1/1 [00:00<00:00, 432.76batch/s, val_loss=0.037]\n"
     ]
    },
    {
     "name": "stdout",
     "output_type": "stream",
     "text": [
      "\n",
      "epoch: 58 training loss = 0.0049,  & test loss = 0.0370\n",
      "\n"
     ]
    },
    {
     "name": "stderr",
     "output_type": "stream",
     "text": [
      "Training: : 100%|███████████████████████████████████████████████████████████████████████████████████████| 7/7 [00:00<00:00, 194.76batch/s, loss=0.00467]\n",
      "Validation: : 100%|██████████████████████████████████████████████████████████████████████████████████| 1/1 [00:00<00:00, 490.22batch/s, val_loss=0.0402]\n"
     ]
    },
    {
     "name": "stdout",
     "output_type": "stream",
     "text": [
      "\n",
      "epoch: 59 training loss = 0.0047,  & test loss = 0.0402\n",
      "\n"
     ]
    },
    {
     "name": "stderr",
     "output_type": "stream",
     "text": [
      "Training: : 100%|███████████████████████████████████████████████████████████████████████████████████████| 7/7 [00:00<00:00, 196.86batch/s, loss=0.00471]\n",
      "Validation: : 100%|██████████████████████████████████████████████████████████████████████████████████| 1/1 [00:00<00:00, 474.68batch/s, val_loss=0.0357]\n"
     ]
    },
    {
     "name": "stdout",
     "output_type": "stream",
     "text": [
      "\n",
      "epoch: 60 training loss = 0.0047,  & test loss = 0.0357\n",
      "\n"
     ]
    },
    {
     "name": "stderr",
     "output_type": "stream",
     "text": [
      "Training: : 100%|███████████████████████████████████████████████████████████████████████████████████████| 7/7 [00:00<00:00, 192.24batch/s, loss=0.00458]\n",
      "Validation: : 100%|██████████████████████████████████████████████████████████████████████████████████| 1/1 [00:00<00:00, 489.53batch/s, val_loss=0.0381]\n"
     ]
    },
    {
     "name": "stdout",
     "output_type": "stream",
     "text": [
      "\n",
      "epoch: 61 training loss = 0.0046,  & test loss = 0.0381\n",
      "\n"
     ]
    },
    {
     "name": "stderr",
     "output_type": "stream",
     "text": [
      "Training: : 100%|███████████████████████████████████████████████████████████████████████████████████████| 7/7 [00:00<00:00, 194.53batch/s, loss=0.00457]\n",
      "Validation: : 100%|██████████████████████████████████████████████████████████████████████████████████| 1/1 [00:00<00:00, 440.62batch/s, val_loss=0.0365]\n"
     ]
    },
    {
     "name": "stdout",
     "output_type": "stream",
     "text": [
      "\n",
      "epoch: 62 training loss = 0.0046,  & test loss = 0.0365\n",
      "\n"
     ]
    },
    {
     "name": "stderr",
     "output_type": "stream",
     "text": [
      "Training: : 100%|███████████████████████████████████████████████████████████████████████████████████████| 7/7 [00:00<00:00, 194.97batch/s, loss=0.00454]\n",
      "Validation: : 100%|██████████████████████████████████████████████████████████████████████████████████| 1/1 [00:00<00:00, 461.32batch/s, val_loss=0.0366]\n"
     ]
    },
    {
     "name": "stdout",
     "output_type": "stream",
     "text": [
      "\n",
      "epoch: 63 training loss = 0.0045,  & test loss = 0.0366\n",
      "\n"
     ]
    },
    {
     "name": "stderr",
     "output_type": "stream",
     "text": [
      "Training: : 100%|███████████████████████████████████████████████████████████████████████████████████████| 7/7 [00:00<00:00, 194.84batch/s, loss=0.00453]\n",
      "Validation: : 100%|██████████████████████████████████████████████████████████████████████████████████| 1/1 [00:00<00:00, 481.16batch/s, val_loss=0.0367]\n"
     ]
    },
    {
     "name": "stdout",
     "output_type": "stream",
     "text": [
      "\n",
      "epoch: 64 training loss = 0.0045,  & test loss = 0.0367\n",
      "\n"
     ]
    },
    {
     "name": "stderr",
     "output_type": "stream",
     "text": [
      "Training: : 100%|███████████████████████████████████████████████████████████████████████████████████████| 7/7 [00:00<00:00, 194.58batch/s, loss=0.00451]\n",
      "Validation: : 100%|██████████████████████████████████████████████████████████████████████████████████| 1/1 [00:00<00:00, 505.34batch/s, val_loss=0.0362]\n"
     ]
    },
    {
     "name": "stdout",
     "output_type": "stream",
     "text": [
      "\n",
      "epoch: 65 training loss = 0.0045,  & test loss = 0.0362\n",
      "\n"
     ]
    },
    {
     "name": "stderr",
     "output_type": "stream",
     "text": [
      "Training: : 100%|███████████████████████████████████████████████████████████████████████████████████████| 7/7 [00:00<00:00, 196.39batch/s, loss=0.00455]\n",
      "Validation: : 100%|██████████████████████████████████████████████████████████████████████████████████| 1/1 [00:00<00:00, 438.23batch/s, val_loss=0.0365]\n"
     ]
    },
    {
     "name": "stdout",
     "output_type": "stream",
     "text": [
      "\n",
      "epoch: 66 training loss = 0.0045,  & test loss = 0.0365\n",
      "\n"
     ]
    },
    {
     "name": "stderr",
     "output_type": "stream",
     "text": [
      "Training: : 100%|███████████████████████████████████████████████████████████████████████████████████████| 7/7 [00:00<00:00, 198.30batch/s, loss=0.00453]\n",
      "Validation: : 100%|██████████████████████████████████████████████████████████████████████████████████| 1/1 [00:00<00:00, 456.85batch/s, val_loss=0.0363]\n"
     ]
    },
    {
     "name": "stdout",
     "output_type": "stream",
     "text": [
      "\n",
      "epoch: 67 training loss = 0.0045,  & test loss = 0.0363\n",
      "\n"
     ]
    },
    {
     "name": "stderr",
     "output_type": "stream",
     "text": [
      "Training: : 100%|███████████████████████████████████████████████████████████████████████████████████████| 7/7 [00:00<00:00, 195.50batch/s, loss=0.00473]\n",
      "Validation: : 100%|██████████████████████████████████████████████████████████████████████████████████| 1/1 [00:00<00:00, 441.97batch/s, val_loss=0.0364]\n"
     ]
    },
    {
     "name": "stdout",
     "output_type": "stream",
     "text": [
      "\n",
      "epoch: 68 training loss = 0.0047,  & test loss = 0.0364\n",
      "\n"
     ]
    },
    {
     "name": "stderr",
     "output_type": "stream",
     "text": [
      "Training: : 100%|████████████████████████████████████████████████████████████████████████████████████████| 7/7 [00:00<00:00, 194.38batch/s, loss=0.0046]\n",
      "Validation: : 100%|██████████████████████████████████████████████████████████████████████████████████| 1/1 [00:00<00:00, 489.99batch/s, val_loss=0.0367]\n"
     ]
    },
    {
     "name": "stdout",
     "output_type": "stream",
     "text": [
      "\n",
      "epoch: 69 training loss = 0.0046,  & test loss = 0.0367\n",
      "\n"
     ]
    },
    {
     "name": "stderr",
     "output_type": "stream",
     "text": [
      "Training: : 100%|███████████████████████████████████████████████████████████████████████████████████████| 7/7 [00:00<00:00, 196.68batch/s, loss=0.00497]\n",
      "Validation: : 100%|███████████████████████████████████████████████████████████████████████████████████| 1/1 [00:00<00:00, 463.31batch/s, val_loss=0.036]\n"
     ]
    },
    {
     "name": "stdout",
     "output_type": "stream",
     "text": [
      "\n",
      "epoch: 70 training loss = 0.0050,  & test loss = 0.0360\n",
      "\n"
     ]
    },
    {
     "name": "stderr",
     "output_type": "stream",
     "text": [
      "Training: : 100%|███████████████████████████████████████████████████████████████████████████████████████| 7/7 [00:00<00:00, 197.42batch/s, loss=0.00459]\n",
      "Validation: : 100%|██████████████████████████████████████████████████████████████████████████████████| 1/1 [00:00<00:00, 478.91batch/s, val_loss=0.0374]\n"
     ]
    },
    {
     "name": "stdout",
     "output_type": "stream",
     "text": [
      "\n",
      "epoch: 71 training loss = 0.0046,  & test loss = 0.0374\n",
      "\n"
     ]
    },
    {
     "name": "stderr",
     "output_type": "stream",
     "text": [
      "Training: : 100%|███████████████████████████████████████████████████████████████████████████████████████| 7/7 [00:00<00:00, 194.38batch/s, loss=0.00484]\n",
      "Validation: : 100%|██████████████████████████████████████████████████████████████████████████████████| 1/1 [00:00<00:00, 474.42batch/s, val_loss=0.0354]\n"
     ]
    },
    {
     "name": "stdout",
     "output_type": "stream",
     "text": [
      "\n",
      "epoch: 72 training loss = 0.0048,  & test loss = 0.0354\n",
      "\n"
     ]
    },
    {
     "name": "stderr",
     "output_type": "stream",
     "text": [
      "Training: : 100%|███████████████████████████████████████████████████████████████████████████████████████| 7/7 [00:00<00:00, 194.09batch/s, loss=0.00462]\n",
      "Validation: : 100%|██████████████████████████████████████████████████████████████████████████████████| 1/1 [00:00<00:00, 447.77batch/s, val_loss=0.0375]\n"
     ]
    },
    {
     "name": "stdout",
     "output_type": "stream",
     "text": [
      "\n",
      "epoch: 73 training loss = 0.0046,  & test loss = 0.0375\n",
      "\n"
     ]
    },
    {
     "name": "stderr",
     "output_type": "stream",
     "text": [
      "Training: : 100%|████████████████████████████████████████████████████████████████████████████████████████| 7/7 [00:00<00:00, 192.98batch/s, loss=0.0047]\n",
      "Validation: : 100%|██████████████████████████████████████████████████████████████████████████████████| 1/1 [00:00<00:00, 458.85batch/s, val_loss=0.0364]\n"
     ]
    },
    {
     "name": "stdout",
     "output_type": "stream",
     "text": [
      "\n",
      "epoch: 74 training loss = 0.0047,  & test loss = 0.0364\n",
      "\n"
     ]
    },
    {
     "name": "stderr",
     "output_type": "stream",
     "text": [
      "Training: : 100%|████████████████████████████████████████████████████████████████████████████████████████| 7/7 [00:00<00:00, 195.43batch/s, loss=0.0044]\n",
      "Validation: : 100%|██████████████████████████████████████████████████████████████████████████████████| 1/1 [00:00<00:00, 475.71batch/s, val_loss=0.0374]\n"
     ]
    },
    {
     "name": "stdout",
     "output_type": "stream",
     "text": [
      "\n",
      "epoch: 75 training loss = 0.0044,  & test loss = 0.0374\n",
      "\n"
     ]
    },
    {
     "name": "stderr",
     "output_type": "stream",
     "text": [
      "Training: : 100%|███████████████████████████████████████████████████████████████████████████████████████| 7/7 [00:00<00:00, 194.47batch/s, loss=0.00441]\n",
      "Validation: : 100%|██████████████████████████████████████████████████████████████████████████████████| 1/1 [00:00<00:00, 480.67batch/s, val_loss=0.0367]\n"
     ]
    },
    {
     "name": "stdout",
     "output_type": "stream",
     "text": [
      "\n",
      "epoch: 76 training loss = 0.0044,  & test loss = 0.0367\n",
      "\n"
     ]
    },
    {
     "name": "stderr",
     "output_type": "stream",
     "text": [
      "Training: : 100%|███████████████████████████████████████████████████████████████████████████████████████| 7/7 [00:00<00:00, 193.95batch/s, loss=0.00434]\n",
      "Validation: : 100%|██████████████████████████████████████████████████████████████████████████████████| 1/1 [00:00<00:00, 481.55batch/s, val_loss=0.0376]\n"
     ]
    },
    {
     "name": "stdout",
     "output_type": "stream",
     "text": [
      "\n",
      "epoch: 77 training loss = 0.0043,  & test loss = 0.0376\n",
      "\n"
     ]
    },
    {
     "name": "stderr",
     "output_type": "stream",
     "text": [
      "Training: : 100%|███████████████████████████████████████████████████████████████████████████████████████| 7/7 [00:00<00:00, 193.75batch/s, loss=0.00447]\n",
      "Validation: : 100%|███████████████████████████████████████████████████████████████████████████████████| 1/1 [00:00<00:00, 472.65batch/s, val_loss=0.037]\n"
     ]
    },
    {
     "name": "stdout",
     "output_type": "stream",
     "text": [
      "\n",
      "epoch: 78 training loss = 0.0045,  & test loss = 0.0370\n",
      "\n"
     ]
    },
    {
     "name": "stderr",
     "output_type": "stream",
     "text": [
      "Training: : 100%|███████████████████████████████████████████████████████████████████████████████████████| 7/7 [00:00<00:00, 196.60batch/s, loss=0.00448]\n",
      "Validation: : 100%|██████████████████████████████████████████████████████████████████████████████████| 1/1 [00:00<00:00, 477.87batch/s, val_loss=0.0374]\n"
     ]
    },
    {
     "name": "stdout",
     "output_type": "stream",
     "text": [
      "\n",
      "epoch: 79 training loss = 0.0045,  & test loss = 0.0374\n",
      "\n"
     ]
    },
    {
     "name": "stderr",
     "output_type": "stream",
     "text": [
      "Training: : 100%|███████████████████████████████████████████████████████████████████████████████████████| 7/7 [00:00<00:00, 193.06batch/s, loss=0.00505]\n",
      "Validation: : 100%|███████████████████████████████████████████████████████████████████████████████████| 1/1 [00:00<00:00, 477.06batch/s, val_loss=0.037]\n"
     ]
    },
    {
     "name": "stdout",
     "output_type": "stream",
     "text": [
      "\n",
      "epoch: 80 training loss = 0.0050,  & test loss = 0.0370\n",
      "\n"
     ]
    },
    {
     "name": "stderr",
     "output_type": "stream",
     "text": [
      "Training: : 100%|███████████████████████████████████████████████████████████████████████████████████████| 7/7 [00:00<00:00, 195.25batch/s, loss=0.00535]\n",
      "Validation: : 100%|███████████████████████████████████████████████████████████████████████████████████| 1/1 [00:00<00:00, 461.27batch/s, val_loss=0.039]\n"
     ]
    },
    {
     "name": "stdout",
     "output_type": "stream",
     "text": [
      "\n",
      "epoch: 81 training loss = 0.0054,  & test loss = 0.0390\n",
      "\n"
     ]
    },
    {
     "name": "stderr",
     "output_type": "stream",
     "text": [
      "Training: : 100%|███████████████████████████████████████████████████████████████████████████████████████| 7/7 [00:00<00:00, 193.79batch/s, loss=0.00713]\n",
      "Validation: : 100%|███████████████████████████████████████████████████████████████████████████████████| 1/1 [00:00<00:00, 470.42batch/s, val_loss=0.032]\n"
     ]
    },
    {
     "name": "stdout",
     "output_type": "stream",
     "text": [
      "\n",
      "epoch: 82 training loss = 0.0071,  & test loss = 0.0320\n",
      "\n"
     ]
    },
    {
     "name": "stderr",
     "output_type": "stream",
     "text": [
      "Training: : 100%|███████████████████████████████████████████████████████████████████████████████████████| 7/7 [00:00<00:00, 192.61batch/s, loss=0.00678]\n",
      "Validation: : 100%|██████████████████████████████████████████████████████████████████████████████████| 1/1 [00:00<00:00, 484.11batch/s, val_loss=0.0465]\n"
     ]
    },
    {
     "name": "stdout",
     "output_type": "stream",
     "text": [
      "\n",
      "epoch: 83 training loss = 0.0068,  & test loss = 0.0465\n",
      "\n"
     ]
    },
    {
     "name": "stderr",
     "output_type": "stream",
     "text": [
      "Training: : 100%|███████████████████████████████████████████████████████████████████████████████████████| 7/7 [00:00<00:00, 194.28batch/s, loss=0.00721]\n",
      "Validation: : 100%|██████████████████████████████████████████████████████████████████████████████████| 1/1 [00:00<00:00, 440.44batch/s, val_loss=0.0298]\n"
     ]
    },
    {
     "name": "stdout",
     "output_type": "stream",
     "text": [
      "\n",
      "epoch: 84 training loss = 0.0072,  & test loss = 0.0298\n",
      "\n"
     ]
    },
    {
     "name": "stderr",
     "output_type": "stream",
     "text": [
      "Training: : 100%|███████████████████████████████████████████████████████████████████████████████████████| 7/7 [00:00<00:00, 194.92batch/s, loss=0.00585]\n",
      "Validation: : 100%|██████████████████████████████████████████████████████████████████████████████████| 1/1 [00:00<00:00, 468.85batch/s, val_loss=0.0478]\n"
     ]
    },
    {
     "name": "stdout",
     "output_type": "stream",
     "text": [
      "\n",
      "epoch: 85 training loss = 0.0058,  & test loss = 0.0478\n",
      "\n"
     ]
    },
    {
     "name": "stderr",
     "output_type": "stream",
     "text": [
      "Training: : 100%|███████████████████████████████████████████████████████████████████████████████████████| 7/7 [00:00<00:00, 196.94batch/s, loss=0.00485]\n",
      "Validation: : 100%|██████████████████████████████████████████████████████████████████████████████████| 1/1 [00:00<00:00, 472.60batch/s, val_loss=0.0368]\n"
     ]
    },
    {
     "name": "stdout",
     "output_type": "stream",
     "text": [
      "\n",
      "epoch: 86 training loss = 0.0049,  & test loss = 0.0368\n",
      "\n"
     ]
    },
    {
     "name": "stderr",
     "output_type": "stream",
     "text": [
      "Training: : 100%|███████████████████████████████████████████████████████████████████████████████████████| 7/7 [00:00<00:00, 195.10batch/s, loss=0.00466]\n",
      "Validation: : 100%|██████████████████████████████████████████████████████████████████████████████████| 1/1 [00:00<00:00, 449.36batch/s, val_loss=0.0415]\n"
     ]
    },
    {
     "name": "stdout",
     "output_type": "stream",
     "text": [
      "\n",
      "epoch: 87 training loss = 0.0047,  & test loss = 0.0415\n",
      "\n"
     ]
    },
    {
     "name": "stderr",
     "output_type": "stream",
     "text": [
      "Training: : 100%|███████████████████████████████████████████████████████████████████████████████████████| 7/7 [00:00<00:00, 194.96batch/s, loss=0.00454]\n",
      "Validation: : 100%|██████████████████████████████████████████████████████████████████████████████████| 1/1 [00:00<00:00, 471.64batch/s, val_loss=0.0387]\n"
     ]
    },
    {
     "name": "stdout",
     "output_type": "stream",
     "text": [
      "\n",
      "epoch: 88 training loss = 0.0045,  & test loss = 0.0387\n",
      "\n"
     ]
    },
    {
     "name": "stderr",
     "output_type": "stream",
     "text": [
      "Training: : 100%|███████████████████████████████████████████████████████████████████████████████████████| 7/7 [00:00<00:00, 193.61batch/s, loss=0.00434]\n",
      "Validation: : 100%|██████████████████████████████████████████████████████████████████████████████████| 1/1 [00:00<00:00, 475.71batch/s, val_loss=0.0383]\n"
     ]
    },
    {
     "name": "stdout",
     "output_type": "stream",
     "text": [
      "\n",
      "epoch: 89 training loss = 0.0043,  & test loss = 0.0383\n",
      "\n"
     ]
    },
    {
     "name": "stderr",
     "output_type": "stream",
     "text": [
      "Training: : 100%|███████████████████████████████████████████████████████████████████████████████████████| 7/7 [00:00<00:00, 195.62batch/s, loss=0.00429]\n",
      "Validation: : 100%|██████████████████████████████████████████████████████████████████████████████████| 1/1 [00:00<00:00, 481.94batch/s, val_loss=0.0392]\n"
     ]
    },
    {
     "name": "stdout",
     "output_type": "stream",
     "text": [
      "\n",
      "epoch: 90 training loss = 0.0043,  & test loss = 0.0392\n",
      "\n"
     ]
    },
    {
     "name": "stderr",
     "output_type": "stream",
     "text": [
      "Training: : 100%|████████████████████████████████████████████████████████████████████████████████████████| 7/7 [00:00<00:00, 193.10batch/s, loss=0.0043]\n",
      "Validation: : 100%|██████████████████████████████████████████████████████████████████████████████████| 1/1 [00:00<00:00, 479.95batch/s, val_loss=0.0376]\n"
     ]
    },
    {
     "name": "stdout",
     "output_type": "stream",
     "text": [
      "\n",
      "epoch: 91 training loss = 0.0043,  & test loss = 0.0376\n",
      "\n"
     ]
    },
    {
     "name": "stderr",
     "output_type": "stream",
     "text": [
      "Training: : 100%|███████████████████████████████████████████████████████████████████████████████████████| 7/7 [00:00<00:00, 193.47batch/s, loss=0.00419]\n",
      "Validation: : 100%|██████████████████████████████████████████████████████████████████████████████████| 1/1 [00:00<00:00, 468.48batch/s, val_loss=0.0394]\n"
     ]
    },
    {
     "name": "stdout",
     "output_type": "stream",
     "text": [
      "\n",
      "epoch: 92 training loss = 0.0042,  & test loss = 0.0394\n",
      "\n"
     ]
    },
    {
     "name": "stderr",
     "output_type": "stream",
     "text": [
      "Training: : 100%|███████████████████████████████████████████████████████████████████████████████████████| 7/7 [00:00<00:00, 194.88batch/s, loss=0.00421]\n",
      "Validation: : 100%|██████████████████████████████████████████████████████████████████████████████████| 1/1 [00:00<00:00, 440.02batch/s, val_loss=0.0382]\n"
     ]
    },
    {
     "name": "stdout",
     "output_type": "stream",
     "text": [
      "\n",
      "epoch: 93 training loss = 0.0042,  & test loss = 0.0382\n",
      "\n"
     ]
    },
    {
     "name": "stderr",
     "output_type": "stream",
     "text": [
      "Training: : 100%|███████████████████████████████████████████████████████████████████████████████████████| 7/7 [00:00<00:00, 195.69batch/s, loss=0.00413]\n",
      "Validation: : 100%|██████████████████████████████████████████████████████████████████████████████████| 1/1 [00:00<00:00, 475.33batch/s, val_loss=0.0396]\n"
     ]
    },
    {
     "name": "stdout",
     "output_type": "stream",
     "text": [
      "\n",
      "epoch: 94 training loss = 0.0041,  & test loss = 0.0396\n",
      "\n"
     ]
    },
    {
     "name": "stderr",
     "output_type": "stream",
     "text": [
      "Training: : 100%|███████████████████████████████████████████████████████████████████████████████████████| 7/7 [00:00<00:00, 194.18batch/s, loss=0.00414]\n",
      "Validation: : 100%|██████████████████████████████████████████████████████████████████████████████████| 1/1 [00:00<00:00, 457.59batch/s, val_loss=0.0388]\n"
     ]
    },
    {
     "name": "stdout",
     "output_type": "stream",
     "text": [
      "\n",
      "epoch: 95 training loss = 0.0041,  & test loss = 0.0388\n",
      "\n"
     ]
    },
    {
     "name": "stderr",
     "output_type": "stream",
     "text": [
      "Training: : 100%|███████████████████████████████████████████████████████████████████████████████████████| 7/7 [00:00<00:00, 196.38batch/s, loss=0.00408]\n",
      "Validation: : 100%|██████████████████████████████████████████████████████████████████████████████████| 1/1 [00:00<00:00, 479.13batch/s, val_loss=0.0396]\n"
     ]
    },
    {
     "name": "stdout",
     "output_type": "stream",
     "text": [
      "\n",
      "epoch: 96 training loss = 0.0041,  & test loss = 0.0396\n",
      "\n"
     ]
    },
    {
     "name": "stderr",
     "output_type": "stream",
     "text": [
      "Training: : 100%|███████████████████████████████████████████████████████████████████████████████████████| 7/7 [00:00<00:00, 195.55batch/s, loss=0.00413]\n",
      "Validation: : 100%|██████████████████████████████████████████████████████████████████████████████████| 1/1 [00:00<00:00, 487.60batch/s, val_loss=0.0391]\n"
     ]
    },
    {
     "name": "stdout",
     "output_type": "stream",
     "text": [
      "\n",
      "epoch: 97 training loss = 0.0041,  & test loss = 0.0391\n",
      "\n"
     ]
    },
    {
     "name": "stderr",
     "output_type": "stream",
     "text": [
      "Training: : 100%|███████████████████████████████████████████████████████████████████████████████████████| 7/7 [00:00<00:00, 193.43batch/s, loss=0.00408]\n",
      "Validation: : 100%|████████████████████████████████████████████████████████████████████████████████████| 1/1 [00:00<00:00, 475.71batch/s, val_loss=0.04]\n"
     ]
    },
    {
     "name": "stdout",
     "output_type": "stream",
     "text": [
      "\n",
      "epoch: 98 training loss = 0.0041,  & test loss = 0.0400\n",
      "\n"
     ]
    },
    {
     "name": "stderr",
     "output_type": "stream",
     "text": [
      "Training: : 100%|███████████████████████████████████████████████████████████████████████████████████████| 7/7 [00:00<00:00, 193.78batch/s, loss=0.00423]\n",
      "Validation: : 100%|██████████████████████████████████████████████████████████████████████████████████| 1/1 [00:00<00:00, 448.68batch/s, val_loss=0.0396]\n"
     ]
    },
    {
     "name": "stdout",
     "output_type": "stream",
     "text": [
      "\n",
      "epoch: 99 training loss = 0.0042,  & test loss = 0.0396\n",
      "\n"
     ]
    },
    {
     "name": "stderr",
     "output_type": "stream",
     "text": [
      "Training: : 100%|███████████████████████████████████████████████████████████████████████████████████████| 7/7 [00:00<00:00, 194.55batch/s, loss=0.00434]\n",
      "Validation: : 100%|██████████████████████████████████████████████████████████████████████████████████| 1/1 [00:00<00:00, 480.67batch/s, val_loss=0.0398]"
     ]
    },
    {
     "name": "stdout",
     "output_type": "stream",
     "text": [
      "\n",
      "epoch: 100 training loss = 0.0043,  & test loss = 0.0398\n",
      "\n"
     ]
    },
    {
     "name": "stderr",
     "output_type": "stream",
     "text": [
      "\n"
     ]
    }
   ],
   "source": [
    "for epoch in range(num_epochs):\n",
    "\n",
    "    # Train and validate model for 1 epoch-\n",
    "    train_loss = train_model_progress(model = model, train_loader = train_loader)\n",
    "    test_loss = test_model_progress(model = model, test_loader = test_loader)\n",
    "    \n",
    "    print(f\"\\nepoch: {epoch + 1} training loss = {train_loss:.4f}, \"\n",
    "          f\" & test loss = {test_loss:.4f}\\n\"\n",
    "          # f\"LR = {optimizer.param_groups[0]['lr']:.4f}\\n\"\n",
    "         )\n",
    "    \n",
    "    training_history[epoch + 1] = {\n",
    "        'loss': train_loss, 'test_loss': test_loss\n",
    "        # 'lr': optimizer.param_groups[0]['lr']\n",
    "    }\n",
    "\n",
    "    \n",
    "    # Save best weights achieved until now-\n",
    "    if (test_loss < best_val_loss):\n",
    "        # update 'best_val_loss' variable to lowest loss encountered so far-\n",
    "        best_val_loss = test_loss\n",
    "\n",
    "        print(f\"Saving model with lowest test_loss = {test_loss:.4f}\\n\")\n",
    "        \n",
    "        # Save trained model with 'best' validation accuracy-\n",
    "        torch.save(model.state_dict(), \"LSTM_BTC_prediction_best_model.pth\")\n",
    "        "
   ]
  },
  {
   "cell_type": "code",
   "execution_count": null,
   "id": "902f021e-15ca-4291-bc8a-c3811ada7ed4",
   "metadata": {},
   "outputs": [],
   "source": []
  },
  {
   "cell_type": "code",
   "execution_count": 57,
   "id": "4f7ed069-e958-4a83-9bc8-1809342f3a96",
   "metadata": {},
   "outputs": [],
   "source": [
    "with open(\"LSTM_BTC_training_metrics.pkl\", \"wb\") as file:\n",
    "    pickle.dump(training_history, file)"
   ]
  },
  {
   "cell_type": "code",
   "execution_count": null,
   "id": "8d794f9a-fd34-40fc-b28b-510fb9ccdb8f",
   "metadata": {},
   "outputs": [],
   "source": []
  },
  {
   "cell_type": "code",
   "execution_count": null,
   "id": "0d06153b-960b-4ed8-9e3b-5a93d7e214fa",
   "metadata": {},
   "outputs": [],
   "source": []
  },
  {
   "cell_type": "code",
   "execution_count": 58,
   "id": "e3a27472-3b6b-4479-a057-38477e7398d1",
   "metadata": {},
   "outputs": [
    {
     "data": {
      "image/png": "[encoded data removed]",
      "text/plain": [
       "<Figure size 648x576 with 1 Axes>"
      ]
     },
     "metadata": {
      "needs_background": "light"
     },
     "output_type": "display_data"
    }
   ],
   "source": [
    "plt.figure(figsize = (9, 8))\n",
    "plt.plot([training_history[k]['loss'] for k in training_history.keys()], label = 'loss')\n",
    "plt.plot([training_history[k]['test_loss'] for k in training_history.keys()], label = 'test loss')\n",
    "plt.xlabel(\"epochs\")\n",
    "plt.ylabel(\"loss\")\n",
    "plt.title(\"LSTM: BTC Training Visualization\")\n",
    "plt.legend(loc = 'best')\n",
    "plt.show()"
   ]
  },
  {
   "cell_type": "code",
   "execution_count": null,
   "id": "a7d7e887-9314-4af7-9c04-a022a8dc4dc0",
   "metadata": {},
   "outputs": [],
   "source": []
  },
  {
   "cell_type": "code",
   "execution_count": null,
   "id": "fac7ee39-9446-4adb-8aff-9042818f4b53",
   "metadata": {},
   "outputs": [],
   "source": []
  },
  {
   "cell_type": "code",
   "execution_count": 59,
   "id": "198fcf50-c037-43a3-ae38-c69674194f5a",
   "metadata": {},
   "outputs": [
    {
     "data": {
      "text/plain": [
       "<All keys matched successfully>"
      ]
     },
     "execution_count": 59,
     "metadata": {},
     "output_type": "execute_result"
    }
   ],
   "source": [
    "# Initialize and load 'best' trained parameters from above-\n",
    "best_model = LSTM(\n",
    "    num_classes = 50, input_size = 4,\n",
    "    hidden_size = 128, num_layers = 1\n",
    ").to(device)\n",
    "best_model.load_state_dict(torch.load(\"LSTM_BTC_prediction_best_model.pth\"))"
   ]
  },
  {
   "cell_type": "code",
   "execution_count": null,
   "id": "bcb1c7cb-a5a8-4177-a9b3-3ae55e527fa0",
   "metadata": {},
   "outputs": [],
   "source": []
  },
  {
   "cell_type": "code",
   "execution_count": 60,
   "id": "7f183087-2995-4f20-b075-f6800dfeec98",
   "metadata": {},
   "outputs": [
    {
     "data": {
      "text/plain": [
       "((1827, 4), (1827, 1))"
      ]
     },
     "execution_count": 60,
     "metadata": {},
     "output_type": "execute_result"
    }
   ],
   "source": [
    "X_scaled.shape, y_scaled.shape"
   ]
  },
  {
   "cell_type": "code",
   "execution_count": 61,
   "id": "4042a5cd-69ee-471c-b34b-333850d06f6f",
   "metadata": {},
   "outputs": [
    {
     "data": {
      "text/plain": [
       "((1679, 100, 4), (1679, 50))"
      ]
     },
     "execution_count": 61,
     "metadata": {},
     "output_type": "execute_result"
    }
   ],
   "source": [
    "X_seq.shape, y_seq.shape"
   ]
  },
  {
   "cell_type": "code",
   "execution_count": 62,
   "id": "23e7f316-c615-4a16-9d80-18ad30c6ac2d",
   "metadata": {},
   "outputs": [],
   "source": [
    "# Convert to torch tensors-\n",
    "X_tensor = Variable(torch.Tensor(X_seq)).to(device)\n",
    "y_tensor = Variable(torch.Tensor(y_seq)).to(device)"
   ]
  },
  {
   "cell_type": "code",
   "execution_count": 63,
   "id": "8d301ad4-cca6-44ae-bb90-4ec848d910df",
   "metadata": {},
   "outputs": [],
   "source": [
    "# Reshape for LSTM-\n",
    "X_tensor = torch.reshape(X_tensor, (X_seq.shape[0], 100, X_seq.shape[2]))"
   ]
  },
  {
   "cell_type": "code",
   "execution_count": 64,
   "id": "7324b9ab-a67d-407f-9e9a-0bebbc2ba691",
   "metadata": {},
   "outputs": [
    {
     "data": {
      "text/plain": [
       "torch.Size([1679, 100, 4])"
      ]
     },
     "execution_count": 64,
     "metadata": {},
     "output_type": "execute_result"
    }
   ],
   "source": [
    "# Sanity check-\n",
    "X_tensor.shape"
   ]
  },
  {
   "cell_type": "code",
   "execution_count": 65,
   "id": "82ba8658-18ab-4b27-a6ef-ac8bd829c3e1",
   "metadata": {},
   "outputs": [],
   "source": [
    "# Get trained model predictions-\n",
    "predictions = best_model(X_tensor).cpu().detach().numpy()"
   ]
  },
  {
   "cell_type": "code",
   "execution_count": 66,
   "id": "546cecc2-93e6-493d-a86f-fe86bcce488f",
   "metadata": {},
   "outputs": [
    {
     "data": {
      "text/plain": [
       "((1679, 50), (1679, 50))"
      ]
     },
     "execution_count": 66,
     "metadata": {},
     "output_type": "execute_result"
    }
   ],
   "source": [
    "# Sanity check-\n",
    "y_tensor.cpu().detach().numpy().shape, predictions.shape"
   ]
  },
  {
   "cell_type": "code",
   "execution_count": 67,
   "id": "6c3ed1ab-63b0-4d66-a4ba-6aac64edc564",
   "metadata": {},
   "outputs": [],
   "source": [
    "# Reverse Min-Max scaling-\n",
    "predictions = mm_scaler.inverse_transform(predictions)\n",
    "y_true = mm_scaler.inverse_transform(y_tensor.cpu().detach().numpy())"
   ]
  },
  {
   "cell_type": "code",
   "execution_count": 68,
   "id": "a94c2e79-2db5-4a29-84d8-0dbc0c8046a1",
   "metadata": {},
   "outputs": [
    {
     "data": {
      "text/plain": [
       "((1679, 50), (1679, 50))"
      ]
     },
     "execution_count": 68,
     "metadata": {},
     "output_type": "execute_result"
    }
   ],
   "source": [
    "predictions.shape, y_true.shape"
   ]
  },
  {
   "cell_type": "code",
   "execution_count": 69,
   "id": "28ec469c-844f-4f7f-baca-50de0e57f27b",
   "metadata": {},
   "outputs": [],
   "source": [
    "# Python3 lists to contain values-\n",
    "preds, true_vals = [], []"
   ]
  },
  {
   "cell_type": "code",
   "execution_count": 70,
   "id": "f56e7825-7af4-4c2c-82fe-84edb6c54e75",
   "metadata": {},
   "outputs": [],
   "source": [
    "for i in range(len(y_true)):\n",
    "    true_vals.append(y_true[i][0])"
   ]
  },
  {
   "cell_type": "code",
   "execution_count": 71,
   "id": "74875cfe-3de6-4674-9d2e-bd2761e9d5ad",
   "metadata": {},
   "outputs": [],
   "source": [
    "for i in range(len(predictions)):\n",
    "    preds.append(predictions[i][0])"
   ]
  },
  {
   "cell_type": "code",
   "execution_count": 72,
   "id": "231f1554-ffff-4f86-bbea-4c05e3c29398",
   "metadata": {},
   "outputs": [
    {
     "data": {
      "text/plain": [
       "(1679, 1679)"
      ]
     },
     "execution_count": 72,
     "metadata": {},
     "output_type": "execute_result"
    }
   ],
   "source": [
    "len(true_vals), len(preds)"
   ]
  },
  {
   "cell_type": "code",
   "execution_count": 73,
   "id": "38a67f2a-03be-453c-937b-69b121f5e2bf",
   "metadata": {},
   "outputs": [
    {
     "data": {
      "text/plain": [
       "(1736, 1827, 91)"
      ]
     },
     "execution_count": 73,
     "metadata": {},
     "output_type": "execute_result"
    }
   ],
   "source": [
    "train_test_cutoff, len(X), len(X) - train_test_cutoff"
   ]
  },
  {
   "cell_type": "code",
   "execution_count": 74,
   "id": "c7b7a485-76f0-43c7-aaac-78f5a6f174f1",
   "metadata": {},
   "outputs": [
    {
     "data": {
      "text/plain": [
       "1588"
      ]
     },
     "execution_count": 74,
     "metadata": {},
     "output_type": "execute_result"
    }
   ],
   "source": [
    "len(true_vals) - 91"
   ]
  },
  {
   "cell_type": "code",
   "execution_count": null,
   "id": "c84f9343-2131-4f8a-ac72-65b9b5e2ecb0",
   "metadata": {},
   "outputs": [],
   "source": []
  },
  {
   "cell_type": "code",
   "execution_count": 75,
   "id": "4064e2d0-8eed-4460-826c-d91ec26d2069",
   "metadata": {},
   "outputs": [
    {
     "data": {
      "image/png": "[encoded data removed]",
      "text/plain": [
       "<Figure size 648x576 with 1 Axes>"
      ]
     },
     "metadata": {
      "needs_background": "light"
     },
     "output_type": "display_data"
    }
   ],
   "source": [
    "plt.figure(figsize = (9, 8))\n",
    "plt.axvline(x = len(true_vals) - 91, c = 'r', linestyle = '--')\n",
    "plt.plot(true_vals, label = 'true values')\n",
    "plt.plot(preds, label = 'predictions')\n",
    "plt.title(\"LSTM: BTC true vs. prediction comparisons\")\n",
    "plt.ylabel(\"close $\")\n",
    "plt.legend(loc = 'best')\n",
    "plt.show()"
   ]
  },
  {
   "cell_type": "code",
   "execution_count": null,
   "id": "84d85238-3664-4450-9513-c7792bb53061",
   "metadata": {},
   "outputs": [],
   "source": []
  },
  {
   "cell_type": "code",
   "execution_count": 77,
   "id": "e66bd1b8-c139-4fdc-b3db-abf9e15d8cfc",
   "metadata": {},
   "outputs": [],
   "source": [
    "# Compute MSE, MAE and RMSE as metrics-\n",
    "mse = np.mean(np.square(np.array(true_vals) - np.array(preds)))\n",
    "mae = np.mean(np.abs(np.array(true_vals) - np.array(preds)))\n",
    "rmse = np.sqrt(mse)"
   ]
  },
  {
   "cell_type": "code",
   "execution_count": 78,
   "id": "2430a6b5-2fbf-40bf-9a8e-8375f440c3a2",
   "metadata": {},
   "outputs": [
    {
     "name": "stdout",
     "output_type": "stream",
     "text": [
      "MSE = 55176332.0000, RMSE = 7428.0771, MAE = 4091.4712\n"
     ]
    }
   ],
   "source": [
    "print(f\"MSE = {mse:.4f}, RMSE = {rmse:.4f}, MAE = {mae:.4f}\")"
   ]
  },
  {
   "cell_type": "code",
   "execution_count": null,
   "id": "6dfa9b29-8f29-451c-8e05-4bfac8ae3724",
   "metadata": {},
   "outputs": [],
   "source": []
  },
  {
   "cell_type": "code",
   "execution_count": null,
   "id": "6c1d30e8-f142-4523-b460-b9cf6db5e5ff",
   "metadata": {},
   "outputs": [],
   "source": []
  },
  {
   "cell_type": "markdown",
   "id": "9abedf58-0f47-45f0-a0b5-ed923f89f7fe",
   "metadata": {},
   "source": [
    "### LSTM stacked layers architecture resources\n",
    "\n",
    "- [From LSTMcell to stacked LSTM architecture](https://towardsdatascience.com/from-a-lstm-cell-to-a-multilayer-lstm-network-with-pytorch-2899eb5696f3)\n",
    "\n",
    "- [PyTorch LSTM tutorial](https://cnvrg.io/pytorch-lstm/)\n",
    "\n",
    "- [```nn.LSTM``` details](https://torch.mlverse.org/docs/reference/nn_lstm.html)\n",
    "\n",
    "- [SO](https://stackoverflow.com/questions/49224413/difference-between-1-lstm-with-num-layers-2-and-2-lstms-in-pytorch)\n"
   ]
  },
  {
   "cell_type": "code",
   "execution_count": null,
   "id": "27c72614-0a28-4b3b-ae3a-089a0daf5f36",
   "metadata": {},
   "outputs": [],
   "source": []
  },
  {
   "cell_type": "code",
   "execution_count": null,
   "id": "8f49c16b-280b-4efd-873e-ea87f78925f9",
   "metadata": {},
   "outputs": [],
   "source": []
  }
 ],
 "metadata": {
  "kernelspec": {
   "display_name": "Python 3 (ipykernel)",
   "language": "python",
   "name": "python3"
  },
  "language_info": {
   "codemirror_mode": {
    "name": "ipython",
    "version": 3
   },
   "file_extension": ".py",
   "mimetype": "text/x-python",
   "name": "python",
   "nbconvert_exporter": "python",
   "pygments_lexer": "ipython3",
   "version": "3.9.12"
  }
 },
 "nbformat": 4,
 "nbformat_minor": 5
}
