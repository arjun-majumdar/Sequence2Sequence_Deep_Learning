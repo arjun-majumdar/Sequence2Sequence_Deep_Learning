{
 "cells": [
  {
   "cell_type": "markdown",
   "id": "25c11464-e3a5-4228-8ce2-dc8a13fda32a",
   "metadata": {},
   "source": [
    "# Language Modeling: PyTorch\n",
    "\n",
    "[Reference](https://www.kdnuggets.com/2020/07/pytorch-lstm-text-generation-tutorial.html)"
   ]
  },
  {
   "cell_type": "code",
   "execution_count": 1,
   "id": "8be117d2-8187-4864-94ce-80d733af3fc2",
   "metadata": {},
   "outputs": [
    {
     "name": "stdout",
     "output_type": "stream",
     "text": [
      "env: CUDA_DEVICE_ORDER=PCI_BUS_ID\n",
      "env: CUDA_VISIBLE_DEVICES=0\n"
     ]
    }
   ],
   "source": [
    "# Specify GPU to be used-\n",
    "%env CUDA_DEVICE_ORDER = PCI_BUS_ID\n",
    "%env CUDA_VISIBLE_DEVICES = 0"
   ]
  },
  {
   "cell_type": "code",
   "execution_count": 2,
   "id": "ca344a0e-54ef-4cf0-97bc-9b561d50d5d4",
   "metadata": {},
   "outputs": [
    {
     "name": "stderr",
     "output_type": "stream",
     "text": [
      "/home/arjun/anaconda3/envs/pytorch-gpu/lib/python3.9/site-packages/tqdm/auto.py:22: TqdmWarning: IProgress not found. Please update jupyter and ipywidgets. See https://ipywidgets.readthedocs.io/en/stable/user_install.html\n",
      "  from .autonotebook import tqdm as notebook_tqdm\n"
     ]
    }
   ],
   "source": [
    "import torch\n",
    "import torch.nn as nn\n",
    "import torch.optim as optim\n",
    "from torch.utils.data import DataLoader\n",
    "from torch.optim import lr_scheduler\n",
    "import torch.backends.cudnn as cudnn\n",
    "\n",
    "import pandas as pd\n",
    "from tqdm import tqdm\n",
    "from tqdm import trange\n",
    "import numpy as np\n",
    "import matplotlib.pyplot as plt\n",
    "import time, os, copy, pickle, string\n",
    "from collections import Counter"
   ]
  },
  {
   "cell_type": "code",
   "execution_count": null,
   "id": "b71b25a3-5b68-46a3-a0b0-a8fb31e2c453",
   "metadata": {},
   "outputs": [],
   "source": []
  },
  {
   "cell_type": "code",
   "execution_count": null,
   "id": "ea73e8e3-522b-48c2-994a-6911d578b2a1",
   "metadata": {},
   "outputs": [],
   "source": []
  },
  {
   "cell_type": "code",
   "execution_count": 3,
   "id": "f06e271c-b31c-47b9-842f-d492b10df2ef",
   "metadata": {},
   "outputs": [
    {
     "name": "stdout",
     "output_type": "stream",
     "text": [
      "torch version: 1.11.0\n"
     ]
    }
   ],
   "source": [
    "print(f\"torch version: {torch.__version__}\")"
   ]
  },
  {
   "cell_type": "code",
   "execution_count": 4,
   "id": "774a82ca-9e5b-480a-9457-5481fda30a5c",
   "metadata": {},
   "outputs": [
    {
     "name": "stdout",
     "output_type": "stream",
     "text": [
      "Number of GPU(s) available = 1\n",
      "Current GPU: 0\n",
      "Current GPU name: NVIDIA GeForce RTX 3080\n"
     ]
    }
   ],
   "source": [
    "# Check if there are multiple devices (i.e., GPU cards)-\n",
    "print(f\"Number of GPU(s) available = {torch.cuda.device_count()}\")\n",
    "\n",
    "# Which GPU Is The Current GPU?\n",
    "# print(f\"current GPU: {torch.cuda.current_device()}\")\n",
    "\n",
    "# Get the name of the current GPU-\n",
    "# print(f\"Current GPU name: {torch.cuda.get_device_name(torch.cuda.current_device())}\")\n",
    "\n",
    "# Is PyTorch using a GPU?\n",
    "# print(f\"Is PyTorch using a GPU? {torch.cuda.is_available()}\")\n",
    "\n",
    "if torch.cuda.is_available():\n",
    "    print(f\"Current GPU: {torch.cuda.current_device()}\")\n",
    "    print(f\"Current GPU name: {torch.cuda.get_device_name(torch.cuda.current_device())}\")\n",
    "else:\n",
    "    print(\"PyTorch does not have access to GPU\")"
   ]
  },
  {
   "cell_type": "code",
   "execution_count": 5,
   "id": "a25ac339-0d8f-4567-bb44-4a745d7a4de9",
   "metadata": {},
   "outputs": [
    {
     "name": "stdout",
     "output_type": "stream",
     "text": [
      "Available device is cuda\n"
     ]
    }
   ],
   "source": [
    "# Device configuration-\n",
    "device = torch.device('cuda' if torch.cuda.is_available() else 'cpu')\n",
    "print(f'Available device is {device}')"
   ]
  },
  {
   "cell_type": "code",
   "execution_count": null,
   "id": "fa1b8947-aeca-4a5e-af49-5a11db8ef728",
   "metadata": {},
   "outputs": [],
   "source": []
  },
  {
   "cell_type": "code",
   "execution_count": null,
   "id": "0da46b9b-f105-4362-892d-91d20e2425b4",
   "metadata": {},
   "outputs": [],
   "source": []
  },
  {
   "cell_type": "code",
   "execution_count": 6,
   "id": "5e1ff53d-f9a6-4a16-8d1c-710734b0f540",
   "metadata": {},
   "outputs": [],
   "source": [
    "# Specify hyper-parameters\n",
    "batch_size = 256\n",
    "num_epochs = 100"
   ]
  },
  {
   "cell_type": "code",
   "execution_count": null,
   "id": "6f0af713-a7db-4740-8d6a-58015f408485",
   "metadata": {},
   "outputs": [],
   "source": []
  },
  {
   "cell_type": "code",
   "execution_count": null,
   "id": "6fffa967-d41b-4b0d-a92c-901584a5fff5",
   "metadata": {},
   "outputs": [],
   "source": []
  },
  {
   "cell_type": "markdown",
   "id": "fbb95c0d-91dd-4f73-9c9e-1821b19471f1",
   "metadata": {},
   "source": [
    "### Data pre-processing\n",
    "\n",
    "- ```Dataset``` class inherits from the PyTorch's ```torch.utils.data.Dataset``` class and defines two important methods ```__len__``` and ```__getitem__```.\n",
    "\n",
    "- ```load_words()``` function loads the dataset. Unique words are calculated in the dataset to define the size of the network's vocabulary and embedding size. ```index_to_word()``` and ```word_to_index()``` converts words to number indexes and visa versa.\n",
    "\n",
    "- This is part of the process is known as __tokenization__. In the future, ```torchtext``` team plan to improve this part, but they are re-designing it and the new API is too unstable for this tutorial as of today.\n",
    "\n",
    "[PyTorch data loading tutorial](https://pytorch.org/tutorials/beginner/data_loading_tutorial.html#dataset-class)"
   ]
  },
  {
   "cell_type": "markdown",
   "id": "9e0ae186-b83a-4510-8cf4-0ec14e9075e0",
   "metadata": {},
   "source": [
    "#### Shakespeare text file is large and causes CUDA OOM error! So, a much smaller text corpus is used instead."
   ]
  },
  {
   "cell_type": "code",
   "execution_count": null,
   "id": "95e3bb81-5949-4784-9f8f-afbde5d32da4",
   "metadata": {},
   "outputs": [],
   "source": [
    "'''\n",
    "# Read in txt file containing dataset-\n",
    "with open('shakespeare_text.txt', 'r', encoding = 'utf-8') as file:\n",
    "    file = file.readlines()\n",
    "'''"
   ]
  },
  {
   "cell_type": "code",
   "execution_count": null,
   "id": "9c0b6ef2-6380-4df7-9feb-3919025b9b88",
   "metadata": {},
   "outputs": [],
   "source": [
    "# print(f\"number of lines in dataset = {len(file)}\")\n",
    "# number of lines in dataset = 40000"
   ]
  },
  {
   "cell_type": "code",
   "execution_count": null,
   "id": "0aadc4de-dc39-4820-bd7a-c410120e5be5",
   "metadata": {},
   "outputs": [],
   "source": [
    "# First two lines-\n",
    "# file[:2]"
   ]
  },
  {
   "cell_type": "code",
   "execution_count": null,
   "id": "d45bcdbb-0d4d-45eb-8cce-b0ed352c58aa",
   "metadata": {},
   "outputs": [],
   "source": [
    "# Replace newline with <EOS> token-\n",
    "# file[0].replace(\"\\r\", \"<EOS>\").replace(\"\\n\", \"<EOS>\")"
   ]
  },
  {
   "cell_type": "code",
   "execution_count": null,
   "id": "7012cb16-206d-4ffd-8c48-b740688d434d",
   "metadata": {},
   "outputs": [],
   "source": []
  },
  {
   "cell_type": "code",
   "execution_count": 8,
   "id": "f472ed27-e554-4795-858a-33b9156f7671",
   "metadata": {},
   "outputs": [],
   "source": [
    "class Dataset(torch.utils.data.Dataset):\n",
    "    def __init__(\n",
    "        self, sequence_length\n",
    "    ):\n",
    "        # self.file_corpus = file_corpus\n",
    "        self.sequence_length = sequence_length\n",
    "        self.words = self.load_words()\n",
    "        self.uniq_words = self.get_uniq_words()\n",
    "\n",
    "        # Convert number indices to words-\n",
    "        self.index_to_word = {index: word for index, word in enumerate(self.uniq_words)}\n",
    "        \n",
    "        # Convert word to number indices-\n",
    "        self.word_to_index = {word: index for index, word in enumerate(self.uniq_words)}\n",
    "\n",
    "        self.words_indexes = [self.word_to_index[w] for w in self.words]\n",
    "\n",
    "    def load_words(self):\n",
    "        train_df = pd.read_csv('reddit_cleanjokes.csv')\n",
    "        text = train_df['Joke'].str.cat(sep = ' ')\n",
    "        return text.split(' ')\n",
    "        '''\n",
    "        text = \"\".join(v for v in self.file_corpus if v not in string.punctuation).lower()\n",
    "        text = text.encode(\"utf-8\").decode(\"ascii\", \"ignore\")\n",
    "        return text.split(' ')\n",
    "        '''\n",
    "\n",
    "    def get_uniq_words(self):\n",
    "        word_counts = Counter(self.words)\n",
    "        return sorted(\n",
    "            word_counts, key = word_counts.get,\n",
    "            reverse = True\n",
    "        )\n",
    "\n",
    "    def __len__(self):\n",
    "        # return len(self.words_indexes) - self.args.sequence_length\n",
    "        return len(self.words_indexes) - self.sequence_length\n",
    "\n",
    "    def __getitem__(self, index):\n",
    "        return (\n",
    "            torch.tensor(self.words_indexes[index : index + self.sequence_length]),\n",
    "            torch.tensor(self.words_indexes[index+1 : index + self.sequence_length + 1]),\n",
    "        )\n",
    "    "
   ]
  },
  {
   "cell_type": "code",
   "execution_count": null,
   "id": "f41408f8-100f-47bf-b662-551c867dfcb7",
   "metadata": {},
   "outputs": [],
   "source": []
  },
  {
   "cell_type": "code",
   "execution_count": null,
   "id": "ea10b157-d99c-4101-8402-ac20ecbd7dae",
   "metadata": {},
   "outputs": [],
   "source": [
    "# Compute maximum sequence length for a given text corpus-\n",
    "# max_sequence_len = max([len(x) for x in file])\n",
    "# print(f\"maximum sequence length in the given training text corpus = {max_sequence_len}\")"
   ]
  },
  {
   "cell_type": "code",
   "execution_count": 9,
   "id": "c26b76ac-680b-4f11-b424-3131b9825ed4",
   "metadata": {},
   "outputs": [],
   "source": [
    "# Using low sequence length due to CUDA OOM error problems-\n",
    "sequence_length = 10"
   ]
  },
  {
   "cell_type": "code",
   "execution_count": 10,
   "id": "1cb9cf42-3a1b-45e5-b0cf-2b356b58bf25",
   "metadata": {},
   "outputs": [],
   "source": [
    "# Get torch dataset-\n",
    "dataset = Dataset(sequence_length = sequence_length)"
   ]
  },
  {
   "cell_type": "code",
   "execution_count": 11,
   "id": "d7db0043-6d32-403f-bd3d-d80a5431dd9a",
   "metadata": {},
   "outputs": [
    {
     "name": "stdout",
     "output_type": "stream",
     "text": [
      "number of words in dataset = 23914\n"
     ]
    }
   ],
   "source": [
    "print(f\"number of words in dataset = {len(dataset.words)}\")"
   ]
  },
  {
   "cell_type": "code",
   "execution_count": null,
   "id": "e36c5fed-a915-46c5-b209-c860a4277f38",
   "metadata": {},
   "outputs": [],
   "source": []
  },
  {
   "cell_type": "code",
   "execution_count": 12,
   "id": "e49b7dcf-4dcb-4a8c-9b70-9e0f0859d530",
   "metadata": {},
   "outputs": [],
   "source": [
    "# Define dataloader-\n",
    "dataloader = DataLoader(\n",
    "    dataset = dataset, batch_size = batch_size\n",
    ")"
   ]
  },
  {
   "cell_type": "code",
   "execution_count": 13,
   "id": "b494d26f-bde7-4ea8-814b-48606b8bcc1a",
   "metadata": {},
   "outputs": [],
   "source": [
    "# Sanity check-\n",
    "x = next(iter(dataloader))"
   ]
  },
  {
   "cell_type": "code",
   "execution_count": 14,
   "id": "9f1a9638-22c6-4a24-96f3-3ad3a62160ca",
   "metadata": {},
   "outputs": [
    {
     "data": {
      "text/plain": [
       "(2, torch.Size([256, 10]), torch.Size([256, 10]))"
      ]
     },
     "execution_count": 14,
     "metadata": {},
     "output_type": "execute_result"
    }
   ],
   "source": [
    "len(x), x[0].shape, x[1].shape"
   ]
  },
  {
   "cell_type": "code",
   "execution_count": 15,
   "id": "64f57504-35b0-4f11-92c7-01940ebb7194",
   "metadata": {},
   "outputs": [],
   "source": [
    "del x"
   ]
  },
  {
   "cell_type": "code",
   "execution_count": null,
   "id": "b5a4340b-d194-4a3e-8387-93bbf1aadc0c",
   "metadata": {},
   "outputs": [],
   "source": []
  },
  {
   "cell_type": "code",
   "execution_count": null,
   "id": "b9277bf5-45c5-43a5-ac71-0e9fbe756ca1",
   "metadata": {},
   "outputs": [],
   "source": []
  },
  {
   "cell_type": "markdown",
   "id": "ec6e5232-e0e2-4467-b178-d398d17af0bd",
   "metadata": {},
   "source": [
    "### Define _Language Modeling Seq2Seq_ architecture\n",
    "\n",
    "This is a standard looking PyTorch model.\n",
    "\n",
    "- __```Embedding``` layer converts word indexes to word vectors__.\n",
    "\n",
    "- LSTM is the main learnable part of the network - PyTorch implementation has the gating mechanisms implemented inside the LSTM cell that can learn long sequences of data.\n",
    "\n",
    "- RNNs and LSTMs have extra state information they carry between training episodes.\n",
    "\n",
    "- ```forward()``` function has a ```prev_state``` argument. This state is kept outside the model and passed manually.\n",
    "\n",
    "- It also has ```init_state()``` function. Calling this at the start of every epoch to initializes the right shape of the state."
   ]
  },
  {
   "cell_type": "code",
   "execution_count": 16,
   "id": "bad767cd-e161-4c42-901f-718f20ae6c66",
   "metadata": {},
   "outputs": [],
   "source": [
    "class LSTM_Model(nn.Module):\n",
    "    def __init__(\n",
    "        self, dataset,\n",
    "        lstm_size = 128, embedding_dim = 128,\n",
    "        num_layers = 3\n",
    "    ):\n",
    "        super(LSTM_Model, self).__init__()\n",
    "        self.lstm_size = lstm_size\n",
    "        self.embedding_dim = embedding_dim\n",
    "        self.num_layers = num_layers\n",
    "\n",
    "        # Count number of unique words in vocabulary/dictionary-\n",
    "        n_vocab = len(dataset.uniq_words)\n",
    "        \n",
    "        self.embedding = nn.Embedding(\n",
    "            num_embeddings = n_vocab,\n",
    "            embedding_dim = self.embedding_dim,\n",
    "        )\n",
    "        self.lstm = nn.LSTM(\n",
    "            input_size = self.lstm_size,\n",
    "            hidden_size = self.lstm_size,\n",
    "            num_layers = self.num_layers,\n",
    "            dropout = 0.2,\n",
    "        )\n",
    "        self.fc = nn.Linear(in_features = self.lstm_size, out_features = n_vocab)\n",
    "\n",
    "    def forward(self, x, prev_state):\n",
    "        embed = self.embedding(x)\n",
    "        output, state = self.lstm(embed, prev_state)\n",
    "        logits = self.fc(output)\n",
    "        return logits, state\n",
    "\n",
    "    def init_state(self, sequence_length):\n",
    "        return (\n",
    "            torch.zeros(self.num_layers, sequence_length, self.lstm_size),\n",
    "            torch.zeros(self.num_layers, sequence_length, self.lstm_size)\n",
    "        )\n",
    "    "
   ]
  },
  {
   "cell_type": "code",
   "execution_count": null,
   "id": "344b7364-0874-4095-8908-01ae2dd100d2",
   "metadata": {},
   "outputs": [],
   "source": []
  },
  {
   "cell_type": "code",
   "execution_count": 17,
   "id": "5da9e4b6-0587-46d0-9ea2-ded97a10b78c",
   "metadata": {},
   "outputs": [],
   "source": [
    "# Initialize LSTM model-\n",
    "model = LSTM_Model(\n",
    "    dataset = dataset, lstm_size = 128,\n",
    "    embedding_dim = 128, num_layers = 2\n",
    ").to(device)"
   ]
  },
  {
   "cell_type": "code",
   "execution_count": null,
   "id": "259560b0-2e44-43a5-a63a-7a8b343995a5",
   "metadata": {},
   "outputs": [],
   "source": []
  },
  {
   "cell_type": "code",
   "execution_count": 18,
   "id": "95edee25-af33-42c6-9d00-fd8abdd38094",
   "metadata": {},
   "outputs": [
    {
     "name": "stdout",
     "output_type": "stream",
     "text": [
      "embedding.weight has dimension = (6925, 128)\n",
      "lstm.weight_ih_l0 has dimension = (512, 128)\n",
      "lstm.weight_hh_l0 has dimension = (512, 128)\n",
      "lstm.bias_ih_l0 has dimension = (512,)\n",
      "lstm.bias_hh_l0 has dimension = (512,)\n",
      "lstm.weight_ih_l1 has dimension = (512, 128)\n",
      "lstm.weight_hh_l1 has dimension = (512, 128)\n",
      "lstm.bias_ih_l1 has dimension = (512,)\n",
      "lstm.bias_hh_l1 has dimension = (512,)\n",
      "fc.weight has dimension = (6925, 128)\n",
      "fc.bias has dimension = (6925,)\n"
     ]
    }
   ],
   "source": [
    "tot_params = 0\n",
    "\n",
    "# Print layer names-\n",
    "for layer in model.state_dict().keys():\n",
    "    print(f\"{layer} has dimension = {model.state_dict()[layer].cpu().detach().numpy().shape}\")\n",
    "    tot_params += model.state_dict()[layer].cpu().numpy().size"
   ]
  },
  {
   "cell_type": "code",
   "execution_count": 19,
   "id": "bf7d233a-a1a9-4b03-affa-740d30b7d5ae",
   "metadata": {},
   "outputs": [
    {
     "name": "stdout",
     "output_type": "stream",
     "text": [
      "Total number of trainable parameters = 2043917\n"
     ]
    }
   ],
   "source": [
    "print(f\"Total number of trainable parameters = {tot_params}\")"
   ]
  },
  {
   "cell_type": "code",
   "execution_count": null,
   "id": "94ed4372-0f95-4b8b-b4a3-e15a281205f9",
   "metadata": {},
   "outputs": [],
   "source": []
  },
  {
   "cell_type": "code",
   "execution_count": null,
   "id": "976d7b9a-32a1-4f9f-8c10-fdf93e5cfe63",
   "metadata": {},
   "outputs": [],
   "source": []
  },
  {
   "cell_type": "markdown",
   "id": "f5933a31-df69-4ebc-9f5c-5426ee3780a9",
   "metadata": {},
   "source": [
    "### Multi-GPU Training in PyTorch\n",
    "\n",
    "- [Multi-GPU Examples](https://pytorch.org/tutorials/beginner/former_torchies/parallelism_tutorial.html)\n",
    "\n",
    "- [Data Parallelism](https://pytorch.org/tutorials/beginner/blitz/data_parallel_tutorial.html)"
   ]
  },
  {
   "cell_type": "code",
   "execution_count": null,
   "id": "9b3bf00c-4132-4369-8b8a-2bbbe604ab4d",
   "metadata": {},
   "outputs": [],
   "source": [
    "# Use all available GPUs-\n",
    "# model = nn.DataParallel(model)\n",
    "# model.to(device)"
   ]
  },
  {
   "cell_type": "code",
   "execution_count": null,
   "id": "c3e79c48-6c23-4bf8-a8ea-7913324420e0",
   "metadata": {},
   "outputs": [],
   "source": []
  },
  {
   "cell_type": "code",
   "execution_count": 20,
   "id": "90cc3550-f058-43b6-bb90-cb6c75667867",
   "metadata": {},
   "outputs": [],
   "source": [
    "# Define loss function-\n",
    "loss_criterion = nn.CrossEntropyLoss()\n",
    "\n",
    "# Define SGD optimizer-\n",
    "# optimizer = optim.SGD(model.parameters(), lr = 0.001, momentum = 0.9)\n",
    "optimizer = optim.Adam(model.parameters(), lr = 10e-3)"
   ]
  },
  {
   "cell_type": "code",
   "execution_count": null,
   "id": "cb04d141-8f59-41e5-840f-24a36e8d8aa4",
   "metadata": {},
   "outputs": [],
   "source": []
  },
  {
   "cell_type": "code",
   "execution_count": 21,
   "id": "5c03a1af-5e31-41df-b5f1-acfdd2c32543",
   "metadata": {},
   "outputs": [],
   "source": [
    "# Python3 dict to contain metrics-\n",
    "train_history = {}"
   ]
  },
  {
   "cell_type": "code",
   "execution_count": null,
   "id": "dd5c5537-2e4c-4f02-b835-cb75be6d91ed",
   "metadata": {},
   "outputs": [],
   "source": []
  },
  {
   "cell_type": "code",
   "execution_count": null,
   "id": "0c697d5b-22db-4788-9153-38c3af6eb496",
   "metadata": {},
   "outputs": [],
   "source": []
  },
  {
   "cell_type": "code",
   "execution_count": 22,
   "id": "ea864ea8-a148-409b-ac38-2eeb18519a41",
   "metadata": {},
   "outputs": [],
   "source": [
    "def train(model, train_loader):\n",
    "    '''\n",
    "    Function to train model for specified number of epochs.\n",
    "    '''\n",
    "    \n",
    "    # Set model to train-\n",
    "    model.train()\n",
    "    \n",
    "    best_loss = 100\n",
    "    \n",
    "    for epoch in range(1, num_epochs + 1):\n",
    "        state_h, state_c = model.init_state(sequence_length)\n",
    "        state_h = state_h.to(device)\n",
    "        state_c = state_c.to(device)\n",
    "        \n",
    "        for batch, (x, y) in enumerate(train_loader):\n",
    "            \n",
    "            x = x.to(device)\n",
    "            y = y.to(device)\n",
    "            \n",
    "            # Empty accumulated gradients-\n",
    "            optimizer.zero_grad()\n",
    "            \n",
    "            # Make LSTM predictions-\n",
    "            y_pred, (state_h, state_c) = model(x, (state_h, state_c))\n",
    "            \n",
    "            # Compute cross-entropy loss-\n",
    "            loss = loss_criterion(y_pred.transpose(1, 2), y)\n",
    "            \n",
    "            state_h = state_h.detach()\n",
    "            state_c = state_c.detach()\n",
    "            \n",
    "            # Perform backprop-\n",
    "            loss.backward()\n",
    "            \n",
    "            # Update parameters-\n",
    "            optimizer.step()\n",
    "            \n",
    "        # Save best weights achieved until now-\n",
    "        if (loss.item() < best_loss):\n",
    "            # update 'best_loss' variable to lowest loss encountered so far-\n",
    "            best_loss = loss.item()\n",
    "\n",
    "            print(f\"Saving model with lowest loss = {loss.item():.5f}\\n\")\n",
    "        \n",
    "            # Save trained model with 'best' loss-\n",
    "            torch.save(model.state_dict(), \"Language_Model_best_model.pth\")\n",
    "        \n",
    "        print(f\"epoch: {epoch}, loss = {loss.item():.5f}\\n\")\n",
    "        train_history[epoch] = loss.item()\n"
   ]
  },
  {
   "cell_type": "code",
   "execution_count": null,
   "id": "851e4d9e-ccfe-4128-b373-5c406a6931db",
   "metadata": {},
   "outputs": [],
   "source": []
  },
  {
   "cell_type": "code",
   "execution_count": 23,
   "id": "596ff9f7-7c19-4c6f-9f35-7331b80f04c1",
   "metadata": {},
   "outputs": [
    {
     "name": "stdout",
     "output_type": "stream",
     "text": [
      "Saving model with lowest loss = 6.62055\n",
      "\n",
      "epoch: 1, loss = 6.62055\n",
      "\n",
      "Saving model with lowest loss = 5.74857\n",
      "\n",
      "epoch: 2, loss = 5.74857\n",
      "\n",
      "Saving model with lowest loss = 5.31697\n",
      "\n",
      "epoch: 3, loss = 5.31697\n",
      "\n",
      "Saving model with lowest loss = 4.94646\n",
      "\n",
      "epoch: 4, loss = 4.94646\n",
      "\n",
      "Saving model with lowest loss = 4.49212\n",
      "\n",
      "epoch: 5, loss = 4.49212\n",
      "\n",
      "Saving model with lowest loss = 3.84875\n",
      "\n",
      "epoch: 6, loss = 3.84875\n",
      "\n",
      "Saving model with lowest loss = 3.53967\n",
      "\n",
      "epoch: 7, loss = 3.53967\n",
      "\n",
      "Saving model with lowest loss = 3.22572\n",
      "\n",
      "epoch: 8, loss = 3.22572\n",
      "\n",
      "Saving model with lowest loss = 2.61579\n",
      "\n",
      "epoch: 9, loss = 2.61579\n",
      "\n",
      "Saving model with lowest loss = 2.44946\n",
      "\n",
      "epoch: 10, loss = 2.44946\n",
      "\n",
      "Saving model with lowest loss = 2.09015\n",
      "\n",
      "epoch: 11, loss = 2.09015\n",
      "\n",
      "Saving model with lowest loss = 1.90077\n",
      "\n",
      "epoch: 12, loss = 1.90077\n",
      "\n",
      "Saving model with lowest loss = 1.65849\n",
      "\n",
      "epoch: 13, loss = 1.65849\n",
      "\n",
      "Saving model with lowest loss = 1.46817\n",
      "\n",
      "epoch: 14, loss = 1.46817\n",
      "\n",
      "Saving model with lowest loss = 1.29430\n",
      "\n",
      "epoch: 15, loss = 1.29430\n",
      "\n",
      "Saving model with lowest loss = 1.28538\n",
      "\n",
      "epoch: 16, loss = 1.28538\n",
      "\n",
      "Saving model with lowest loss = 1.04728\n",
      "\n",
      "epoch: 17, loss = 1.04728\n",
      "\n",
      "Saving model with lowest loss = 0.87531\n",
      "\n",
      "epoch: 18, loss = 0.87531\n",
      "\n",
      "Saving model with lowest loss = 0.80244\n",
      "\n",
      "epoch: 19, loss = 0.80244\n",
      "\n",
      "epoch: 20, loss = 0.88635\n",
      "\n",
      "Saving model with lowest loss = 0.74218\n",
      "\n",
      "epoch: 21, loss = 0.74218\n",
      "\n",
      "Saving model with lowest loss = 0.59700\n",
      "\n",
      "epoch: 22, loss = 0.59700\n",
      "\n",
      "Saving model with lowest loss = 0.51195\n",
      "\n",
      "epoch: 23, loss = 0.51195\n",
      "\n",
      "Saving model with lowest loss = 0.49207\n",
      "\n",
      "epoch: 24, loss = 0.49207\n",
      "\n",
      "Saving model with lowest loss = 0.43231\n",
      "\n",
      "epoch: 25, loss = 0.43231\n",
      "\n",
      "Saving model with lowest loss = 0.37387\n",
      "\n",
      "epoch: 26, loss = 0.37387\n",
      "\n",
      "Saving model with lowest loss = 0.34203\n",
      "\n",
      "epoch: 27, loss = 0.34203\n",
      "\n",
      "Saving model with lowest loss = 0.29340\n",
      "\n",
      "epoch: 28, loss = 0.29340\n",
      "\n",
      "Saving model with lowest loss = 0.29049\n",
      "\n",
      "epoch: 29, loss = 0.29049\n",
      "\n",
      "Saving model with lowest loss = 0.23855\n",
      "\n",
      "epoch: 30, loss = 0.23855\n",
      "\n",
      "Saving model with lowest loss = 0.22609\n",
      "\n",
      "epoch: 31, loss = 0.22609\n",
      "\n",
      "Saving model with lowest loss = 0.16785\n",
      "\n",
      "epoch: 32, loss = 0.16785\n",
      "\n",
      "epoch: 33, loss = 0.20821\n",
      "\n",
      "epoch: 34, loss = 0.16933\n",
      "\n",
      "epoch: 35, loss = 0.17032\n",
      "\n",
      "Saving model with lowest loss = 0.14896\n",
      "\n",
      "epoch: 36, loss = 0.14896\n",
      "\n",
      "epoch: 37, loss = 0.15324\n",
      "\n",
      "epoch: 38, loss = 0.17118\n",
      "\n",
      "epoch: 39, loss = 0.16334\n",
      "\n",
      "Saving model with lowest loss = 0.13815\n",
      "\n",
      "epoch: 40, loss = 0.13815\n",
      "\n",
      "epoch: 41, loss = 0.14187\n",
      "\n",
      "Saving model with lowest loss = 0.11643\n",
      "\n",
      "epoch: 42, loss = 0.11643\n",
      "\n",
      "Saving model with lowest loss = 0.09777\n",
      "\n",
      "epoch: 43, loss = 0.09777\n",
      "\n",
      "Saving model with lowest loss = 0.09664\n",
      "\n",
      "epoch: 44, loss = 0.09664\n",
      "\n",
      "epoch: 45, loss = 0.14863\n",
      "\n",
      "epoch: 46, loss = 0.13771\n",
      "\n",
      "Saving model with lowest loss = 0.08913\n",
      "\n",
      "epoch: 47, loss = 0.08913\n",
      "\n",
      "epoch: 48, loss = 0.09725\n",
      "\n",
      "Saving model with lowest loss = 0.08682\n",
      "\n",
      "epoch: 49, loss = 0.08682\n",
      "\n",
      "epoch: 50, loss = 0.10287\n",
      "\n",
      "epoch: 51, loss = 0.10118\n",
      "\n",
      "Saving model with lowest loss = 0.07729\n",
      "\n",
      "epoch: 52, loss = 0.07729\n",
      "\n",
      "Saving model with lowest loss = 0.06466\n",
      "\n",
      "epoch: 53, loss = 0.06466\n",
      "\n",
      "epoch: 54, loss = 0.09131\n",
      "\n",
      "epoch: 55, loss = 0.08915\n",
      "\n",
      "epoch: 56, loss = 0.09446\n",
      "\n",
      "epoch: 57, loss = 0.07942\n",
      "\n",
      "epoch: 58, loss = 0.08270\n",
      "\n",
      "epoch: 59, loss = 0.09459\n",
      "\n",
      "epoch: 60, loss = 0.10078\n",
      "\n",
      "epoch: 61, loss = 0.08415\n",
      "\n",
      "epoch: 62, loss = 0.06550\n",
      "\n",
      "Saving model with lowest loss = 0.04956\n",
      "\n",
      "epoch: 63, loss = 0.04956\n",
      "\n",
      "Saving model with lowest loss = 0.03999\n",
      "\n",
      "epoch: 64, loss = 0.03999\n",
      "\n",
      "epoch: 65, loss = 0.05211\n",
      "\n",
      "epoch: 66, loss = 0.04669\n",
      "\n",
      "epoch: 67, loss = 0.04991\n",
      "\n",
      "Saving model with lowest loss = 0.03778\n",
      "\n",
      "epoch: 68, loss = 0.03778\n",
      "\n",
      "epoch: 69, loss = 0.03958\n",
      "\n",
      "epoch: 70, loss = 0.05787\n",
      "\n",
      "Saving model with lowest loss = 0.03731\n",
      "\n",
      "epoch: 71, loss = 0.03731\n",
      "\n",
      "epoch: 72, loss = 0.04272\n",
      "\n",
      "epoch: 73, loss = 0.04170\n",
      "\n",
      "epoch: 74, loss = 0.04765\n",
      "\n",
      "Saving model with lowest loss = 0.02801\n",
      "\n",
      "epoch: 75, loss = 0.02801\n",
      "\n",
      "epoch: 76, loss = 0.04569\n",
      "\n",
      "epoch: 77, loss = 0.04442\n",
      "\n",
      "epoch: 78, loss = 0.07045\n",
      "\n",
      "epoch: 79, loss = 0.06154\n",
      "\n",
      "epoch: 80, loss = 0.03901\n",
      "\n",
      "epoch: 81, loss = 0.09005\n",
      "\n",
      "epoch: 82, loss = 0.11474\n",
      "\n",
      "epoch: 83, loss = 0.12374\n",
      "\n",
      "epoch: 84, loss = 0.15819\n",
      "\n",
      "epoch: 85, loss = 0.21990\n",
      "\n",
      "epoch: 86, loss = 0.26084\n",
      "\n",
      "epoch: 87, loss = 0.33448\n",
      "\n",
      "epoch: 88, loss = 0.12522\n",
      "\n",
      "epoch: 89, loss = 0.07755\n",
      "\n",
      "epoch: 90, loss = 0.08523\n",
      "\n",
      "epoch: 91, loss = 0.05481\n",
      "\n",
      "epoch: 92, loss = 0.05505\n",
      "\n",
      "epoch: 93, loss = 0.03027\n",
      "\n",
      "epoch: 94, loss = 0.02822\n",
      "\n",
      "Saving model with lowest loss = 0.01556\n",
      "\n",
      "epoch: 95, loss = 0.01556\n",
      "\n",
      "epoch: 96, loss = 0.02555\n",
      "\n",
      "epoch: 97, loss = 0.02108\n",
      "\n",
      "Saving model with lowest loss = 0.01116\n",
      "\n",
      "epoch: 98, loss = 0.01116\n",
      "\n",
      "epoch: 99, loss = 0.01690\n",
      "\n",
      "epoch: 100, loss = 0.01420\n",
      "\n"
     ]
    }
   ],
   "source": [
    "# Train model-\n",
    "train(model = model, train_loader = dataloader)"
   ]
  },
  {
   "cell_type": "code",
   "execution_count": null,
   "id": "8741b40e-c238-42a1-9f9f-35f3ae93179c",
   "metadata": {},
   "outputs": [],
   "source": []
  },
  {
   "cell_type": "code",
   "execution_count": null,
   "id": "dd2056c9-356f-494e-9355-e4939d5c34a5",
   "metadata": {},
   "outputs": [],
   "source": []
  },
  {
   "cell_type": "code",
   "execution_count": 26,
   "id": "8d9ebf5d-752c-4395-b189-9866bc4c9a49",
   "metadata": {},
   "outputs": [
    {
     "data": {
      "image/png": "[encoded data removed]",
      "text/plain": [
       "<Figure size 576x504 with 1 Axes>"
      ]
     },
     "metadata": {
      "needs_background": "light"
     },
     "output_type": "display_data"
    }
   ],
   "source": [
    "# Visualize training-\n",
    "plt.figure(figsize = (8, 7))\n",
    "plt.plot([train_history[epoch] for epoch in train_history.keys()])\n",
    "plt.xlabel(\"epochs\")\n",
    "plt.ylabel(\"loss\")\n",
    "plt.title(\"Language Model Visualization: training loss\")\n",
    "plt.show()"
   ]
  },
  {
   "cell_type": "code",
   "execution_count": null,
   "id": "46181909-db29-4c7e-aac5-57418df6d7cf",
   "metadata": {},
   "outputs": [],
   "source": []
  },
  {
   "cell_type": "code",
   "execution_count": null,
   "id": "73cfc648-4182-4054-8727-871efdf3e6f5",
   "metadata": {},
   "outputs": [],
   "source": []
  },
  {
   "cell_type": "code",
   "execution_count": 27,
   "id": "5b704fae-d3b4-45df-ba6b-6852ab656e37",
   "metadata": {},
   "outputs": [],
   "source": [
    "def predict(model, dataset, text, next_words = 100):\n",
    "    '''\n",
    "    Synthesize new sequences using 'text' as input.\n",
    "    '''\n",
    "\n",
    "    model.eval()\n",
    "\n",
    "    words = text.split(' ')\n",
    "    state_h, state_c = model.init_state(len(words))\n",
    "    state_h = state_h.to(device)\n",
    "    state_c = state_c.to(device)\n",
    "\n",
    "    for i in range(0, next_words):\n",
    "        x = torch.tensor([[dataset.word_to_index[w] for w in words[i:]]])\n",
    "        x = x.to(device)\n",
    "        y_pred, (state_h, state_c) = model(x, (state_h, state_c))\n",
    "\n",
    "        last_word_logits = y_pred[0][-1]\n",
    "        p = torch.nn.functional.softmax(last_word_logits, dim = 0).cpu().detach().numpy()\n",
    "        word_index = np.random.choice(len(last_word_logits), p = p)\n",
    "        words.append(dataset.index_to_word[word_index])\n",
    "\n",
    "    return words"
   ]
  },
  {
   "cell_type": "code",
   "execution_count": null,
   "id": "529143e2-62ca-4ad4-a775-5650ee69c191",
   "metadata": {},
   "outputs": [],
   "source": []
  },
  {
   "cell_type": "code",
   "execution_count": 28,
   "id": "23c02861-d24f-46ae-9cc0-a7e0b09e757c",
   "metadata": {},
   "outputs": [],
   "source": [
    "# Generate new words using trained model-\n",
    "synthesized_words = predict(model = model, dataset = dataset,\n",
    "        text = 'Knock knock. Whos there?', next_words = 5\n",
    "       )"
   ]
  },
  {
   "cell_type": "code",
   "execution_count": 29,
   "id": "5ee03ad5-fc21-42ab-9fbf-3d926d492d85",
   "metadata": {},
   "outputs": [
    {
     "data": {
      "text/plain": [
       "['Knock', 'knock.', 'Whos', 'there?', 'cables?', 'You', 'better', 'not', 'try']"
      ]
     },
     "execution_count": 29,
     "metadata": {},
     "output_type": "execute_result"
    }
   ],
   "source": [
    "synthesized_words"
   ]
  },
  {
   "cell_type": "code",
   "execution_count": null,
   "id": "3a18549c-30ba-40a8-ac19-b8c9f30f29cc",
   "metadata": {},
   "outputs": [],
   "source": []
  },
  {
   "cell_type": "code",
   "execution_count": null,
   "id": "7fab0d93-2204-4567-a66c-e5a7438d777c",
   "metadata": {},
   "outputs": [],
   "source": []
  },
  {
   "cell_type": "code",
   "execution_count": null,
   "id": "86b35821-9cca-4150-ab6f-e6e6e819ec52",
   "metadata": {},
   "outputs": [],
   "source": [
    "'''\n",
    "# Load trained model-\n",
    "trained_model = LSTM_Model(\n",
    "    dataset = dataset, lstm_size = 128,\n",
    "    embedding_dim = 128, num_layers = 2\n",
    ").to(device)\n",
    "\n",
    "trained_model.load_state_dict(torch.load(\"Language_Model_best_model.pth\"))\n",
    "'''"
   ]
  },
  {
   "cell_type": "code",
   "execution_count": null,
   "id": "072fea3b-8742-4d7a-8fc2-eb2b1633fa30",
   "metadata": {},
   "outputs": [],
   "source": []
  },
  {
   "cell_type": "code",
   "execution_count": null,
   "id": "b1620b4e-e57b-4847-8a56-ab59d97c4f45",
   "metadata": {},
   "outputs": [],
   "source": []
  },
  {
   "cell_type": "markdown",
   "id": "7c57991c-62d9-44a4-a56f-5e5e6dc4adc1",
   "metadata": {},
   "source": [
    "### Next steps:\n",
    "\n",
    "\n",
    "- Clean up the data by removing non-letter characters.\n",
    "\n",
    "- Increase the model capacity by adding more Linear or LSTM layers.\n",
    "\n",
    "- Split the dataset into train, test, and validation sets.\n",
    "\n",
    "- Add checkpoints so you don't have to train the model every time you want to run prediction."
   ]
  },
  {
   "cell_type": "code",
   "execution_count": null,
   "id": "986da650-d284-4149-a93e-c13ad9891f3b",
   "metadata": {},
   "outputs": [],
   "source": []
  },
  {
   "cell_type": "code",
   "execution_count": null,
   "id": "195169aa-28e8-4cad-beb5-d873297e191a",
   "metadata": {},
   "outputs": [],
   "source": []
  }
 ],
 "metadata": {
  "kernelspec": {
   "display_name": "Python 3 (ipykernel)",
   "language": "python",
   "name": "python3"
  },
  "language_info": {
   "codemirror_mode": {
    "name": "ipython",
    "version": 3
   },
   "file_extension": ".py",
   "mimetype": "text/x-python",
   "name": "python",
   "nbconvert_exporter": "python",
   "pygments_lexer": "ipython3",
   "version": "3.9.12"
  }
 },
 "nbformat": 4,
 "nbformat_minor": 5
}
